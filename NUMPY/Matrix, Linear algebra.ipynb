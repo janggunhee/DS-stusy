{
 "cells": [
  {
   "cell_type": "markdown",
   "metadata": {},
   "source": [
    "## 행렬( Matrix ): 선형대수 (Linear Algebra)"
   ]
  },
  {
   "cell_type": "code",
   "execution_count": 1,
   "metadata": {},
   "outputs": [],
   "source": [
    "import numpy as np"
   ]
  },
  {
   "cell_type": "markdown",
   "metadata": {},
   "source": [
    "### 행렬 (내적 곱셈 ,dot product ) 연산"
   ]
  },
  {
   "cell_type": "code",
   "execution_count": 19,
   "metadata": {},
   "outputs": [
    {
     "name": "stdout",
     "output_type": "stream",
     "text": [
      "[[1 2 3]\n",
      " [4 5 6]]\n",
      "[[ 7  8]\n",
      " [ 9 10]\n",
      " [11 12]]\n",
      "[[ 58  64]\n",
      " [139 154]]\n"
     ]
    },
    {
     "data": {
      "text/plain": [
       "2"
      ]
     },
     "execution_count": 19,
     "metadata": {},
     "output_type": "execute_result"
    }
   ],
   "source": [
    "A = np.array([[1,2,3],\n",
    "              [4,5,6]])\n",
    "B = np.array([[7,8],\n",
    "              [9,10],\n",
    "              [11,12]])\n",
    "\n",
    "print(A)  # (2,3)\n",
    "print(B)  # (3,2)\n",
    "\n",
    "dot_product = np.dot(A, B)\n",
    "print(dot_product)\n",
    "\n",
    "# A*B shape 이 맞지 않아 오류 발생  / elementwise 요소간의 곱셈( 1:1 ) mapping 되어야 한다.\n",
    "\n",
    "2 "
   ]
  },
  {
   "cell_type": "markdown",
   "metadata": {},
   "source": [
    "# (2, 3) * (3, 2) = (2, 2)\n",
    "\n",
    "# (m, n) * (n, l) = (m , l)     !!  필수 암기 요망 !! \n",
    "\n",
    "# (10, 4) * (x, y) = (10 2)     x= 4 , y= 2"
   ]
  },
  {
   "cell_type": "markdown",
   "metadata": {},
   "source": [
    "### Matrix (내적 곱셈) 연산"
   ]
  },
  {
   "cell_type": "code",
   "execution_count": 20,
   "metadata": {
    "scrolled": true
   },
   "outputs": [
    {
     "name": "stdout",
     "output_type": "stream",
     "text": [
      "[[1 2 3]\n",
      " [4 5 6]]\n",
      "[[ 7  8]\n",
      " [ 9 10]\n",
      " [11 12]]\n",
      "<class 'numpy.matrix'>\n",
      "[[ 58  64]\n",
      " [139 154]]\n"
     ]
    }
   ],
   "source": [
    "A = np.mat(\"1, 2, 3;4, 5, 6\")\n",
    "B = np.mat(\"7, 8;9, 10;11, 12\")\n",
    "\n",
    "print(A)\n",
    "print(B)\n",
    "print(type(A))  # <class 'numpy.matrix'>\n",
    "print(A*B)      # dot(내적 곱셈) 연산 "
   ]
  },
  {
   "cell_type": "markdown",
   "metadata": {},
   "source": [
    "### 역행렬 구하기 (Inverse) "
   ]
  },
  {
   "cell_type": "code",
   "execution_count": 21,
   "metadata": {},
   "outputs": [
    {
     "name": "stdout",
     "output_type": "stream",
     "text": [
      "<class 'numpy.matrix'>\n",
      "[[ 2  4  6]\n",
      " [ 4  2  6]\n",
      " [10 -4 18]]\n",
      "[[-0.41666667  0.66666667 -0.08333333]\n",
      " [ 0.08333333  0.16666667 -0.08333333]\n",
      " [ 0.25       -0.33333333  0.08333333]]\n",
      "[[ 1.00000000e+00  1.11022302e-16 -2.77555756e-17]\n",
      " [-2.22044605e-16  1.00000000e+00 -2.77555756e-17]\n",
      " [-8.88178420e-16  1.22124533e-15  1.00000000e+00]]\n",
      "[[-1.11022302e-16  1.11022302e-16 -2.77555756e-17]\n",
      " [-2.22044605e-16  4.44089210e-16 -2.77555756e-17]\n",
      " [-8.88178420e-16  1.22124533e-15 -2.22044605e-16]]\n"
     ]
    },
    {
     "data": {
      "text/plain": [
       "array([[1., 0., 0.],\n",
       "       [0., 1., 0.],\n",
       "       [0., 0., 1.]])"
      ]
     },
     "execution_count": 21,
     "metadata": {},
     "output_type": "execute_result"
    }
   ],
   "source": [
    "A = np.mat(\"2 4 6;4 2 6;10 -4 18\")\n",
    "print(type(A))\n",
    "print(A)\n",
    "\n",
    "inverse = np.linalg.inv(A)  # A의 역행렬 반환 \n",
    "\n",
    "print(inverse)\n",
    "print(A*inverse)  # 행렬 A *  A의 역행렬 => 항등(단위) 행렬 (대각선으로는 1이고 나머지는 0인 행렬, '0' 행렬)\n",
    "print(A*inverse - np.eye(3))  # 항등행렬 - 항등행렬   =  요소가 모두 0이 된다. 값  ,  00000000\n",
    "\n",
    "np.eye(3)"
   ]
  },
  {
   "cell_type": "markdown",
   "metadata": {},
   "source": [
    "## 선형 방정식 풀이  : 선형 시스템을 해석 "
   ]
  },
  {
   "cell_type": "code",
   "execution_count": 22,
   "metadata": {},
   "outputs": [
    {
     "name": "stdout",
     "output_type": "stream",
     "text": [
      "C: [[ 1 -2  1]\n",
      " [ 0  2 -8]\n",
      " [-4  5  9]]\n",
      "b: [ 0  8 -9]\n"
     ]
    }
   ],
   "source": [
    "C= np.mat(\"1 -2 1;0 2 -8;-4 5 9\")\n",
    "print(\"C:\", C)\n",
    "b = np.array([0,8,-9])\n",
    "print(\"b:\", b)\n",
    "\n",
    "# 미지수가 3개인 연립방정식 \n",
    "# 1 * x0 - 2* x1 + 1 * x2 = 0 \n",
    "# 0 * x0 + 2* x1 - 8 * x2 = 8 \n",
    "# -4* x0 + 5* x1 + 9 * x2 = -9"
   ]
  },
  {
   "cell_type": "code",
   "execution_count": 23,
   "metadata": {},
   "outputs": [
    {
     "name": "stdout",
     "output_type": "stream",
     "text": [
      "Solution: [29. 16.  3.]\n",
      "Check:\n",
      " [[ 0.  8. -9.]]\n"
     ]
    }
   ],
   "source": [
    "x = np.linalg.solve(C, b)\n",
    "print('Solution:', x)\n",
    "print(\"Check:\\n\", np.dot(C, x))  # 행렬의 곲셈\n",
    "\n",
    "# A dot x = b "
   ]
  },
  {
   "cell_type": "markdown",
   "metadata": {},
   "source": [
    "### 역행렬을 사용해 연립방정식 답을 구하기 "
   ]
  },
  {
   "cell_type": "code",
   "execution_count": 28,
   "metadata": {},
   "outputs": [
    {
     "name": "stdout",
     "output_type": "stream",
     "text": [
      "[[29.  11.5  7. ]\n",
      " [16.   6.5  4. ]\n",
      " [ 4.   1.5  1. ]]\n",
      "[[29. 16.  3.]]\n"
     ]
    }
   ],
   "source": [
    "# A dot x => b\n",
    "\n",
    "# x = A의 역행렬 * b\n",
    "\n",
    "inverse = np.linalg.inv(C)\n",
    "print(inverse)\n",
    "x = np.dot(inverse, b)\n",
    "print(x)"
   ]
  },
  {
   "cell_type": "markdown",
   "metadata": {},
   "source": [
    "### 기타 연산자 : zero( ), ones( )\n"
   ]
  },
  {
   "cell_type": "code",
   "execution_count": 29,
   "metadata": {},
   "outputs": [
    {
     "name": "stdout",
     "output_type": "stream",
     "text": [
      "[0. 0. 0. 0. 0. 0. 0. 0. 0. 0.]\n",
      "[[0. 0. 0. 0.]\n",
      " [0. 0. 0. 0.]\n",
      " [0. 0. 0. 0.]]\n",
      "[1. 1. 1. 1. 1. 1. 1. 1. 1. 1.]\n",
      "[[1. 1. 1. 1.]\n",
      " [1. 1. 1. 1.]\n",
      " [1. 1. 1. 1.]]\n"
     ]
    }
   ],
   "source": [
    "zero_data = np.zeros(10)\n",
    "print(zero_data)\n",
    "\n",
    "zero_data = np.zeros((3, 4))\n",
    "print(zero_data)\n",
    "\n",
    "one_data = np.ones(10)\n",
    "print(one_data)\n",
    "\n",
    "one_data = np.ones((3, 4))\n",
    "print(one_data)"
   ]
  },
  {
   "cell_type": "markdown",
   "metadata": {},
   "source": [
    "### 난수 발생 함수  - 초기 학습 시킬때 데이터를 램덤하게 정렬\n",
    "####   rand( ) :   실수 /  randint( ) : 정수 /  randn( ) : 정규분표 "
   ]
  },
  {
   "cell_type": "markdown",
   "metadata": {},
   "source": [
    "### 실수  : rand( )"
   ]
  },
  {
   "cell_type": "code",
   "execution_count": 35,
   "metadata": {},
   "outputs": [
    {
     "name": "stdout",
     "output_type": "stream",
     "text": [
      "[[0.22199317 0.87073231 0.20671916 0.91861091]\n",
      " [0.48841119 0.61174386 0.76590786 0.51841799]\n",
      " [0.2968005  0.18772123 0.08074127 0.7384403 ]]\n"
     ]
    }
   ],
   "source": [
    "np.random.seed(5)\n",
    "print(np.random.rand(3, 4))    # 값의 범위 : 0 ~ 1사이  , shape ; (3, 4)"
   ]
  },
  {
   "cell_type": "markdown",
   "metadata": {},
   "source": [
    "### 정수 :  randint( ) "
   ]
  },
  {
   "cell_type": "code",
   "execution_count": 32,
   "metadata": {},
   "outputs": [
    {
     "name": "stdout",
     "output_type": "stream",
     "text": [
      "[[1 5 8 8]\n",
      " [9 9 7 3]\n",
      " [9 8 9 1]]\n"
     ]
    }
   ],
   "source": [
    "print(np.random.randint(10, size = (3,4)))    # 값의 범위 : 0 ~ 9사이  , shape ; (3, 4)"
   ]
  },
  {
   "cell_type": "markdown",
   "metadata": {},
   "source": [
    "### 정규 분포 : randn( ) "
   ]
  },
  {
   "cell_type": "code",
   "execution_count": 33,
   "metadata": {},
   "outputs": [
    {
     "name": "stdout",
     "output_type": "stream",
     "text": [
      "[[-0.60688084 -0.09407775  0.3243757  -0.55928514  0.2319852  -0.14302166\n",
      "  -0.3510375   0.94976068  0.13391899 -1.07904061]\n",
      " [ 0.47565867 -0.81627478 -0.74401177 -0.34760534 -0.18892292 -0.23634343\n",
      "  -1.02606922 -1.07282697 -0.503377   -1.64607861]\n",
      " [ 0.22413082 -1.75939548  1.04662263 -1.04627072  0.24968939  1.16650763\n",
      "  -0.28950106  0.39929331 -0.68546174 -0.17616388]\n",
      " [ 1.6112514  -0.25616277  0.62451355  0.15856173  1.56094421 -0.10885557\n",
      "   0.54656463 -1.64486166 -0.52639809  0.98445294]\n",
      " [-0.1350921  -0.33499264 -0.21509738 -0.30214144  2.07041213  0.74491202\n",
      "  -0.05301779  2.37161849  0.32958327 -1.18168699]\n",
      " [ 0.23483945  0.05451016 -0.38655455 -0.11869647 -0.41186548  0.26123948\n",
      "   1.73511966 -1.96582999 -0.40964458  0.12491264]\n",
      " [ 1.96278955 -0.12291272  0.85256869  0.66400168  0.15668337 -0.09937392\n",
      "  -1.80169085  0.63181758  2.02161863 -1.4884013 ]\n",
      " [-0.12000564  0.4304067  -0.51603718 -1.15755154 -1.15887731  1.50139796\n",
      "  -0.11579614  0.73331057 -1.17764195 -0.55689604]\n",
      " [ 0.6839237   1.16663746 -0.26218588  0.93509537  0.29863156  1.40922562\n",
      "   1.44803981 -0.36923207 -0.64162183  1.44739991]\n",
      " [-1.78146846 -0.92539177 -1.53483786 -0.97618816 -0.02551538 -0.41199253\n",
      "   0.01072627  0.12409776 -1.00959705  0.64201014]]\n"
     ]
    }
   ],
   "source": [
    "print(np.random.randn(10, 10))    # 값의 범위 : 10 ~ 10 사이의   "
   ]
  },
  {
   "cell_type": "code",
   "execution_count": 34,
   "metadata": {},
   "outputs": [],
   "source": [
    "# Hx = X * W \n",
    "np.random.seed(100)\n"
   ]
  },
  {
   "cell_type": "code",
   "execution_count": null,
   "metadata": {},
   "outputs": [],
   "source": []
  }
 ],
 "metadata": {
  "kernelspec": {
   "display_name": "Python 3",
   "language": "python",
   "name": "python3"
  },
  "language_info": {
   "codemirror_mode": {
    "name": "ipython",
    "version": 3
   },
   "file_extension": ".py",
   "mimetype": "text/x-python",
   "name": "python",
   "nbconvert_exporter": "python",
   "pygments_lexer": "ipython3",
   "version": "3.6.2"
  }
 },
 "nbformat": 4,
 "nbformat_minor": 2
}
