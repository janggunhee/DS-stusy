{
 "cells": [
  {
   "cell_type": "markdown",
   "metadata": {},
   "source": [
    "# 분류(Classification) 모델 \n",
    "\n",
    "- Decision Tree \n",
    "- Logistic Regression \n",
    "- Navie Bayes \n",
    "- Support Vector Machine \n",
    "- Nearest Neighbor(최소 근접 알고리즘) "
   ]
  },
  {
   "cell_type": "markdown",
   "metadata": {},
   "source": [
    "## [의사 결정 트리 (Decision Tree)](https://scikit-learn.org/stable/modules/tree.html#tree)\n",
    "\n",
    "- 분류 및 회귀에 사용되는 비모수 감독 학습 방법입니다. \n",
    "- 목표는 데이터 기능에서 유추 된 간단한 결정 규칙을 학습하여 대상 변수의 값을 예측하는 모델을 만드는 것입니다.\n",
    "\n",
    "- 대표적인 분류 학습 모델 \n",
    "- 이해하고 해석하기 간단합니다. 나무를 시각화 할 수 있습니다.\n",
    "- 약간의 데이터 전처리가 필요하다. 이 모듈은 결측값을 지원하지 않는다. \n",
    "- 숫자 데이터와 범주 데이터를 모두 처리 할 수 있습니다. \n",
    "\n",
    "#### 나무를 거꾸로 뒤집은 모양 :: 루트노드 -> 규칙 노드 -> 리프노트\n",
    "\n",
    "\n",
    "```python \n",
    "class sklearn.tree.DecisionTreeClassifier(criterion='gini', splitter='best', max_depth=None, min_samples_split=2, min_samples_leaf=1, min_weight_fraction_leaf=0.0, max_features=None, random_state=None, max_leaf_nodes=None, min_impurity_decrease=0.0, min_impurity_split=None, class_weight=None, presort='deprecated', ccp_alpha=0.0\n",
    "```"
   ]
  },
  {
   "cell_type": "markdown",
   "metadata": {},
   "source": [
    "### [1] 불순도  (Impurity) \n",
    "\n",
    "- 해당 범주 안에 서로 다른 데이터가 얼마나 섞여 있는지를 뜻한다. \n",
    "- 불확실성 , 무질서도\n",
    "\n",
    "### [2] 엔트로피 (Entropy) \n",
    "\n",
    "- 불순도를 수치적으로 나타낸 척도, 엔트로피가 높다는 것은 불순도가 높다. \n",
    "\n",
    "### [3] 정보 이득 (Information gain) : 1 - Entropy\n",
    "\n",
    "- 결정트리는 구분 뒤 각 영역의 순도가 증가, 불순도는 감소하는 방향으로 학습을 진행\n",
    "- 정보이론에 의한 정보 이득 \n",
    "\n",
    "### [4] 지니계수 (Gini Coefficent):  1 - (각 범주별 데이터의 비율의 제곱의 합 ) \n",
    "- 순도가 높아지면 지니계수는 0이 된다. 1이면 최대 "
   ]
  },
  {
   "cell_type": "code",
   "execution_count": 1,
   "metadata": {},
   "outputs": [],
   "source": [
    "import numpy as np\n",
    "import pandas as pd\n",
    "import matplotlib.pyplot as plt\n",
    "\n",
    "# 한글 출력을 위한 설정\n",
    "import matplotlib\n",
    "matplotlib.rcParams['font.family']=\"NanumBarunGothic\"\n",
    "matplotlib.rcParams['axes.unicode_minus'] = False\n",
    "\n",
    "# Decision Tree 모듈 \n",
    "from sklearn.tree import DecisionTreeClassifier\n",
    "# 데이터 train/test 나누기 \n",
    "from sklearn.model_selection import train_test_split"
   ]
  },
  {
   "cell_type": "markdown",
   "metadata": {},
   "source": [
    "## Classification\n",
    "- 다중 클래스 분류를 수행할 수 있다. "
   ]
  },
  {
   "cell_type": "code",
   "execution_count": 2,
   "metadata": {},
   "outputs": [
    {
     "data": {
      "text/plain": [
       "array([[0., 1.]])"
      ]
     },
     "execution_count": 2,
     "metadata": {},
     "output_type": "execute_result"
    }
   ],
   "source": [
    "from sklearn import tree \n",
    "\n",
    "X = [[0,0], [1, 1]]\n",
    "Y = [0, 1]\n",
    "\n",
    "# 훈련 \n",
    "clf = tree.DecisionTreeClassifier()\n",
    "clf = clf.fit(X, Y)\n",
    "\n",
    "# 예측 \n",
    "clf.predict([[2., 2.]])\n",
    "\n",
    "# 리프 노드 에서 동일한 클래스 트레이닝 샘플의 비율 \n",
    "clf.predict_proba([[2., 2.]])"
   ]
  },
  {
   "cell_type": "markdown",
   "metadata": {},
   "source": [
    "### iris dataset으로 트리를 구성 "
   ]
  },
  {
   "cell_type": "code",
   "execution_count": 3,
   "metadata": {},
   "outputs": [
    {
     "data": {
      "text/plain": [
       "DecisionTreeClassifier(ccp_alpha=0.0, class_weight=None, criterion='gini',\n",
       "                       max_depth=None, max_features=None, max_leaf_nodes=None,\n",
       "                       min_impurity_decrease=0.0, min_impurity_split=None,\n",
       "                       min_samples_leaf=1, min_samples_split=2,\n",
       "                       min_weight_fraction_leaf=0.0, presort='deprecated',\n",
       "                       random_state=None, splitter='best')"
      ]
     },
     "execution_count": 3,
     "metadata": {},
     "output_type": "execute_result"
    }
   ],
   "source": [
    "from sklearn.datasets import load_iris\n",
    "from sklearn import tree \n",
    "\n",
    "X, y = load_iris(return_X_y = True)\n",
    "clf = tree.DecisionTreeClassifier()\n",
    "clf = clf.fit(X, y)\n",
    "clf"
   ]
  },
  {
   "cell_type": "markdown",
   "metadata": {},
   "source": [
    "### 한번의 훈련, plot_tree( ) 함수를 사용해 트리플로팅 "
   ]
  },
  {
   "cell_type": "code",
   "execution_count": 4,
   "metadata": {},
   "outputs": [],
   "source": [
    "# Iris Data set 가져오기 \n",
    "from sklearn.datasets import load_iris\n",
    "\n",
    "iris = load_iris()"
   ]
  },
  {
   "cell_type": "code",
   "execution_count": 5,
   "metadata": {},
   "outputs": [
    {
     "data": {
      "image/png": "[encoded data removed]",
      "text/plain": [
       "<Figure size 432x288 with 1 Axes>"
      ]
     },
     "metadata": {
      "needs_background": "light"
     },
     "output_type": "display_data"
    }
   ],
   "source": [
    "tree.plot_tree(clf.fit(iris.data, iris.target))\n",
    "plt.show()"
   ]
  },
  {
   "cell_type": "markdown",
   "metadata": {},
   "source": [
    "### graphviz 이용해 pdf 출력 "
   ]
  },
  {
   "cell_type": "code",
   "execution_count": 6,
   "metadata": {},
   "outputs": [
    {
     "data": {
      "text/plain": [
       "'iris.pdf'"
      ]
     },
     "execution_count": 6,
     "metadata": {},
     "output_type": "execute_result"
    }
   ],
   "source": [
    "import graphviz \n",
    "\n",
    "dot_data = tree.export_graphviz(clf, out_file=None) \n",
    "graph = graphviz.Source(dot_data) \n",
    "graph.render(\"iris\") "
   ]
  },
  {
   "cell_type": "code",
   "execution_count": 7,
   "metadata": {},
   "outputs": [
    {
     "data": {
      "image/svg+xml": [
       "<?xml version=\"1.0\" encoding=\"UTF-8\" standalone=\"no\"?>\n",
       "<!DOCTYPE svg PUBLIC \"-//W3C//DTD SVG 1.1//EN\"\n",
       " \"http://www.w3.org/Graphics/SVG/1.1/DTD/svg11.dtd\">\n",
       "<!-- Generated by graphviz version 2.43.0 (0)\n",
       " -->\n",
       "<!-- Title: Tree Pages: 1 -->\n",
       "<svg width=\"868pt\" height=\"642pt\"\n",
       " viewBox=\"0.00 0.00 867.83 642.00\" xmlns=\"http://www.w3.org/2000/svg\" xmlns:xlink=\"http://www.w3.org/1999/xlink\">\n",
       "<g id=\"graph0\" class=\"graph\" transform=\"scale(1 1) rotate(0) translate(4 638)\">\n",
       "<title>Tree</title>\n",
       "<polygon fill=\"white\" stroke=\"transparent\" points=\"-4,4 -4,-638 863.83,-638 863.83,4 -4,4\"/>\n",
       "<!-- 0 -->\n",
       "<g id=\"node1\" class=\"node\">\n",
       "<title>0</title>\n",
       "<path fill=\"#ffffff\" stroke=\"black\" d=\"M523.36,-634C523.36,-634 384.4,-634 384.4,-634 378.4,-634 372.4,-628 372.4,-622 372.4,-622 372.4,-568 372.4,-568 372.4,-562 378.4,-556 384.4,-556 384.4,-556 523.36,-556 523.36,-556 529.36,-556 535.36,-562 535.36,-568 535.36,-568 535.36,-622 535.36,-622 535.36,-628 529.36,-634 523.36,-634\"/>\n",
       "<text text-anchor=\"start\" x=\"380.39\" y=\"-618.8\" font-family=\"Helvetica,sans-Serif\" font-size=\"14.00\">petal length (cm) ≤ 2.45</text>\n",
       "<text text-anchor=\"start\" x=\"417.49\" y=\"-604.8\" font-family=\"Helvetica,sans-Serif\" font-size=\"14.00\">gini = 0.667</text>\n",
       "<text text-anchor=\"start\" x=\"408.16\" y=\"-590.8\" font-family=\"Helvetica,sans-Serif\" font-size=\"14.00\">samples = 150</text>\n",
       "<text text-anchor=\"start\" x=\"394.14\" y=\"-576.8\" font-family=\"Helvetica,sans-Serif\" font-size=\"14.00\">value = [50, 50, 50]</text>\n",
       "<text text-anchor=\"start\" x=\"409.33\" y=\"-562.8\" font-family=\"Helvetica,sans-Serif\" font-size=\"14.00\">class = setosa</text>\n",
       "</g>\n",
       "<!-- 1 -->\n",
       "<g id=\"node2\" class=\"node\">\n",
       "<title>1</title>\n",
       "<path fill=\"#e58139\" stroke=\"black\" d=\"M423.78,-513C423.78,-513 327.97,-513 327.97,-513 321.97,-513 315.97,-507 315.97,-501 315.97,-501 315.97,-461 315.97,-461 315.97,-455 321.97,-449 327.97,-449 327.97,-449 423.78,-449 423.78,-449 429.78,-449 435.78,-455 435.78,-461 435.78,-461 435.78,-501 435.78,-501 435.78,-507 429.78,-513 423.78,-513\"/>\n",
       "<text text-anchor=\"start\" x=\"347.27\" y=\"-497.8\" font-family=\"Helvetica,sans-Serif\" font-size=\"14.00\">gini = 0.0</text>\n",
       "<text text-anchor=\"start\" x=\"334.05\" y=\"-483.8\" font-family=\"Helvetica,sans-Serif\" font-size=\"14.00\">samples = 50</text>\n",
       "<text text-anchor=\"start\" x=\"323.92\" y=\"-469.8\" font-family=\"Helvetica,sans-Serif\" font-size=\"14.00\">value = [50, 0, 0]</text>\n",
       "<text text-anchor=\"start\" x=\"331.33\" y=\"-455.8\" font-family=\"Helvetica,sans-Serif\" font-size=\"14.00\">class = setosa</text>\n",
       "</g>\n",
       "<!-- 0&#45;&gt;1 -->\n",
       "<g id=\"edge1\" class=\"edge\">\n",
       "<title>0&#45;&gt;1</title>\n",
       "<path fill=\"none\" stroke=\"black\" d=\"M427.25,-555.77C419.52,-544.66 411.05,-532.51 403.27,-521.33\"/>\n",
       "<polygon fill=\"black\" stroke=\"black\" points=\"406.06,-519.22 397.47,-513.01 400.32,-523.22 406.06,-519.22\"/>\n",
       "<text text-anchor=\"middle\" x=\"393.07\" y=\"-533.42\" font-family=\"Helvetica,sans-Serif\" font-size=\"14.00\">True</text>\n",
       "</g>\n",
       "<!-- 2 -->\n",
       "<g id=\"node3\" class=\"node\">\n",
       "<title>2</title>\n",
       "<path fill=\"#ffffff\" stroke=\"black\" d=\"M599.4,-520C599.4,-520 466.36,-520 466.36,-520 460.36,-520 454.36,-514 454.36,-508 454.36,-508 454.36,-454 454.36,-454 454.36,-448 460.36,-442 466.36,-442 466.36,-442 599.4,-442 599.4,-442 605.4,-442 611.4,-448 611.4,-454 611.4,-454 611.4,-508 611.4,-508 611.4,-514 605.4,-520 599.4,-520\"/>\n",
       "<text text-anchor=\"start\" x=\"462.12\" y=\"-504.8\" font-family=\"Helvetica,sans-Serif\" font-size=\"14.00\">petal width (cm) ≤ 1.75</text>\n",
       "<text text-anchor=\"start\" x=\"504.27\" y=\"-490.8\" font-family=\"Helvetica,sans-Serif\" font-size=\"14.00\">gini = 0.5</text>\n",
       "<text text-anchor=\"start\" x=\"487.16\" y=\"-476.8\" font-family=\"Helvetica,sans-Serif\" font-size=\"14.00\">samples = 100</text>\n",
       "<text text-anchor=\"start\" x=\"477.03\" y=\"-462.8\" font-family=\"Helvetica,sans-Serif\" font-size=\"14.00\">value = [0, 50, 50]</text>\n",
       "<text text-anchor=\"start\" x=\"479\" y=\"-448.8\" font-family=\"Helvetica,sans-Serif\" font-size=\"14.00\">class = versicolor</text>\n",
       "</g>\n",
       "<!-- 0&#45;&gt;2 -->\n",
       "<g id=\"edge2\" class=\"edge\">\n",
       "<title>0&#45;&gt;2</title>\n",
       "<path fill=\"none\" stroke=\"black\" d=\"M480.84,-555.77C487.07,-546.94 493.76,-537.45 500.21,-528.32\"/>\n",
       "<polygon fill=\"black\" stroke=\"black\" points=\"503.13,-530.25 506.03,-520.06 497.41,-526.21 503.13,-530.25\"/>\n",
       "<text text-anchor=\"middle\" x=\"510.29\" y=\"-540.49\" font-family=\"Helvetica,sans-Serif\" font-size=\"14.00\">False</text>\n",
       "</g>\n",
       "<!-- 3 -->\n",
       "<g id=\"node4\" class=\"node\">\n",
       "<title>3</title>\n",
       "<path fill=\"#4de88e\" stroke=\"black\" d=\"M489.36,-406C489.36,-406 350.4,-406 350.4,-406 344.4,-406 338.4,-400 338.4,-394 338.4,-394 338.4,-340 338.4,-340 338.4,-334 344.4,-328 350.4,-328 350.4,-328 489.36,-328 489.36,-328 495.36,-328 501.36,-334 501.36,-340 501.36,-340 501.36,-394 501.36,-394 501.36,-400 495.36,-406 489.36,-406\"/>\n",
       "<text text-anchor=\"start\" x=\"346.39\" y=\"-390.8\" font-family=\"Helvetica,sans-Serif\" font-size=\"14.00\">petal length (cm) ≤ 4.95</text>\n",
       "<text text-anchor=\"start\" x=\"383.49\" y=\"-376.8\" font-family=\"Helvetica,sans-Serif\" font-size=\"14.00\">gini = 0.168</text>\n",
       "<text text-anchor=\"start\" x=\"378.05\" y=\"-362.8\" font-family=\"Helvetica,sans-Serif\" font-size=\"14.00\">samples = 54</text>\n",
       "<text text-anchor=\"start\" x=\"367.92\" y=\"-348.8\" font-family=\"Helvetica,sans-Serif\" font-size=\"14.00\">value = [0, 49, 5]</text>\n",
       "<text text-anchor=\"start\" x=\"366\" y=\"-334.8\" font-family=\"Helvetica,sans-Serif\" font-size=\"14.00\">class = versicolor</text>\n",
       "</g>\n",
       "<!-- 2&#45;&gt;3 -->\n",
       "<g id=\"edge3\" class=\"edge\">\n",
       "<title>2&#45;&gt;3</title>\n",
       "<path fill=\"none\" stroke=\"black\" d=\"M494.31,-441.77C485.03,-432.58 475.04,-422.68 465.48,-413.2\"/>\n",
       "<polygon fill=\"black\" stroke=\"black\" points=\"467.84,-410.61 458.28,-406.06 462.91,-415.58 467.84,-410.61\"/>\n",
       "</g>\n",
       "<!-- 12 -->\n",
       "<g id=\"node13\" class=\"node\">\n",
       "<title>12</title>\n",
       "<path fill=\"#843de6\" stroke=\"black\" d=\"M715.36,-406C715.36,-406 576.4,-406 576.4,-406 570.4,-406 564.4,-400 564.4,-394 564.4,-394 564.4,-340 564.4,-340 564.4,-334 570.4,-328 576.4,-328 576.4,-328 715.36,-328 715.36,-328 721.36,-328 727.36,-334 727.36,-340 727.36,-340 727.36,-394 727.36,-394 727.36,-400 721.36,-406 715.36,-406\"/>\n",
       "<text text-anchor=\"start\" x=\"572.39\" y=\"-390.8\" font-family=\"Helvetica,sans-Serif\" font-size=\"14.00\">petal length (cm) ≤ 4.85</text>\n",
       "<text text-anchor=\"start\" x=\"609.49\" y=\"-376.8\" font-family=\"Helvetica,sans-Serif\" font-size=\"14.00\">gini = 0.043</text>\n",
       "<text text-anchor=\"start\" x=\"604.05\" y=\"-362.8\" font-family=\"Helvetica,sans-Serif\" font-size=\"14.00\">samples = 46</text>\n",
       "<text text-anchor=\"start\" x=\"593.92\" y=\"-348.8\" font-family=\"Helvetica,sans-Serif\" font-size=\"14.00\">value = [0, 1, 45]</text>\n",
       "<text text-anchor=\"start\" x=\"596.28\" y=\"-334.8\" font-family=\"Helvetica,sans-Serif\" font-size=\"14.00\">class = virginica</text>\n",
       "</g>\n",
       "<!-- 2&#45;&gt;12 -->\n",
       "<g id=\"edge12\" class=\"edge\">\n",
       "<title>2&#45;&gt;12</title>\n",
       "<path fill=\"none\" stroke=\"black\" d=\"M571.45,-441.77C580.72,-432.58 590.71,-422.68 600.27,-413.2\"/>\n",
       "<polygon fill=\"black\" stroke=\"black\" points=\"602.84,-415.58 607.48,-406.06 597.91,-410.61 602.84,-415.58\"/>\n",
       "</g>\n",
       "<!-- 4 -->\n",
       "<g id=\"node5\" class=\"node\">\n",
       "<title>4</title>\n",
       "<path fill=\"#3de684\" stroke=\"black\" d=\"M265.4,-292C265.4,-292 132.36,-292 132.36,-292 126.36,-292 120.36,-286 120.36,-280 120.36,-280 120.36,-226 120.36,-226 120.36,-220 126.36,-214 132.36,-214 132.36,-214 265.4,-214 265.4,-214 271.4,-214 277.4,-220 277.4,-226 277.4,-226 277.4,-280 277.4,-280 277.4,-286 271.4,-292 265.4,-292\"/>\n",
       "<text text-anchor=\"start\" x=\"128.12\" y=\"-276.8\" font-family=\"Helvetica,sans-Serif\" font-size=\"14.00\">petal width (cm) ≤ 1.65</text>\n",
       "<text text-anchor=\"start\" x=\"162.49\" y=\"-262.8\" font-family=\"Helvetica,sans-Serif\" font-size=\"14.00\">gini = 0.041</text>\n",
       "<text text-anchor=\"start\" x=\"157.05\" y=\"-248.8\" font-family=\"Helvetica,sans-Serif\" font-size=\"14.00\">samples = 48</text>\n",
       "<text text-anchor=\"start\" x=\"146.92\" y=\"-234.8\" font-family=\"Helvetica,sans-Serif\" font-size=\"14.00\">value = [0, 47, 1]</text>\n",
       "<text text-anchor=\"start\" x=\"145\" y=\"-220.8\" font-family=\"Helvetica,sans-Serif\" font-size=\"14.00\">class = versicolor</text>\n",
       "</g>\n",
       "<!-- 3&#45;&gt;4 -->\n",
       "<g id=\"edge4\" class=\"edge\">\n",
       "<title>3&#45;&gt;4</title>\n",
       "<path fill=\"none\" stroke=\"black\" d=\"M344.75,-327.93C325,-317.92 303.56,-307.05 283.36,-296.81\"/>\n",
       "<polygon fill=\"black\" stroke=\"black\" points=\"284.68,-293.56 274.17,-292.16 281.51,-299.8 284.68,-293.56\"/>\n",
       "</g>\n",
       "<!-- 7 -->\n",
       "<g id=\"node8\" class=\"node\">\n",
       "<title>7</title>\n",
       "<path fill=\"#c09cf2\" stroke=\"black\" d=\"M486.4,-292C486.4,-292 353.36,-292 353.36,-292 347.36,-292 341.36,-286 341.36,-280 341.36,-280 341.36,-226 341.36,-226 341.36,-220 347.36,-214 353.36,-214 353.36,-214 486.4,-214 486.4,-214 492.4,-214 498.4,-220 498.4,-226 498.4,-226 498.4,-280 498.4,-280 498.4,-286 492.4,-292 486.4,-292\"/>\n",
       "<text text-anchor=\"start\" x=\"349.12\" y=\"-276.8\" font-family=\"Helvetica,sans-Serif\" font-size=\"14.00\">petal width (cm) ≤ 1.55</text>\n",
       "<text text-anchor=\"start\" x=\"383.49\" y=\"-262.8\" font-family=\"Helvetica,sans-Serif\" font-size=\"14.00\">gini = 0.444</text>\n",
       "<text text-anchor=\"start\" x=\"381.94\" y=\"-248.8\" font-family=\"Helvetica,sans-Serif\" font-size=\"14.00\">samples = 6</text>\n",
       "<text text-anchor=\"start\" x=\"371.82\" y=\"-234.8\" font-family=\"Helvetica,sans-Serif\" font-size=\"14.00\">value = [0, 2, 4]</text>\n",
       "<text text-anchor=\"start\" x=\"370.28\" y=\"-220.8\" font-family=\"Helvetica,sans-Serif\" font-size=\"14.00\">class = virginica</text>\n",
       "</g>\n",
       "<!-- 3&#45;&gt;7 -->\n",
       "<g id=\"edge7\" class=\"edge\">\n",
       "<title>3&#45;&gt;7</title>\n",
       "<path fill=\"none\" stroke=\"black\" d=\"M419.88,-327.77C419.88,-319.57 419.88,-310.8 419.88,-302.28\"/>\n",
       "<polygon fill=\"black\" stroke=\"black\" points=\"423.38,-302.06 419.88,-292.06 416.38,-302.06 423.38,-302.06\"/>\n",
       "</g>\n",
       "<!-- 5 -->\n",
       "<g id=\"node6\" class=\"node\">\n",
       "<title>5</title>\n",
       "<path fill=\"#39e581\" stroke=\"black\" d=\"M111.63,-171C111.63,-171 12.12,-171 12.12,-171 6.12,-171 0.12,-165 0.12,-159 0.12,-159 0.12,-119 0.12,-119 0.12,-113 6.12,-107 12.12,-107 12.12,-107 111.63,-107 111.63,-107 117.63,-107 123.63,-113 123.63,-119 123.63,-119 123.63,-159 123.63,-159 123.63,-165 117.63,-171 111.63,-171\"/>\n",
       "<text text-anchor=\"start\" x=\"33.27\" y=\"-155.8\" font-family=\"Helvetica,sans-Serif\" font-size=\"14.00\">gini = 0.0</text>\n",
       "<text text-anchor=\"start\" x=\"20.05\" y=\"-141.8\" font-family=\"Helvetica,sans-Serif\" font-size=\"14.00\">samples = 47</text>\n",
       "<text text-anchor=\"start\" x=\"9.92\" y=\"-127.8\" font-family=\"Helvetica,sans-Serif\" font-size=\"14.00\">value = [0, 47, 0]</text>\n",
       "<text text-anchor=\"start\" x=\"8\" y=\"-113.8\" font-family=\"Helvetica,sans-Serif\" font-size=\"14.00\">class = versicolor</text>\n",
       "</g>\n",
       "<!-- 4&#45;&gt;5 -->\n",
       "<g id=\"edge5\" class=\"edge\">\n",
       "<title>4&#45;&gt;5</title>\n",
       "<path fill=\"none\" stroke=\"black\" d=\"M152.11,-213.77C137.72,-202.01 121.91,-189.08 107.59,-177.37\"/>\n",
       "<polygon fill=\"black\" stroke=\"black\" points=\"109.77,-174.63 99.81,-171.01 105.34,-180.05 109.77,-174.63\"/>\n",
       "</g>\n",
       "<!-- 6 -->\n",
       "<g id=\"node7\" class=\"node\">\n",
       "<title>6</title>\n",
       "<path fill=\"#8139e5\" stroke=\"black\" d=\"M244.58,-171C244.58,-171 153.17,-171 153.17,-171 147.17,-171 141.17,-165 141.17,-159 141.17,-159 141.17,-119 141.17,-119 141.17,-113 147.17,-107 153.17,-107 153.17,-107 244.58,-107 244.58,-107 250.58,-107 256.58,-113 256.58,-119 256.58,-119 256.58,-159 256.58,-159 256.58,-165 250.58,-171 244.58,-171\"/>\n",
       "<text text-anchor=\"start\" x=\"170.27\" y=\"-155.8\" font-family=\"Helvetica,sans-Serif\" font-size=\"14.00\">gini = 0.0</text>\n",
       "<text text-anchor=\"start\" x=\"160.94\" y=\"-141.8\" font-family=\"Helvetica,sans-Serif\" font-size=\"14.00\">samples = 1</text>\n",
       "<text text-anchor=\"start\" x=\"150.82\" y=\"-127.8\" font-family=\"Helvetica,sans-Serif\" font-size=\"14.00\">value = [0, 0, 1]</text>\n",
       "<text text-anchor=\"start\" x=\"149.28\" y=\"-113.8\" font-family=\"Helvetica,sans-Serif\" font-size=\"14.00\">class = virginica</text>\n",
       "</g>\n",
       "<!-- 4&#45;&gt;6 -->\n",
       "<g id=\"edge6\" class=\"edge\">\n",
       "<title>4&#45;&gt;6</title>\n",
       "<path fill=\"none\" stroke=\"black\" d=\"M198.88,-213.77C198.88,-203.31 198.88,-191.94 198.88,-181.32\"/>\n",
       "<polygon fill=\"black\" stroke=\"black\" points=\"202.38,-181.01 198.88,-171.01 195.38,-181.01 202.38,-181.01\"/>\n",
       "</g>\n",
       "<!-- 8 -->\n",
       "<g id=\"node9\" class=\"node\">\n",
       "<title>8</title>\n",
       "<path fill=\"#8139e5\" stroke=\"black\" d=\"M377.58,-171C377.58,-171 286.17,-171 286.17,-171 280.17,-171 274.17,-165 274.17,-159 274.17,-159 274.17,-119 274.17,-119 274.17,-113 280.17,-107 286.17,-107 286.17,-107 377.58,-107 377.58,-107 383.58,-107 389.58,-113 389.58,-119 389.58,-119 389.58,-159 389.58,-159 389.58,-165 383.58,-171 377.58,-171\"/>\n",
       "<text text-anchor=\"start\" x=\"303.27\" y=\"-155.8\" font-family=\"Helvetica,sans-Serif\" font-size=\"14.00\">gini = 0.0</text>\n",
       "<text text-anchor=\"start\" x=\"293.94\" y=\"-141.8\" font-family=\"Helvetica,sans-Serif\" font-size=\"14.00\">samples = 3</text>\n",
       "<text text-anchor=\"start\" x=\"283.82\" y=\"-127.8\" font-family=\"Helvetica,sans-Serif\" font-size=\"14.00\">value = [0, 0, 3]</text>\n",
       "<text text-anchor=\"start\" x=\"282.28\" y=\"-113.8\" font-family=\"Helvetica,sans-Serif\" font-size=\"14.00\">class = virginica</text>\n",
       "</g>\n",
       "<!-- 7&#45;&gt;8 -->\n",
       "<g id=\"edge8\" class=\"edge\">\n",
       "<title>7&#45;&gt;8</title>\n",
       "<path fill=\"none\" stroke=\"black\" d=\"M389.84,-213.77C381.02,-202.55 371.38,-190.27 362.52,-179\"/>\n",
       "<polygon fill=\"black\" stroke=\"black\" points=\"365.17,-176.71 356.24,-171.01 359.67,-181.04 365.17,-176.71\"/>\n",
       "</g>\n",
       "<!-- 9 -->\n",
       "<g id=\"node10\" class=\"node\">\n",
       "<title>9</title>\n",
       "<path fill=\"#9cf2c0\" stroke=\"black\" d=\"M558.36,-178C558.36,-178 419.4,-178 419.4,-178 413.4,-178 407.4,-172 407.4,-166 407.4,-166 407.4,-112 407.4,-112 407.4,-106 413.4,-100 419.4,-100 419.4,-100 558.36,-100 558.36,-100 564.36,-100 570.36,-106 570.36,-112 570.36,-112 570.36,-166 570.36,-166 570.36,-172 564.36,-178 558.36,-178\"/>\n",
       "<text text-anchor=\"start\" x=\"415.39\" y=\"-162.8\" font-family=\"Helvetica,sans-Serif\" font-size=\"14.00\">petal length (cm) ≤ 5.45</text>\n",
       "<text text-anchor=\"start\" x=\"452.49\" y=\"-148.8\" font-family=\"Helvetica,sans-Serif\" font-size=\"14.00\">gini = 0.444</text>\n",
       "<text text-anchor=\"start\" x=\"450.94\" y=\"-134.8\" font-family=\"Helvetica,sans-Serif\" font-size=\"14.00\">samples = 3</text>\n",
       "<text text-anchor=\"start\" x=\"440.82\" y=\"-120.8\" font-family=\"Helvetica,sans-Serif\" font-size=\"14.00\">value = [0, 2, 1]</text>\n",
       "<text text-anchor=\"start\" x=\"435\" y=\"-106.8\" font-family=\"Helvetica,sans-Serif\" font-size=\"14.00\">class = versicolor</text>\n",
       "</g>\n",
       "<!-- 7&#45;&gt;9 -->\n",
       "<g id=\"edge9\" class=\"edge\">\n",
       "<title>7&#45;&gt;9</title>\n",
       "<path fill=\"none\" stroke=\"black\" d=\"M443.43,-213.77C448.81,-205.03 454.6,-195.64 460.17,-186.6\"/>\n",
       "<polygon fill=\"black\" stroke=\"black\" points=\"463.17,-188.41 465.43,-178.06 457.21,-184.74 463.17,-188.41\"/>\n",
       "</g>\n",
       "<!-- 10 -->\n",
       "<g id=\"node11\" class=\"node\">\n",
       "<title>10</title>\n",
       "<path fill=\"#39e581\" stroke=\"black\" d=\"M469.63,-64C469.63,-64 370.12,-64 370.12,-64 364.12,-64 358.12,-58 358.12,-52 358.12,-52 358.12,-12 358.12,-12 358.12,-6 364.12,0 370.12,0 370.12,0 469.63,0 469.63,0 475.63,0 481.63,-6 481.63,-12 481.63,-12 481.63,-52 481.63,-52 481.63,-58 475.63,-64 469.63,-64\"/>\n",
       "<text text-anchor=\"start\" x=\"391.27\" y=\"-48.8\" font-family=\"Helvetica,sans-Serif\" font-size=\"14.00\">gini = 0.0</text>\n",
       "<text text-anchor=\"start\" x=\"381.94\" y=\"-34.8\" font-family=\"Helvetica,sans-Serif\" font-size=\"14.00\">samples = 2</text>\n",
       "<text text-anchor=\"start\" x=\"371.82\" y=\"-20.8\" font-family=\"Helvetica,sans-Serif\" font-size=\"14.00\">value = [0, 2, 0]</text>\n",
       "<text text-anchor=\"start\" x=\"366\" y=\"-6.8\" font-family=\"Helvetica,sans-Serif\" font-size=\"14.00\">class = versicolor</text>\n",
       "</g>\n",
       "<!-- 9&#45;&gt;10 -->\n",
       "<g id=\"edge10\" class=\"edge\">\n",
       "<title>9&#45;&gt;10</title>\n",
       "<path fill=\"none\" stroke=\"black\" d=\"M463.77,-99.8C457.93,-90.91 451.7,-81.43 445.83,-72.49\"/>\n",
       "<polygon fill=\"black\" stroke=\"black\" points=\"448.74,-70.55 440.33,-64.12 442.89,-74.4 448.74,-70.55\"/>\n",
       "</g>\n",
       "<!-- 11 -->\n",
       "<g id=\"node12\" class=\"node\">\n",
       "<title>11</title>\n",
       "<path fill=\"#8139e5\" stroke=\"black\" d=\"M602.58,-64C602.58,-64 511.17,-64 511.17,-64 505.17,-64 499.17,-58 499.17,-52 499.17,-52 499.17,-12 499.17,-12 499.17,-6 505.17,0 511.17,0 511.17,0 602.58,0 602.58,0 608.58,0 614.58,-6 614.58,-12 614.58,-12 614.58,-52 614.58,-52 614.58,-58 608.58,-64 602.58,-64\"/>\n",
       "<text text-anchor=\"start\" x=\"528.27\" y=\"-48.8\" font-family=\"Helvetica,sans-Serif\" font-size=\"14.00\">gini = 0.0</text>\n",
       "<text text-anchor=\"start\" x=\"518.94\" y=\"-34.8\" font-family=\"Helvetica,sans-Serif\" font-size=\"14.00\">samples = 1</text>\n",
       "<text text-anchor=\"start\" x=\"508.82\" y=\"-20.8\" font-family=\"Helvetica,sans-Serif\" font-size=\"14.00\">value = [0, 0, 1]</text>\n",
       "<text text-anchor=\"start\" x=\"507.28\" y=\"-6.8\" font-family=\"Helvetica,sans-Serif\" font-size=\"14.00\">class = virginica</text>\n",
       "</g>\n",
       "<!-- 9&#45;&gt;11 -->\n",
       "<g id=\"edge11\" class=\"edge\">\n",
       "<title>9&#45;&gt;11</title>\n",
       "<path fill=\"none\" stroke=\"black\" d=\"M513.62,-99.8C519.32,-91 525.39,-81.63 531.12,-72.76\"/>\n",
       "<polygon fill=\"black\" stroke=\"black\" points=\"534.23,-74.41 536.73,-64.12 528.35,-70.61 534.23,-74.41\"/>\n",
       "</g>\n",
       "<!-- 13 -->\n",
       "<g id=\"node14\" class=\"node\">\n",
       "<title>13</title>\n",
       "<path fill=\"#c09cf2\" stroke=\"black\" d=\"M710.22,-292C710.22,-292 581.54,-292 581.54,-292 575.54,-292 569.54,-286 569.54,-280 569.54,-280 569.54,-226 569.54,-226 569.54,-220 575.54,-214 581.54,-214 581.54,-214 710.22,-214 710.22,-214 716.22,-214 722.22,-220 722.22,-226 722.22,-226 722.22,-280 722.22,-280 722.22,-286 716.22,-292 710.22,-292\"/>\n",
       "<text text-anchor=\"start\" x=\"577.46\" y=\"-276.8\" font-family=\"Helvetica,sans-Serif\" font-size=\"14.00\">sepal width (cm) ≤ 3.1</text>\n",
       "<text text-anchor=\"start\" x=\"609.49\" y=\"-262.8\" font-family=\"Helvetica,sans-Serif\" font-size=\"14.00\">gini = 0.444</text>\n",
       "<text text-anchor=\"start\" x=\"607.94\" y=\"-248.8\" font-family=\"Helvetica,sans-Serif\" font-size=\"14.00\">samples = 3</text>\n",
       "<text text-anchor=\"start\" x=\"597.82\" y=\"-234.8\" font-family=\"Helvetica,sans-Serif\" font-size=\"14.00\">value = [0, 1, 2]</text>\n",
       "<text text-anchor=\"start\" x=\"596.28\" y=\"-220.8\" font-family=\"Helvetica,sans-Serif\" font-size=\"14.00\">class = virginica</text>\n",
       "</g>\n",
       "<!-- 12&#45;&gt;13 -->\n",
       "<g id=\"edge13\" class=\"edge\">\n",
       "<title>12&#45;&gt;13</title>\n",
       "<path fill=\"none\" stroke=\"black\" d=\"M645.88,-327.77C645.88,-319.57 645.88,-310.8 645.88,-302.28\"/>\n",
       "<polygon fill=\"black\" stroke=\"black\" points=\"649.38,-302.06 645.88,-292.06 642.38,-302.06 649.38,-302.06\"/>\n",
       "</g>\n",
       "<!-- 16 -->\n",
       "<g id=\"node17\" class=\"node\">\n",
       "<title>16</title>\n",
       "<path fill=\"#8139e5\" stroke=\"black\" d=\"M847.78,-285C847.78,-285 751.97,-285 751.97,-285 745.97,-285 739.97,-279 739.97,-273 739.97,-273 739.97,-233 739.97,-233 739.97,-227 745.97,-221 751.97,-221 751.97,-221 847.78,-221 847.78,-221 853.78,-221 859.78,-227 859.78,-233 859.78,-233 859.78,-273 859.78,-273 859.78,-279 853.78,-285 847.78,-285\"/>\n",
       "<text text-anchor=\"start\" x=\"771.27\" y=\"-269.8\" font-family=\"Helvetica,sans-Serif\" font-size=\"14.00\">gini = 0.0</text>\n",
       "<text text-anchor=\"start\" x=\"758.05\" y=\"-255.8\" font-family=\"Helvetica,sans-Serif\" font-size=\"14.00\">samples = 43</text>\n",
       "<text text-anchor=\"start\" x=\"747.92\" y=\"-241.8\" font-family=\"Helvetica,sans-Serif\" font-size=\"14.00\">value = [0, 0, 43]</text>\n",
       "<text text-anchor=\"start\" x=\"750.28\" y=\"-227.8\" font-family=\"Helvetica,sans-Serif\" font-size=\"14.00\">class = virginica</text>\n",
       "</g>\n",
       "<!-- 12&#45;&gt;16 -->\n",
       "<g id=\"edge16\" class=\"edge\">\n",
       "<title>12&#45;&gt;16</title>\n",
       "<path fill=\"none\" stroke=\"black\" d=\"M698.44,-327.77C714.77,-315.9 732.73,-302.84 748.94,-291.05\"/>\n",
       "<polygon fill=\"black\" stroke=\"black\" points=\"751.21,-293.72 757.24,-285.01 747.09,-288.06 751.21,-293.72\"/>\n",
       "</g>\n",
       "<!-- 14 -->\n",
       "<g id=\"node15\" class=\"node\">\n",
       "<title>14</title>\n",
       "<path fill=\"#8139e5\" stroke=\"black\" d=\"M691.58,-171C691.58,-171 600.17,-171 600.17,-171 594.17,-171 588.17,-165 588.17,-159 588.17,-159 588.17,-119 588.17,-119 588.17,-113 594.17,-107 600.17,-107 600.17,-107 691.58,-107 691.58,-107 697.58,-107 703.58,-113 703.58,-119 703.58,-119 703.58,-159 703.58,-159 703.58,-165 697.58,-171 691.58,-171\"/>\n",
       "<text text-anchor=\"start\" x=\"617.27\" y=\"-155.8\" font-family=\"Helvetica,sans-Serif\" font-size=\"14.00\">gini = 0.0</text>\n",
       "<text text-anchor=\"start\" x=\"607.94\" y=\"-141.8\" font-family=\"Helvetica,sans-Serif\" font-size=\"14.00\">samples = 2</text>\n",
       "<text text-anchor=\"start\" x=\"597.82\" y=\"-127.8\" font-family=\"Helvetica,sans-Serif\" font-size=\"14.00\">value = [0, 0, 2]</text>\n",
       "<text text-anchor=\"start\" x=\"596.28\" y=\"-113.8\" font-family=\"Helvetica,sans-Serif\" font-size=\"14.00\">class = virginica</text>\n",
       "</g>\n",
       "<!-- 13&#45;&gt;14 -->\n",
       "<g id=\"edge14\" class=\"edge\">\n",
       "<title>13&#45;&gt;14</title>\n",
       "<path fill=\"none\" stroke=\"black\" d=\"M645.88,-213.77C645.88,-203.31 645.88,-191.94 645.88,-181.32\"/>\n",
       "<polygon fill=\"black\" stroke=\"black\" points=\"649.38,-181.01 645.88,-171.01 642.38,-181.01 649.38,-181.01\"/>\n",
       "</g>\n",
       "<!-- 15 -->\n",
       "<g id=\"node16\" class=\"node\">\n",
       "<title>15</title>\n",
       "<path fill=\"#39e581\" stroke=\"black\" d=\"M832.63,-171C832.63,-171 733.12,-171 733.12,-171 727.12,-171 721.12,-165 721.12,-159 721.12,-159 721.12,-119 721.12,-119 721.12,-113 727.12,-107 733.12,-107 733.12,-107 832.63,-107 832.63,-107 838.63,-107 844.63,-113 844.63,-119 844.63,-119 844.63,-159 844.63,-159 844.63,-165 838.63,-171 832.63,-171\"/>\n",
       "<text text-anchor=\"start\" x=\"754.27\" y=\"-155.8\" font-family=\"Helvetica,sans-Serif\" font-size=\"14.00\">gini = 0.0</text>\n",
       "<text text-anchor=\"start\" x=\"744.94\" y=\"-141.8\" font-family=\"Helvetica,sans-Serif\" font-size=\"14.00\">samples = 1</text>\n",
       "<text text-anchor=\"start\" x=\"734.82\" y=\"-127.8\" font-family=\"Helvetica,sans-Serif\" font-size=\"14.00\">value = [0, 1, 0]</text>\n",
       "<text text-anchor=\"start\" x=\"729\" y=\"-113.8\" font-family=\"Helvetica,sans-Serif\" font-size=\"14.00\">class = versicolor</text>\n",
       "</g>\n",
       "<!-- 13&#45;&gt;15 -->\n",
       "<g id=\"edge15\" class=\"edge\">\n",
       "<title>13&#45;&gt;15</title>\n",
       "<path fill=\"none\" stroke=\"black\" d=\"M692.64,-213.77C707.03,-202.01 722.85,-189.08 737.16,-177.37\"/>\n",
       "<polygon fill=\"black\" stroke=\"black\" points=\"739.42,-180.05 744.95,-171.01 734.99,-174.63 739.42,-180.05\"/>\n",
       "</g>\n",
       "</g>\n",
       "</svg>\n"
      ],
      "text/plain": [
       "<graphviz.files.Source at 0x11ae5ecf8>"
      ]
     },
     "execution_count": 7,
     "metadata": {},
     "output_type": "execute_result"
    }
   ],
   "source": [
    "dot_data = tree.export_graphviz(clf, out_file=None, \n",
    "                      feature_names=iris.feature_names,  \n",
    "                      class_names=iris.target_names,  \n",
    "                      filled=True, rounded=True,  \n",
    "                      special_characters=True)  \n",
    "\n",
    "graph = graphviz.Source(dot_data)  \n",
    "graph "
   ]
  },
  {
   "cell_type": "markdown",
   "metadata": {},
   "source": [
    "## Iris 품종 예측하기 "
   ]
  },
  {
   "cell_type": "code",
   "execution_count": 8,
   "metadata": {},
   "outputs": [
    {
     "name": "stdout",
     "output_type": "stream",
     "text": [
      "['sepal length (cm)', 'sepal width (cm)', 'petal length (cm)', 'petal width (cm)']\n",
      "['setosa' 'versicolor' 'virginica']\n"
     ]
    },
    {
     "data": {
      "text/html": [
       "<div>\n",
       "<style scoped>\n",
       "    .dataframe tbody tr th:only-of-type {\n",
       "        vertical-align: middle;\n",
       "    }\n",
       "\n",
       "    .dataframe tbody tr th {\n",
       "        vertical-align: top;\n",
       "    }\n",
       "\n",
       "    .dataframe thead th {\n",
       "        text-align: right;\n",
       "    }\n",
       "</style>\n",
       "<table border=\"1\" class=\"dataframe\">\n",
       "  <thead>\n",
       "    <tr style=\"text-align: right;\">\n",
       "      <th></th>\n",
       "      <th>sepal length (cm)</th>\n",
       "      <th>sepal width (cm)</th>\n",
       "      <th>petal length (cm)</th>\n",
       "      <th>petal width (cm)</th>\n",
       "      <th>label</th>\n",
       "    </tr>\n",
       "  </thead>\n",
       "  <tbody>\n",
       "    <tr>\n",
       "      <th>0</th>\n",
       "      <td>5.1</td>\n",
       "      <td>3.5</td>\n",
       "      <td>1.4</td>\n",
       "      <td>0.2</td>\n",
       "      <td>0</td>\n",
       "    </tr>\n",
       "    <tr>\n",
       "      <th>1</th>\n",
       "      <td>4.9</td>\n",
       "      <td>3.0</td>\n",
       "      <td>1.4</td>\n",
       "      <td>0.2</td>\n",
       "      <td>0</td>\n",
       "    </tr>\n",
       "    <tr>\n",
       "      <th>2</th>\n",
       "      <td>4.7</td>\n",
       "      <td>3.2</td>\n",
       "      <td>1.3</td>\n",
       "      <td>0.2</td>\n",
       "      <td>0</td>\n",
       "    </tr>\n",
       "    <tr>\n",
       "      <th>3</th>\n",
       "      <td>4.6</td>\n",
       "      <td>3.1</td>\n",
       "      <td>1.5</td>\n",
       "      <td>0.2</td>\n",
       "      <td>0</td>\n",
       "    </tr>\n",
       "    <tr>\n",
       "      <th>4</th>\n",
       "      <td>5.0</td>\n",
       "      <td>3.6</td>\n",
       "      <td>1.4</td>\n",
       "      <td>0.2</td>\n",
       "      <td>0</td>\n",
       "    </tr>\n",
       "    <tr>\n",
       "      <th>...</th>\n",
       "      <td>...</td>\n",
       "      <td>...</td>\n",
       "      <td>...</td>\n",
       "      <td>...</td>\n",
       "      <td>...</td>\n",
       "    </tr>\n",
       "    <tr>\n",
       "      <th>145</th>\n",
       "      <td>6.7</td>\n",
       "      <td>3.0</td>\n",
       "      <td>5.2</td>\n",
       "      <td>2.3</td>\n",
       "      <td>2</td>\n",
       "    </tr>\n",
       "    <tr>\n",
       "      <th>146</th>\n",
       "      <td>6.3</td>\n",
       "      <td>2.5</td>\n",
       "      <td>5.0</td>\n",
       "      <td>1.9</td>\n",
       "      <td>2</td>\n",
       "    </tr>\n",
       "    <tr>\n",
       "      <th>147</th>\n",
       "      <td>6.5</td>\n",
       "      <td>3.0</td>\n",
       "      <td>5.2</td>\n",
       "      <td>2.0</td>\n",
       "      <td>2</td>\n",
       "    </tr>\n",
       "    <tr>\n",
       "      <th>148</th>\n",
       "      <td>6.2</td>\n",
       "      <td>3.4</td>\n",
       "      <td>5.4</td>\n",
       "      <td>2.3</td>\n",
       "      <td>2</td>\n",
       "    </tr>\n",
       "    <tr>\n",
       "      <th>149</th>\n",
       "      <td>5.9</td>\n",
       "      <td>3.0</td>\n",
       "      <td>5.1</td>\n",
       "      <td>1.8</td>\n",
       "      <td>2</td>\n",
       "    </tr>\n",
       "  </tbody>\n",
       "</table>\n",
       "<p>150 rows × 5 columns</p>\n",
       "</div>"
      ],
      "text/plain": [
       "     sepal length (cm)  sepal width (cm)  petal length (cm)  petal width (cm)  \\\n",
       "0                  5.1               3.5                1.4               0.2   \n",
       "1                  4.9               3.0                1.4               0.2   \n",
       "2                  4.7               3.2                1.3               0.2   \n",
       "3                  4.6               3.1                1.5               0.2   \n",
       "4                  5.0               3.6                1.4               0.2   \n",
       "..                 ...               ...                ...               ...   \n",
       "145                6.7               3.0                5.2               2.3   \n",
       "146                6.3               2.5                5.0               1.9   \n",
       "147                6.5               3.0                5.2               2.0   \n",
       "148                6.2               3.4                5.4               2.3   \n",
       "149                5.9               3.0                5.1               1.8   \n",
       "\n",
       "     label  \n",
       "0        0  \n",
       "1        0  \n",
       "2        0  \n",
       "3        0  \n",
       "4        0  \n",
       "..     ...  \n",
       "145      2  \n",
       "146      2  \n",
       "147      2  \n",
       "148      2  \n",
       "149      2  \n",
       "\n",
       "[150 rows x 5 columns]"
      ]
     },
     "execution_count": 8,
     "metadata": {},
     "output_type": "execute_result"
    }
   ],
   "source": [
    "# Iris Data set 가져오기 \n",
    "from sklearn.datasets import load_iris\n",
    "\n",
    "iris = load_iris()\n",
    "type(iris)  # Bunch 타입 \n",
    "\n",
    "\n",
    "# x 피쳐(Feature)만 가져오기 \n",
    "iris_data = iris.data\n",
    "iris_data\n",
    "\n",
    "# y 값(Labeel) 만 추출 \n",
    "iris_label = iris.target\n",
    "iris_label\n",
    "\n",
    "# y label 이름 추출 \n",
    "print(iris.feature_names)\n",
    "\n",
    "# x label 이름 추출 \n",
    "print(iris.target_names)\n",
    "\n",
    "# ['setosa' 'versicolor' 'virginica'] - 품종 \n",
    "# ['sepal length (cm)'  - 꽃받침 \n",
    "# 'sepal width (cm)',   \n",
    "# 'petal length (cm)',  - 꽃잎\n",
    "# 'petal width (cm)']\n",
    "\n",
    "iris_df = pd.DataFrame(data=iris_data, columns=iris.feature_names)\n",
    "iris_df['label'] = iris_label\n",
    "iris_df"
   ]
  },
  {
   "cell_type": "markdown",
   "metadata": {},
   "source": [
    "### test data set/ train data set 분리 "
   ]
  },
  {
   "cell_type": "code",
   "execution_count": 9,
   "metadata": {},
   "outputs": [
    {
     "data": {
      "text/plain": [
       "((120, 4), (30, 4), (120,), (30,))"
      ]
     },
     "execution_count": 9,
     "metadata": {},
     "output_type": "execute_result"
    }
   ],
   "source": [
    "# Create a random dataset  : train 80%,  test 20%  \n",
    "X_train, X_test, y_train, y_test = train_test_split(iris_data, iris_label, test_size=0.2, \n",
    "                                                    random_state=11) # 20%  random seed 고정, 동일한 데이터 추출 \n",
    "\n",
    "X_train.shape, X_test.shape, y_train.shape, y_test.shape\n",
    "# ((120, 4), (30, 4), (120,), (30,))"
   ]
  },
  {
   "cell_type": "markdown",
   "metadata": {},
   "source": [
    "### 학습"
   ]
  },
  {
   "cell_type": "code",
   "execution_count": 10,
   "metadata": {},
   "outputs": [
    {
     "data": {
      "text/plain": [
       "DecisionTreeClassifier(ccp_alpha=0.0, class_weight=None, criterion='gini',\n",
       "                       max_depth=None, max_features=None, max_leaf_nodes=None,\n",
       "                       min_impurity_decrease=0.0, min_impurity_split=None,\n",
       "                       min_samples_leaf=1, min_samples_split=2,\n",
       "                       min_weight_fraction_leaf=0.0, presort='deprecated',\n",
       "                       random_state=11, splitter='best')"
      ]
     },
     "execution_count": 10,
     "metadata": {},
     "output_type": "execute_result"
    }
   ],
   "source": [
    "# Fit regression model\n",
    "dt_clf = DecisionTreeClassifier(random_state=11) # seed 고정, 동일한 학습 \n",
    "\n",
    "dt_clf.fit(X_train, y_train)"
   ]
  },
  {
   "cell_type": "markdown",
   "metadata": {},
   "source": [
    "### 예측"
   ]
  },
  {
   "cell_type": "code",
   "execution_count": 11,
   "metadata": {},
   "outputs": [
    {
     "data": {
      "text/plain": [
       "(array([2, 2, 1, 1, 2, 0, 1, 0, 0, 1, 1, 1, 1, 2, 2, 0, 2, 1, 2, 2, 1, 0,\n",
       "        0, 1, 0, 0, 2, 1, 0, 1]),\n",
       " array([2, 2, 2, 1, 2, 0, 1, 0, 0, 1, 2, 1, 1, 2, 2, 0, 2, 1, 2, 2, 1, 0,\n",
       "        0, 1, 0, 0, 2, 1, 0, 1]))"
      ]
     },
     "execution_count": 11,
     "metadata": {},
     "output_type": "execute_result"
    }
   ],
   "source": [
    "# Predict \n",
    "pred = dt_clf.predict(X_test)\n",
    "pred, y_test"
   ]
  },
  {
   "cell_type": "markdown",
   "metadata": {},
   "source": [
    "### 정확도 "
   ]
  },
  {
   "cell_type": "code",
   "execution_count": 12,
   "metadata": {},
   "outputs": [
    {
     "name": "stdout",
     "output_type": "stream",
     "text": [
      "정확도:  0.9333\n",
      "리포트: \n",
      "               precision    recall  f1-score   support\n",
      "\n",
      "           0       1.00      1.00      1.00         9\n",
      "           1       0.83      1.00      0.91        10\n",
      "           2       1.00      0.82      0.90        11\n",
      "\n",
      "    accuracy                           0.93        30\n",
      "   macro avg       0.94      0.94      0.94        30\n",
      "weighted avg       0.94      0.93      0.93        30\n",
      "\n"
     ]
    }
   ],
   "source": [
    "# accuracy \n",
    "from sklearn.metrics import accuracy_score, classification_report\n",
    "\n",
    "print('정확도: {0: .4f}'.format(accuracy_score(y_test, pred)))  # 0.933\n",
    "\n",
    "\n",
    "cl_report = classification_report(y_test, pred)\n",
    "print('리포트: \\n', cl_report)"
   ]
  },
  {
   "cell_type": "markdown",
   "metadata": {},
   "source": [
    "## 결정 트리 모델의 시각화 : 학습과정"
   ]
  },
  {
   "cell_type": "code",
   "execution_count": 13,
   "metadata": {
    "scrolled": true
   },
   "outputs": [
    {
     "data": {
      "text/plain": [
       "DecisionTreeClassifier(ccp_alpha=0.0, class_weight=None, criterion='gini',\n",
       "                       max_depth=None, max_features=None, max_leaf_nodes=None,\n",
       "                       min_impurity_decrease=0.0, min_impurity_split=None,\n",
       "                       min_samples_leaf=1, min_samples_split=2,\n",
       "                       min_weight_fraction_leaf=0.0, presort='deprecated',\n",
       "                       random_state=11, splitter='best')"
      ]
     },
     "execution_count": 13,
     "metadata": {},
     "output_type": "execute_result"
    }
   ],
   "source": [
    "# Create a random dataset  : train 80%,  test 20%  \n",
    "X_train, X_test, y_train, y_test = train_test_split(iris_data, iris_label, test_size=0.2, \n",
    "                                                    random_state=11) # 20%  random seed 고정, 동일한 데이터 추출 \n",
    "\n",
    "X_train.shape, X_test.shape, y_train.shape, y_test.shape\n",
    "# ((120, 4), (30, 4), (120,), (30,))\n",
    "\n",
    "dt_clf = DecisionTreeClassifier(random_state=11) # seed 고정, 동일한 학습 \n",
    "dt_clf.fit(X_train, y_train)"
   ]
  },
  {
   "cell_type": "code",
   "execution_count": 24,
   "metadata": {},
   "outputs": [],
   "source": [
    "from sklearn.tree import export_graphviz\n",
    "\n",
    "export_graphviz(dt_clf, out_file='tree.dot', class_names= iris.target_names,\n",
    "               feature_names=iris.feature_names,impurity=True, filled=True)"
   ]
  },
  {
   "cell_type": "code",
   "execution_count": 25,
   "metadata": {},
   "outputs": [
    {
     "data": {
      "image/svg+xml": [
       "<?xml version=\"1.0\" encoding=\"UTF-8\" standalone=\"no\"?>\n",
       "<!DOCTYPE svg PUBLIC \"-//W3C//DTD SVG 1.1//EN\"\n",
       " \"http://www.w3.org/Graphics/SVG/1.1/DTD/svg11.dtd\">\n",
       "<!-- Generated by graphviz version 2.43.0 (0)\n",
       " -->\n",
       "<!-- Title: Tree Pages: 1 -->\n",
       "<svg width=\"746pt\" height=\"642pt\"\n",
       " viewBox=\"0.00 0.00 746.31 642.00\" xmlns=\"http://www.w3.org/2000/svg\" xmlns:xlink=\"http://www.w3.org/1999/xlink\">\n",
       "<g id=\"graph0\" class=\"graph\" transform=\"scale(1 1) rotate(0) translate(4 638)\">\n",
       "<title>Tree</title>\n",
       "<polygon fill=\"white\" stroke=\"transparent\" points=\"-4,4 -4,-638 742.31,-638 742.31,4 -4,4\"/>\n",
       "<!-- 0 -->\n",
       "<g id=\"node1\" class=\"node\">\n",
       "<title>0</title>\n",
       "<polygon fill=\"#fffdfd\" stroke=\"black\" points=\"265.36,-634 116.73,-634 116.73,-556 265.36,-556 265.36,-634\"/>\n",
       "<text text-anchor=\"middle\" x=\"191.04\" y=\"-618.8\" font-family=\"Times,serif\" font-size=\"14.00\">petal width (cm) &lt;= 0.8</text>\n",
       "<text text-anchor=\"middle\" x=\"191.04\" y=\"-604.8\" font-family=\"Times,serif\" font-size=\"14.00\">gini = 0.667</text>\n",
       "<text text-anchor=\"middle\" x=\"191.04\" y=\"-590.8\" font-family=\"Times,serif\" font-size=\"14.00\">samples = 120</text>\n",
       "<text text-anchor=\"middle\" x=\"191.04\" y=\"-576.8\" font-family=\"Times,serif\" font-size=\"14.00\">value = [41, 40, 39]</text>\n",
       "<text text-anchor=\"middle\" x=\"191.04\" y=\"-562.8\" font-family=\"Times,serif\" font-size=\"14.00\">class = setosa</text>\n",
       "</g>\n",
       "<!-- 1 -->\n",
       "<g id=\"node2\" class=\"node\">\n",
       "<title>1</title>\n",
       "<polygon fill=\"#e58139\" stroke=\"black\" points=\"171.08,-513 59.01,-513 59.01,-449 171.08,-449 171.08,-513\"/>\n",
       "<text text-anchor=\"middle\" x=\"115.04\" y=\"-497.8\" font-family=\"Times,serif\" font-size=\"14.00\">gini = 0.0</text>\n",
       "<text text-anchor=\"middle\" x=\"115.04\" y=\"-483.8\" font-family=\"Times,serif\" font-size=\"14.00\">samples = 41</text>\n",
       "<text text-anchor=\"middle\" x=\"115.04\" y=\"-469.8\" font-family=\"Times,serif\" font-size=\"14.00\">value = [41, 0, 0]</text>\n",
       "<text text-anchor=\"middle\" x=\"115.04\" y=\"-455.8\" font-family=\"Times,serif\" font-size=\"14.00\">class = setosa</text>\n",
       "</g>\n",
       "<!-- 0&#45;&gt;1 -->\n",
       "<g id=\"edge1\" class=\"edge\">\n",
       "<title>0&#45;&gt;1</title>\n",
       "<path fill=\"none\" stroke=\"black\" d=\"M165.1,-555.77C157.56,-544.66 149.32,-532.51 141.73,-521.33\"/>\n",
       "<polygon fill=\"black\" stroke=\"black\" points=\"144.6,-519.32 136.09,-513.01 138.81,-523.25 144.6,-519.32\"/>\n",
       "<text text-anchor=\"middle\" x=\"131.39\" y=\"-533.36\" font-family=\"Times,serif\" font-size=\"14.00\">True</text>\n",
       "</g>\n",
       "<!-- 2 -->\n",
       "<g id=\"node3\" class=\"node\">\n",
       "<title>2</title>\n",
       "<polygon fill=\"#fafefc\" stroke=\"black\" points=\"344.86,-520 189.23,-520 189.23,-442 344.86,-442 344.86,-520\"/>\n",
       "<text text-anchor=\"middle\" x=\"267.04\" y=\"-504.8\" font-family=\"Times,serif\" font-size=\"14.00\">petal width (cm) &lt;= 1.55</text>\n",
       "<text text-anchor=\"middle\" x=\"267.04\" y=\"-490.8\" font-family=\"Times,serif\" font-size=\"14.00\">gini = 0.5</text>\n",
       "<text text-anchor=\"middle\" x=\"267.04\" y=\"-476.8\" font-family=\"Times,serif\" font-size=\"14.00\">samples = 79</text>\n",
       "<text text-anchor=\"middle\" x=\"267.04\" y=\"-462.8\" font-family=\"Times,serif\" font-size=\"14.00\">value = [0, 40, 39]</text>\n",
       "<text text-anchor=\"middle\" x=\"267.04\" y=\"-448.8\" font-family=\"Times,serif\" font-size=\"14.00\">class = versicolor</text>\n",
       "</g>\n",
       "<!-- 0&#45;&gt;2 -->\n",
       "<g id=\"edge2\" class=\"edge\">\n",
       "<title>0&#45;&gt;2</title>\n",
       "<path fill=\"none\" stroke=\"black\" d=\"M216.99,-555.77C222.92,-547.03 229.29,-537.64 235.42,-528.6\"/>\n",
       "<polygon fill=\"black\" stroke=\"black\" points=\"238.5,-530.3 241.22,-520.06 232.71,-526.37 238.5,-530.3\"/>\n",
       "<text text-anchor=\"middle\" x=\"245.92\" y=\"-540.41\" font-family=\"Times,serif\" font-size=\"14.00\">False</text>\n",
       "</g>\n",
       "<!-- 3 -->\n",
       "<g id=\"node4\" class=\"node\">\n",
       "<title>3</title>\n",
       "<polygon fill=\"#3ee684\" stroke=\"black\" points=\"259.46,-406 100.63,-406 100.63,-328 259.46,-328 259.46,-406\"/>\n",
       "<text text-anchor=\"middle\" x=\"180.04\" y=\"-390.8\" font-family=\"Times,serif\" font-size=\"14.00\">petal length (cm) &lt;= 5.25</text>\n",
       "<text text-anchor=\"middle\" x=\"180.04\" y=\"-376.8\" font-family=\"Times,serif\" font-size=\"14.00\">gini = 0.051</text>\n",
       "<text text-anchor=\"middle\" x=\"180.04\" y=\"-362.8\" font-family=\"Times,serif\" font-size=\"14.00\">samples = 38</text>\n",
       "<text text-anchor=\"middle\" x=\"180.04\" y=\"-348.8\" font-family=\"Times,serif\" font-size=\"14.00\">value = [0, 37, 1]</text>\n",
       "<text text-anchor=\"middle\" x=\"180.04\" y=\"-334.8\" font-family=\"Times,serif\" font-size=\"14.00\">class = versicolor</text>\n",
       "</g>\n",
       "<!-- 2&#45;&gt;3 -->\n",
       "<g id=\"edge3\" class=\"edge\">\n",
       "<title>2&#45;&gt;3</title>\n",
       "<path fill=\"none\" stroke=\"black\" d=\"M237.35,-441.77C230.42,-432.85 222.97,-423.26 215.81,-414.04\"/>\n",
       "<polygon fill=\"black\" stroke=\"black\" points=\"218.51,-411.81 209.61,-406.06 212.98,-416.1 218.51,-411.81\"/>\n",
       "</g>\n",
       "<!-- 6 -->\n",
       "<g id=\"node7\" class=\"node\">\n",
       "<title>6</title>\n",
       "<polygon fill=\"#8b49e7\" stroke=\"black\" points=\"432.86,-406 277.23,-406 277.23,-328 432.86,-328 432.86,-406\"/>\n",
       "<text text-anchor=\"middle\" x=\"355.04\" y=\"-390.8\" font-family=\"Times,serif\" font-size=\"14.00\">petal width (cm) &lt;= 1.75</text>\n",
       "<text text-anchor=\"middle\" x=\"355.04\" y=\"-376.8\" font-family=\"Times,serif\" font-size=\"14.00\">gini = 0.136</text>\n",
       "<text text-anchor=\"middle\" x=\"355.04\" y=\"-362.8\" font-family=\"Times,serif\" font-size=\"14.00\">samples = 41</text>\n",
       "<text text-anchor=\"middle\" x=\"355.04\" y=\"-348.8\" font-family=\"Times,serif\" font-size=\"14.00\">value = [0, 3, 38]</text>\n",
       "<text text-anchor=\"middle\" x=\"355.04\" y=\"-334.8\" font-family=\"Times,serif\" font-size=\"14.00\">class = virginica</text>\n",
       "</g>\n",
       "<!-- 2&#45;&gt;6 -->\n",
       "<g id=\"edge6\" class=\"edge\">\n",
       "<title>2&#45;&gt;6</title>\n",
       "<path fill=\"none\" stroke=\"black\" d=\"M297.08,-441.77C304.09,-432.85 311.63,-423.26 318.87,-414.04\"/>\n",
       "<polygon fill=\"black\" stroke=\"black\" points=\"321.72,-416.08 325.14,-406.06 316.21,-411.76 321.72,-416.08\"/>\n",
       "</g>\n",
       "<!-- 4 -->\n",
       "<g id=\"node5\" class=\"node\">\n",
       "<title>4</title>\n",
       "<polygon fill=\"#39e581\" stroke=\"black\" points=\"114.13,-285 -0.04,-285 -0.04,-221 114.13,-221 114.13,-285\"/>\n",
       "<text text-anchor=\"middle\" x=\"57.04\" y=\"-269.8\" font-family=\"Times,serif\" font-size=\"14.00\">gini = 0.0</text>\n",
       "<text text-anchor=\"middle\" x=\"57.04\" y=\"-255.8\" font-family=\"Times,serif\" font-size=\"14.00\">samples = 37</text>\n",
       "<text text-anchor=\"middle\" x=\"57.04\" y=\"-241.8\" font-family=\"Times,serif\" font-size=\"14.00\">value = [0, 37, 0]</text>\n",
       "<text text-anchor=\"middle\" x=\"57.04\" y=\"-227.8\" font-family=\"Times,serif\" font-size=\"14.00\">class = versicolor</text>\n",
       "</g>\n",
       "<!-- 3&#45;&gt;4 -->\n",
       "<g id=\"edge4\" class=\"edge\">\n",
       "<title>3&#45;&gt;4</title>\n",
       "<path fill=\"none\" stroke=\"black\" d=\"M138.06,-327.77C125.38,-316.22 111.47,-303.55 98.8,-292.02\"/>\n",
       "<polygon fill=\"black\" stroke=\"black\" points=\"100.85,-289.15 91.1,-285.01 96.14,-294.33 100.85,-289.15\"/>\n",
       "</g>\n",
       "<!-- 5 -->\n",
       "<g id=\"node6\" class=\"node\">\n",
       "<title>5</title>\n",
       "<polygon fill=\"#8139e5\" stroke=\"black\" points=\"239.67,-285 132.42,-285 132.42,-221 239.67,-221 239.67,-285\"/>\n",
       "<text text-anchor=\"middle\" x=\"186.04\" y=\"-269.8\" font-family=\"Times,serif\" font-size=\"14.00\">gini = 0.0</text>\n",
       "<text text-anchor=\"middle\" x=\"186.04\" y=\"-255.8\" font-family=\"Times,serif\" font-size=\"14.00\">samples = 1</text>\n",
       "<text text-anchor=\"middle\" x=\"186.04\" y=\"-241.8\" font-family=\"Times,serif\" font-size=\"14.00\">value = [0, 0, 1]</text>\n",
       "<text text-anchor=\"middle\" x=\"186.04\" y=\"-227.8\" font-family=\"Times,serif\" font-size=\"14.00\">class = virginica</text>\n",
       "</g>\n",
       "<!-- 3&#45;&gt;5 -->\n",
       "<g id=\"edge5\" class=\"edge\">\n",
       "<title>3&#45;&gt;5</title>\n",
       "<path fill=\"none\" stroke=\"black\" d=\"M182.09,-327.77C182.65,-317.31 183.26,-305.94 183.83,-295.32\"/>\n",
       "<polygon fill=\"black\" stroke=\"black\" points=\"187.34,-295.18 184.38,-285.01 180.35,-294.81 187.34,-295.18\"/>\n",
       "</g>\n",
       "<!-- 7 -->\n",
       "<g id=\"node8\" class=\"node\">\n",
       "<title>7</title>\n",
       "<polygon fill=\"#ffffff\" stroke=\"black\" points=\"429.52,-292 268.57,-292 268.57,-214 429.52,-214 429.52,-292\"/>\n",
       "<text text-anchor=\"middle\" x=\"349.04\" y=\"-276.8\" font-family=\"Times,serif\" font-size=\"14.00\">sepal length (cm) &lt;= 5.45</text>\n",
       "<text text-anchor=\"middle\" x=\"349.04\" y=\"-262.8\" font-family=\"Times,serif\" font-size=\"14.00\">gini = 0.5</text>\n",
       "<text text-anchor=\"middle\" x=\"349.04\" y=\"-248.8\" font-family=\"Times,serif\" font-size=\"14.00\">samples = 4</text>\n",
       "<text text-anchor=\"middle\" x=\"349.04\" y=\"-234.8\" font-family=\"Times,serif\" font-size=\"14.00\">value = [0, 2, 2]</text>\n",
       "<text text-anchor=\"middle\" x=\"349.04\" y=\"-220.8\" font-family=\"Times,serif\" font-size=\"14.00\">class = versicolor</text>\n",
       "</g>\n",
       "<!-- 6&#45;&gt;7 -->\n",
       "<g id=\"edge7\" class=\"edge\">\n",
       "<title>6&#45;&gt;7</title>\n",
       "<path fill=\"none\" stroke=\"black\" d=\"M353,-327.77C352.56,-319.57 352.09,-310.8 351.63,-302.28\"/>\n",
       "<polygon fill=\"black\" stroke=\"black\" points=\"355.11,-301.86 351.08,-292.06 348.12,-302.23 355.11,-301.86\"/>\n",
       "</g>\n",
       "<!-- 12 -->\n",
       "<g id=\"node13\" class=\"node\">\n",
       "<title>12</title>\n",
       "<polygon fill=\"#843ee6\" stroke=\"black\" points=\"606.46,-292 447.63,-292 447.63,-214 606.46,-214 606.46,-292\"/>\n",
       "<text text-anchor=\"middle\" x=\"527.04\" y=\"-276.8\" font-family=\"Times,serif\" font-size=\"14.00\">petal length (cm) &lt;= 4.85</text>\n",
       "<text text-anchor=\"middle\" x=\"527.04\" y=\"-262.8\" font-family=\"Times,serif\" font-size=\"14.00\">gini = 0.053</text>\n",
       "<text text-anchor=\"middle\" x=\"527.04\" y=\"-248.8\" font-family=\"Times,serif\" font-size=\"14.00\">samples = 37</text>\n",
       "<text text-anchor=\"middle\" x=\"527.04\" y=\"-234.8\" font-family=\"Times,serif\" font-size=\"14.00\">value = [0, 1, 36]</text>\n",
       "<text text-anchor=\"middle\" x=\"527.04\" y=\"-220.8\" font-family=\"Times,serif\" font-size=\"14.00\">class = virginica</text>\n",
       "</g>\n",
       "<!-- 6&#45;&gt;12 -->\n",
       "<g id=\"edge12\" class=\"edge\">\n",
       "<title>6&#45;&gt;12</title>\n",
       "<path fill=\"none\" stroke=\"black\" d=\"M413.76,-327.77C428.7,-318.04 444.87,-307.51 460.19,-297.53\"/>\n",
       "<polygon fill=\"black\" stroke=\"black\" points=\"462.13,-300.45 468.6,-292.06 458.31,-294.58 462.13,-300.45\"/>\n",
       "</g>\n",
       "<!-- 8 -->\n",
       "<g id=\"node9\" class=\"node\">\n",
       "<title>8</title>\n",
       "<polygon fill=\"#8139e5\" stroke=\"black\" points=\"251.67,-171 144.42,-171 144.42,-107 251.67,-107 251.67,-171\"/>\n",
       "<text text-anchor=\"middle\" x=\"198.04\" y=\"-155.8\" font-family=\"Times,serif\" font-size=\"14.00\">gini = 0.0</text>\n",
       "<text text-anchor=\"middle\" x=\"198.04\" y=\"-141.8\" font-family=\"Times,serif\" font-size=\"14.00\">samples = 1</text>\n",
       "<text text-anchor=\"middle\" x=\"198.04\" y=\"-127.8\" font-family=\"Times,serif\" font-size=\"14.00\">value = [0, 0, 1]</text>\n",
       "<text text-anchor=\"middle\" x=\"198.04\" y=\"-113.8\" font-family=\"Times,serif\" font-size=\"14.00\">class = virginica</text>\n",
       "</g>\n",
       "<!-- 7&#45;&gt;8 -->\n",
       "<g id=\"edge8\" class=\"edge\">\n",
       "<title>7&#45;&gt;8</title>\n",
       "<path fill=\"none\" stroke=\"black\" d=\"M297.5,-213.77C281.5,-201.9 263.89,-188.84 247.99,-177.05\"/>\n",
       "<polygon fill=\"black\" stroke=\"black\" points=\"249.97,-174.16 239.85,-171.01 245.8,-179.78 249.97,-174.16\"/>\n",
       "</g>\n",
       "<!-- 9 -->\n",
       "<g id=\"node10\" class=\"node\">\n",
       "<title>9</title>\n",
       "<polygon fill=\"#9cf2c0\" stroke=\"black\" points=\"428.46,-178 269.63,-178 269.63,-100 428.46,-100 428.46,-178\"/>\n",
       "<text text-anchor=\"middle\" x=\"349.04\" y=\"-162.8\" font-family=\"Times,serif\" font-size=\"14.00\">petal length (cm) &lt;= 5.45</text>\n",
       "<text text-anchor=\"middle\" x=\"349.04\" y=\"-148.8\" font-family=\"Times,serif\" font-size=\"14.00\">gini = 0.444</text>\n",
       "<text text-anchor=\"middle\" x=\"349.04\" y=\"-134.8\" font-family=\"Times,serif\" font-size=\"14.00\">samples = 3</text>\n",
       "<text text-anchor=\"middle\" x=\"349.04\" y=\"-120.8\" font-family=\"Times,serif\" font-size=\"14.00\">value = [0, 2, 1]</text>\n",
       "<text text-anchor=\"middle\" x=\"349.04\" y=\"-106.8\" font-family=\"Times,serif\" font-size=\"14.00\">class = versicolor</text>\n",
       "</g>\n",
       "<!-- 7&#45;&gt;9 -->\n",
       "<g id=\"edge9\" class=\"edge\">\n",
       "<title>7&#45;&gt;9</title>\n",
       "<path fill=\"none\" stroke=\"black\" d=\"M349.04,-213.77C349.04,-205.57 349.04,-196.8 349.04,-188.28\"/>\n",
       "<polygon fill=\"black\" stroke=\"black\" points=\"352.54,-188.06 349.04,-178.06 345.54,-188.06 352.54,-188.06\"/>\n",
       "</g>\n",
       "<!-- 10 -->\n",
       "<g id=\"node11\" class=\"node\">\n",
       "<title>10</title>\n",
       "<polygon fill=\"#39e581\" stroke=\"black\" points=\"289.13,-64 174.96,-64 174.96,0 289.13,0 289.13,-64\"/>\n",
       "<text text-anchor=\"middle\" x=\"232.04\" y=\"-48.8\" font-family=\"Times,serif\" font-size=\"14.00\">gini = 0.0</text>\n",
       "<text text-anchor=\"middle\" x=\"232.04\" y=\"-34.8\" font-family=\"Times,serif\" font-size=\"14.00\">samples = 2</text>\n",
       "<text text-anchor=\"middle\" x=\"232.04\" y=\"-20.8\" font-family=\"Times,serif\" font-size=\"14.00\">value = [0, 2, 0]</text>\n",
       "<text text-anchor=\"middle\" x=\"232.04\" y=\"-6.8\" font-family=\"Times,serif\" font-size=\"14.00\">class = versicolor</text>\n",
       "</g>\n",
       "<!-- 9&#45;&gt;10 -->\n",
       "<g id=\"edge10\" class=\"edge\">\n",
       "<title>9&#45;&gt;10</title>\n",
       "<path fill=\"none\" stroke=\"black\" d=\"M306.47,-99.8C295.96,-90.36 284.7,-80.25 274.2,-70.84\"/>\n",
       "<polygon fill=\"black\" stroke=\"black\" points=\"276.5,-68.19 266.72,-64.12 271.82,-73.4 276.5,-68.19\"/>\n",
       "</g>\n",
       "<!-- 11 -->\n",
       "<g id=\"node12\" class=\"node\">\n",
       "<title>11</title>\n",
       "<polygon fill=\"#8139e5\" stroke=\"black\" points=\"414.67,-64 307.42,-64 307.42,0 414.67,0 414.67,-64\"/>\n",
       "<text text-anchor=\"middle\" x=\"361.04\" y=\"-48.8\" font-family=\"Times,serif\" font-size=\"14.00\">gini = 0.0</text>\n",
       "<text text-anchor=\"middle\" x=\"361.04\" y=\"-34.8\" font-family=\"Times,serif\" font-size=\"14.00\">samples = 1</text>\n",
       "<text text-anchor=\"middle\" x=\"361.04\" y=\"-20.8\" font-family=\"Times,serif\" font-size=\"14.00\">value = [0, 0, 1]</text>\n",
       "<text text-anchor=\"middle\" x=\"361.04\" y=\"-6.8\" font-family=\"Times,serif\" font-size=\"14.00\">class = virginica</text>\n",
       "</g>\n",
       "<!-- 9&#45;&gt;11 -->\n",
       "<g id=\"edge11\" class=\"edge\">\n",
       "<title>9&#45;&gt;11</title>\n",
       "<path fill=\"none\" stroke=\"black\" d=\"M353.41,-99.8C354.36,-91.46 355.38,-82.6 356.34,-74.15\"/>\n",
       "<polygon fill=\"black\" stroke=\"black\" points=\"359.83,-74.45 357.49,-64.12 352.88,-73.66 359.83,-74.45\"/>\n",
       "</g>\n",
       "<!-- 13 -->\n",
       "<g id=\"node14\" class=\"node\">\n",
       "<title>13</title>\n",
       "<polygon fill=\"#c09cf2\" stroke=\"black\" points=\"607.52,-178 446.57,-178 446.57,-100 607.52,-100 607.52,-178\"/>\n",
       "<text text-anchor=\"middle\" x=\"527.04\" y=\"-162.8\" font-family=\"Times,serif\" font-size=\"14.00\">sepal length (cm) &lt;= 5.95</text>\n",
       "<text text-anchor=\"middle\" x=\"527.04\" y=\"-148.8\" font-family=\"Times,serif\" font-size=\"14.00\">gini = 0.444</text>\n",
       "<text text-anchor=\"middle\" x=\"527.04\" y=\"-134.8\" font-family=\"Times,serif\" font-size=\"14.00\">samples = 3</text>\n",
       "<text text-anchor=\"middle\" x=\"527.04\" y=\"-120.8\" font-family=\"Times,serif\" font-size=\"14.00\">value = [0, 1, 2]</text>\n",
       "<text text-anchor=\"middle\" x=\"527.04\" y=\"-106.8\" font-family=\"Times,serif\" font-size=\"14.00\">class = virginica</text>\n",
       "</g>\n",
       "<!-- 12&#45;&gt;13 -->\n",
       "<g id=\"edge13\" class=\"edge\">\n",
       "<title>12&#45;&gt;13</title>\n",
       "<path fill=\"none\" stroke=\"black\" d=\"M527.04,-213.77C527.04,-205.57 527.04,-196.8 527.04,-188.28\"/>\n",
       "<polygon fill=\"black\" stroke=\"black\" points=\"530.54,-188.06 527.04,-178.06 523.54,-188.06 530.54,-188.06\"/>\n",
       "</g>\n",
       "<!-- 16 -->\n",
       "<g id=\"node17\" class=\"node\">\n",
       "<title>16</title>\n",
       "<polygon fill=\"#8139e5\" stroke=\"black\" points=\"738.08,-171 626.01,-171 626.01,-107 738.08,-107 738.08,-171\"/>\n",
       "<text text-anchor=\"middle\" x=\"682.04\" y=\"-155.8\" font-family=\"Times,serif\" font-size=\"14.00\">gini = 0.0</text>\n",
       "<text text-anchor=\"middle\" x=\"682.04\" y=\"-141.8\" font-family=\"Times,serif\" font-size=\"14.00\">samples = 34</text>\n",
       "<text text-anchor=\"middle\" x=\"682.04\" y=\"-127.8\" font-family=\"Times,serif\" font-size=\"14.00\">value = [0, 0, 34]</text>\n",
       "<text text-anchor=\"middle\" x=\"682.04\" y=\"-113.8\" font-family=\"Times,serif\" font-size=\"14.00\">class = virginica</text>\n",
       "</g>\n",
       "<!-- 12&#45;&gt;16 -->\n",
       "<g id=\"edge16\" class=\"edge\">\n",
       "<title>12&#45;&gt;16</title>\n",
       "<path fill=\"none\" stroke=\"black\" d=\"M579.95,-213.77C596.38,-201.9 614.46,-188.84 630.77,-177.05\"/>\n",
       "<polygon fill=\"black\" stroke=\"black\" points=\"633.07,-179.7 639.13,-171.01 628.97,-174.03 633.07,-179.7\"/>\n",
       "</g>\n",
       "<!-- 14 -->\n",
       "<g id=\"node15\" class=\"node\">\n",
       "<title>14</title>\n",
       "<polygon fill=\"#39e581\" stroke=\"black\" points=\"571.13,-64 456.96,-64 456.96,0 571.13,0 571.13,-64\"/>\n",
       "<text text-anchor=\"middle\" x=\"514.04\" y=\"-48.8\" font-family=\"Times,serif\" font-size=\"14.00\">gini = 0.0</text>\n",
       "<text text-anchor=\"middle\" x=\"514.04\" y=\"-34.8\" font-family=\"Times,serif\" font-size=\"14.00\">samples = 1</text>\n",
       "<text text-anchor=\"middle\" x=\"514.04\" y=\"-20.8\" font-family=\"Times,serif\" font-size=\"14.00\">value = [0, 1, 0]</text>\n",
       "<text text-anchor=\"middle\" x=\"514.04\" y=\"-6.8\" font-family=\"Times,serif\" font-size=\"14.00\">class = versicolor</text>\n",
       "</g>\n",
       "<!-- 13&#45;&gt;14 -->\n",
       "<g id=\"edge14\" class=\"edge\">\n",
       "<title>13&#45;&gt;14</title>\n",
       "<path fill=\"none\" stroke=\"black\" d=\"M522.31,-99.8C521.28,-91.46 520.19,-82.6 519.14,-74.15\"/>\n",
       "<polygon fill=\"black\" stroke=\"black\" points=\"522.6,-73.61 517.9,-64.12 515.65,-74.47 522.6,-73.61\"/>\n",
       "</g>\n",
       "<!-- 15 -->\n",
       "<g id=\"node16\" class=\"node\">\n",
       "<title>15</title>\n",
       "<polygon fill=\"#8139e5\" stroke=\"black\" points=\"696.67,-64 589.42,-64 589.42,0 696.67,0 696.67,-64\"/>\n",
       "<text text-anchor=\"middle\" x=\"643.04\" y=\"-48.8\" font-family=\"Times,serif\" font-size=\"14.00\">gini = 0.0</text>\n",
       "<text text-anchor=\"middle\" x=\"643.04\" y=\"-34.8\" font-family=\"Times,serif\" font-size=\"14.00\">samples = 2</text>\n",
       "<text text-anchor=\"middle\" x=\"643.04\" y=\"-20.8\" font-family=\"Times,serif\" font-size=\"14.00\">value = [0, 0, 2]</text>\n",
       "<text text-anchor=\"middle\" x=\"643.04\" y=\"-6.8\" font-family=\"Times,serif\" font-size=\"14.00\">class = virginica</text>\n",
       "</g>\n",
       "<!-- 13&#45;&gt;15 -->\n",
       "<g id=\"edge15\" class=\"edge\">\n",
       "<title>13&#45;&gt;15</title>\n",
       "<path fill=\"none\" stroke=\"black\" d=\"M569.25,-99.8C579.68,-90.36 590.84,-80.25 601.25,-70.84\"/>\n",
       "<polygon fill=\"black\" stroke=\"black\" points=\"603.6,-73.42 608.67,-64.12 598.9,-68.23 603.6,-73.42\"/>\n",
       "</g>\n",
       "</g>\n",
       "</svg>\n"
      ],
      "text/plain": [
       "<graphviz.files.Source at 0x11ad4f9e8>"
      ]
     },
     "execution_count": 25,
     "metadata": {},
     "output_type": "execute_result"
    }
   ],
   "source": [
    "import graphviz\n",
    "\n",
    "f = open('tree.dot')\n",
    "dot_graph = f.read()\n",
    "graphviz.Source(dot_graph)"
   ]
  },
  {
   "cell_type": "code",
   "execution_count": 15,
   "metadata": {},
   "outputs": [
    {
     "name": "stdout",
     "output_type": "stream",
     "text": [
      "0.6665277777777778\n",
      "0.16803840877914955\n"
     ]
    }
   ],
   "source": [
    "# 지니계수 : 0.667 \n",
    "\n",
    "# gini = 0.667\n",
    "# samples = 120\n",
    "# value = [41, 40, 30]\n",
    "# calss = setosa \n",
    "\n",
    "gini = 1-((41/120)**2 + (40/120)**2 + (39/120)**2)\n",
    "print(gini)\n",
    "\n",
    "\n",
    "# petal length (cm) ≤ 4.95\n",
    "# gini = 0.168\n",
    "# samples = 54\n",
    "# value = [0, 49, 5]\n",
    "# class = versicolor\n",
    "\n",
    "gini = 1-((0/54)**2 + (49/54)**2 + (5/54)**2)\n",
    "print(gini)"
   ]
  },
  {
   "cell_type": "markdown",
   "metadata": {},
   "source": [
    "### Feature importance  : 결정 트리의 규칙노드가 분기 조건으로 사용할 피쳐의 우선 순위에 사용  \n"
   ]
  },
  {
   "cell_type": "code",
   "execution_count": 16,
   "metadata": {},
   "outputs": [],
   "source": [
    "import seaborn as sns"
   ]
  },
  {
   "cell_type": "code",
   "execution_count": 17,
   "metadata": {},
   "outputs": [
    {
     "name": "stdout",
     "output_type": "stream",
     "text": [
      "Feature Importance:\n",
      "[0.025 0.    0.049 0.926]\n",
      "sepal length (cm) : 0.025\n",
      "sepal width (cm) : 0.000\n",
      "petal length (cm) : 0.049\n",
      "petal width (cm) : 0.926\n"
     ]
    },
    {
     "data": {
      "text/html": [
       "<div>\n",
       "<style scoped>\n",
       "    .dataframe tbody tr th:only-of-type {\n",
       "        vertical-align: middle;\n",
       "    }\n",
       "\n",
       "    .dataframe tbody tr th {\n",
       "        vertical-align: top;\n",
       "    }\n",
       "\n",
       "    .dataframe thead th {\n",
       "        text-align: right;\n",
       "    }\n",
       "</style>\n",
       "<table border=\"1\" class=\"dataframe\">\n",
       "  <thead>\n",
       "    <tr style=\"text-align: right;\">\n",
       "      <th></th>\n",
       "      <th>sepal length (cm)</th>\n",
       "      <th>sepal width (cm)</th>\n",
       "      <th>petal length (cm)</th>\n",
       "      <th>petal width (cm)</th>\n",
       "      <th>label</th>\n",
       "    </tr>\n",
       "  </thead>\n",
       "  <tbody>\n",
       "    <tr>\n",
       "      <th>sepal length (cm)</th>\n",
       "      <td>1.000000</td>\n",
       "      <td>-0.117570</td>\n",
       "      <td>0.871754</td>\n",
       "      <td>0.817941</td>\n",
       "      <td>0.782561</td>\n",
       "    </tr>\n",
       "    <tr>\n",
       "      <th>sepal width (cm)</th>\n",
       "      <td>-0.117570</td>\n",
       "      <td>1.000000</td>\n",
       "      <td>-0.428440</td>\n",
       "      <td>-0.366126</td>\n",
       "      <td>-0.426658</td>\n",
       "    </tr>\n",
       "    <tr>\n",
       "      <th>petal length (cm)</th>\n",
       "      <td>0.871754</td>\n",
       "      <td>-0.428440</td>\n",
       "      <td>1.000000</td>\n",
       "      <td>0.962865</td>\n",
       "      <td>0.949035</td>\n",
       "    </tr>\n",
       "    <tr>\n",
       "      <th>petal width (cm)</th>\n",
       "      <td>0.817941</td>\n",
       "      <td>-0.366126</td>\n",
       "      <td>0.962865</td>\n",
       "      <td>1.000000</td>\n",
       "      <td>0.956547</td>\n",
       "    </tr>\n",
       "    <tr>\n",
       "      <th>label</th>\n",
       "      <td>0.782561</td>\n",
       "      <td>-0.426658</td>\n",
       "      <td>0.949035</td>\n",
       "      <td>0.956547</td>\n",
       "      <td>1.000000</td>\n",
       "    </tr>\n",
       "  </tbody>\n",
       "</table>\n",
       "</div>"
      ],
      "text/plain": [
       "                   sepal length (cm)  sepal width (cm)  petal length (cm)  \\\n",
       "sepal length (cm)           1.000000         -0.117570           0.871754   \n",
       "sepal width (cm)           -0.117570          1.000000          -0.428440   \n",
       "petal length (cm)           0.871754         -0.428440           1.000000   \n",
       "petal width (cm)            0.817941         -0.366126           0.962865   \n",
       "label                       0.782561         -0.426658           0.949035   \n",
       "\n",
       "                   petal width (cm)     label  \n",
       "sepal length (cm)          0.817941  0.782561  \n",
       "sepal width (cm)          -0.366126 -0.426658  \n",
       "petal length (cm)          0.962865  0.949035  \n",
       "petal width (cm)           1.000000  0.956547  \n",
       "label                      0.956547  1.000000  "
      ]
     },
     "execution_count": 17,
     "metadata": {},
     "output_type": "execute_result"
    },
    {
     "data": {
      "image/png": "[encoded data removed]",
      "text/plain": [
       "<Figure size 432x288 with 1 Axes>"
      ]
     },
     "metadata": {
      "needs_background": "light"
     },
     "output_type": "display_data"
    }
   ],
   "source": [
    "print('Feature Importance:\\n{0}'.format(np.round(dt_clf.feature_importances_, 3)))\n",
    "\n",
    "for name, value in zip(iris.feature_names, dt_clf.feature_importances_):\n",
    "    print('{0} : {1:.3f}'.format(name, value))\n",
    "    \n",
    "sns.barplot(x = dt_clf.feature_importances_, y=iris.feature_names)\n",
    "iris_df.corr()   # 상관 관계"
   ]
  },
  {
   "cell_type": "markdown",
   "metadata": {},
   "source": [
    "### 내부 알고리즘 처리 과정 분석 \n",
    "\n",
    "#### GINI 계수 함수 구현 "
   ]
  },
  {
   "cell_type": "code",
   "execution_count": 18,
   "metadata": {},
   "outputs": [
    {
     "data": {
      "text/plain": [
       "0.667"
      ]
     },
     "execution_count": 18,
     "metadata": {},
     "output_type": "execute_result"
    }
   ],
   "source": [
    "### GINI 계수 함수 구현 \n",
    "\n",
    "def gini(value):\n",
    "    array_of_values = np.array(value)\n",
    "    array_of_sum = array_of_values.sum()\n",
    "    squared_sum = 0 \n",
    "    \n",
    "    for value in array_of_values:\n",
    "        squared_sum += (value/array_of_sum)**2\n",
    "    return round(1- squared_sum, 3)\n",
    "\n",
    "gini([41, 40, 39])"
   ]
  },
  {
   "cell_type": "markdown",
   "metadata": {},
   "source": [
    "### 1번 노드 : \n",
    "\n",
    "```python \n",
    "petal width (cm) <= 0.8\n",
    "gini = 0.667\n",
    "samples = 120\n",
    "value = [41, 40, 39]\n",
    "class = setosa\n",
    "```"
   ]
  },
  {
   "cell_type": "code",
   "execution_count": 19,
   "metadata": {},
   "outputs": [
    {
     "name": "stdout",
     "output_type": "stream",
     "text": [
      "0    41\n",
      "1    40\n",
      "2    39\n",
      "Name: label, dtype: int64\n",
      "0.667\n"
     ]
    }
   ],
   "source": [
    "# 1번 노드 : 루트 노드, 규칙 노드 (자식을 가지고 있음) \n",
    "# root node 실행 구조\n",
    "\n",
    "first_df = pd.DataFrame(data=X_train, columns=iris.feature_names)\n",
    "first_df['label'] = y_train\n",
    "\n",
    "first_df\n",
    "\n",
    "print(first_df['label'].value_counts())   \n",
    "print(gini([41, 40, 39]))      # gini = 0.667 , 지니 계수가 크므로 자식노드(2, 3번)로 분리 된다.\n",
    "\n",
    "\n",
    "# 자식노드 생성 \n",
    "second_node = first_df[first_df['petal width (cm)'] <=0.8]   # => 자식 노드 (2번 노드) 생성\n",
    "third_node =  first_df[first_df['petal width (cm)'] > 0.8]   # => 자식 노드 (2번 노드) 생성"
   ]
  },
  {
   "cell_type": "markdown",
   "metadata": {},
   "source": [
    "### 2번 노드 :  쳣번째 터미널 노드, 리프 노드 \n",
    "\n",
    "```python \n",
    "gini = 0.0\n",
    "samples = 41\n",
    "value = [41, 0, 0]\n",
    "class = setosa\n",
    "```"
   ]
  },
  {
   "cell_type": "code",
   "execution_count": 27,
   "metadata": {},
   "outputs": [
    {
     "name": "stdout",
     "output_type": "stream",
     "text": [
      "gini:  0.0\n",
      "class:  setosa\n"
     ]
    }
   ],
   "source": [
    "second_node['label'].value_counts()\n",
    "print('gini: ', gini([41,0,0]))\n",
    "print('class: ', iris.target_names[0])"
   ]
  },
  {
   "cell_type": "markdown",
   "metadata": {},
   "source": [
    "### 3번 노드 : 쳣번째 터미널 노드, 리프 노드\n",
    "\n",
    "```python \n",
    "petal width (cm) <= 1.55\n",
    "gini = 0.5\n",
    "samples = 79\n",
    "value = [0, 40, 39]\n",
    "class = versicolor\n",
    "```\n"
   ]
  },
  {
   "cell_type": "code",
   "execution_count": 29,
   "metadata": {},
   "outputs": [
    {
     "name": "stdout",
     "output_type": "stream",
     "text": [
      "1    40\n",
      "2    39\n",
      "Name: label, dtype: int64\n",
      "gini: 0.5\n"
     ]
    }
   ],
   "source": [
    "print(third_node['label'].value_counts())\n",
    "print('gini:', gini([0, 40, 40]))\n",
    "      \n",
    "# 자식노드 생성 \n",
    "fourth_node = third_node[third_node['petal width (cm)'] <= 1.55]   # => 자식 노드 (4번 노드) 생성\n",
    "fifth_node =  third_node[third_node['petal width (cm)'] > 1.55]   # => 자식 노드 (5번 노드) 생성"
   ]
  },
  {
   "cell_type": "code",
   "execution_count": null,
   "metadata": {},
   "outputs": [],
   "source": []
  }
 ],
 "metadata": {
  "kernelspec": {
   "display_name": "Python 3",
   "language": "python",
   "name": "python3"
  },
  "language_info": {
   "codemirror_mode": {
    "name": "ipython",
    "version": 3
   },
   "file_extension": ".py",
   "mimetype": "text/x-python",
   "name": "python",
   "nbconvert_exporter": "python",
   "pygments_lexer": "ipython3",
   "version": "3.6.2"
  }
 },
 "nbformat": 4,
 "nbformat_minor": 2
}
