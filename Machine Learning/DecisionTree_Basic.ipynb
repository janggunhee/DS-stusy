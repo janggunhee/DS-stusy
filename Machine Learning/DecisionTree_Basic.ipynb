{
 "cells": [
  {
   "cell_type": "markdown",
   "metadata": {},
   "source": [
    "# 분류(Classification) 모델 \n",
    "\n",
    "- Decision Tree \n",
    "- Logistic Regression \n",
    "- Navie Bayes \n",
    "- Support Vector Machine \n",
    "- Nearest Neighbor(최소 근접 알고리즘) "
   ]
  },
  {
   "cell_type": "markdown",
   "metadata": {},
   "source": [
    "## [의사 결정 트리 (Decision Tree)](https://scikit-learn.org/stable/modules/tree.html#tree)\n",
    "\n",
    "- 분류 및 회귀에 사용되는 비모수 감독 학습 방법입니다. \n",
    "- 목표는 데이터 기능에서 유추 된 간단한 결정 규칙을 학습하여 대상 변수의 값을 예측하는 모델을 만드는 것입니다.\n",
    "\n",
    "- 대표적인 분류 학습 모델 \n",
    "- 이해하고 해석하기 간단합니다. 나무를 시각화 할 수 있습니다.\n",
    "- 약간의 데이터 전처리가 필요하다. 이 모듈은 결측값을 지원하지 않는다. \n",
    "- 숫자 데이터와 범주 데이터를 모두 처리 할 수 있습니다. \n",
    "\n",
    "#### 나무를 거꾸로 뒤집은 모양 :: 루트노드 -> 규칙 노드 -> 리프노트\n",
    "\n",
    "\n",
    "```python \n",
    "class sklearn.tree.DecisionTreeClassifier(criterion='gini', splitter='best', max_depth=None, min_samples_split=2, min_samples_leaf=1, min_weight_fraction_leaf=0.0, max_features=None, random_state=None, max_leaf_nodes=None, min_impurity_decrease=0.0, min_impurity_split=None, class_weight=None, presort='deprecated', ccp_alpha=0.0\n",
    "```"
   ]
  },
  {
   "cell_type": "markdown",
   "metadata": {},
   "source": [
    "### [1] 불순도  (Impurity) \n",
    "\n",
    "- 해당 범주 안에 서로 다른 데이터가 얼마나 섞여 있는지를 뜻한다. \n",
    "- 불확실성 , 무질서도\n",
    "\n",
    "### [2] 엔트로피 (Entropy) \n",
    "\n",
    "- 불순도를 수치적으로 나타낸 척도, 엔트로피가 높다는 것은 불순도가 높다. \n",
    "\n",
    "### [3] 정보 이득 (Information gain) : 1 - Entropy\n",
    "\n",
    "- 결정트리는 구분 뒤 각 영역의 순도가 증가, 불순도는 감소하는 방향으로 학습을 진행\n",
    "- 정보이론에 의한 정보 이득 \n",
    "\n",
    "### [4] 지니계수 (Gini Coefficent):  1 - (각 범주별 데이터의 비율의 제곱의 합 ) \n",
    "- 순도가 높아지면 지니계수는 0이 된다. 1이면 최대 "
   ]
  },
  {
   "cell_type": "code",
   "execution_count": 2,
   "metadata": {},
   "outputs": [],
   "source": [
    "import numpy as np\n",
    "import pandas as pd\n",
    "import matplotlib.pyplot as plt\n",
    "\n",
    "# 한글 출력을 위한 설정\n",
    "import matplotlib\n",
    "matplotlib.rcParams['font.family']=\"NanumBarunGothic\"\n",
    "matplotlib.rcParams['axes.unicode_minus'] = False\n",
    "\n",
    "# Decision Tree 모듈 \n",
    "from sklearn.tree import DecisionTreeClassifier\n",
    "# 데이터 train/test 나누기 \n",
    "from sklearn.model_selection import train_test_split"
   ]
  },
  {
   "cell_type": "markdown",
   "metadata": {},
   "source": [
    "## Classification\n",
    "- 다중 클래스 분류를 수행할 수 있다. "
   ]
  },
  {
   "cell_type": "code",
   "execution_count": 3,
   "metadata": {},
   "outputs": [
    {
     "data": {
      "text/plain": [
       "array([[0., 1.]])"
      ]
     },
     "execution_count": 3,
     "metadata": {},
     "output_type": "execute_result"
    }
   ],
   "source": [
    "from sklearn import tree \n",
    "\n",
    "X = [[0,0], [1, 1]]\n",
    "Y = [0, 1]\n",
    "\n",
    "# 훈련 \n",
    "clf = tree.DecisionTreeClassifier()\n",
    "clf = clf.fit(X, Y)\n",
    "\n",
    "# 예측 \n",
    "clf.predict([[2., 2.]])\n",
    "\n",
    "# 리프 노드 에서 동일한 클래스 트레이닝 샘플의 비율 \n",
    "clf.predict_proba([[2., 2.]])"
   ]
  },
  {
   "cell_type": "markdown",
   "metadata": {},
   "source": [
    "### iris dataset으로 트리를 구성 "
   ]
  },
  {
   "cell_type": "code",
   "execution_count": 4,
   "metadata": {},
   "outputs": [
    {
     "data": {
      "text/plain": [
       "DecisionTreeClassifier(ccp_alpha=0.0, class_weight=None, criterion='gini',\n",
       "                       max_depth=None, max_features=None, max_leaf_nodes=None,\n",
       "                       min_impurity_decrease=0.0, min_impurity_split=None,\n",
       "                       min_samples_leaf=1, min_samples_split=2,\n",
       "                       min_weight_fraction_leaf=0.0, presort='deprecated',\n",
       "                       random_state=None, splitter='best')"
      ]
     },
     "execution_count": 4,
     "metadata": {},
     "output_type": "execute_result"
    }
   ],
   "source": [
    "from sklearn.datasets import load_iris\n",
    "from sklearn import tree \n",
    "\n",
    "X, y = load_iris(return_X_y = True)\n",
    "clf = tree.DecisionTreeClassifier()\n",
    "clf = clf.fit(X, y)\n",
    "clf"
   ]
  },
  {
   "cell_type": "markdown",
   "metadata": {},
   "source": [
    "### 한번의 훈련, plot_tree( ) 함수를 사용해 트리플로팅 "
   ]
  },
  {
   "cell_type": "code",
   "execution_count": 5,
   "metadata": {},
   "outputs": [],
   "source": [
    "# Iris Data set 가져오기 \n",
    "from sklearn.datasets import load_iris\n",
    "\n",
    "iris = load_iris()"
   ]
  },
  {
   "cell_type": "code",
   "execution_count": 6,
   "metadata": {},
   "outputs": [
    {
     "data": {
      "image/png": "[encoded data removed]",
      "text/plain": [
       "<Figure size 432x288 with 1 Axes>"
      ]
     },
     "metadata": {
      "needs_background": "light"
     },
     "output_type": "display_data"
    }
   ],
   "source": [
    "tree.plot_tree(clf.fit(iris.data, iris.target))\n",
    "plt.show()"
   ]
  },
  {
   "cell_type": "markdown",
   "metadata": {},
   "source": [
    "### graphviz 이용해 pdf 출력 "
   ]
  },
  {
   "cell_type": "code",
   "execution_count": 8,
   "metadata": {},
   "outputs": [
    {
     "data": {
      "text/plain": [
       "'iris.pdf'"
      ]
     },
     "execution_count": 8,
     "metadata": {},
     "output_type": "execute_result"
    }
   ],
   "source": [
    "import graphviz \n",
    "\n",
    "dot_data = tree.export_graphviz(clf, out_file=None) \n",
    "graph = graphviz.Source(dot_data) \n",
    "graph.render(\"iris\") "
   ]
  },
  {
   "cell_type": "code",
   "execution_count": 7,
   "metadata": {},
   "outputs": [
    {
     "data": {
      "image/svg+xml": [
       "<?xml version=\"1.0\" encoding=\"UTF-8\" standalone=\"no\"?>\n",
       "<!DOCTYPE svg PUBLIC \"-//W3C//DTD SVG 1.1//EN\"\n",
       " \"http://www.w3.org/Graphics/SVG/1.1/DTD/svg11.dtd\">\n",
       "<!-- Generated by graphviz version 2.43.0 (0)\n",
       " -->\n",
       "<!-- Title: Tree Pages: 1 -->\n",
       "<svg width=\"883pt\" height=\"642pt\"\n",
       " viewBox=\"0.00 0.00 882.83 642.00\" xmlns=\"http://www.w3.org/2000/svg\" xmlns:xlink=\"http://www.w3.org/1999/xlink\">\n",
       "<g id=\"graph0\" class=\"graph\" transform=\"scale(1 1) rotate(0) translate(4 638)\">\n",
       "<title>Tree</title>\n",
       "<polygon fill=\"white\" stroke=\"transparent\" points=\"-4,4 -4,-638 878.83,-638 878.83,4 -4,4\"/>\n",
       "<!-- 0 -->\n",
       "<g id=\"node1\" class=\"node\">\n",
       "<title>0</title>\n",
       "<path fill=\"#ffffff\" stroke=\"black\" d=\"M529.36,-634C529.36,-634 390.4,-634 390.4,-634 384.4,-634 378.4,-628 378.4,-622 378.4,-622 378.4,-568 378.4,-568 378.4,-562 384.4,-556 390.4,-556 390.4,-556 529.36,-556 529.36,-556 535.36,-556 541.36,-562 541.36,-568 541.36,-568 541.36,-622 541.36,-622 541.36,-628 535.36,-634 529.36,-634\"/>\n",
       "<text text-anchor=\"start\" x=\"386.39\" y=\"-618.8\" font-family=\"Helvetica,sans-Serif\" font-size=\"14.00\">petal length (cm) ≤ 2.45</text>\n",
       "<text text-anchor=\"start\" x=\"423.49\" y=\"-604.8\" font-family=\"Helvetica,sans-Serif\" font-size=\"14.00\">gini = 0.667</text>\n",
       "<text text-anchor=\"start\" x=\"414.16\" y=\"-590.8\" font-family=\"Helvetica,sans-Serif\" font-size=\"14.00\">samples = 150</text>\n",
       "<text text-anchor=\"start\" x=\"400.14\" y=\"-576.8\" font-family=\"Helvetica,sans-Serif\" font-size=\"14.00\">value = [50, 50, 50]</text>\n",
       "<text text-anchor=\"start\" x=\"415.33\" y=\"-562.8\" font-family=\"Helvetica,sans-Serif\" font-size=\"14.00\">class = setosa</text>\n",
       "</g>\n",
       "<!-- 1 -->\n",
       "<g id=\"node2\" class=\"node\">\n",
       "<title>1</title>\n",
       "<path fill=\"#e58139\" stroke=\"black\" d=\"M429.78,-513C429.78,-513 333.97,-513 333.97,-513 327.97,-513 321.97,-507 321.97,-501 321.97,-501 321.97,-461 321.97,-461 321.97,-455 327.97,-449 333.97,-449 333.97,-449 429.78,-449 429.78,-449 435.78,-449 441.78,-455 441.78,-461 441.78,-461 441.78,-501 441.78,-501 441.78,-507 435.78,-513 429.78,-513\"/>\n",
       "<text text-anchor=\"start\" x=\"353.27\" y=\"-497.8\" font-family=\"Helvetica,sans-Serif\" font-size=\"14.00\">gini = 0.0</text>\n",
       "<text text-anchor=\"start\" x=\"340.05\" y=\"-483.8\" font-family=\"Helvetica,sans-Serif\" font-size=\"14.00\">samples = 50</text>\n",
       "<text text-anchor=\"start\" x=\"329.92\" y=\"-469.8\" font-family=\"Helvetica,sans-Serif\" font-size=\"14.00\">value = [50, 0, 0]</text>\n",
       "<text text-anchor=\"start\" x=\"337.33\" y=\"-455.8\" font-family=\"Helvetica,sans-Serif\" font-size=\"14.00\">class = setosa</text>\n",
       "</g>\n",
       "<!-- 0&#45;&gt;1 -->\n",
       "<g id=\"edge1\" class=\"edge\">\n",
       "<title>0&#45;&gt;1</title>\n",
       "<path fill=\"none\" stroke=\"black\" d=\"M433.25,-555.77C425.52,-544.66 417.05,-532.51 409.27,-521.33\"/>\n",
       "<polygon fill=\"black\" stroke=\"black\" points=\"412.06,-519.22 403.47,-513.01 406.32,-523.22 412.06,-519.22\"/>\n",
       "<text text-anchor=\"middle\" x=\"399.07\" y=\"-533.42\" font-family=\"Helvetica,sans-Serif\" font-size=\"14.00\">True</text>\n",
       "</g>\n",
       "<!-- 2 -->\n",
       "<g id=\"node3\" class=\"node\">\n",
       "<title>2</title>\n",
       "<path fill=\"#ffffff\" stroke=\"black\" d=\"M605.4,-520C605.4,-520 472.36,-520 472.36,-520 466.36,-520 460.36,-514 460.36,-508 460.36,-508 460.36,-454 460.36,-454 460.36,-448 466.36,-442 472.36,-442 472.36,-442 605.4,-442 605.4,-442 611.4,-442 617.4,-448 617.4,-454 617.4,-454 617.4,-508 617.4,-508 617.4,-514 611.4,-520 605.4,-520\"/>\n",
       "<text text-anchor=\"start\" x=\"468.12\" y=\"-504.8\" font-family=\"Helvetica,sans-Serif\" font-size=\"14.00\">petal width (cm) ≤ 1.75</text>\n",
       "<text text-anchor=\"start\" x=\"510.27\" y=\"-490.8\" font-family=\"Helvetica,sans-Serif\" font-size=\"14.00\">gini = 0.5</text>\n",
       "<text text-anchor=\"start\" x=\"493.16\" y=\"-476.8\" font-family=\"Helvetica,sans-Serif\" font-size=\"14.00\">samples = 100</text>\n",
       "<text text-anchor=\"start\" x=\"483.03\" y=\"-462.8\" font-family=\"Helvetica,sans-Serif\" font-size=\"14.00\">value = [0, 50, 50]</text>\n",
       "<text text-anchor=\"start\" x=\"485\" y=\"-448.8\" font-family=\"Helvetica,sans-Serif\" font-size=\"14.00\">class = versicolor</text>\n",
       "</g>\n",
       "<!-- 0&#45;&gt;2 -->\n",
       "<g id=\"edge2\" class=\"edge\">\n",
       "<title>0&#45;&gt;2</title>\n",
       "<path fill=\"none\" stroke=\"black\" d=\"M486.84,-555.77C493.07,-546.94 499.76,-537.45 506.21,-528.32\"/>\n",
       "<polygon fill=\"black\" stroke=\"black\" points=\"509.13,-530.25 512.03,-520.06 503.41,-526.21 509.13,-530.25\"/>\n",
       "<text text-anchor=\"middle\" x=\"516.29\" y=\"-540.49\" font-family=\"Helvetica,sans-Serif\" font-size=\"14.00\">False</text>\n",
       "</g>\n",
       "<!-- 3 -->\n",
       "<g id=\"node4\" class=\"node\">\n",
       "<title>3</title>\n",
       "<path fill=\"#4de88e\" stroke=\"black\" d=\"M493.36,-406C493.36,-406 354.4,-406 354.4,-406 348.4,-406 342.4,-400 342.4,-394 342.4,-394 342.4,-340 342.4,-340 342.4,-334 348.4,-328 354.4,-328 354.4,-328 493.36,-328 493.36,-328 499.36,-328 505.36,-334 505.36,-340 505.36,-340 505.36,-394 505.36,-394 505.36,-400 499.36,-406 493.36,-406\"/>\n",
       "<text text-anchor=\"start\" x=\"350.39\" y=\"-390.8\" font-family=\"Helvetica,sans-Serif\" font-size=\"14.00\">petal length (cm) ≤ 4.95</text>\n",
       "<text text-anchor=\"start\" x=\"387.49\" y=\"-376.8\" font-family=\"Helvetica,sans-Serif\" font-size=\"14.00\">gini = 0.168</text>\n",
       "<text text-anchor=\"start\" x=\"382.05\" y=\"-362.8\" font-family=\"Helvetica,sans-Serif\" font-size=\"14.00\">samples = 54</text>\n",
       "<text text-anchor=\"start\" x=\"371.92\" y=\"-348.8\" font-family=\"Helvetica,sans-Serif\" font-size=\"14.00\">value = [0, 49, 5]</text>\n",
       "<text text-anchor=\"start\" x=\"370\" y=\"-334.8\" font-family=\"Helvetica,sans-Serif\" font-size=\"14.00\">class = versicolor</text>\n",
       "</g>\n",
       "<!-- 2&#45;&gt;3 -->\n",
       "<g id=\"edge3\" class=\"edge\">\n",
       "<title>2&#45;&gt;3</title>\n",
       "<path fill=\"none\" stroke=\"black\" d=\"M499.62,-441.77C490.19,-432.58 480.02,-422.68 470.29,-413.2\"/>\n",
       "<polygon fill=\"black\" stroke=\"black\" points=\"472.56,-410.53 462.96,-406.06 467.68,-415.54 472.56,-410.53\"/>\n",
       "</g>\n",
       "<!-- 12 -->\n",
       "<g id=\"node13\" class=\"node\">\n",
       "<title>12</title>\n",
       "<path fill=\"#843de6\" stroke=\"black\" d=\"M723.36,-406C723.36,-406 584.4,-406 584.4,-406 578.4,-406 572.4,-400 572.4,-394 572.4,-394 572.4,-340 572.4,-340 572.4,-334 578.4,-328 584.4,-328 584.4,-328 723.36,-328 723.36,-328 729.36,-328 735.36,-334 735.36,-340 735.36,-340 735.36,-394 735.36,-394 735.36,-400 729.36,-406 723.36,-406\"/>\n",
       "<text text-anchor=\"start\" x=\"580.39\" y=\"-390.8\" font-family=\"Helvetica,sans-Serif\" font-size=\"14.00\">petal length (cm) ≤ 4.85</text>\n",
       "<text text-anchor=\"start\" x=\"617.49\" y=\"-376.8\" font-family=\"Helvetica,sans-Serif\" font-size=\"14.00\">gini = 0.043</text>\n",
       "<text text-anchor=\"start\" x=\"612.05\" y=\"-362.8\" font-family=\"Helvetica,sans-Serif\" font-size=\"14.00\">samples = 46</text>\n",
       "<text text-anchor=\"start\" x=\"601.92\" y=\"-348.8\" font-family=\"Helvetica,sans-Serif\" font-size=\"14.00\">value = [0, 1, 45]</text>\n",
       "<text text-anchor=\"start\" x=\"604.28\" y=\"-334.8\" font-family=\"Helvetica,sans-Serif\" font-size=\"14.00\">class = virginica</text>\n",
       "</g>\n",
       "<!-- 2&#45;&gt;12 -->\n",
       "<g id=\"edge12\" class=\"edge\">\n",
       "<title>2&#45;&gt;12</title>\n",
       "<path fill=\"none\" stroke=\"black\" d=\"M578.13,-441.77C587.57,-432.58 597.74,-422.68 607.47,-413.2\"/>\n",
       "<polygon fill=\"black\" stroke=\"black\" points=\"610.08,-415.54 614.8,-406.06 605.19,-410.53 610.08,-415.54\"/>\n",
       "</g>\n",
       "<!-- 4 -->\n",
       "<g id=\"node5\" class=\"node\">\n",
       "<title>4</title>\n",
       "<path fill=\"#3de684\" stroke=\"black\" d=\"M265.4,-292C265.4,-292 132.36,-292 132.36,-292 126.36,-292 120.36,-286 120.36,-280 120.36,-280 120.36,-226 120.36,-226 120.36,-220 126.36,-214 132.36,-214 132.36,-214 265.4,-214 265.4,-214 271.4,-214 277.4,-220 277.4,-226 277.4,-226 277.4,-280 277.4,-280 277.4,-286 271.4,-292 265.4,-292\"/>\n",
       "<text text-anchor=\"start\" x=\"128.12\" y=\"-276.8\" font-family=\"Helvetica,sans-Serif\" font-size=\"14.00\">petal width (cm) ≤ 1.65</text>\n",
       "<text text-anchor=\"start\" x=\"162.49\" y=\"-262.8\" font-family=\"Helvetica,sans-Serif\" font-size=\"14.00\">gini = 0.041</text>\n",
       "<text text-anchor=\"start\" x=\"157.05\" y=\"-248.8\" font-family=\"Helvetica,sans-Serif\" font-size=\"14.00\">samples = 48</text>\n",
       "<text text-anchor=\"start\" x=\"146.92\" y=\"-234.8\" font-family=\"Helvetica,sans-Serif\" font-size=\"14.00\">value = [0, 47, 1]</text>\n",
       "<text text-anchor=\"start\" x=\"145\" y=\"-220.8\" font-family=\"Helvetica,sans-Serif\" font-size=\"14.00\">class = versicolor</text>\n",
       "</g>\n",
       "<!-- 3&#45;&gt;4 -->\n",
       "<g id=\"edge4\" class=\"edge\">\n",
       "<title>3&#45;&gt;4</title>\n",
       "<path fill=\"none\" stroke=\"black\" d=\"M347.39,-327.93C327.19,-317.87 305.26,-306.96 284.61,-296.68\"/>\n",
       "<polygon fill=\"black\" stroke=\"black\" points=\"286.05,-293.48 275.54,-292.16 282.93,-299.75 286.05,-293.48\"/>\n",
       "</g>\n",
       "<!-- 7 -->\n",
       "<g id=\"node8\" class=\"node\">\n",
       "<title>7</title>\n",
       "<path fill=\"#c09cf2\" stroke=\"black\" d=\"M490.4,-292C490.4,-292 357.36,-292 357.36,-292 351.36,-292 345.36,-286 345.36,-280 345.36,-280 345.36,-226 345.36,-226 345.36,-220 351.36,-214 357.36,-214 357.36,-214 490.4,-214 490.4,-214 496.4,-214 502.4,-220 502.4,-226 502.4,-226 502.4,-280 502.4,-280 502.4,-286 496.4,-292 490.4,-292\"/>\n",
       "<text text-anchor=\"start\" x=\"353.12\" y=\"-276.8\" font-family=\"Helvetica,sans-Serif\" font-size=\"14.00\">petal width (cm) ≤ 1.55</text>\n",
       "<text text-anchor=\"start\" x=\"387.49\" y=\"-262.8\" font-family=\"Helvetica,sans-Serif\" font-size=\"14.00\">gini = 0.444</text>\n",
       "<text text-anchor=\"start\" x=\"385.94\" y=\"-248.8\" font-family=\"Helvetica,sans-Serif\" font-size=\"14.00\">samples = 6</text>\n",
       "<text text-anchor=\"start\" x=\"375.82\" y=\"-234.8\" font-family=\"Helvetica,sans-Serif\" font-size=\"14.00\">value = [0, 2, 4]</text>\n",
       "<text text-anchor=\"start\" x=\"374.28\" y=\"-220.8\" font-family=\"Helvetica,sans-Serif\" font-size=\"14.00\">class = virginica</text>\n",
       "</g>\n",
       "<!-- 3&#45;&gt;7 -->\n",
       "<g id=\"edge7\" class=\"edge\">\n",
       "<title>3&#45;&gt;7</title>\n",
       "<path fill=\"none\" stroke=\"black\" d=\"M423.88,-327.77C423.88,-319.57 423.88,-310.8 423.88,-302.28\"/>\n",
       "<polygon fill=\"black\" stroke=\"black\" points=\"427.38,-302.06 423.88,-292.06 420.38,-302.06 427.38,-302.06\"/>\n",
       "</g>\n",
       "<!-- 5 -->\n",
       "<g id=\"node6\" class=\"node\">\n",
       "<title>5</title>\n",
       "<path fill=\"#39e581\" stroke=\"black\" d=\"M111.63,-171C111.63,-171 12.12,-171 12.12,-171 6.12,-171 0.12,-165 0.12,-159 0.12,-159 0.12,-119 0.12,-119 0.12,-113 6.12,-107 12.12,-107 12.12,-107 111.63,-107 111.63,-107 117.63,-107 123.63,-113 123.63,-119 123.63,-119 123.63,-159 123.63,-159 123.63,-165 117.63,-171 111.63,-171\"/>\n",
       "<text text-anchor=\"start\" x=\"33.27\" y=\"-155.8\" font-family=\"Helvetica,sans-Serif\" font-size=\"14.00\">gini = 0.0</text>\n",
       "<text text-anchor=\"start\" x=\"20.05\" y=\"-141.8\" font-family=\"Helvetica,sans-Serif\" font-size=\"14.00\">samples = 47</text>\n",
       "<text text-anchor=\"start\" x=\"9.92\" y=\"-127.8\" font-family=\"Helvetica,sans-Serif\" font-size=\"14.00\">value = [0, 47, 0]</text>\n",
       "<text text-anchor=\"start\" x=\"8\" y=\"-113.8\" font-family=\"Helvetica,sans-Serif\" font-size=\"14.00\">class = versicolor</text>\n",
       "</g>\n",
       "<!-- 4&#45;&gt;5 -->\n",
       "<g id=\"edge5\" class=\"edge\">\n",
       "<title>4&#45;&gt;5</title>\n",
       "<path fill=\"none\" stroke=\"black\" d=\"M152.11,-213.77C137.72,-202.01 121.91,-189.08 107.59,-177.37\"/>\n",
       "<polygon fill=\"black\" stroke=\"black\" points=\"109.77,-174.63 99.81,-171.01 105.34,-180.05 109.77,-174.63\"/>\n",
       "</g>\n",
       "<!-- 6 -->\n",
       "<g id=\"node7\" class=\"node\">\n",
       "<title>6</title>\n",
       "<path fill=\"#8139e5\" stroke=\"black\" d=\"M244.58,-171C244.58,-171 153.17,-171 153.17,-171 147.17,-171 141.17,-165 141.17,-159 141.17,-159 141.17,-119 141.17,-119 141.17,-113 147.17,-107 153.17,-107 153.17,-107 244.58,-107 244.58,-107 250.58,-107 256.58,-113 256.58,-119 256.58,-119 256.58,-159 256.58,-159 256.58,-165 250.58,-171 244.58,-171\"/>\n",
       "<text text-anchor=\"start\" x=\"170.27\" y=\"-155.8\" font-family=\"Helvetica,sans-Serif\" font-size=\"14.00\">gini = 0.0</text>\n",
       "<text text-anchor=\"start\" x=\"160.94\" y=\"-141.8\" font-family=\"Helvetica,sans-Serif\" font-size=\"14.00\">samples = 1</text>\n",
       "<text text-anchor=\"start\" x=\"150.82\" y=\"-127.8\" font-family=\"Helvetica,sans-Serif\" font-size=\"14.00\">value = [0, 0, 1]</text>\n",
       "<text text-anchor=\"start\" x=\"149.28\" y=\"-113.8\" font-family=\"Helvetica,sans-Serif\" font-size=\"14.00\">class = virginica</text>\n",
       "</g>\n",
       "<!-- 4&#45;&gt;6 -->\n",
       "<g id=\"edge6\" class=\"edge\">\n",
       "<title>4&#45;&gt;6</title>\n",
       "<path fill=\"none\" stroke=\"black\" d=\"M198.88,-213.77C198.88,-203.31 198.88,-191.94 198.88,-181.32\"/>\n",
       "<polygon fill=\"black\" stroke=\"black\" points=\"202.38,-181.01 198.88,-171.01 195.38,-181.01 202.38,-181.01\"/>\n",
       "</g>\n",
       "<!-- 8 -->\n",
       "<g id=\"node9\" class=\"node\">\n",
       "<title>8</title>\n",
       "<path fill=\"#8139e5\" stroke=\"black\" d=\"M377.58,-171C377.58,-171 286.17,-171 286.17,-171 280.17,-171 274.17,-165 274.17,-159 274.17,-159 274.17,-119 274.17,-119 274.17,-113 280.17,-107 286.17,-107 286.17,-107 377.58,-107 377.58,-107 383.58,-107 389.58,-113 389.58,-119 389.58,-119 389.58,-159 389.58,-159 389.58,-165 383.58,-171 377.58,-171\"/>\n",
       "<text text-anchor=\"start\" x=\"303.27\" y=\"-155.8\" font-family=\"Helvetica,sans-Serif\" font-size=\"14.00\">gini = 0.0</text>\n",
       "<text text-anchor=\"start\" x=\"293.94\" y=\"-141.8\" font-family=\"Helvetica,sans-Serif\" font-size=\"14.00\">samples = 3</text>\n",
       "<text text-anchor=\"start\" x=\"283.82\" y=\"-127.8\" font-family=\"Helvetica,sans-Serif\" font-size=\"14.00\">value = [0, 0, 3]</text>\n",
       "<text text-anchor=\"start\" x=\"282.28\" y=\"-113.8\" font-family=\"Helvetica,sans-Serif\" font-size=\"14.00\">class = virginica</text>\n",
       "</g>\n",
       "<!-- 7&#45;&gt;8 -->\n",
       "<g id=\"edge8\" class=\"edge\">\n",
       "<title>7&#45;&gt;8</title>\n",
       "<path fill=\"none\" stroke=\"black\" d=\"M392.47,-213.77C383.26,-202.55 373.17,-190.27 363.92,-179\"/>\n",
       "<polygon fill=\"black\" stroke=\"black\" points=\"366.4,-176.52 357.35,-171.01 360.99,-180.96 366.4,-176.52\"/>\n",
       "</g>\n",
       "<!-- 9 -->\n",
       "<g id=\"node10\" class=\"node\">\n",
       "<title>9</title>\n",
       "<path fill=\"#9cf2c0\" stroke=\"black\" d=\"M561.97,-178C561.97,-178 419.79,-178 419.79,-178 413.79,-178 407.79,-172 407.79,-166 407.79,-166 407.79,-112 407.79,-112 407.79,-106 413.79,-100 419.79,-100 419.79,-100 561.97,-100 561.97,-100 567.97,-100 573.97,-106 573.97,-112 573.97,-112 573.97,-166 573.97,-166 573.97,-172 567.97,-178 561.97,-178\"/>\n",
       "<text text-anchor=\"start\" x=\"415.83\" y=\"-162.8\" font-family=\"Helvetica,sans-Serif\" font-size=\"14.00\">sepal length (cm) ≤ 6.95</text>\n",
       "<text text-anchor=\"start\" x=\"454.49\" y=\"-148.8\" font-family=\"Helvetica,sans-Serif\" font-size=\"14.00\">gini = 0.444</text>\n",
       "<text text-anchor=\"start\" x=\"452.94\" y=\"-134.8\" font-family=\"Helvetica,sans-Serif\" font-size=\"14.00\">samples = 3</text>\n",
       "<text text-anchor=\"start\" x=\"442.82\" y=\"-120.8\" font-family=\"Helvetica,sans-Serif\" font-size=\"14.00\">value = [0, 2, 1]</text>\n",
       "<text text-anchor=\"start\" x=\"437\" y=\"-106.8\" font-family=\"Helvetica,sans-Serif\" font-size=\"14.00\">class = versicolor</text>\n",
       "</g>\n",
       "<!-- 7&#45;&gt;9 -->\n",
       "<g id=\"edge9\" class=\"edge\">\n",
       "<title>7&#45;&gt;9</title>\n",
       "<path fill=\"none\" stroke=\"black\" d=\"M446.75,-213.77C451.92,-205.12 457.47,-195.84 462.83,-186.88\"/>\n",
       "<polygon fill=\"black\" stroke=\"black\" points=\"465.98,-188.44 468.11,-178.06 459.97,-184.84 465.98,-188.44\"/>\n",
       "</g>\n",
       "<!-- 10 -->\n",
       "<g id=\"node11\" class=\"node\">\n",
       "<title>10</title>\n",
       "<path fill=\"#39e581\" stroke=\"black\" d=\"M471.63,-64C471.63,-64 372.12,-64 372.12,-64 366.12,-64 360.12,-58 360.12,-52 360.12,-52 360.12,-12 360.12,-12 360.12,-6 366.12,0 372.12,0 372.12,0 471.63,0 471.63,0 477.63,0 483.63,-6 483.63,-12 483.63,-12 483.63,-52 483.63,-52 483.63,-58 477.63,-64 471.63,-64\"/>\n",
       "<text text-anchor=\"start\" x=\"393.27\" y=\"-48.8\" font-family=\"Helvetica,sans-Serif\" font-size=\"14.00\">gini = 0.0</text>\n",
       "<text text-anchor=\"start\" x=\"383.94\" y=\"-34.8\" font-family=\"Helvetica,sans-Serif\" font-size=\"14.00\">samples = 2</text>\n",
       "<text text-anchor=\"start\" x=\"373.82\" y=\"-20.8\" font-family=\"Helvetica,sans-Serif\" font-size=\"14.00\">value = [0, 2, 0]</text>\n",
       "<text text-anchor=\"start\" x=\"368\" y=\"-6.8\" font-family=\"Helvetica,sans-Serif\" font-size=\"14.00\">class = versicolor</text>\n",
       "</g>\n",
       "<!-- 9&#45;&gt;10 -->\n",
       "<g id=\"edge10\" class=\"edge\">\n",
       "<title>9&#45;&gt;10</title>\n",
       "<path fill=\"none\" stroke=\"black\" d=\"M465.77,-99.8C459.93,-90.91 453.7,-81.43 447.83,-72.49\"/>\n",
       "<polygon fill=\"black\" stroke=\"black\" points=\"450.74,-70.55 442.33,-64.12 444.89,-74.4 450.74,-70.55\"/>\n",
       "</g>\n",
       "<!-- 11 -->\n",
       "<g id=\"node12\" class=\"node\">\n",
       "<title>11</title>\n",
       "<path fill=\"#8139e5\" stroke=\"black\" d=\"M604.58,-64C604.58,-64 513.17,-64 513.17,-64 507.17,-64 501.17,-58 501.17,-52 501.17,-52 501.17,-12 501.17,-12 501.17,-6 507.17,0 513.17,0 513.17,0 604.58,0 604.58,0 610.58,0 616.58,-6 616.58,-12 616.58,-12 616.58,-52 616.58,-52 616.58,-58 610.58,-64 604.58,-64\"/>\n",
       "<text text-anchor=\"start\" x=\"530.27\" y=\"-48.8\" font-family=\"Helvetica,sans-Serif\" font-size=\"14.00\">gini = 0.0</text>\n",
       "<text text-anchor=\"start\" x=\"520.94\" y=\"-34.8\" font-family=\"Helvetica,sans-Serif\" font-size=\"14.00\">samples = 1</text>\n",
       "<text text-anchor=\"start\" x=\"510.82\" y=\"-20.8\" font-family=\"Helvetica,sans-Serif\" font-size=\"14.00\">value = [0, 0, 1]</text>\n",
       "<text text-anchor=\"start\" x=\"509.28\" y=\"-6.8\" font-family=\"Helvetica,sans-Serif\" font-size=\"14.00\">class = virginica</text>\n",
       "</g>\n",
       "<!-- 9&#45;&gt;11 -->\n",
       "<g id=\"edge11\" class=\"edge\">\n",
       "<title>9&#45;&gt;11</title>\n",
       "<path fill=\"none\" stroke=\"black\" d=\"M515.62,-99.8C521.32,-91 527.39,-81.63 533.12,-72.76\"/>\n",
       "<polygon fill=\"black\" stroke=\"black\" points=\"536.23,-74.41 538.73,-64.12 530.35,-70.61 536.23,-74.41\"/>\n",
       "</g>\n",
       "<!-- 13 -->\n",
       "<g id=\"node14\" class=\"node\">\n",
       "<title>13</title>\n",
       "<path fill=\"#c09cf2\" stroke=\"black\" d=\"M724.97,-292C724.97,-292 582.79,-292 582.79,-292 576.79,-292 570.79,-286 570.79,-280 570.79,-280 570.79,-226 570.79,-226 570.79,-220 576.79,-214 582.79,-214 582.79,-214 724.97,-214 724.97,-214 730.97,-214 736.97,-220 736.97,-226 736.97,-226 736.97,-280 736.97,-280 736.97,-286 730.97,-292 724.97,-292\"/>\n",
       "<text text-anchor=\"start\" x=\"578.83\" y=\"-276.8\" font-family=\"Helvetica,sans-Serif\" font-size=\"14.00\">sepal length (cm) ≤ 5.95</text>\n",
       "<text text-anchor=\"start\" x=\"617.49\" y=\"-262.8\" font-family=\"Helvetica,sans-Serif\" font-size=\"14.00\">gini = 0.444</text>\n",
       "<text text-anchor=\"start\" x=\"615.94\" y=\"-248.8\" font-family=\"Helvetica,sans-Serif\" font-size=\"14.00\">samples = 3</text>\n",
       "<text text-anchor=\"start\" x=\"605.82\" y=\"-234.8\" font-family=\"Helvetica,sans-Serif\" font-size=\"14.00\">value = [0, 1, 2]</text>\n",
       "<text text-anchor=\"start\" x=\"604.28\" y=\"-220.8\" font-family=\"Helvetica,sans-Serif\" font-size=\"14.00\">class = virginica</text>\n",
       "</g>\n",
       "<!-- 12&#45;&gt;13 -->\n",
       "<g id=\"edge13\" class=\"edge\">\n",
       "<title>12&#45;&gt;13</title>\n",
       "<path fill=\"none\" stroke=\"black\" d=\"M653.88,-327.77C653.88,-319.57 653.88,-310.8 653.88,-302.28\"/>\n",
       "<polygon fill=\"black\" stroke=\"black\" points=\"657.38,-302.06 653.88,-292.06 650.38,-302.06 657.38,-302.06\"/>\n",
       "</g>\n",
       "<!-- 16 -->\n",
       "<g id=\"node17\" class=\"node\">\n",
       "<title>16</title>\n",
       "<path fill=\"#8139e5\" stroke=\"black\" d=\"M862.78,-285C862.78,-285 766.97,-285 766.97,-285 760.97,-285 754.97,-279 754.97,-273 754.97,-273 754.97,-233 754.97,-233 754.97,-227 760.97,-221 766.97,-221 766.97,-221 862.78,-221 862.78,-221 868.78,-221 874.78,-227 874.78,-233 874.78,-233 874.78,-273 874.78,-273 874.78,-279 868.78,-285 862.78,-285\"/>\n",
       "<text text-anchor=\"start\" x=\"786.27\" y=\"-269.8\" font-family=\"Helvetica,sans-Serif\" font-size=\"14.00\">gini = 0.0</text>\n",
       "<text text-anchor=\"start\" x=\"773.05\" y=\"-255.8\" font-family=\"Helvetica,sans-Serif\" font-size=\"14.00\">samples = 43</text>\n",
       "<text text-anchor=\"start\" x=\"762.92\" y=\"-241.8\" font-family=\"Helvetica,sans-Serif\" font-size=\"14.00\">value = [0, 0, 43]</text>\n",
       "<text text-anchor=\"start\" x=\"765.28\" y=\"-227.8\" font-family=\"Helvetica,sans-Serif\" font-size=\"14.00\">class = virginica</text>\n",
       "</g>\n",
       "<!-- 12&#45;&gt;16 -->\n",
       "<g id=\"edge16\" class=\"edge\">\n",
       "<title>12&#45;&gt;16</title>\n",
       "<path fill=\"none\" stroke=\"black\" d=\"M708.83,-327.77C726.06,-315.79 745.02,-302.6 762.09,-290.72\"/>\n",
       "<polygon fill=\"black\" stroke=\"black\" points=\"764.09,-293.59 770.3,-285.01 760.09,-287.85 764.09,-293.59\"/>\n",
       "</g>\n",
       "<!-- 14 -->\n",
       "<g id=\"node15\" class=\"node\">\n",
       "<title>14</title>\n",
       "<path fill=\"#39e581\" stroke=\"black\" d=\"M703.63,-171C703.63,-171 604.12,-171 604.12,-171 598.12,-171 592.12,-165 592.12,-159 592.12,-159 592.12,-119 592.12,-119 592.12,-113 598.12,-107 604.12,-107 604.12,-107 703.63,-107 703.63,-107 709.63,-107 715.63,-113 715.63,-119 715.63,-119 715.63,-159 715.63,-159 715.63,-165 709.63,-171 703.63,-171\"/>\n",
       "<text text-anchor=\"start\" x=\"625.27\" y=\"-155.8\" font-family=\"Helvetica,sans-Serif\" font-size=\"14.00\">gini = 0.0</text>\n",
       "<text text-anchor=\"start\" x=\"615.94\" y=\"-141.8\" font-family=\"Helvetica,sans-Serif\" font-size=\"14.00\">samples = 1</text>\n",
       "<text text-anchor=\"start\" x=\"605.82\" y=\"-127.8\" font-family=\"Helvetica,sans-Serif\" font-size=\"14.00\">value = [0, 1, 0]</text>\n",
       "<text text-anchor=\"start\" x=\"600\" y=\"-113.8\" font-family=\"Helvetica,sans-Serif\" font-size=\"14.00\">class = versicolor</text>\n",
       "</g>\n",
       "<!-- 13&#45;&gt;14 -->\n",
       "<g id=\"edge14\" class=\"edge\">\n",
       "<title>13&#45;&gt;14</title>\n",
       "<path fill=\"none\" stroke=\"black\" d=\"M653.88,-213.77C653.88,-203.31 653.88,-191.94 653.88,-181.32\"/>\n",
       "<polygon fill=\"black\" stroke=\"black\" points=\"657.38,-181.01 653.88,-171.01 650.38,-181.01 657.38,-181.01\"/>\n",
       "</g>\n",
       "<!-- 15 -->\n",
       "<g id=\"node16\" class=\"node\">\n",
       "<title>15</title>\n",
       "<path fill=\"#8139e5\" stroke=\"black\" d=\"M836.58,-171C836.58,-171 745.17,-171 745.17,-171 739.17,-171 733.17,-165 733.17,-159 733.17,-159 733.17,-119 733.17,-119 733.17,-113 739.17,-107 745.17,-107 745.17,-107 836.58,-107 836.58,-107 842.58,-107 848.58,-113 848.58,-119 848.58,-119 848.58,-159 848.58,-159 848.58,-165 842.58,-171 836.58,-171\"/>\n",
       "<text text-anchor=\"start\" x=\"762.27\" y=\"-155.8\" font-family=\"Helvetica,sans-Serif\" font-size=\"14.00\">gini = 0.0</text>\n",
       "<text text-anchor=\"start\" x=\"752.94\" y=\"-141.8\" font-family=\"Helvetica,sans-Serif\" font-size=\"14.00\">samples = 2</text>\n",
       "<text text-anchor=\"start\" x=\"742.82\" y=\"-127.8\" font-family=\"Helvetica,sans-Serif\" font-size=\"14.00\">value = [0, 0, 2]</text>\n",
       "<text text-anchor=\"start\" x=\"741.28\" y=\"-113.8\" font-family=\"Helvetica,sans-Serif\" font-size=\"14.00\">class = virginica</text>\n",
       "</g>\n",
       "<!-- 13&#45;&gt;15 -->\n",
       "<g id=\"edge15\" class=\"edge\">\n",
       "<title>13&#45;&gt;15</title>\n",
       "<path fill=\"none\" stroke=\"black\" d=\"M700.64,-213.77C715.03,-202.01 730.85,-189.08 745.16,-177.37\"/>\n",
       "<polygon fill=\"black\" stroke=\"black\" points=\"747.42,-180.05 752.95,-171.01 742.99,-174.63 747.42,-180.05\"/>\n",
       "</g>\n",
       "</g>\n",
       "</svg>\n"
      ],
      "text/plain": [
       "<graphviz.files.Source at 0x11764ac18>"
      ]
     },
     "execution_count": 7,
     "metadata": {},
     "output_type": "execute_result"
    }
   ],
   "source": [
    "dot_data = tree.export_graphviz(clf, out_file=None, \n",
    "                      feature_names=iris.feature_names,  \n",
    "                      class_names=iris.target_names,  \n",
    "                      filled=True, rounded=True,  \n",
    "                      special_characters=True)  \n",
    "\n",
    "graph = graphviz.Source(dot_data)  \n",
    "graph "
   ]
  },
  {
   "cell_type": "markdown",
   "metadata": {},
   "source": [
    "## Iris 품종 예측하기 "
   ]
  },
  {
   "cell_type": "code",
   "execution_count": 9,
   "metadata": {},
   "outputs": [
    {
     "name": "stdout",
     "output_type": "stream",
     "text": [
      "['sepal length (cm)', 'sepal width (cm)', 'petal length (cm)', 'petal width (cm)']\n",
      "['setosa' 'versicolor' 'virginica']\n"
     ]
    },
    {
     "data": {
      "text/html": [
       "<div>\n",
       "<style scoped>\n",
       "    .dataframe tbody tr th:only-of-type {\n",
       "        vertical-align: middle;\n",
       "    }\n",
       "\n",
       "    .dataframe tbody tr th {\n",
       "        vertical-align: top;\n",
       "    }\n",
       "\n",
       "    .dataframe thead th {\n",
       "        text-align: right;\n",
       "    }\n",
       "</style>\n",
       "<table border=\"1\" class=\"dataframe\">\n",
       "  <thead>\n",
       "    <tr style=\"text-align: right;\">\n",
       "      <th></th>\n",
       "      <th>sepal length (cm)</th>\n",
       "      <th>sepal width (cm)</th>\n",
       "      <th>petal length (cm)</th>\n",
       "      <th>petal width (cm)</th>\n",
       "      <th>label</th>\n",
       "    </tr>\n",
       "  </thead>\n",
       "  <tbody>\n",
       "    <tr>\n",
       "      <th>0</th>\n",
       "      <td>5.1</td>\n",
       "      <td>3.5</td>\n",
       "      <td>1.4</td>\n",
       "      <td>0.2</td>\n",
       "      <td>0</td>\n",
       "    </tr>\n",
       "    <tr>\n",
       "      <th>1</th>\n",
       "      <td>4.9</td>\n",
       "      <td>3.0</td>\n",
       "      <td>1.4</td>\n",
       "      <td>0.2</td>\n",
       "      <td>0</td>\n",
       "    </tr>\n",
       "    <tr>\n",
       "      <th>2</th>\n",
       "      <td>4.7</td>\n",
       "      <td>3.2</td>\n",
       "      <td>1.3</td>\n",
       "      <td>0.2</td>\n",
       "      <td>0</td>\n",
       "    </tr>\n",
       "    <tr>\n",
       "      <th>3</th>\n",
       "      <td>4.6</td>\n",
       "      <td>3.1</td>\n",
       "      <td>1.5</td>\n",
       "      <td>0.2</td>\n",
       "      <td>0</td>\n",
       "    </tr>\n",
       "    <tr>\n",
       "      <th>4</th>\n",
       "      <td>5.0</td>\n",
       "      <td>3.6</td>\n",
       "      <td>1.4</td>\n",
       "      <td>0.2</td>\n",
       "      <td>0</td>\n",
       "    </tr>\n",
       "    <tr>\n",
       "      <th>...</th>\n",
       "      <td>...</td>\n",
       "      <td>...</td>\n",
       "      <td>...</td>\n",
       "      <td>...</td>\n",
       "      <td>...</td>\n",
       "    </tr>\n",
       "    <tr>\n",
       "      <th>145</th>\n",
       "      <td>6.7</td>\n",
       "      <td>3.0</td>\n",
       "      <td>5.2</td>\n",
       "      <td>2.3</td>\n",
       "      <td>2</td>\n",
       "    </tr>\n",
       "    <tr>\n",
       "      <th>146</th>\n",
       "      <td>6.3</td>\n",
       "      <td>2.5</td>\n",
       "      <td>5.0</td>\n",
       "      <td>1.9</td>\n",
       "      <td>2</td>\n",
       "    </tr>\n",
       "    <tr>\n",
       "      <th>147</th>\n",
       "      <td>6.5</td>\n",
       "      <td>3.0</td>\n",
       "      <td>5.2</td>\n",
       "      <td>2.0</td>\n",
       "      <td>2</td>\n",
       "    </tr>\n",
       "    <tr>\n",
       "      <th>148</th>\n",
       "      <td>6.2</td>\n",
       "      <td>3.4</td>\n",
       "      <td>5.4</td>\n",
       "      <td>2.3</td>\n",
       "      <td>2</td>\n",
       "    </tr>\n",
       "    <tr>\n",
       "      <th>149</th>\n",
       "      <td>5.9</td>\n",
       "      <td>3.0</td>\n",
       "      <td>5.1</td>\n",
       "      <td>1.8</td>\n",
       "      <td>2</td>\n",
       "    </tr>\n",
       "  </tbody>\n",
       "</table>\n",
       "<p>150 rows × 5 columns</p>\n",
       "</div>"
      ],
      "text/plain": [
       "     sepal length (cm)  sepal width (cm)  petal length (cm)  petal width (cm)  \\\n",
       "0                  5.1               3.5                1.4               0.2   \n",
       "1                  4.9               3.0                1.4               0.2   \n",
       "2                  4.7               3.2                1.3               0.2   \n",
       "3                  4.6               3.1                1.5               0.2   \n",
       "4                  5.0               3.6                1.4               0.2   \n",
       "..                 ...               ...                ...               ...   \n",
       "145                6.7               3.0                5.2               2.3   \n",
       "146                6.3               2.5                5.0               1.9   \n",
       "147                6.5               3.0                5.2               2.0   \n",
       "148                6.2               3.4                5.4               2.3   \n",
       "149                5.9               3.0                5.1               1.8   \n",
       "\n",
       "     label  \n",
       "0        0  \n",
       "1        0  \n",
       "2        0  \n",
       "3        0  \n",
       "4        0  \n",
       "..     ...  \n",
       "145      2  \n",
       "146      2  \n",
       "147      2  \n",
       "148      2  \n",
       "149      2  \n",
       "\n",
       "[150 rows x 5 columns]"
      ]
     },
     "execution_count": 9,
     "metadata": {},
     "output_type": "execute_result"
    }
   ],
   "source": [
    "# Iris Data set 가져오기 \n",
    "from sklearn.datasets import load_iris\n",
    "\n",
    "iris = load_iris()\n",
    "type(iris)  # Bunch 타입 \n",
    "\n",
    "\n",
    "# x 피쳐(Feature)만 가져오기 \n",
    "iris_data = iris.data\n",
    "iris_data\n",
    "\n",
    "# y 값(Labeel) 만 추출 \n",
    "iris_label = iris.target\n",
    "iris_label\n",
    "\n",
    "# y label 이름 추출 \n",
    "print(iris.feature_names)\n",
    "\n",
    "# x label 이름 추출 \n",
    "print(iris.target_names)\n",
    "\n",
    "# ['setosa' 'versicolor' 'virginica'] - 품종 \n",
    "# ['sepal length (cm)'  - 꽃받침 \n",
    "# 'sepal width (cm)',   \n",
    "# 'petal length (cm)',  - 꽃잎\n",
    "# 'petal width (cm)']\n",
    "\n",
    "iris_df = pd.DataFrame(data=iris_data, columns=iris.feature_names)\n",
    "iris_df['label'] = iris_label\n",
    "iris_df"
   ]
  },
  {
   "cell_type": "markdown",
   "metadata": {},
   "source": [
    "### test data set/ train data set 분리 "
   ]
  },
  {
   "cell_type": "code",
   "execution_count": 10,
   "metadata": {},
   "outputs": [
    {
     "data": {
      "text/plain": [
       "((120, 4), (30, 4), (120,), (30,))"
      ]
     },
     "execution_count": 10,
     "metadata": {},
     "output_type": "execute_result"
    }
   ],
   "source": [
    "# Create a random dataset  : train 80%,  test 20%  \n",
    "X_train, X_test, y_train, y_test = train_test_split(iris_data, iris_label, test_size=0.2, \n",
    "                                                    random_state=11) # 20%  random seed 고정, 동일한 데이터 추출 \n",
    "\n",
    "X_train.shape, X_test.shape, y_train.shape, y_test.shape\n",
    "# ((120, 4), (30, 4), (120,), (30,))"
   ]
  },
  {
   "cell_type": "markdown",
   "metadata": {},
   "source": [
    "### 학습"
   ]
  },
  {
   "cell_type": "code",
   "execution_count": 11,
   "metadata": {},
   "outputs": [
    {
     "data": {
      "text/plain": [
       "DecisionTreeClassifier(ccp_alpha=0.0, class_weight=None, criterion='gini',\n",
       "                       max_depth=None, max_features=None, max_leaf_nodes=None,\n",
       "                       min_impurity_decrease=0.0, min_impurity_split=None,\n",
       "                       min_samples_leaf=1, min_samples_split=2,\n",
       "                       min_weight_fraction_leaf=0.0, presort='deprecated',\n",
       "                       random_state=11, splitter='best')"
      ]
     },
     "execution_count": 11,
     "metadata": {},
     "output_type": "execute_result"
    }
   ],
   "source": [
    "# Fit regression model\n",
    "dt_clf = DecisionTreeClassifier(random_state=11) # seed 고정, 동일한 학습 \n",
    "\n",
    "dt_clf.fit(X_train, y_train)"
   ]
  },
  {
   "cell_type": "markdown",
   "metadata": {},
   "source": [
    "### 예측"
   ]
  },
  {
   "cell_type": "code",
   "execution_count": 12,
   "metadata": {},
   "outputs": [
    {
     "data": {
      "text/plain": [
       "(array([2, 2, 1, 1, 2, 0, 1, 0, 0, 1, 1, 1, 1, 2, 2, 0, 2, 1, 2, 2, 1, 0,\n",
       "        0, 1, 0, 0, 2, 1, 0, 1]),\n",
       " array([2, 2, 2, 1, 2, 0, 1, 0, 0, 1, 2, 1, 1, 2, 2, 0, 2, 1, 2, 2, 1, 0,\n",
       "        0, 1, 0, 0, 2, 1, 0, 1]))"
      ]
     },
     "execution_count": 12,
     "metadata": {},
     "output_type": "execute_result"
    }
   ],
   "source": [
    "# Predict \n",
    "pred = dt_clf.predict(X_test)\n",
    "pred, y_test"
   ]
  },
  {
   "cell_type": "markdown",
   "metadata": {},
   "source": [
    "### 정확도 "
   ]
  },
  {
   "cell_type": "code",
   "execution_count": 13,
   "metadata": {},
   "outputs": [
    {
     "name": "stdout",
     "output_type": "stream",
     "text": [
      "정확도:  0.9333\n",
      "리포트: \n",
      "               precision    recall  f1-score   support\n",
      "\n",
      "           0       1.00      1.00      1.00         9\n",
      "           1       0.83      1.00      0.91        10\n",
      "           2       1.00      0.82      0.90        11\n",
      "\n",
      "    accuracy                           0.93        30\n",
      "   macro avg       0.94      0.94      0.94        30\n",
      "weighted avg       0.94      0.93      0.93        30\n",
      "\n"
     ]
    }
   ],
   "source": [
    "# accuracy \n",
    "from sklearn.metrics import accuracy_score, classification_report\n",
    "\n",
    "print('정확도: {0: .4f}'.format(accuracy_score(y_test, pred)))  # 0.933\n",
    "\n",
    "\n",
    "cl_report = classification_report(y_test, pred)\n",
    "print('리포트: \\n', cl_report)"
   ]
  },
  {
   "cell_type": "markdown",
   "metadata": {},
   "source": [
    "## 결정 트리 모델의 시각화 : 학습과정"
   ]
  },
  {
   "cell_type": "code",
   "execution_count": 14,
   "metadata": {
    "scrolled": true
   },
   "outputs": [
    {
     "data": {
      "text/plain": [
       "DecisionTreeClassifier(ccp_alpha=0.0, class_weight=None, criterion='gini',\n",
       "                       max_depth=None, max_features=None, max_leaf_nodes=None,\n",
       "                       min_impurity_decrease=0.0, min_impurity_split=None,\n",
       "                       min_samples_leaf=1, min_samples_split=2,\n",
       "                       min_weight_fraction_leaf=0.0, presort='deprecated',\n",
       "                       random_state=11, splitter='best')"
      ]
     },
     "execution_count": 14,
     "metadata": {},
     "output_type": "execute_result"
    }
   ],
   "source": [
    "# Create a random dataset  : train 80%,  test 20%  \n",
    "X_train, X_test, y_train, y_test = train_test_split(iris_data, iris_label, test_size=0.2, \n",
    "                                                    random_state=11) # 20%  random seed 고정, 동일한 데이터 추출 \n",
    "\n",
    "X_train.shape, X_test.shape, y_train.shape, y_test.shape\n",
    "# ((120, 4), (30, 4), (120,), (30,))\n",
    "\n",
    "dt_clf = DecisionTreeClassifier(random_state=11) # seed 고정, 동일한 학습 \n",
    "dt_clf.fit(X_train, y_train)"
   ]
  },
  {
   "cell_type": "code",
   "execution_count": 15,
   "metadata": {},
   "outputs": [],
   "source": [
    "from sklearn.tree import export_graphviz\n",
    "\n",
    "export_graphviz(dt_clf, out_file='tree.dot', class_names= iris.target_names,\n",
    "               feature_names=iris.feature_names,impurity=True, filled=True)"
   ]
  },
  {
   "cell_type": "code",
   "execution_count": 16,
   "metadata": {},
   "outputs": [
    {
     "data": {
      "image/svg+xml": [
       "<?xml version=\"1.0\" encoding=\"UTF-8\" standalone=\"no\"?>\n",
       "<!DOCTYPE svg PUBLIC \"-//W3C//DTD SVG 1.1//EN\"\n",
       " \"http://www.w3.org/Graphics/SVG/1.1/DTD/svg11.dtd\">\n",
       "<!-- Generated by graphviz version 2.44.0 (20200408.0750)\n",
       " -->\n",
       "<!-- Title: Tree Pages: 1 -->\n",
       "<svg width=\"744pt\" height=\"671pt\"\n",
       " viewBox=\"0.00 0.00 744.00 671.00\" xmlns=\"http://www.w3.org/2000/svg\" xmlns:xlink=\"http://www.w3.org/1999/xlink\">\n",
       "<g id=\"graph0\" class=\"graph\" transform=\"scale(1 1) rotate(0) translate(4 667)\">\n",
       "<title>Tree</title>\n",
       "<polygon fill=\"white\" stroke=\"transparent\" points=\"-4,4 -4,-667 740,-667 740,4 -4,4\"/>\n",
       "<!-- 0 -->\n",
       "<g id=\"node1\" class=\"node\">\n",
       "<title>0</title>\n",
       "<polygon fill=\"#fffdfd\" stroke=\"black\" points=\"264,-663 115,-663 115,-580 264,-580 264,-663\"/>\n",
       "<text text-anchor=\"middle\" x=\"189.5\" y=\"-647.8\" font-family=\"Times,serif\" font-size=\"14.00\">petal width (cm) &lt;= 0.8</text>\n",
       "<text text-anchor=\"middle\" x=\"189.5\" y=\"-632.8\" font-family=\"Times,serif\" font-size=\"14.00\">gini = 0.667</text>\n",
       "<text text-anchor=\"middle\" x=\"189.5\" y=\"-617.8\" font-family=\"Times,serif\" font-size=\"14.00\">samples = 120</text>\n",
       "<text text-anchor=\"middle\" x=\"189.5\" y=\"-602.8\" font-family=\"Times,serif\" font-size=\"14.00\">value = [41, 40, 39]</text>\n",
       "<text text-anchor=\"middle\" x=\"189.5\" y=\"-587.8\" font-family=\"Times,serif\" font-size=\"14.00\">class = setosa</text>\n",
       "</g>\n",
       "<!-- 1 -->\n",
       "<g id=\"node2\" class=\"node\">\n",
       "<title>1</title>\n",
       "<polygon fill=\"#e58139\" stroke=\"black\" points=\"170,-536.5 57,-536.5 57,-468.5 170,-468.5 170,-536.5\"/>\n",
       "<text text-anchor=\"middle\" x=\"113.5\" y=\"-521.3\" font-family=\"Times,serif\" font-size=\"14.00\">gini = 0.0</text>\n",
       "<text text-anchor=\"middle\" x=\"113.5\" y=\"-506.3\" font-family=\"Times,serif\" font-size=\"14.00\">samples = 41</text>\n",
       "<text text-anchor=\"middle\" x=\"113.5\" y=\"-491.3\" font-family=\"Times,serif\" font-size=\"14.00\">value = [41, 0, 0]</text>\n",
       "<text text-anchor=\"middle\" x=\"113.5\" y=\"-476.3\" font-family=\"Times,serif\" font-size=\"14.00\">class = setosa</text>\n",
       "</g>\n",
       "<!-- 0&#45;&gt;1 -->\n",
       "<g id=\"edge1\" class=\"edge\">\n",
       "<title>0&#45;&gt;1</title>\n",
       "<path fill=\"none\" stroke=\"black\" d=\"M163.13,-579.91C155.82,-568.65 147.87,-556.42 140.53,-545.11\"/>\n",
       "<polygon fill=\"black\" stroke=\"black\" points=\"143.43,-543.15 135.04,-536.67 137.56,-546.96 143.43,-543.15\"/>\n",
       "<text text-anchor=\"middle\" x=\"129.85\" y=\"-557.42\" font-family=\"Times,serif\" font-size=\"14.00\">True</text>\n",
       "</g>\n",
       "<!-- 2 -->\n",
       "<g id=\"node3\" class=\"node\">\n",
       "<title>2</title>\n",
       "<polygon fill=\"#fafefc\" stroke=\"black\" points=\"343,-544 188,-544 188,-461 343,-461 343,-544\"/>\n",
       "<text text-anchor=\"middle\" x=\"265.5\" y=\"-528.8\" font-family=\"Times,serif\" font-size=\"14.00\">petal width (cm) &lt;= 1.55</text>\n",
       "<text text-anchor=\"middle\" x=\"265.5\" y=\"-513.8\" font-family=\"Times,serif\" font-size=\"14.00\">gini = 0.5</text>\n",
       "<text text-anchor=\"middle\" x=\"265.5\" y=\"-498.8\" font-family=\"Times,serif\" font-size=\"14.00\">samples = 79</text>\n",
       "<text text-anchor=\"middle\" x=\"265.5\" y=\"-483.8\" font-family=\"Times,serif\" font-size=\"14.00\">value = [0, 40, 39]</text>\n",
       "<text text-anchor=\"middle\" x=\"265.5\" y=\"-468.8\" font-family=\"Times,serif\" font-size=\"14.00\">class = versicolor</text>\n",
       "</g>\n",
       "<!-- 0&#45;&gt;2 -->\n",
       "<g id=\"edge2\" class=\"edge\">\n",
       "<title>0&#45;&gt;2</title>\n",
       "<path fill=\"none\" stroke=\"black\" d=\"M215.87,-579.91C221.59,-571.1 227.69,-561.7 233.6,-552.61\"/>\n",
       "<polygon fill=\"black\" stroke=\"black\" points=\"236.67,-554.31 239.18,-544.02 230.8,-550.5 236.67,-554.31\"/>\n",
       "<text text-anchor=\"middle\" x=\"244.37\" y=\"-564.78\" font-family=\"Times,serif\" font-size=\"14.00\">False</text>\n",
       "</g>\n",
       "<!-- 3 -->\n",
       "<g id=\"node4\" class=\"node\">\n",
       "<title>3</title>\n",
       "<polygon fill=\"#3ee684\" stroke=\"black\" points=\"257.5,-425 99.5,-425 99.5,-342 257.5,-342 257.5,-425\"/>\n",
       "<text text-anchor=\"middle\" x=\"178.5\" y=\"-409.8\" font-family=\"Times,serif\" font-size=\"14.00\">petal length (cm) &lt;= 5.25</text>\n",
       "<text text-anchor=\"middle\" x=\"178.5\" y=\"-394.8\" font-family=\"Times,serif\" font-size=\"14.00\">gini = 0.051</text>\n",
       "<text text-anchor=\"middle\" x=\"178.5\" y=\"-379.8\" font-family=\"Times,serif\" font-size=\"14.00\">samples = 38</text>\n",
       "<text text-anchor=\"middle\" x=\"178.5\" y=\"-364.8\" font-family=\"Times,serif\" font-size=\"14.00\">value = [0, 37, 1]</text>\n",
       "<text text-anchor=\"middle\" x=\"178.5\" y=\"-349.8\" font-family=\"Times,serif\" font-size=\"14.00\">class = versicolor</text>\n",
       "</g>\n",
       "<!-- 2&#45;&gt;3 -->\n",
       "<g id=\"edge3\" class=\"edge\">\n",
       "<title>2&#45;&gt;3</title>\n",
       "<path fill=\"none\" stroke=\"black\" d=\"M235.32,-460.91C228.64,-451.92 221.49,-442.32 214.6,-433.05\"/>\n",
       "<polygon fill=\"black\" stroke=\"black\" points=\"217.41,-430.96 208.63,-425.02 211.79,-435.13 217.41,-430.96\"/>\n",
       "</g>\n",
       "<!-- 6 -->\n",
       "<g id=\"node7\" class=\"node\">\n",
       "<title>6</title>\n",
       "<polygon fill=\"#8b49e7\" stroke=\"black\" points=\"431,-425 276,-425 276,-342 431,-342 431,-425\"/>\n",
       "<text text-anchor=\"middle\" x=\"353.5\" y=\"-409.8\" font-family=\"Times,serif\" font-size=\"14.00\">petal width (cm) &lt;= 1.75</text>\n",
       "<text text-anchor=\"middle\" x=\"353.5\" y=\"-394.8\" font-family=\"Times,serif\" font-size=\"14.00\">gini = 0.136</text>\n",
       "<text text-anchor=\"middle\" x=\"353.5\" y=\"-379.8\" font-family=\"Times,serif\" font-size=\"14.00\">samples = 41</text>\n",
       "<text text-anchor=\"middle\" x=\"353.5\" y=\"-364.8\" font-family=\"Times,serif\" font-size=\"14.00\">value = [0, 3, 38]</text>\n",
       "<text text-anchor=\"middle\" x=\"353.5\" y=\"-349.8\" font-family=\"Times,serif\" font-size=\"14.00\">class = virginica</text>\n",
       "</g>\n",
       "<!-- 2&#45;&gt;6 -->\n",
       "<g id=\"edge6\" class=\"edge\">\n",
       "<title>2&#45;&gt;6</title>\n",
       "<path fill=\"none\" stroke=\"black\" d=\"M296.03,-460.91C302.79,-451.92 310.02,-442.32 316.98,-433.05\"/>\n",
       "<polygon fill=\"black\" stroke=\"black\" points=\"319.81,-435.12 323.02,-425.02 314.21,-430.91 319.81,-435.12\"/>\n",
       "</g>\n",
       "<!-- 4 -->\n",
       "<g id=\"node5\" class=\"node\">\n",
       "<title>4</title>\n",
       "<polygon fill=\"#39e581\" stroke=\"black\" points=\"113,-298.5 0,-298.5 0,-230.5 113,-230.5 113,-298.5\"/>\n",
       "<text text-anchor=\"middle\" x=\"56.5\" y=\"-283.3\" font-family=\"Times,serif\" font-size=\"14.00\">gini = 0.0</text>\n",
       "<text text-anchor=\"middle\" x=\"56.5\" y=\"-268.3\" font-family=\"Times,serif\" font-size=\"14.00\">samples = 37</text>\n",
       "<text text-anchor=\"middle\" x=\"56.5\" y=\"-253.3\" font-family=\"Times,serif\" font-size=\"14.00\">value = [0, 37, 0]</text>\n",
       "<text text-anchor=\"middle\" x=\"56.5\" y=\"-238.3\" font-family=\"Times,serif\" font-size=\"14.00\">class = versicolor</text>\n",
       "</g>\n",
       "<!-- 3&#45;&gt;4 -->\n",
       "<g id=\"edge4\" class=\"edge\">\n",
       "<title>3&#45;&gt;4</title>\n",
       "<path fill=\"none\" stroke=\"black\" d=\"M136.17,-341.91C123.98,-330.21 110.68,-317.46 98.5,-305.78\"/>\n",
       "<polygon fill=\"black\" stroke=\"black\" points=\"100.72,-303.06 91.08,-298.67 95.88,-308.11 100.72,-303.06\"/>\n",
       "</g>\n",
       "<!-- 5 -->\n",
       "<g id=\"node6\" class=\"node\">\n",
       "<title>5</title>\n",
       "<polygon fill=\"#8139e5\" stroke=\"black\" points=\"238,-298.5 131,-298.5 131,-230.5 238,-230.5 238,-298.5\"/>\n",
       "<text text-anchor=\"middle\" x=\"184.5\" y=\"-283.3\" font-family=\"Times,serif\" font-size=\"14.00\">gini = 0.0</text>\n",
       "<text text-anchor=\"middle\" x=\"184.5\" y=\"-268.3\" font-family=\"Times,serif\" font-size=\"14.00\">samples = 1</text>\n",
       "<text text-anchor=\"middle\" x=\"184.5\" y=\"-253.3\" font-family=\"Times,serif\" font-size=\"14.00\">value = [0, 0, 1]</text>\n",
       "<text text-anchor=\"middle\" x=\"184.5\" y=\"-238.3\" font-family=\"Times,serif\" font-size=\"14.00\">class = virginica</text>\n",
       "</g>\n",
       "<!-- 3&#45;&gt;5 -->\n",
       "<g id=\"edge5\" class=\"edge\">\n",
       "<title>3&#45;&gt;5</title>\n",
       "<path fill=\"none\" stroke=\"black\" d=\"M180.58,-341.91C181.13,-331.2 181.72,-319.62 182.28,-308.78\"/>\n",
       "<polygon fill=\"black\" stroke=\"black\" points=\"185.78,-308.83 182.8,-298.67 178.79,-308.47 185.78,-308.83\"/>\n",
       "</g>\n",
       "<!-- 7 -->\n",
       "<g id=\"node8\" class=\"node\">\n",
       "<title>7</title>\n",
       "<polygon fill=\"#ffffff\" stroke=\"black\" points=\"427.5,-306 267.5,-306 267.5,-223 427.5,-223 427.5,-306\"/>\n",
       "<text text-anchor=\"middle\" x=\"347.5\" y=\"-290.8\" font-family=\"Times,serif\" font-size=\"14.00\">sepal length (cm) &lt;= 5.45</text>\n",
       "<text text-anchor=\"middle\" x=\"347.5\" y=\"-275.8\" font-family=\"Times,serif\" font-size=\"14.00\">gini = 0.5</text>\n",
       "<text text-anchor=\"middle\" x=\"347.5\" y=\"-260.8\" font-family=\"Times,serif\" font-size=\"14.00\">samples = 4</text>\n",
       "<text text-anchor=\"middle\" x=\"347.5\" y=\"-245.8\" font-family=\"Times,serif\" font-size=\"14.00\">value = [0, 2, 2]</text>\n",
       "<text text-anchor=\"middle\" x=\"347.5\" y=\"-230.8\" font-family=\"Times,serif\" font-size=\"14.00\">class = versicolor</text>\n",
       "</g>\n",
       "<!-- 6&#45;&gt;7 -->\n",
       "<g id=\"edge7\" class=\"edge\">\n",
       "<title>6&#45;&gt;7</title>\n",
       "<path fill=\"none\" stroke=\"black\" d=\"M351.42,-341.91C350.99,-333.56 350.53,-324.67 350.09,-316.02\"/>\n",
       "<polygon fill=\"black\" stroke=\"black\" points=\"353.59,-315.83 349.58,-306.02 346.59,-316.19 353.59,-315.83\"/>\n",
       "</g>\n",
       "<!-- 12 -->\n",
       "<g id=\"node13\" class=\"node\">\n",
       "<title>12</title>\n",
       "<polygon fill=\"#843ee6\" stroke=\"black\" points=\"603.5,-306 445.5,-306 445.5,-223 603.5,-223 603.5,-306\"/>\n",
       "<text text-anchor=\"middle\" x=\"524.5\" y=\"-290.8\" font-family=\"Times,serif\" font-size=\"14.00\">petal length (cm) &lt;= 4.85</text>\n",
       "<text text-anchor=\"middle\" x=\"524.5\" y=\"-275.8\" font-family=\"Times,serif\" font-size=\"14.00\">gini = 0.053</text>\n",
       "<text text-anchor=\"middle\" x=\"524.5\" y=\"-260.8\" font-family=\"Times,serif\" font-size=\"14.00\">samples = 37</text>\n",
       "<text text-anchor=\"middle\" x=\"524.5\" y=\"-245.8\" font-family=\"Times,serif\" font-size=\"14.00\">value = [0, 1, 36]</text>\n",
       "<text text-anchor=\"middle\" x=\"524.5\" y=\"-230.8\" font-family=\"Times,serif\" font-size=\"14.00\">class = virginica</text>\n",
       "</g>\n",
       "<!-- 6&#45;&gt;12 -->\n",
       "<g id=\"edge12\" class=\"edge\">\n",
       "<title>6&#45;&gt;12</title>\n",
       "<path fill=\"none\" stroke=\"black\" d=\"M412.83,-341.91C427.02,-332.2 442.28,-321.76 456.81,-311.81\"/>\n",
       "<polygon fill=\"black\" stroke=\"black\" points=\"459,-314.56 465.28,-306.02 455.05,-308.78 459,-314.56\"/>\n",
       "</g>\n",
       "<!-- 8 -->\n",
       "<g id=\"node9\" class=\"node\">\n",
       "<title>8</title>\n",
       "<polygon fill=\"#8139e5\" stroke=\"black\" points=\"250,-179.5 143,-179.5 143,-111.5 250,-111.5 250,-179.5\"/>\n",
       "<text text-anchor=\"middle\" x=\"196.5\" y=\"-164.3\" font-family=\"Times,serif\" font-size=\"14.00\">gini = 0.0</text>\n",
       "<text text-anchor=\"middle\" x=\"196.5\" y=\"-149.3\" font-family=\"Times,serif\" font-size=\"14.00\">samples = 1</text>\n",
       "<text text-anchor=\"middle\" x=\"196.5\" y=\"-134.3\" font-family=\"Times,serif\" font-size=\"14.00\">value = [0, 0, 1]</text>\n",
       "<text text-anchor=\"middle\" x=\"196.5\" y=\"-119.3\" font-family=\"Times,serif\" font-size=\"14.00\">class = virginica</text>\n",
       "</g>\n",
       "<!-- 7&#45;&gt;8 -->\n",
       "<g id=\"edge8\" class=\"edge\">\n",
       "<title>7&#45;&gt;8</title>\n",
       "<path fill=\"none\" stroke=\"black\" d=\"M295.11,-222.91C279.73,-210.99 262.93,-197.98 247.63,-186.12\"/>\n",
       "<polygon fill=\"black\" stroke=\"black\" points=\"249.35,-183.03 239.31,-179.67 245.07,-188.56 249.35,-183.03\"/>\n",
       "</g>\n",
       "<!-- 9 -->\n",
       "<g id=\"node10\" class=\"node\">\n",
       "<title>9</title>\n",
       "<polygon fill=\"#9cf2c0\" stroke=\"black\" points=\"426.5,-187 268.5,-187 268.5,-104 426.5,-104 426.5,-187\"/>\n",
       "<text text-anchor=\"middle\" x=\"347.5\" y=\"-171.8\" font-family=\"Times,serif\" font-size=\"14.00\">petal length (cm) &lt;= 5.45</text>\n",
       "<text text-anchor=\"middle\" x=\"347.5\" y=\"-156.8\" font-family=\"Times,serif\" font-size=\"14.00\">gini = 0.444</text>\n",
       "<text text-anchor=\"middle\" x=\"347.5\" y=\"-141.8\" font-family=\"Times,serif\" font-size=\"14.00\">samples = 3</text>\n",
       "<text text-anchor=\"middle\" x=\"347.5\" y=\"-126.8\" font-family=\"Times,serif\" font-size=\"14.00\">value = [0, 2, 1]</text>\n",
       "<text text-anchor=\"middle\" x=\"347.5\" y=\"-111.8\" font-family=\"Times,serif\" font-size=\"14.00\">class = versicolor</text>\n",
       "</g>\n",
       "<!-- 7&#45;&gt;9 -->\n",
       "<g id=\"edge9\" class=\"edge\">\n",
       "<title>7&#45;&gt;9</title>\n",
       "<path fill=\"none\" stroke=\"black\" d=\"M347.5,-222.91C347.5,-214.65 347.5,-205.86 347.5,-197.3\"/>\n",
       "<polygon fill=\"black\" stroke=\"black\" points=\"351,-197.02 347.5,-187.02 344,-197.02 351,-197.02\"/>\n",
       "</g>\n",
       "<!-- 10 -->\n",
       "<g id=\"node11\" class=\"node\">\n",
       "<title>10</title>\n",
       "<polygon fill=\"#39e581\" stroke=\"black\" points=\"288,-68 175,-68 175,0 288,0 288,-68\"/>\n",
       "<text text-anchor=\"middle\" x=\"231.5\" y=\"-52.8\" font-family=\"Times,serif\" font-size=\"14.00\">gini = 0.0</text>\n",
       "<text text-anchor=\"middle\" x=\"231.5\" y=\"-37.8\" font-family=\"Times,serif\" font-size=\"14.00\">samples = 2</text>\n",
       "<text text-anchor=\"middle\" x=\"231.5\" y=\"-22.8\" font-family=\"Times,serif\" font-size=\"14.00\">value = [0, 2, 0]</text>\n",
       "<text text-anchor=\"middle\" x=\"231.5\" y=\"-7.8\" font-family=\"Times,serif\" font-size=\"14.00\">class = versicolor</text>\n",
       "</g>\n",
       "<!-- 9&#45;&gt;10 -->\n",
       "<g id=\"edge10\" class=\"edge\">\n",
       "<title>9&#45;&gt;10</title>\n",
       "<path fill=\"none\" stroke=\"black\" d=\"M304.31,-103.73C294.45,-94.42 283.98,-84.54 274.15,-75.26\"/>\n",
       "<polygon fill=\"black\" stroke=\"black\" points=\"276.45,-72.62 266.78,-68.3 271.65,-77.71 276.45,-72.62\"/>\n",
       "</g>\n",
       "<!-- 11 -->\n",
       "<g id=\"node12\" class=\"node\">\n",
       "<title>11</title>\n",
       "<polygon fill=\"#8139e5\" stroke=\"black\" points=\"413,-68 306,-68 306,0 413,0 413,-68\"/>\n",
       "<text text-anchor=\"middle\" x=\"359.5\" y=\"-52.8\" font-family=\"Times,serif\" font-size=\"14.00\">gini = 0.0</text>\n",
       "<text text-anchor=\"middle\" x=\"359.5\" y=\"-37.8\" font-family=\"Times,serif\" font-size=\"14.00\">samples = 1</text>\n",
       "<text text-anchor=\"middle\" x=\"359.5\" y=\"-22.8\" font-family=\"Times,serif\" font-size=\"14.00\">value = [0, 0, 1]</text>\n",
       "<text text-anchor=\"middle\" x=\"359.5\" y=\"-7.8\" font-family=\"Times,serif\" font-size=\"14.00\">class = virginica</text>\n",
       "</g>\n",
       "<!-- 9&#45;&gt;11 -->\n",
       "<g id=\"edge11\" class=\"edge\">\n",
       "<title>9&#45;&gt;11</title>\n",
       "<path fill=\"none\" stroke=\"black\" d=\"M351.97,-103.73C352.88,-95.43 353.84,-86.67 354.76,-78.28\"/>\n",
       "<polygon fill=\"black\" stroke=\"black\" points=\"358.24,-78.62 355.85,-68.3 351.28,-77.86 358.24,-78.62\"/>\n",
       "</g>\n",
       "<!-- 13 -->\n",
       "<g id=\"node14\" class=\"node\">\n",
       "<title>13</title>\n",
       "<polygon fill=\"#c09cf2\" stroke=\"black\" points=\"604.5,-187 444.5,-187 444.5,-104 604.5,-104 604.5,-187\"/>\n",
       "<text text-anchor=\"middle\" x=\"524.5\" y=\"-171.8\" font-family=\"Times,serif\" font-size=\"14.00\">sepal length (cm) &lt;= 5.95</text>\n",
       "<text text-anchor=\"middle\" x=\"524.5\" y=\"-156.8\" font-family=\"Times,serif\" font-size=\"14.00\">gini = 0.444</text>\n",
       "<text text-anchor=\"middle\" x=\"524.5\" y=\"-141.8\" font-family=\"Times,serif\" font-size=\"14.00\">samples = 3</text>\n",
       "<text text-anchor=\"middle\" x=\"524.5\" y=\"-126.8\" font-family=\"Times,serif\" font-size=\"14.00\">value = [0, 1, 2]</text>\n",
       "<text text-anchor=\"middle\" x=\"524.5\" y=\"-111.8\" font-family=\"Times,serif\" font-size=\"14.00\">class = virginica</text>\n",
       "</g>\n",
       "<!-- 12&#45;&gt;13 -->\n",
       "<g id=\"edge13\" class=\"edge\">\n",
       "<title>12&#45;&gt;13</title>\n",
       "<path fill=\"none\" stroke=\"black\" d=\"M524.5,-222.91C524.5,-214.65 524.5,-205.86 524.5,-197.3\"/>\n",
       "<polygon fill=\"black\" stroke=\"black\" points=\"528,-197.02 524.5,-187.02 521,-197.02 528,-197.02\"/>\n",
       "</g>\n",
       "<!-- 16 -->\n",
       "<g id=\"node17\" class=\"node\">\n",
       "<title>16</title>\n",
       "<polygon fill=\"#8139e5\" stroke=\"black\" points=\"736,-179.5 623,-179.5 623,-111.5 736,-111.5 736,-179.5\"/>\n",
       "<text text-anchor=\"middle\" x=\"679.5\" y=\"-164.3\" font-family=\"Times,serif\" font-size=\"14.00\">gini = 0.0</text>\n",
       "<text text-anchor=\"middle\" x=\"679.5\" y=\"-149.3\" font-family=\"Times,serif\" font-size=\"14.00\">samples = 34</text>\n",
       "<text text-anchor=\"middle\" x=\"679.5\" y=\"-134.3\" font-family=\"Times,serif\" font-size=\"14.00\">value = [0, 0, 34]</text>\n",
       "<text text-anchor=\"middle\" x=\"679.5\" y=\"-119.3\" font-family=\"Times,serif\" font-size=\"14.00\">class = virginica</text>\n",
       "</g>\n",
       "<!-- 12&#45;&gt;16 -->\n",
       "<g id=\"edge16\" class=\"edge\">\n",
       "<title>12&#45;&gt;16</title>\n",
       "<path fill=\"none\" stroke=\"black\" d=\"M578.28,-222.91C594.21,-210.88 611.63,-197.73 627.45,-185.79\"/>\n",
       "<polygon fill=\"black\" stroke=\"black\" points=\"629.69,-188.49 635.56,-179.67 625.47,-182.9 629.69,-188.49\"/>\n",
       "</g>\n",
       "<!-- 14 -->\n",
       "<g id=\"node15\" class=\"node\">\n",
       "<title>14</title>\n",
       "<polygon fill=\"#39e581\" stroke=\"black\" points=\"568,-68 455,-68 455,0 568,0 568,-68\"/>\n",
       "<text text-anchor=\"middle\" x=\"511.5\" y=\"-52.8\" font-family=\"Times,serif\" font-size=\"14.00\">gini = 0.0</text>\n",
       "<text text-anchor=\"middle\" x=\"511.5\" y=\"-37.8\" font-family=\"Times,serif\" font-size=\"14.00\">samples = 1</text>\n",
       "<text text-anchor=\"middle\" x=\"511.5\" y=\"-22.8\" font-family=\"Times,serif\" font-size=\"14.00\">value = [0, 1, 0]</text>\n",
       "<text text-anchor=\"middle\" x=\"511.5\" y=\"-7.8\" font-family=\"Times,serif\" font-size=\"14.00\">class = versicolor</text>\n",
       "</g>\n",
       "<!-- 13&#45;&gt;14 -->\n",
       "<g id=\"edge14\" class=\"edge\">\n",
       "<title>13&#45;&gt;14</title>\n",
       "<path fill=\"none\" stroke=\"black\" d=\"M519.66,-103.73C518.67,-95.43 517.63,-86.67 516.64,-78.28\"/>\n",
       "<polygon fill=\"black\" stroke=\"black\" points=\"520.11,-77.82 515.45,-68.3 513.16,-78.64 520.11,-77.82\"/>\n",
       "</g>\n",
       "<!-- 15 -->\n",
       "<g id=\"node16\" class=\"node\">\n",
       "<title>15</title>\n",
       "<polygon fill=\"#8139e5\" stroke=\"black\" points=\"693,-68 586,-68 586,0 693,0 693,-68\"/>\n",
       "<text text-anchor=\"middle\" x=\"639.5\" y=\"-52.8\" font-family=\"Times,serif\" font-size=\"14.00\">gini = 0.0</text>\n",
       "<text text-anchor=\"middle\" x=\"639.5\" y=\"-37.8\" font-family=\"Times,serif\" font-size=\"14.00\">samples = 2</text>\n",
       "<text text-anchor=\"middle\" x=\"639.5\" y=\"-22.8\" font-family=\"Times,serif\" font-size=\"14.00\">value = [0, 0, 2]</text>\n",
       "<text text-anchor=\"middle\" x=\"639.5\" y=\"-7.8\" font-family=\"Times,serif\" font-size=\"14.00\">class = virginica</text>\n",
       "</g>\n",
       "<!-- 13&#45;&gt;15 -->\n",
       "<g id=\"edge15\" class=\"edge\">\n",
       "<title>13&#45;&gt;15</title>\n",
       "<path fill=\"none\" stroke=\"black\" d=\"M567.32,-103.73C577.09,-94.42 587.47,-84.54 597.22,-75.26\"/>\n",
       "<polygon fill=\"black\" stroke=\"black\" points=\"599.7,-77.73 604.53,-68.3 594.87,-72.66 599.7,-77.73\"/>\n",
       "</g>\n",
       "</g>\n",
       "</svg>\n"
      ],
      "text/plain": [
       "<graphviz.files.Source at 0x125e2ed10>"
      ]
     },
     "execution_count": 16,
     "metadata": {},
     "output_type": "execute_result"
    }
   ],
   "source": [
    "import graphviz\n",
    "\n",
    "f = open('tree.dot')\n",
    "dot_graph = f.read()\n",
    "graphviz.Source(dot_graph)"
   ]
  },
  {
   "cell_type": "code",
   "execution_count": 17,
   "metadata": {},
   "outputs": [
    {
     "name": "stdout",
     "output_type": "stream",
     "text": [
      "0.6665277777777778\n",
      "0.16803840877914955\n"
     ]
    }
   ],
   "source": [
    "# 지니계수 : 0.667 \n",
    "\n",
    "# gini = 0.667\n",
    "# samples = 120\n",
    "# value = [41, 40, 30]\n",
    "# calss = setosa \n",
    "\n",
    "gini = 1-((41/120)**2 + (40/120)**2 + (39/120)**2)\n",
    "print(gini)\n",
    "\n",
    "\n",
    "# petal length (cm) ≤ 4.95\n",
    "# gini = 0.168\n",
    "# samples = 54\n",
    "# value = [0, 49, 5]\n",
    "# class = versicolor\n",
    "\n",
    "gini = 1-((0/54)**2 + (49/54)**2 + (5/54)**2)\n",
    "print(gini)"
   ]
  },
  {
   "cell_type": "markdown",
   "metadata": {},
   "source": [
    "### Feature importance  : 결정 트리의 규칙노드가 분기 조건으로 사용할 피쳐의 우선 순위에 사용  \n"
   ]
  },
  {
   "cell_type": "code",
   "execution_count": 18,
   "metadata": {},
   "outputs": [],
   "source": [
    "import seaborn as sns"
   ]
  },
  {
   "cell_type": "code",
   "execution_count": 19,
   "metadata": {},
   "outputs": [
    {
     "name": "stdout",
     "output_type": "stream",
     "text": [
      "Feature Importance:\n",
      "[0.025 0.    0.049 0.926]\n",
      "sepal length (cm) : 0.025\n",
      "sepal width (cm) : 0.000\n",
      "petal length (cm) : 0.049\n",
      "petal width (cm) : 0.926\n"
     ]
    },
    {
     "data": {
      "text/html": [
       "<div>\n",
       "<style scoped>\n",
       "    .dataframe tbody tr th:only-of-type {\n",
       "        vertical-align: middle;\n",
       "    }\n",
       "\n",
       "    .dataframe tbody tr th {\n",
       "        vertical-align: top;\n",
       "    }\n",
       "\n",
       "    .dataframe thead th {\n",
       "        text-align: right;\n",
       "    }\n",
       "</style>\n",
       "<table border=\"1\" class=\"dataframe\">\n",
       "  <thead>\n",
       "    <tr style=\"text-align: right;\">\n",
       "      <th></th>\n",
       "      <th>sepal length (cm)</th>\n",
       "      <th>sepal width (cm)</th>\n",
       "      <th>petal length (cm)</th>\n",
       "      <th>petal width (cm)</th>\n",
       "      <th>label</th>\n",
       "    </tr>\n",
       "  </thead>\n",
       "  <tbody>\n",
       "    <tr>\n",
       "      <th>sepal length (cm)</th>\n",
       "      <td>1.000000</td>\n",
       "      <td>-0.117570</td>\n",
       "      <td>0.871754</td>\n",
       "      <td>0.817941</td>\n",
       "      <td>0.782561</td>\n",
       "    </tr>\n",
       "    <tr>\n",
       "      <th>sepal width (cm)</th>\n",
       "      <td>-0.117570</td>\n",
       "      <td>1.000000</td>\n",
       "      <td>-0.428440</td>\n",
       "      <td>-0.366126</td>\n",
       "      <td>-0.426658</td>\n",
       "    </tr>\n",
       "    <tr>\n",
       "      <th>petal length (cm)</th>\n",
       "      <td>0.871754</td>\n",
       "      <td>-0.428440</td>\n",
       "      <td>1.000000</td>\n",
       "      <td>0.962865</td>\n",
       "      <td>0.949035</td>\n",
       "    </tr>\n",
       "    <tr>\n",
       "      <th>petal width (cm)</th>\n",
       "      <td>0.817941</td>\n",
       "      <td>-0.366126</td>\n",
       "      <td>0.962865</td>\n",
       "      <td>1.000000</td>\n",
       "      <td>0.956547</td>\n",
       "    </tr>\n",
       "    <tr>\n",
       "      <th>label</th>\n",
       "      <td>0.782561</td>\n",
       "      <td>-0.426658</td>\n",
       "      <td>0.949035</td>\n",
       "      <td>0.956547</td>\n",
       "      <td>1.000000</td>\n",
       "    </tr>\n",
       "  </tbody>\n",
       "</table>\n",
       "</div>"
      ],
      "text/plain": [
       "                   sepal length (cm)  sepal width (cm)  petal length (cm)  \\\n",
       "sepal length (cm)           1.000000         -0.117570           0.871754   \n",
       "sepal width (cm)           -0.117570          1.000000          -0.428440   \n",
       "petal length (cm)           0.871754         -0.428440           1.000000   \n",
       "petal width (cm)            0.817941         -0.366126           0.962865   \n",
       "label                       0.782561         -0.426658           0.949035   \n",
       "\n",
       "                   petal width (cm)     label  \n",
       "sepal length (cm)          0.817941  0.782561  \n",
       "sepal width (cm)          -0.366126 -0.426658  \n",
       "petal length (cm)          0.962865  0.949035  \n",
       "petal width (cm)           1.000000  0.956547  \n",
       "label                      0.956547  1.000000  "
      ]
     },
     "execution_count": 19,
     "metadata": {},
     "output_type": "execute_result"
    },
    {
     "data": {
      "image/png": "[encoded data removed]",
      "text/plain": [
       "<Figure size 432x288 with 1 Axes>"
      ]
     },
     "metadata": {
      "needs_background": "light"
     },
     "output_type": "display_data"
    }
   ],
   "source": [
    "print('Feature Importance:\\n{0}'.format(np.round(dt_clf.feature_importances_, 3)))\n",
    "\n",
    "for name, value in zip(iris.feature_names, dt_clf.feature_importances_):\n",
    "    print('{0} : {1:.3f}'.format(name, value))\n",
    "    \n",
    "sns.barplot(x = dt_clf.feature_importances_, y=iris.feature_names)\n",
    "iris_df.corr()   # 상관 관계"
   ]
  },
  {
   "cell_type": "markdown",
   "metadata": {},
   "source": [
    "### 내부 알고리즘 처리 과정 분석 \n",
    "\n",
    "#### GINI 계수 함수 구현 "
   ]
  },
  {
   "cell_type": "code",
   "execution_count": 20,
   "metadata": {},
   "outputs": [
    {
     "data": {
      "text/plain": [
       "0.667"
      ]
     },
     "execution_count": 20,
     "metadata": {},
     "output_type": "execute_result"
    }
   ],
   "source": [
    "def gini(value):\n",
    "    array_of_values = np.array(value)\n",
    "    array_of_sum = array_of_values.sum()\n",
    "    squared_sum = 0 \n",
    "    \n",
    "    for value in array_of_values:\n",
    "        squared_sum += (value/array_of_sum)**2\n",
    "    return round(1- squared_sum, 3)\n",
    "\n",
    "gini([41, 40, 39])"
   ]
  },
  {
   "cell_type": "markdown",
   "metadata": {},
   "source": [
    "### 1번 노드 : \n",
    "\n",
    "```python \n",
    "petal width (cm) <= 0.8\n",
    "gini = 0.667\n",
    "samples = 120\n",
    "value = [41, 40, 39]\n",
    "class = setosa\n",
    "```"
   ]
  },
  {
   "cell_type": "code",
   "execution_count": 21,
   "metadata": {},
   "outputs": [
    {
     "name": "stdout",
     "output_type": "stream",
     "text": [
      "0    41\n",
      "1    40\n",
      "2    39\n",
      "Name: label, dtype: int64\n",
      "0.667\n"
     ]
    }
   ],
   "source": [
    "# 1번 노드 : 루트 노드, 규칙 노드 (자식을 가지고 있음) \n",
    "# root node 실행 구조\n",
    "\n",
    "first_df = pd.DataFrame(data=X_train, columns=iris.feature_names)\n",
    "first_df['label'] = y_train\n",
    "\n",
    "first_df\n",
    "\n",
    "print(first_df['label'].value_counts())   \n",
    "print(gini([41, 40, 39]))      # gini = 0.667 , 지니 계수가 크므로 자식노드(2, 3번)로 분리 된다.\n",
    "\n",
    "\n",
    "# 자식노드 생성 \n",
    "second_node = first_df[first_df['petal width (cm)'] <=0.8]   # => 자식 노드 (2번 노드) 생성\n",
    "third_node =  first_df[first_df['petal width (cm)'] > 0.8]   # => 자식 노드 (2번 노드) 생성"
   ]
  },
  {
   "cell_type": "markdown",
   "metadata": {},
   "source": [
    "### 2번 노드 :  쳣번째 터미널 노드, 리프 노드 \n",
    "\n",
    "```python \n",
    "gini = 0.0\n",
    "samples = 41\n",
    "value = [41, 0, 0]\n",
    "class = setosa\n",
    "```"
   ]
  },
  {
   "cell_type": "code",
   "execution_count": 22,
   "metadata": {},
   "outputs": [
    {
     "name": "stdout",
     "output_type": "stream",
     "text": [
      "gini:  0.0\n",
      "class:  setosa\n"
     ]
    },
    {
     "data": {
      "text/html": [
       "<div>\n",
       "<style scoped>\n",
       "    .dataframe tbody tr th:only-of-type {\n",
       "        vertical-align: middle;\n",
       "    }\n",
       "\n",
       "    .dataframe tbody tr th {\n",
       "        vertical-align: top;\n",
       "    }\n",
       "\n",
       "    .dataframe thead th {\n",
       "        text-align: right;\n",
       "    }\n",
       "</style>\n",
       "<table border=\"1\" class=\"dataframe\">\n",
       "  <thead>\n",
       "    <tr style=\"text-align: right;\">\n",
       "      <th></th>\n",
       "      <th>sepal length (cm)</th>\n",
       "      <th>sepal width (cm)</th>\n",
       "      <th>petal length (cm)</th>\n",
       "      <th>petal width (cm)</th>\n",
       "      <th>label</th>\n",
       "    </tr>\n",
       "  </thead>\n",
       "  <tbody>\n",
       "    <tr>\n",
       "      <th>0</th>\n",
       "      <td>5.1</td>\n",
       "      <td>3.5</td>\n",
       "      <td>1.4</td>\n",
       "      <td>0.2</td>\n",
       "      <td>0</td>\n",
       "    </tr>\n",
       "    <tr>\n",
       "      <th>3</th>\n",
       "      <td>5.0</td>\n",
       "      <td>3.3</td>\n",
       "      <td>1.4</td>\n",
       "      <td>0.2</td>\n",
       "      <td>0</td>\n",
       "    </tr>\n",
       "    <tr>\n",
       "      <th>4</th>\n",
       "      <td>4.7</td>\n",
       "      <td>3.2</td>\n",
       "      <td>1.6</td>\n",
       "      <td>0.2</td>\n",
       "      <td>0</td>\n",
       "    </tr>\n",
       "    <tr>\n",
       "      <th>8</th>\n",
       "      <td>5.5</td>\n",
       "      <td>3.5</td>\n",
       "      <td>1.3</td>\n",
       "      <td>0.2</td>\n",
       "      <td>0</td>\n",
       "    </tr>\n",
       "    <tr>\n",
       "      <th>12</th>\n",
       "      <td>4.6</td>\n",
       "      <td>3.4</td>\n",
       "      <td>1.4</td>\n",
       "      <td>0.3</td>\n",
       "      <td>0</td>\n",
       "    </tr>\n",
       "  </tbody>\n",
       "</table>\n",
       "</div>"
      ],
      "text/plain": [
       "    sepal length (cm)  sepal width (cm)  petal length (cm)  petal width (cm)  \\\n",
       "0                 5.1               3.5                1.4               0.2   \n",
       "3                 5.0               3.3                1.4               0.2   \n",
       "4                 4.7               3.2                1.6               0.2   \n",
       "8                 5.5               3.5                1.3               0.2   \n",
       "12                4.6               3.4                1.4               0.3   \n",
       "\n",
       "    label  \n",
       "0       0  \n",
       "3       0  \n",
       "4       0  \n",
       "8       0  \n",
       "12      0  "
      ]
     },
     "execution_count": 22,
     "metadata": {},
     "output_type": "execute_result"
    }
   ],
   "source": [
    "second_node['label'].value_counts()\n",
    "print('gini: ', gini([41,0,0]))         # gini : 0.0 \n",
    "print('class: ', iris.target_names[0])  # 'setosa'\n",
    "\n",
    "\n",
    "# 2번 노드('setosa') 결과 \n",
    "setosa_result = second_node.copy()\n",
    "setosa_result.head()"
   ]
  },
  {
   "cell_type": "markdown",
   "metadata": {},
   "source": [
    "### 3번 노드 : 쳣번째 터미널 노드, 리프 노드\n",
    "\n",
    "```python \n",
    "petal width (cm) <= 1.55\n",
    "gini = 0.5\n",
    "samples = 79\n",
    "value = [0, 40, 39]\n",
    "class = versicolor\n",
    "```\n"
   ]
  },
  {
   "cell_type": "code",
   "execution_count": 23,
   "metadata": {},
   "outputs": [
    {
     "name": "stdout",
     "output_type": "stream",
     "text": [
      "1    40\n",
      "2    39\n",
      "Name: label, dtype: int64\n",
      "gini: 0.5\n"
     ]
    }
   ],
   "source": [
    "print(third_node['label'].value_counts())\n",
    "print('gini:', gini([0, 40, 40]))\n",
    "      \n",
    "# 자식노드 생성 \n",
    "fourth_node = third_node[third_node['petal width (cm)'] <= 1.55]   # => 자식 노드 (4번 노드) 생성\n",
    "fifth_node =  third_node[third_node['petal width (cm)'] > 1.55]   # => 자식 노드 (5번 노드) 생성"
   ]
  },
  {
   "cell_type": "markdown",
   "metadata": {},
   "source": [
    "### 4번 노드 : 규칙 노드 \n",
    "```python \n",
    "petal length (cm) <= 5.25\n",
    "gini = 0.051\n",
    "samples = 38\n",
    "value = [0, 37, 1]\n",
    "class = versicolor\n",
    "```\n"
   ]
  },
  {
   "cell_type": "code",
   "execution_count": 24,
   "metadata": {},
   "outputs": [
    {
     "name": "stdout",
     "output_type": "stream",
     "text": [
      "1    37\n",
      "2     1\n",
      "Name: label, dtype: int64\n",
      "gini: 0.051\n"
     ]
    }
   ],
   "source": [
    "print(fourth_node['label'].value_counts())\n",
    "print('gini:' , gini([0, 37, 1]))\n",
    "\n",
    "\n",
    "# 자식 노드 생성\n",
    "sixth_node = fourth_node[fourth_node['petal length (cm)'] <=5.25]\n",
    "seventh_node = fourth_node[fourth_node['petal length (cm)'] > 5.25]"
   ]
  },
  {
   "cell_type": "markdown",
   "metadata": {},
   "source": [
    "### 5번 노드 : 규칙노드 \n",
    "\n",
    "```python\n",
    "petal width (cm) <= 1.75\n",
    "gini = 0.136\n",
    "samples = 41\n",
    "value = [0, 3, 38]\n",
    "class = virginica\n",
    "```\n"
   ]
  },
  {
   "cell_type": "code",
   "execution_count": 25,
   "metadata": {},
   "outputs": [
    {
     "name": "stdout",
     "output_type": "stream",
     "text": [
      "2    38\n",
      "1     3\n",
      "Name: label, dtype: int64\n",
      "gini: 0.136\n"
     ]
    }
   ],
   "source": [
    "print(fifth_node['label'].value_counts())\n",
    "print('gini:' , gini([0, 3, 38]))\n",
    "\n",
    "# 자식 노드 생성\n",
    "eigh_node = fifth_node[fifth_node['petal width (cm)'] <= 1.75]\n",
    "ninth_node = fifth_node[fifth_node['petal width (cm)'] > 1.75]"
   ]
  },
  {
   "cell_type": "markdown",
   "metadata": {},
   "source": [
    "### 6번 노드 : 두 번째 터미널 노드 . 리프 노드 \n",
    "\n",
    "```python\n",
    "gini = 0.0\n",
    "samples = 37\n",
    "value = [0, 37, 0]\n",
    "class = versicolor\n",
    "```"
   ]
  },
  {
   "cell_type": "code",
   "execution_count": 26,
   "metadata": {},
   "outputs": [
    {
     "name": "stdout",
     "output_type": "stream",
     "text": [
      "1    37\n",
      "Name: label, dtype: int64\n",
      "gini:  0.0\n",
      "class:  versicolor\n"
     ]
    },
    {
     "data": {
      "text/html": [
       "<div>\n",
       "<style scoped>\n",
       "    .dataframe tbody tr th:only-of-type {\n",
       "        vertical-align: middle;\n",
       "    }\n",
       "\n",
       "    .dataframe tbody tr th {\n",
       "        vertical-align: top;\n",
       "    }\n",
       "\n",
       "    .dataframe thead th {\n",
       "        text-align: right;\n",
       "    }\n",
       "</style>\n",
       "<table border=\"1\" class=\"dataframe\">\n",
       "  <thead>\n",
       "    <tr style=\"text-align: right;\">\n",
       "      <th></th>\n",
       "      <th>sepal length (cm)</th>\n",
       "      <th>sepal width (cm)</th>\n",
       "      <th>petal length (cm)</th>\n",
       "      <th>petal width (cm)</th>\n",
       "      <th>label</th>\n",
       "    </tr>\n",
       "  </thead>\n",
       "  <tbody>\n",
       "    <tr>\n",
       "      <th>10</th>\n",
       "      <td>5.0</td>\n",
       "      <td>2.0</td>\n",
       "      <td>3.5</td>\n",
       "      <td>1.0</td>\n",
       "      <td>1</td>\n",
       "    </tr>\n",
       "    <tr>\n",
       "      <th>13</th>\n",
       "      <td>6.9</td>\n",
       "      <td>3.1</td>\n",
       "      <td>4.9</td>\n",
       "      <td>1.5</td>\n",
       "      <td>1</td>\n",
       "    </tr>\n",
       "    <tr>\n",
       "      <th>15</th>\n",
       "      <td>5.1</td>\n",
       "      <td>2.5</td>\n",
       "      <td>3.0</td>\n",
       "      <td>1.1</td>\n",
       "      <td>1</td>\n",
       "    </tr>\n",
       "    <tr>\n",
       "      <th>16</th>\n",
       "      <td>6.6</td>\n",
       "      <td>2.9</td>\n",
       "      <td>4.6</td>\n",
       "      <td>1.3</td>\n",
       "      <td>1</td>\n",
       "    </tr>\n",
       "    <tr>\n",
       "      <th>22</th>\n",
       "      <td>5.9</td>\n",
       "      <td>3.0</td>\n",
       "      <td>4.2</td>\n",
       "      <td>1.5</td>\n",
       "      <td>1</td>\n",
       "    </tr>\n",
       "  </tbody>\n",
       "</table>\n",
       "</div>"
      ],
      "text/plain": [
       "    sepal length (cm)  sepal width (cm)  petal length (cm)  petal width (cm)  \\\n",
       "10                5.0               2.0                3.5               1.0   \n",
       "13                6.9               3.1                4.9               1.5   \n",
       "15                5.1               2.5                3.0               1.1   \n",
       "16                6.6               2.9                4.6               1.3   \n",
       "22                5.9               3.0                4.2               1.5   \n",
       "\n",
       "    label  \n",
       "10      1  \n",
       "13      1  \n",
       "15      1  \n",
       "16      1  \n",
       "22      1  "
      ]
     },
     "execution_count": 26,
     "metadata": {},
     "output_type": "execute_result"
    }
   ],
   "source": [
    "print(sixth_node['label'].value_counts())\n",
    "print('gini: ', gini([0, 37, 0]))         # gini: 0.0\n",
    "print('class: ', iris.target_names[1])    # 'versicolor'\n",
    "\n",
    "\n",
    "versicolor_result = sixth_node.copy()\n",
    "versicolor_result.head()"
   ]
  },
  {
   "cell_type": "markdown",
   "metadata": {},
   "source": [
    "### 7번 노드 : 세 번째 터미널 노드. 리프 노드\n",
    "\n",
    "```python\n",
    "gini = 0.0\n",
    "samples = 1\n",
    "value = [0, 0, 1]\n",
    "class = virginica\n",
    "```\n",
    "\n"
   ]
  },
  {
   "cell_type": "code",
   "execution_count": 27,
   "metadata": {},
   "outputs": [
    {
     "name": "stdout",
     "output_type": "stream",
     "text": [
      "2    1\n",
      "Name: label, dtype: int64\n",
      "gini:  0.0\n",
      "class:  virginica\n"
     ]
    },
    {
     "data": {
      "text/html": [
       "<div>\n",
       "<style scoped>\n",
       "    .dataframe tbody tr th:only-of-type {\n",
       "        vertical-align: middle;\n",
       "    }\n",
       "\n",
       "    .dataframe tbody tr th {\n",
       "        vertical-align: top;\n",
       "    }\n",
       "\n",
       "    .dataframe thead th {\n",
       "        text-align: right;\n",
       "    }\n",
       "</style>\n",
       "<table border=\"1\" class=\"dataframe\">\n",
       "  <thead>\n",
       "    <tr style=\"text-align: right;\">\n",
       "      <th></th>\n",
       "      <th>sepal length (cm)</th>\n",
       "      <th>sepal width (cm)</th>\n",
       "      <th>petal length (cm)</th>\n",
       "      <th>petal width (cm)</th>\n",
       "      <th>label</th>\n",
       "    </tr>\n",
       "  </thead>\n",
       "  <tbody>\n",
       "    <tr>\n",
       "      <th>30</th>\n",
       "      <td>6.1</td>\n",
       "      <td>2.6</td>\n",
       "      <td>5.6</td>\n",
       "      <td>1.4</td>\n",
       "      <td>2</td>\n",
       "    </tr>\n",
       "  </tbody>\n",
       "</table>\n",
       "</div>"
      ],
      "text/plain": [
       "    sepal length (cm)  sepal width (cm)  petal length (cm)  petal width (cm)  \\\n",
       "30                6.1               2.6                5.6               1.4   \n",
       "\n",
       "    label  \n",
       "30      2  "
      ]
     },
     "execution_count": 27,
     "metadata": {},
     "output_type": "execute_result"
    }
   ],
   "source": [
    "print(seventh_node['label'].value_counts())\n",
    "print('gini: ', gini([0, 0, 1]))            #  gini : 0.0  \n",
    "print('class: ', iris.target_names[2])     # 'virginica'\n",
    "\n",
    "virginica_result = seventh_node.copy()\n",
    "virginica_result"
   ]
  },
  {
   "cell_type": "markdown",
   "metadata": {},
   "source": [
    "### 최종 학습 결과 출력 확인 "
   ]
  },
  {
   "cell_type": "code",
   "execution_count": 28,
   "metadata": {},
   "outputs": [
    {
     "name": "stdout",
     "output_type": "stream",
     "text": [
      "(79, 5)\n",
      "0    41\n",
      "1    37\n",
      "2     1\n",
      "Name: label, dtype: int64\n"
     ]
    }
   ],
   "source": [
    "fit_result = pd.concat([setosa_result,versicolor_result,virginica_result],axis = 0)\n",
    "print(fit_result.shape)\n",
    "print(fit_result['label'].value_counts())"
   ]
  },
  {
   "cell_type": "markdown",
   "metadata": {},
   "source": [
    "## 모형 최적화"
   ]
  },
  {
   "cell_type": "markdown",
   "metadata": {},
   "source": [
    "###  결정 트리의 파라메터 튜닝 : 학습시간 및 과적합 제어 "
   ]
  },
  {
   "cell_type": "markdown",
   "metadata": {},
   "source": [
    "#### 과적합(Overfitting)\n",
    ": 학습 데이터에서는 예측 정확도가 높이 나오는데 학습에서 사용되지 않은 다른 데이터 셋을 사용하여 예측하면 예측 정확도 떨어지는 경우, 피처가 지나치게 많을 때도 발생"
   ]
  },
  {
   "cell_type": "markdown",
   "metadata": {},
   "source": [
    "```python\n",
    "DecisionTreeClassifier(ccp_alpha=0.0, class_weight=None, criterion='gini',\n",
    "                       max_depth=None, max_features=None, max_leaf_nodes=None,\n",
    "                       min_impurity_decrease=0.0, min_impurity_split=None,\n",
    "                       min_samples_leaf=1, min_samples_split=2,\n",
    "                       min_weight_fraction_leaf=0.0, presort='deprecated',\n",
    "                       random_state=None, splitter='best')\n",
    "```"
   ]
  },
  {
   "cell_type": "markdown",
   "metadata": {},
   "source": [
    "- **max_depth** :   트리의 최대 깊이, None , 깊이가 너무 깊으면 과적합 , 깊이가 낮으면 정확도가 감소\n",
    "- max_features : 최대 피쳐 갯수, None , 모든 피쳐를 사용 \n",
    "- max_leaf_nodes : 리프노드의 최대 갯수, None , 무한대로 사용하겠다.\n",
    "- **min_samples_leaf** : 리프노드가 되기 위한 최소한의 샘플데이터 수, 1, 불순도를 조절 \n",
    "- **min_samples_split** : 노드(자식노드)를 분할하기 위한 최소의 샘플데이터 수, 2, yes or no, 과적합을 조절하는데 사용"
   ]
  },
  {
   "cell_type": "markdown",
   "metadata": {},
   "source": [
    "### [1] max_depth 값을 조정 : "
   ]
  },
  {
   "cell_type": "code",
   "execution_count": 29,
   "metadata": {},
   "outputs": [
    {
     "name": "stdout",
     "output_type": "stream",
     "text": [
      "정확도:  0.9333\n",
      "리포트: \n",
      "               precision    recall  f1-score   support\n",
      "\n",
      "           0       1.00      1.00      1.00         9\n",
      "           1       0.83      1.00      0.91        10\n",
      "           2       1.00      0.82      0.90        11\n",
      "\n",
      "    accuracy                           0.93        30\n",
      "   macro avg       0.94      0.94      0.94        30\n",
      "weighted avg       0.94      0.93      0.93        30\n",
      "\n"
     ]
    }
   ],
   "source": [
    "# 학습(Train) 수행\n",
    "# dt_clf = DecisionTreeClassifier(random_state=11, max_depth = None) # 정확도: 0.9333\n",
    "# dt_clf = DecisionTreeClassifier(random_state=11, max_depth = 1) # 정확도: 0.6333   , 정확도 감소\n",
    "# dt_clf = DecisionTreeClassifier(random_state=11, max_depth = 2) # 정확도: 0.8667   , 정확도 감소\n",
    "dt_clf = DecisionTreeClassifier(random_state=11, max_depth = 3) # 정확도: 0.9333\n",
    "# dt_clf = DecisionTreeClassifier(random_state=11, max_depth = 4) # 정확도: 0.9333\n",
    "\n",
    "dt_clf.fit(X_train,y_train)\n",
    "\n",
    "\n",
    "# Predict \n",
    "pred = dt_clf.predict(X_test)\n",
    "\n",
    "\n",
    "# 정확도 \n",
    "print('정확도: {0: .4f}'.format(accuracy_score(y_test, pred)))\n",
    "\n",
    "cl_report = classification_report(y_test, pred)\n",
    "print('리포트: \\n', cl_report)"
   ]
  },
  {
   "cell_type": "code",
   "execution_count": 30,
   "metadata": {},
   "outputs": [
    {
     "data": {
      "image/svg+xml": [
       "<?xml version=\"1.0\" encoding=\"UTF-8\" standalone=\"no\"?>\n",
       "<!DOCTYPE svg PUBLIC \"-//W3C//DTD SVG 1.1//EN\"\n",
       " \"http://www.w3.org/Graphics/SVG/1.1/DTD/svg11.dtd\">\n",
       "<!-- Generated by graphviz version 2.44.0 (20200408.0750)\n",
       " -->\n",
       "<!-- Title: Tree Pages: 1 -->\n",
       "<svg width=\"531pt\" height=\"433pt\"\n",
       " viewBox=\"0.00 0.00 531.00 433.00\" xmlns=\"http://www.w3.org/2000/svg\" xmlns:xlink=\"http://www.w3.org/1999/xlink\">\n",
       "<g id=\"graph0\" class=\"graph\" transform=\"scale(1 1) rotate(0) translate(4 429)\">\n",
       "<title>Tree</title>\n",
       "<polygon fill=\"white\" stroke=\"transparent\" points=\"-4,4 -4,-429 527,-429 527,4 -4,4\"/>\n",
       "<!-- 0 -->\n",
       "<g id=\"node1\" class=\"node\">\n",
       "<title>0</title>\n",
       "<polygon fill=\"#fffdfd\" stroke=\"black\" points=\"258,-425 109,-425 109,-342 258,-342 258,-425\"/>\n",
       "<text text-anchor=\"middle\" x=\"183.5\" y=\"-409.8\" font-family=\"Times,serif\" font-size=\"14.00\">petal width (cm) &lt;= 0.8</text>\n",
       "<text text-anchor=\"middle\" x=\"183.5\" y=\"-394.8\" font-family=\"Times,serif\" font-size=\"14.00\">gini = 0.667</text>\n",
       "<text text-anchor=\"middle\" x=\"183.5\" y=\"-379.8\" font-family=\"Times,serif\" font-size=\"14.00\">samples = 120</text>\n",
       "<text text-anchor=\"middle\" x=\"183.5\" y=\"-364.8\" font-family=\"Times,serif\" font-size=\"14.00\">value = [41, 40, 39]</text>\n",
       "<text text-anchor=\"middle\" x=\"183.5\" y=\"-349.8\" font-family=\"Times,serif\" font-size=\"14.00\">class = setosa</text>\n",
       "</g>\n",
       "<!-- 1 -->\n",
       "<g id=\"node2\" class=\"node\">\n",
       "<title>1</title>\n",
       "<polygon fill=\"#e58139\" stroke=\"black\" points=\"164,-298.5 51,-298.5 51,-230.5 164,-230.5 164,-298.5\"/>\n",
       "<text text-anchor=\"middle\" x=\"107.5\" y=\"-283.3\" font-family=\"Times,serif\" font-size=\"14.00\">gini = 0.0</text>\n",
       "<text text-anchor=\"middle\" x=\"107.5\" y=\"-268.3\" font-family=\"Times,serif\" font-size=\"14.00\">samples = 41</text>\n",
       "<text text-anchor=\"middle\" x=\"107.5\" y=\"-253.3\" font-family=\"Times,serif\" font-size=\"14.00\">value = [41, 0, 0]</text>\n",
       "<text text-anchor=\"middle\" x=\"107.5\" y=\"-238.3\" font-family=\"Times,serif\" font-size=\"14.00\">class = setosa</text>\n",
       "</g>\n",
       "<!-- 0&#45;&gt;1 -->\n",
       "<g id=\"edge1\" class=\"edge\">\n",
       "<title>0&#45;&gt;1</title>\n",
       "<path fill=\"none\" stroke=\"black\" d=\"M157.13,-341.91C149.82,-330.65 141.87,-318.42 134.53,-307.11\"/>\n",
       "<polygon fill=\"black\" stroke=\"black\" points=\"137.43,-305.15 129.04,-298.67 131.56,-308.96 137.43,-305.15\"/>\n",
       "<text text-anchor=\"middle\" x=\"123.85\" y=\"-319.42\" font-family=\"Times,serif\" font-size=\"14.00\">True</text>\n",
       "</g>\n",
       "<!-- 2 -->\n",
       "<g id=\"node3\" class=\"node\">\n",
       "<title>2</title>\n",
       "<polygon fill=\"#fafefc\" stroke=\"black\" points=\"337,-306 182,-306 182,-223 337,-223 337,-306\"/>\n",
       "<text text-anchor=\"middle\" x=\"259.5\" y=\"-290.8\" font-family=\"Times,serif\" font-size=\"14.00\">petal width (cm) &lt;= 1.55</text>\n",
       "<text text-anchor=\"middle\" x=\"259.5\" y=\"-275.8\" font-family=\"Times,serif\" font-size=\"14.00\">gini = 0.5</text>\n",
       "<text text-anchor=\"middle\" x=\"259.5\" y=\"-260.8\" font-family=\"Times,serif\" font-size=\"14.00\">samples = 79</text>\n",
       "<text text-anchor=\"middle\" x=\"259.5\" y=\"-245.8\" font-family=\"Times,serif\" font-size=\"14.00\">value = [0, 40, 39]</text>\n",
       "<text text-anchor=\"middle\" x=\"259.5\" y=\"-230.8\" font-family=\"Times,serif\" font-size=\"14.00\">class = versicolor</text>\n",
       "</g>\n",
       "<!-- 0&#45;&gt;2 -->\n",
       "<g id=\"edge2\" class=\"edge\">\n",
       "<title>0&#45;&gt;2</title>\n",
       "<path fill=\"none\" stroke=\"black\" d=\"M209.87,-341.91C215.59,-333.1 221.69,-323.7 227.6,-314.61\"/>\n",
       "<polygon fill=\"black\" stroke=\"black\" points=\"230.67,-316.31 233.18,-306.02 224.8,-312.5 230.67,-316.31\"/>\n",
       "<text text-anchor=\"middle\" x=\"238.37\" y=\"-326.78\" font-family=\"Times,serif\" font-size=\"14.00\">False</text>\n",
       "</g>\n",
       "<!-- 3 -->\n",
       "<g id=\"node4\" class=\"node\">\n",
       "<title>3</title>\n",
       "<polygon fill=\"#3ee684\" stroke=\"black\" points=\"251.5,-187 93.5,-187 93.5,-104 251.5,-104 251.5,-187\"/>\n",
       "<text text-anchor=\"middle\" x=\"172.5\" y=\"-171.8\" font-family=\"Times,serif\" font-size=\"14.00\">petal length (cm) &lt;= 5.25</text>\n",
       "<text text-anchor=\"middle\" x=\"172.5\" y=\"-156.8\" font-family=\"Times,serif\" font-size=\"14.00\">gini = 0.051</text>\n",
       "<text text-anchor=\"middle\" x=\"172.5\" y=\"-141.8\" font-family=\"Times,serif\" font-size=\"14.00\">samples = 38</text>\n",
       "<text text-anchor=\"middle\" x=\"172.5\" y=\"-126.8\" font-family=\"Times,serif\" font-size=\"14.00\">value = [0, 37, 1]</text>\n",
       "<text text-anchor=\"middle\" x=\"172.5\" y=\"-111.8\" font-family=\"Times,serif\" font-size=\"14.00\">class = versicolor</text>\n",
       "</g>\n",
       "<!-- 2&#45;&gt;3 -->\n",
       "<g id=\"edge3\" class=\"edge\">\n",
       "<title>2&#45;&gt;3</title>\n",
       "<path fill=\"none\" stroke=\"black\" d=\"M229.32,-222.91C222.64,-213.92 215.49,-204.32 208.6,-195.05\"/>\n",
       "<polygon fill=\"black\" stroke=\"black\" points=\"211.41,-192.96 202.63,-187.02 205.79,-197.13 211.41,-192.96\"/>\n",
       "</g>\n",
       "<!-- 6 -->\n",
       "<g id=\"node7\" class=\"node\">\n",
       "<title>6</title>\n",
       "<polygon fill=\"#8b49e7\" stroke=\"black\" points=\"425,-187 270,-187 270,-104 425,-104 425,-187\"/>\n",
       "<text text-anchor=\"middle\" x=\"347.5\" y=\"-171.8\" font-family=\"Times,serif\" font-size=\"14.00\">petal width (cm) &lt;= 1.75</text>\n",
       "<text text-anchor=\"middle\" x=\"347.5\" y=\"-156.8\" font-family=\"Times,serif\" font-size=\"14.00\">gini = 0.136</text>\n",
       "<text text-anchor=\"middle\" x=\"347.5\" y=\"-141.8\" font-family=\"Times,serif\" font-size=\"14.00\">samples = 41</text>\n",
       "<text text-anchor=\"middle\" x=\"347.5\" y=\"-126.8\" font-family=\"Times,serif\" font-size=\"14.00\">value = [0, 3, 38]</text>\n",
       "<text text-anchor=\"middle\" x=\"347.5\" y=\"-111.8\" font-family=\"Times,serif\" font-size=\"14.00\">class = virginica</text>\n",
       "</g>\n",
       "<!-- 2&#45;&gt;6 -->\n",
       "<g id=\"edge6\" class=\"edge\">\n",
       "<title>2&#45;&gt;6</title>\n",
       "<path fill=\"none\" stroke=\"black\" d=\"M290.03,-222.91C296.79,-213.92 304.02,-204.32 310.98,-195.05\"/>\n",
       "<polygon fill=\"black\" stroke=\"black\" points=\"313.81,-197.12 317.02,-187.02 308.21,-192.91 313.81,-197.12\"/>\n",
       "</g>\n",
       "<!-- 4 -->\n",
       "<g id=\"node5\" class=\"node\">\n",
       "<title>4</title>\n",
       "<polygon fill=\"#39e581\" stroke=\"black\" points=\"113,-68 0,-68 0,0 113,0 113,-68\"/>\n",
       "<text text-anchor=\"middle\" x=\"56.5\" y=\"-52.8\" font-family=\"Times,serif\" font-size=\"14.00\">gini = 0.0</text>\n",
       "<text text-anchor=\"middle\" x=\"56.5\" y=\"-37.8\" font-family=\"Times,serif\" font-size=\"14.00\">samples = 37</text>\n",
       "<text text-anchor=\"middle\" x=\"56.5\" y=\"-22.8\" font-family=\"Times,serif\" font-size=\"14.00\">value = [0, 37, 0]</text>\n",
       "<text text-anchor=\"middle\" x=\"56.5\" y=\"-7.8\" font-family=\"Times,serif\" font-size=\"14.00\">class = versicolor</text>\n",
       "</g>\n",
       "<!-- 3&#45;&gt;4 -->\n",
       "<g id=\"edge4\" class=\"edge\">\n",
       "<title>3&#45;&gt;4</title>\n",
       "<path fill=\"none\" stroke=\"black\" d=\"M129.31,-103.73C119.45,-94.42 108.98,-84.54 99.15,-75.26\"/>\n",
       "<polygon fill=\"black\" stroke=\"black\" points=\"101.45,-72.62 91.78,-68.3 96.65,-77.71 101.45,-72.62\"/>\n",
       "</g>\n",
       "<!-- 5 -->\n",
       "<g id=\"node6\" class=\"node\">\n",
       "<title>5</title>\n",
       "<polygon fill=\"#8139e5\" stroke=\"black\" points=\"238,-68 131,-68 131,0 238,0 238,-68\"/>\n",
       "<text text-anchor=\"middle\" x=\"184.5\" y=\"-52.8\" font-family=\"Times,serif\" font-size=\"14.00\">gini = 0.0</text>\n",
       "<text text-anchor=\"middle\" x=\"184.5\" y=\"-37.8\" font-family=\"Times,serif\" font-size=\"14.00\">samples = 1</text>\n",
       "<text text-anchor=\"middle\" x=\"184.5\" y=\"-22.8\" font-family=\"Times,serif\" font-size=\"14.00\">value = [0, 0, 1]</text>\n",
       "<text text-anchor=\"middle\" x=\"184.5\" y=\"-7.8\" font-family=\"Times,serif\" font-size=\"14.00\">class = virginica</text>\n",
       "</g>\n",
       "<!-- 3&#45;&gt;5 -->\n",
       "<g id=\"edge5\" class=\"edge\">\n",
       "<title>3&#45;&gt;5</title>\n",
       "<path fill=\"none\" stroke=\"black\" d=\"M176.97,-103.73C177.88,-95.43 178.84,-86.67 179.76,-78.28\"/>\n",
       "<polygon fill=\"black\" stroke=\"black\" points=\"183.24,-78.62 180.85,-68.3 176.28,-77.86 183.24,-78.62\"/>\n",
       "</g>\n",
       "<!-- 7 -->\n",
       "<g id=\"node8\" class=\"node\">\n",
       "<title>7</title>\n",
       "<polygon fill=\"#ffffff\" stroke=\"black\" points=\"392,-68 279,-68 279,0 392,0 392,-68\"/>\n",
       "<text text-anchor=\"middle\" x=\"335.5\" y=\"-52.8\" font-family=\"Times,serif\" font-size=\"14.00\">gini = 0.5</text>\n",
       "<text text-anchor=\"middle\" x=\"335.5\" y=\"-37.8\" font-family=\"Times,serif\" font-size=\"14.00\">samples = 4</text>\n",
       "<text text-anchor=\"middle\" x=\"335.5\" y=\"-22.8\" font-family=\"Times,serif\" font-size=\"14.00\">value = [0, 2, 2]</text>\n",
       "<text text-anchor=\"middle\" x=\"335.5\" y=\"-7.8\" font-family=\"Times,serif\" font-size=\"14.00\">class = versicolor</text>\n",
       "</g>\n",
       "<!-- 6&#45;&gt;7 -->\n",
       "<g id=\"edge7\" class=\"edge\">\n",
       "<title>6&#45;&gt;7</title>\n",
       "<path fill=\"none\" stroke=\"black\" d=\"M343.03,-103.73C342.12,-95.43 341.16,-86.67 340.24,-78.28\"/>\n",
       "<polygon fill=\"black\" stroke=\"black\" points=\"343.72,-77.86 339.15,-68.3 336.76,-78.62 343.72,-77.86\"/>\n",
       "</g>\n",
       "<!-- 8 -->\n",
       "<g id=\"node9\" class=\"node\">\n",
       "<title>8</title>\n",
       "<polygon fill=\"#843ee6\" stroke=\"black\" points=\"523,-68 410,-68 410,0 523,0 523,-68\"/>\n",
       "<text text-anchor=\"middle\" x=\"466.5\" y=\"-52.8\" font-family=\"Times,serif\" font-size=\"14.00\">gini = 0.053</text>\n",
       "<text text-anchor=\"middle\" x=\"466.5\" y=\"-37.8\" font-family=\"Times,serif\" font-size=\"14.00\">samples = 37</text>\n",
       "<text text-anchor=\"middle\" x=\"466.5\" y=\"-22.8\" font-family=\"Times,serif\" font-size=\"14.00\">value = [0, 1, 36]</text>\n",
       "<text text-anchor=\"middle\" x=\"466.5\" y=\"-7.8\" font-family=\"Times,serif\" font-size=\"14.00\">class = virginica</text>\n",
       "</g>\n",
       "<!-- 6&#45;&gt;8 -->\n",
       "<g id=\"edge8\" class=\"edge\">\n",
       "<title>6&#45;&gt;8</title>\n",
       "<path fill=\"none\" stroke=\"black\" d=\"M391.81,-103.73C401.92,-94.42 412.66,-84.54 422.75,-75.26\"/>\n",
       "<polygon fill=\"black\" stroke=\"black\" points=\"425.32,-77.65 430.31,-68.3 420.58,-72.5 425.32,-77.65\"/>\n",
       "</g>\n",
       "</g>\n",
       "</svg>\n"
      ],
      "text/plain": [
       "<graphviz.files.Source at 0x12613df50>"
      ]
     },
     "execution_count": 30,
     "metadata": {},
     "output_type": "execute_result"
    }
   ],
   "source": [
    "from sklearn.tree import export_graphviz\n",
    "import graphviz\n",
    "\n",
    "export_graphviz(dt_clf, out_file='tree.dot', class_names= iris.target_names,\n",
    "               feature_names=iris.feature_names,impurity=True, filled=True)\n",
    "\n",
    "f = open('tree.dot')\n",
    "dot_graph = f.read()\n",
    "graphviz.Source(dot_graph)"
   ]
  },
  {
   "cell_type": "markdown",
   "metadata": {},
   "source": [
    "### [2] min_samples_leaf: 리프노드 \n",
    "\n",
    "- 노드를 분할하기 위한 최소의 샘플 데이터 수, 2, 과적합을 제어하는 데 사용, 정확도에도 영향"
   ]
  },
  {
   "cell_type": "code",
   "execution_count": 31,
   "metadata": {},
   "outputs": [
    {
     "name": "stdout",
     "output_type": "stream",
     "text": [
      "정확도: 0.8667\n"
     ]
    }
   ],
   "source": [
    "# 학습(Train) 수행\n",
    "# dt_clf = DecisionTreeClassifier(random_state=11, min_samples_split = 2) # 정확도: 0.9333\n",
    "# dt_clf = DecisionTreeClassifier(random_state=11, min_samples_split = 4) # 정확도: 0.9333\n",
    "# dt_clf = DecisionTreeClassifier(random_state=11, min_samples_split = 41) # 정확도: 0.9333\n",
    "dt_clf = DecisionTreeClassifier(random_state=11, min_samples_split = 42) # 정확도: 0.8667  , 정확도 감소\n",
    "\n",
    "dt_clf.fit(X_train,y_train)\n",
    "\n",
    "# 예측(predict) 수행\n",
    "pred = dt_clf.predict(X_test)\n",
    "\n",
    "# 정확도\n",
    "print('정확도: {0:.4f}'.format(accuracy_score(y_test,pred)))"
   ]
  },
  {
   "cell_type": "code",
   "execution_count": 32,
   "metadata": {
    "scrolled": true
   },
   "outputs": [
    {
     "data": {
      "image/svg+xml": [
       "<?xml version=\"1.0\" encoding=\"UTF-8\" standalone=\"no\"?>\n",
       "<!DOCTYPE svg PUBLIC \"-//W3C//DTD SVG 1.1//EN\"\n",
       " \"http://www.w3.org/Graphics/SVG/1.1/DTD/svg11.dtd\">\n",
       "<!-- Generated by graphviz version 2.44.0 (20200408.0750)\n",
       " -->\n",
       "<!-- Title: Tree Pages: 1 -->\n",
       "<svg width=\"338pt\" height=\"314pt\"\n",
       " viewBox=\"0.00 0.00 338.00 314.00\" xmlns=\"http://www.w3.org/2000/svg\" xmlns:xlink=\"http://www.w3.org/1999/xlink\">\n",
       "<g id=\"graph0\" class=\"graph\" transform=\"scale(1 1) rotate(0) translate(4 310)\">\n",
       "<title>Tree</title>\n",
       "<polygon fill=\"white\" stroke=\"transparent\" points=\"-4,4 -4,-310 334,-310 334,4 -4,4\"/>\n",
       "<!-- 0 -->\n",
       "<g id=\"node1\" class=\"node\">\n",
       "<title>0</title>\n",
       "<polygon fill=\"#fffdfd\" stroke=\"black\" points=\"207,-306 58,-306 58,-223 207,-223 207,-306\"/>\n",
       "<text text-anchor=\"middle\" x=\"132.5\" y=\"-290.8\" font-family=\"Times,serif\" font-size=\"14.00\">petal width (cm) &lt;= 0.8</text>\n",
       "<text text-anchor=\"middle\" x=\"132.5\" y=\"-275.8\" font-family=\"Times,serif\" font-size=\"14.00\">gini = 0.667</text>\n",
       "<text text-anchor=\"middle\" x=\"132.5\" y=\"-260.8\" font-family=\"Times,serif\" font-size=\"14.00\">samples = 120</text>\n",
       "<text text-anchor=\"middle\" x=\"132.5\" y=\"-245.8\" font-family=\"Times,serif\" font-size=\"14.00\">value = [41, 40, 39]</text>\n",
       "<text text-anchor=\"middle\" x=\"132.5\" y=\"-230.8\" font-family=\"Times,serif\" font-size=\"14.00\">class = setosa</text>\n",
       "</g>\n",
       "<!-- 1 -->\n",
       "<g id=\"node2\" class=\"node\">\n",
       "<title>1</title>\n",
       "<polygon fill=\"#e58139\" stroke=\"black\" points=\"113,-179.5 0,-179.5 0,-111.5 113,-111.5 113,-179.5\"/>\n",
       "<text text-anchor=\"middle\" x=\"56.5\" y=\"-164.3\" font-family=\"Times,serif\" font-size=\"14.00\">gini = 0.0</text>\n",
       "<text text-anchor=\"middle\" x=\"56.5\" y=\"-149.3\" font-family=\"Times,serif\" font-size=\"14.00\">samples = 41</text>\n",
       "<text text-anchor=\"middle\" x=\"56.5\" y=\"-134.3\" font-family=\"Times,serif\" font-size=\"14.00\">value = [41, 0, 0]</text>\n",
       "<text text-anchor=\"middle\" x=\"56.5\" y=\"-119.3\" font-family=\"Times,serif\" font-size=\"14.00\">class = setosa</text>\n",
       "</g>\n",
       "<!-- 0&#45;&gt;1 -->\n",
       "<g id=\"edge1\" class=\"edge\">\n",
       "<title>0&#45;&gt;1</title>\n",
       "<path fill=\"none\" stroke=\"black\" d=\"M106.13,-222.91C98.82,-211.65 90.87,-199.42 83.53,-188.11\"/>\n",
       "<polygon fill=\"black\" stroke=\"black\" points=\"86.43,-186.15 78.04,-179.67 80.56,-189.96 86.43,-186.15\"/>\n",
       "<text text-anchor=\"middle\" x=\"72.85\" y=\"-200.42\" font-family=\"Times,serif\" font-size=\"14.00\">True</text>\n",
       "</g>\n",
       "<!-- 2 -->\n",
       "<g id=\"node3\" class=\"node\">\n",
       "<title>2</title>\n",
       "<polygon fill=\"#fafefc\" stroke=\"black\" points=\"286,-187 131,-187 131,-104 286,-104 286,-187\"/>\n",
       "<text text-anchor=\"middle\" x=\"208.5\" y=\"-171.8\" font-family=\"Times,serif\" font-size=\"14.00\">petal width (cm) &lt;= 1.55</text>\n",
       "<text text-anchor=\"middle\" x=\"208.5\" y=\"-156.8\" font-family=\"Times,serif\" font-size=\"14.00\">gini = 0.5</text>\n",
       "<text text-anchor=\"middle\" x=\"208.5\" y=\"-141.8\" font-family=\"Times,serif\" font-size=\"14.00\">samples = 79</text>\n",
       "<text text-anchor=\"middle\" x=\"208.5\" y=\"-126.8\" font-family=\"Times,serif\" font-size=\"14.00\">value = [0, 40, 39]</text>\n",
       "<text text-anchor=\"middle\" x=\"208.5\" y=\"-111.8\" font-family=\"Times,serif\" font-size=\"14.00\">class = versicolor</text>\n",
       "</g>\n",
       "<!-- 0&#45;&gt;2 -->\n",
       "<g id=\"edge2\" class=\"edge\">\n",
       "<title>0&#45;&gt;2</title>\n",
       "<path fill=\"none\" stroke=\"black\" d=\"M158.87,-222.91C164.59,-214.1 170.69,-204.7 176.6,-195.61\"/>\n",
       "<polygon fill=\"black\" stroke=\"black\" points=\"179.67,-197.31 182.18,-187.02 173.8,-193.5 179.67,-197.31\"/>\n",
       "<text text-anchor=\"middle\" x=\"187.37\" y=\"-207.78\" font-family=\"Times,serif\" font-size=\"14.00\">False</text>\n",
       "</g>\n",
       "<!-- 3 -->\n",
       "<g id=\"node4\" class=\"node\">\n",
       "<title>3</title>\n",
       "<polygon fill=\"#3ee684\" stroke=\"black\" points=\"199,-68 86,-68 86,0 199,0 199,-68\"/>\n",
       "<text text-anchor=\"middle\" x=\"142.5\" y=\"-52.8\" font-family=\"Times,serif\" font-size=\"14.00\">gini = 0.051</text>\n",
       "<text text-anchor=\"middle\" x=\"142.5\" y=\"-37.8\" font-family=\"Times,serif\" font-size=\"14.00\">samples = 38</text>\n",
       "<text text-anchor=\"middle\" x=\"142.5\" y=\"-22.8\" font-family=\"Times,serif\" font-size=\"14.00\">value = [0, 37, 1]</text>\n",
       "<text text-anchor=\"middle\" x=\"142.5\" y=\"-7.8\" font-family=\"Times,serif\" font-size=\"14.00\">class = versicolor</text>\n",
       "</g>\n",
       "<!-- 2&#45;&gt;3 -->\n",
       "<g id=\"edge3\" class=\"edge\">\n",
       "<title>2&#45;&gt;3</title>\n",
       "<path fill=\"none\" stroke=\"black\" d=\"M183.92,-103.73C178.65,-94.97 173.06,-85.7 167.76,-76.91\"/>\n",
       "<polygon fill=\"black\" stroke=\"black\" points=\"170.73,-75.06 162.57,-68.3 164.74,-78.67 170.73,-75.06\"/>\n",
       "</g>\n",
       "<!-- 4 -->\n",
       "<g id=\"node5\" class=\"node\">\n",
       "<title>4</title>\n",
       "<polygon fill=\"#8b49e7\" stroke=\"black\" points=\"330,-68 217,-68 217,0 330,0 330,-68\"/>\n",
       "<text text-anchor=\"middle\" x=\"273.5\" y=\"-52.8\" font-family=\"Times,serif\" font-size=\"14.00\">gini = 0.136</text>\n",
       "<text text-anchor=\"middle\" x=\"273.5\" y=\"-37.8\" font-family=\"Times,serif\" font-size=\"14.00\">samples = 41</text>\n",
       "<text text-anchor=\"middle\" x=\"273.5\" y=\"-22.8\" font-family=\"Times,serif\" font-size=\"14.00\">value = [0, 3, 38]</text>\n",
       "<text text-anchor=\"middle\" x=\"273.5\" y=\"-7.8\" font-family=\"Times,serif\" font-size=\"14.00\">class = virginica</text>\n",
       "</g>\n",
       "<!-- 2&#45;&gt;4 -->\n",
       "<g id=\"edge4\" class=\"edge\">\n",
       "<title>2&#45;&gt;4</title>\n",
       "<path fill=\"none\" stroke=\"black\" d=\"M232.7,-103.73C237.9,-94.97 243.4,-85.7 248.62,-76.91\"/>\n",
       "<polygon fill=\"black\" stroke=\"black\" points=\"251.64,-78.69 253.73,-68.3 245.62,-75.11 251.64,-78.69\"/>\n",
       "</g>\n",
       "</g>\n",
       "</svg>\n"
      ],
      "text/plain": [
       "<graphviz.files.Source at 0x12614a450>"
      ]
     },
     "execution_count": 32,
     "metadata": {},
     "output_type": "execute_result"
    }
   ],
   "source": [
    "export_graphviz(dt_clf, out_file='tree.dot', class_names= iris.target_names,\n",
    "               feature_names=iris.feature_names,impurity=True, filled=True)\n",
    "\n",
    "import graphviz\n",
    "\n",
    "f = open('tree.dot')\n",
    "dot_graph = f.read()\n",
    "graphviz.Source(dot_graph)"
   ]
  },
  {
   "cell_type": "markdown",
   "metadata": {},
   "source": [
    "### [3] min_samples_leaf : 리프 노드가 되기 위한 최소한의 샘플데이터 수, 1"
   ]
  },
  {
   "cell_type": "code",
   "execution_count": 33,
   "metadata": {},
   "outputs": [
    {
     "name": "stdout",
     "output_type": "stream",
     "text": [
      "정확도: 0.9333\n"
     ]
    }
   ],
   "source": [
    "# 학습(Train) 수행\n",
    "# dt_clf = DecisionTreeClassifier(random_state=11, min_samples_leaf = 1) # 정확도: 0.9333\n",
    "# dt_clf = DecisionTreeClassifier(random_state=11, min_samples_leaf = 4) # 정확도: 0.9333  , 적정값\n",
    "# dt_clf = DecisionTreeClassifier(random_state=11, min_samples_leaf = 5) # 정확도: 0.8667, 정확도 감소\n",
    "dt_clf = DecisionTreeClassifier(random_state=11, min_samples_leaf = 39) # 정확도: 0.9333,    적정값\n",
    "# dt_clf = DecisionTreeClassifier(random_state=11, min_samples_leaf = 40) # 정확도: 0.6333, 정확도 감소\n",
    "\n",
    "\n",
    "dt_clf.fit(X_train,y_train)\n",
    "\n",
    "# 예측(predict) 수행\n",
    "pred = dt_clf.predict(X_test)\n",
    "\n",
    "# 정확도\n",
    "print('정확도: {0:.4f}'.format(accuracy_score(y_test,pred)))"
   ]
  },
  {
   "cell_type": "code",
   "execution_count": 34,
   "metadata": {},
   "outputs": [
    {
     "data": {
      "image/svg+xml": [
       "<?xml version=\"1.0\" encoding=\"UTF-8\" standalone=\"no\"?>\n",
       "<!DOCTYPE svg PUBLIC \"-//W3C//DTD SVG 1.1//EN\"\n",
       " \"http://www.w3.org/Graphics/SVG/1.1/DTD/svg11.dtd\">\n",
       "<!-- Generated by graphviz version 2.44.0 (20200408.0750)\n",
       " -->\n",
       "<!-- Title: Tree Pages: 1 -->\n",
       "<svg width=\"338pt\" height=\"314pt\"\n",
       " viewBox=\"0.00 0.00 338.00 314.00\" xmlns=\"http://www.w3.org/2000/svg\" xmlns:xlink=\"http://www.w3.org/1999/xlink\">\n",
       "<g id=\"graph0\" class=\"graph\" transform=\"scale(1 1) rotate(0) translate(4 310)\">\n",
       "<title>Tree</title>\n",
       "<polygon fill=\"white\" stroke=\"transparent\" points=\"-4,4 -4,-310 334,-310 334,4 -4,4\"/>\n",
       "<!-- 0 -->\n",
       "<g id=\"node1\" class=\"node\">\n",
       "<title>0</title>\n",
       "<polygon fill=\"#fffdfd\" stroke=\"black\" points=\"207,-306 58,-306 58,-223 207,-223 207,-306\"/>\n",
       "<text text-anchor=\"middle\" x=\"132.5\" y=\"-290.8\" font-family=\"Times,serif\" font-size=\"14.00\">petal width (cm) &lt;= 0.8</text>\n",
       "<text text-anchor=\"middle\" x=\"132.5\" y=\"-275.8\" font-family=\"Times,serif\" font-size=\"14.00\">gini = 0.667</text>\n",
       "<text text-anchor=\"middle\" x=\"132.5\" y=\"-260.8\" font-family=\"Times,serif\" font-size=\"14.00\">samples = 120</text>\n",
       "<text text-anchor=\"middle\" x=\"132.5\" y=\"-245.8\" font-family=\"Times,serif\" font-size=\"14.00\">value = [41, 40, 39]</text>\n",
       "<text text-anchor=\"middle\" x=\"132.5\" y=\"-230.8\" font-family=\"Times,serif\" font-size=\"14.00\">class = setosa</text>\n",
       "</g>\n",
       "<!-- 1 -->\n",
       "<g id=\"node2\" class=\"node\">\n",
       "<title>1</title>\n",
       "<polygon fill=\"#e58139\" stroke=\"black\" points=\"113,-179.5 0,-179.5 0,-111.5 113,-111.5 113,-179.5\"/>\n",
       "<text text-anchor=\"middle\" x=\"56.5\" y=\"-164.3\" font-family=\"Times,serif\" font-size=\"14.00\">gini = 0.0</text>\n",
       "<text text-anchor=\"middle\" x=\"56.5\" y=\"-149.3\" font-family=\"Times,serif\" font-size=\"14.00\">samples = 41</text>\n",
       "<text text-anchor=\"middle\" x=\"56.5\" y=\"-134.3\" font-family=\"Times,serif\" font-size=\"14.00\">value = [41, 0, 0]</text>\n",
       "<text text-anchor=\"middle\" x=\"56.5\" y=\"-119.3\" font-family=\"Times,serif\" font-size=\"14.00\">class = setosa</text>\n",
       "</g>\n",
       "<!-- 0&#45;&gt;1 -->\n",
       "<g id=\"edge1\" class=\"edge\">\n",
       "<title>0&#45;&gt;1</title>\n",
       "<path fill=\"none\" stroke=\"black\" d=\"M106.13,-222.91C98.82,-211.65 90.87,-199.42 83.53,-188.11\"/>\n",
       "<polygon fill=\"black\" stroke=\"black\" points=\"86.43,-186.15 78.04,-179.67 80.56,-189.96 86.43,-186.15\"/>\n",
       "<text text-anchor=\"middle\" x=\"72.85\" y=\"-200.42\" font-family=\"Times,serif\" font-size=\"14.00\">True</text>\n",
       "</g>\n",
       "<!-- 2 -->\n",
       "<g id=\"node3\" class=\"node\">\n",
       "<title>2</title>\n",
       "<polygon fill=\"#fafefc\" stroke=\"black\" points=\"286,-187 131,-187 131,-104 286,-104 286,-187\"/>\n",
       "<text text-anchor=\"middle\" x=\"208.5\" y=\"-171.8\" font-family=\"Times,serif\" font-size=\"14.00\">petal width (cm) &lt;= 1.65</text>\n",
       "<text text-anchor=\"middle\" x=\"208.5\" y=\"-156.8\" font-family=\"Times,serif\" font-size=\"14.00\">gini = 0.5</text>\n",
       "<text text-anchor=\"middle\" x=\"208.5\" y=\"-141.8\" font-family=\"Times,serif\" font-size=\"14.00\">samples = 79</text>\n",
       "<text text-anchor=\"middle\" x=\"208.5\" y=\"-126.8\" font-family=\"Times,serif\" font-size=\"14.00\">value = [0, 40, 39]</text>\n",
       "<text text-anchor=\"middle\" x=\"208.5\" y=\"-111.8\" font-family=\"Times,serif\" font-size=\"14.00\">class = versicolor</text>\n",
       "</g>\n",
       "<!-- 0&#45;&gt;2 -->\n",
       "<g id=\"edge2\" class=\"edge\">\n",
       "<title>0&#45;&gt;2</title>\n",
       "<path fill=\"none\" stroke=\"black\" d=\"M158.87,-222.91C164.59,-214.1 170.69,-204.7 176.6,-195.61\"/>\n",
       "<polygon fill=\"black\" stroke=\"black\" points=\"179.67,-197.31 182.18,-187.02 173.8,-193.5 179.67,-197.31\"/>\n",
       "<text text-anchor=\"middle\" x=\"187.37\" y=\"-207.78\" font-family=\"Times,serif\" font-size=\"14.00\">False</text>\n",
       "</g>\n",
       "<!-- 3 -->\n",
       "<g id=\"node4\" class=\"node\">\n",
       "<title>3</title>\n",
       "<polygon fill=\"#43e688\" stroke=\"black\" points=\"199,-68 86,-68 86,0 199,0 199,-68\"/>\n",
       "<text text-anchor=\"middle\" x=\"142.5\" y=\"-52.8\" font-family=\"Times,serif\" font-size=\"14.00\">gini = 0.095</text>\n",
       "<text text-anchor=\"middle\" x=\"142.5\" y=\"-37.8\" font-family=\"Times,serif\" font-size=\"14.00\">samples = 40</text>\n",
       "<text text-anchor=\"middle\" x=\"142.5\" y=\"-22.8\" font-family=\"Times,serif\" font-size=\"14.00\">value = [0, 38, 2]</text>\n",
       "<text text-anchor=\"middle\" x=\"142.5\" y=\"-7.8\" font-family=\"Times,serif\" font-size=\"14.00\">class = versicolor</text>\n",
       "</g>\n",
       "<!-- 2&#45;&gt;3 -->\n",
       "<g id=\"edge3\" class=\"edge\">\n",
       "<title>2&#45;&gt;3</title>\n",
       "<path fill=\"none\" stroke=\"black\" d=\"M183.92,-103.73C178.65,-94.97 173.06,-85.7 167.76,-76.91\"/>\n",
       "<polygon fill=\"black\" stroke=\"black\" points=\"170.73,-75.06 162.57,-68.3 164.74,-78.67 170.73,-75.06\"/>\n",
       "</g>\n",
       "<!-- 4 -->\n",
       "<g id=\"node5\" class=\"node\">\n",
       "<title>4</title>\n",
       "<polygon fill=\"#8844e6\" stroke=\"black\" points=\"330,-68 217,-68 217,0 330,0 330,-68\"/>\n",
       "<text text-anchor=\"middle\" x=\"273.5\" y=\"-52.8\" font-family=\"Times,serif\" font-size=\"14.00\">gini = 0.097</text>\n",
       "<text text-anchor=\"middle\" x=\"273.5\" y=\"-37.8\" font-family=\"Times,serif\" font-size=\"14.00\">samples = 39</text>\n",
       "<text text-anchor=\"middle\" x=\"273.5\" y=\"-22.8\" font-family=\"Times,serif\" font-size=\"14.00\">value = [0, 2, 37]</text>\n",
       "<text text-anchor=\"middle\" x=\"273.5\" y=\"-7.8\" font-family=\"Times,serif\" font-size=\"14.00\">class = virginica</text>\n",
       "</g>\n",
       "<!-- 2&#45;&gt;4 -->\n",
       "<g id=\"edge4\" class=\"edge\">\n",
       "<title>2&#45;&gt;4</title>\n",
       "<path fill=\"none\" stroke=\"black\" d=\"M232.7,-103.73C237.9,-94.97 243.4,-85.7 248.62,-76.91\"/>\n",
       "<polygon fill=\"black\" stroke=\"black\" points=\"251.64,-78.69 253.73,-68.3 245.62,-75.11 251.64,-78.69\"/>\n",
       "</g>\n",
       "</g>\n",
       "</svg>\n"
      ],
      "text/plain": [
       "<graphviz.files.Source at 0x12614aa50>"
      ]
     },
     "execution_count": 34,
     "metadata": {},
     "output_type": "execute_result"
    }
   ],
   "source": [
    "from sklearn.tree import export_graphviz\n",
    "\n",
    "export_graphviz(dt_clf, out_file='tree.dot', class_names= iris.target_names,\n",
    "               feature_names=iris.feature_names,impurity=True, filled=True)\n",
    "\n",
    "import graphviz\n",
    "\n",
    "f = open('tree.dot')\n",
    "dot_graph = f.read()\n",
    "graphviz.Source(dot_graph)"
   ]
  },
  {
   "cell_type": "markdown",
   "metadata": {},
   "source": [
    "## 레이블 인코딩 ( Label encoding)"
   ]
  },
  {
   "cell_type": "code",
   "execution_count": 35,
   "metadata": {},
   "outputs": [
    {
     "name": "stdout",
     "output_type": "stream",
     "text": [
      "encoding 변환 값:  [0 1 4 5 3 2 3]\n"
     ]
    }
   ],
   "source": [
    "from sklearn.preprocessing import LabelEncoder\n",
    "\n",
    "items = ['TV', '냉장고', '전자렌지', '컴퓨터', '선풍기', '믹서', '선풍기']\n",
    "\n",
    "encoder = LabelEncoder()\n",
    "encoder.fit(items)\n",
    "\n",
    "labels = encoder.transform(items)\n",
    "print('encoding 변환 값: ', labels)"
   ]
  },
  {
   "cell_type": "code",
   "execution_count": 36,
   "metadata": {},
   "outputs": [
    {
     "name": "stdout",
     "output_type": "stream",
     "text": [
      "인코딩 클래스: ['TV' '냉장고' '믹서' '선풍기' '전자렌지' '컴퓨터']\n"
     ]
    }
   ],
   "source": [
    "print('인코딩 클래스:', encoder.classes_)"
   ]
  },
  {
   "cell_type": "code",
   "execution_count": 37,
   "metadata": {},
   "outputs": [
    {
     "name": "stdout",
     "output_type": "stream",
     "text": [
      "디코딩 원본값:  ['TV' '냉장고' '선풍기' '전자렌지' '컴퓨터' '믹서' '전자렌지' 'TV']\n"
     ]
    }
   ],
   "source": [
    "print('디코딩 원본값: ', encoder.inverse_transform([0, 1, 3, 4, 5, 2, 4,0]))"
   ]
  },
  {
   "cell_type": "markdown",
   "metadata": {},
   "source": [
    "## 교차 검증( Cross Validation)"
   ]
  },
  {
   "cell_type": "markdown",
   "metadata": {},
   "source": [
    "- 테스트 데이터에만 과적합 될 수 있으므로 테스트를 여러번 수행하여 평균정확도를 구한다.\n",
    "- K- 교차검증에서 K에는 5 or 10과 같은 특정 숫자가 들어가며 데이터를 비슷한 크기의 집합 'K개'로 나눈다.\n"
   ]
  },
  {
   "cell_type": "code",
   "execution_count": 38,
   "metadata": {},
   "outputs": [
    {
     "name": "stdout",
     "output_type": "stream",
     "text": [
      "정확도:  0.933333\n",
      "교차 검증별 정확도:  [0.98 0.92 0.98]\n",
      "평균 교차검증별 정확도:  0.96\n"
     ]
    },
    {
     "data": {
      "text/plain": [
       "((150, 4), (150,))"
      ]
     },
     "execution_count": 38,
     "metadata": {},
     "output_type": "execute_result"
    }
   ],
   "source": [
    "from sklearn.model_selection import cross_val_score\n",
    "\n",
    "iris_data = load_iris()\n",
    "\n",
    "X_train,X_test,y_train,y_test = train_test_split(iris_data.data,iris_data.target,test_size=0.2,\n",
    "                                            random_state=11)\n",
    "dt_clf = DecisionTreeClassifier(random_state=11)\n",
    "\n",
    "dt_clf.fit(X_train,y_train)\n",
    "\n",
    "# 예측(predict) 수행\n",
    "# pred = dt_clf.predict(X_test)\n",
    "\n",
    "# 정확도 \n",
    "print('정확도: {0: 4f}'.format(accuracy_score(y_test, pred)))\n",
    "\n",
    "cv_score = cross_val_score(dt_clf, iris_data.data, iris_data.target, scoring='accuracy', cv = 3)\n",
    "\n",
    "print('교차 검증별 정확도: ', cv_score)\n",
    "print('평균 교차검증별 정확도: ', np.mean(cv_score))\n",
    "iris_data.data.shape, iris_data.target.shape"
   ]
  },
  {
   "cell_type": "markdown",
   "metadata": {},
   "source": [
    "## K 폴드 교차 검증 \n",
    "\n",
    "- K번 만큼 폴드(Fold)된 각각의 데이터 세트로 학습과 검증을 k번 만큼 반복하며 평균 정확도를 구함"
   ]
  },
  {
   "cell_type": "code",
   "execution_count": 39,
   "metadata": {},
   "outputs": [],
   "source": [
    "from sklearn.model_selection import KFold"
   ]
  },
  {
   "cell_type": "code",
   "execution_count": 40,
   "metadata": {},
   "outputs": [
    {
     "name": "stdout",
     "output_type": "stream",
     "text": [
      "(150, 4)\n",
      "(150,)\n"
     ]
    }
   ],
   "source": [
    "iris = load_iris()\n",
    "features = iris.data\n",
    "label = iris.target\n",
    "\n",
    "print(features.shape)\n",
    "print(label.shape)\n",
    "\n",
    "dt_clf = DecisionTreeClassifier(random_state=11)"
   ]
  },
  {
   "cell_type": "markdown",
   "metadata": {},
   "source": [
    "### 5개 포드 세트로 분리 "
   ]
  },
  {
   "cell_type": "code",
   "execution_count": 41,
   "metadata": {},
   "outputs": [
    {
     "name": "stdout",
     "output_type": "stream",
     "text": [
      "# 1 교차 검증 정확도:  1.0 학습데이터의 크기:  120 검증데이터의 크기:  30\n",
      "# 2 교차 검증 정확도:  0.9667 학습데이터의 크기:  120 검증데이터의 크기:  30\n",
      "# 3 교차 검증 정확도:  0.8667 학습데이터의 크기:  120 검증데이터의 크기:  30\n",
      "# 4 교차 검증 정확도:  0.9333 학습데이터의 크기:  120 검증데이터의 크기:  30\n",
      "# 5 교차 검증 정확도:  0.8333 학습데이터의 크기:  120 검증데이터의 크기:  30\n",
      "0.92\n"
     ]
    }
   ],
   "source": [
    "kfold = KFold(n_splits=5)\n",
    "cv_accuracy = []\n",
    "\n",
    "n_iter = 0\n",
    "\n",
    "for train_index, test_index in kfold.split(features):\n",
    "    # kfold.split() 함수로 분리되어 반환된 인덱스를 사용하여 학습/검증용 데이터를 추출\n",
    "    # K 값 :  학습/검증  검증 데이터의 비율\n",
    "    # 2:       75:75     1/2 (50%)\n",
    "    # 3:      100:50     1/3 (33%)\n",
    "    # 4 :     112:38     1/4 (25%)  \n",
    "    # 5 :     120:30     1/5 (20%)\n",
    "    # 6 :    125:25     1/6 (16.7%)\n",
    "    \n",
    "    X_train = features[train_index]\n",
    "#    print(X_train.shape)\n",
    "    X_test = features[test_index]\n",
    "#    print(X_test.shape)\n",
    "    \n",
    "    y_train = label[train_index]\n",
    "    y_test = label[test_index]      \n",
    "    \n",
    "    # 학습 / 예측 \n",
    "    dt_clf.fit(X_train, y_train)\n",
    "    pred = dt_clf.predict(X_test)\n",
    "    \n",
    "    n_iter += 1\n",
    "    \n",
    "    # 반복시 마다 정확도 측정\n",
    "    accuracy = round(accuracy_score(y_test, pred) , 4)\n",
    "    cv_accuracy.append(accuracy)\n",
    "    \n",
    "    print('#', n_iter , \n",
    "          '교차 검증 정확도: ', accuracy,\n",
    "          '학습데이터의 크기: ', X_train.shape[0],\n",
    "          '검증데이터의 크기: ', X_test.shape[0])\n",
    "    \n",
    "# K폴드로 반복 된 정확도를 합하여 평균 정확도 계산        \n",
    "print(round(np.mean(cv_accuracy), 4))"
   ]
  },
  {
   "cell_type": "markdown",
   "metadata": {},
   "source": [
    "## Stratified K fold : 필수 사용\n",
    "- label이 지나치게 불균형   분포를 이룰 때 레이블의 분포를 균일하게 폴드 시키는 방식\n",
    "- 분류에서만 가능( 회귀는 지원하지 않음)"
   ]
  },
  {
   "cell_type": "code",
   "execution_count": 42,
   "metadata": {},
   "outputs": [
    {
     "name": "stdout",
     "output_type": "stream",
     "text": [
      "2    50\n",
      "1    50\n",
      "0    20\n",
      "Name: label, dtype: int64\n",
      "0    30\n",
      "Name: label, dtype: int64\n",
      "2    50\n",
      "1    40\n",
      "0    30\n",
      "Name: label, dtype: int64\n",
      "0    20\n",
      "1    10\n",
      "Name: label, dtype: int64\n",
      "2    50\n",
      "0    50\n",
      "1    20\n",
      "Name: label, dtype: int64\n",
      "1    30\n",
      "Name: label, dtype: int64\n",
      "0    50\n",
      "1    40\n",
      "2    30\n",
      "Name: label, dtype: int64\n",
      "2    20\n",
      "1    10\n",
      "Name: label, dtype: int64\n",
      "1    50\n",
      "0    50\n",
      "2    20\n",
      "Name: label, dtype: int64\n",
      "2    30\n",
      "Name: label, dtype: int64\n"
     ]
    }
   ],
   "source": [
    "iris = load_iris()\n",
    "iris_df = pd.DataFrame(data = iris.data, columns=iris.feature_names)\n",
    "iris_df['label'] = iris.target\n",
    "iris_df['label'].value_counts()\n",
    "\n",
    "\n",
    "kfold = KFold(n_splits=5)\n",
    "n_iter = 0\n",
    "\n",
    "for train_index, test_index in kfold.split(features):\n",
    "    n_iter += 1\n",
    "    \n",
    "    label_train = iris_df['label'].iloc[train_index]\n",
    "    label_test = iris_df['label'].iloc[test_index]\n",
    "#    print(n_iter)\n",
    "    print(label_train.value_counts())\n",
    "    print(label_test.value_counts())"
   ]
  },
  {
   "cell_type": "markdown",
   "metadata": {},
   "source": [
    "## StratifiedKFold  : \n",
    "- 레이블 분포가 균일하게 분리 된다 ,정확도 향상"
   ]
  },
  {
   "cell_type": "code",
   "execution_count": 43,
   "metadata": {},
   "outputs": [
    {
     "name": "stdout",
     "output_type": "stream",
     "text": [
      "2    34\n",
      "1    33\n",
      "0    33\n",
      "Name: label, dtype: int64\n",
      "1    17\n",
      "0    17\n",
      "2    16\n",
      "Name: label, dtype: int64\n",
      "1    34\n",
      "2    33\n",
      "0    33\n",
      "Name: label, dtype: int64\n",
      "2    17\n",
      "0    17\n",
      "1    16\n",
      "Name: label, dtype: int64\n",
      "0    34\n",
      "2    33\n",
      "1    33\n",
      "Name: label, dtype: int64\n",
      "2    17\n",
      "1    17\n",
      "0    16\n",
      "Name: label, dtype: int64\n"
     ]
    }
   ],
   "source": [
    "from sklearn.model_selection import StratifiedKFold\n",
    "\n",
    "skf = StratifiedKFold(n_splits=3)\n",
    "n_iter = 0\n",
    "n_iter = 0\n",
    "\n",
    "for train_index, test_index in skf.split(iris_df, iris_df['label']):\n",
    "    n_iter += 1\n",
    "    \n",
    "    label_train = iris_df['label'].iloc[train_index]\n",
    "    label_test = iris_df['label'].iloc[test_index]\n",
    "    \n",
    "    print(label_train.value_counts())\n",
    "    print(label_test.value_counts())"
   ]
  },
  {
   "cell_type": "code",
   "execution_count": 44,
   "metadata": {},
   "outputs": [
    {
     "name": "stdout",
     "output_type": "stream",
     "text": [
      "# 1 교차검증 정확도: 0.9667 학습데이터의 크기: 120 검증데이터의 크기: 30\n",
      "검증 인덱스: [  0   1   2   3   4   5   6   7   8   9  50  51  52  53  54  55  56  57\n",
      "  58  59 100 101 102 103 104 105 106 107 108 109]\n",
      "# 2 교차검증 정확도: 0.9667 학습데이터의 크기: 120 검증데이터의 크기: 30\n",
      "검증 인덱스: [ 10  11  12  13  14  15  16  17  18  19  60  61  62  63  64  65  66  67\n",
      "  68  69 110 111 112 113 114 115 116 117 118 119]\n",
      "# 3 교차검증 정확도: 0.9 학습데이터의 크기: 120 검증데이터의 크기: 30\n",
      "검증 인덱스: [ 20  21  22  23  24  25  26  27  28  29  70  71  72  73  74  75  76  77\n",
      "  78  79 120 121 122 123 124 125 126 127 128 129]\n",
      "# 4 교차검증 정확도: 0.9667 학습데이터의 크기: 120 검증데이터의 크기: 30\n",
      "검증 인덱스: [ 30  31  32  33  34  35  36  37  38  39  80  81  82  83  84  85  86  87\n",
      "  88  89 130 131 132 133 134 135 136 137 138 139]\n",
      "# 5 교차검증 정확도: 1.0 학습데이터의 크기: 120 검증데이터의 크기: 30\n",
      "검증 인덱스: [ 40  41  42  43  44  45  46  47  48  49  90  91  92  93  94  95  96  97\n",
      "  98  99 140 141 142 143 144 145 146 147 148 149]\n",
      "Statified K폴드 교차 검증 평균 정확도: 0.96\n"
     ]
    }
   ],
   "source": [
    "\n",
    "# 5개 폴드세트로 분리\n",
    "skf = StratifiedKFold(n_splits=5)\n",
    "cv_accuracy = []\n",
    "\n",
    "n_iter = 0\n",
    "\n",
    "for train_index, test_index in skf.split(iris_df,iris_df['label']) :\n",
    "    X_train = features[train_index]\n",
    "    X_test = features[test_index]\n",
    "    \n",
    "    y_train = label[train_index]\n",
    "    y_test = label[test_index]\n",
    "    \n",
    "    # 학습 및 예측\n",
    "    dt_clf.fit(X_train,y_train)\n",
    "    pred = dt_clf.predict(X_test)\n",
    "    \n",
    "    n_iter +=1\n",
    "    \n",
    "    # 반복시 마다 정확도 측정\n",
    "    accuracy = round(accuracy_score(y_test,pred),4)\n",
    "    cv_accuracy.append(accuracy)\n",
    "    \n",
    "    print('#',n_iter,'교차검증 정확도:',accuracy,'학습데이터의 크기:',X_train.shape[0],\\\n",
    "          '검증데이터의 크기:',X_test.shape[0])    \n",
    "#    print('학습 인덱스:',train_index)  # 일부 중복 폴딩\n",
    "    print('검증 인덱스:',test_index)\n",
    "\n",
    "# K폴드로 반복 된 정확도를 합하여 평균 정확도 계산    \n",
    "print('Statified K폴드 교차 검증 평균 정확도:',round(np.mean(cv_accuracy),2))    # 0.96"
   ]
  },
  {
   "cell_type": "markdown",
   "metadata": {},
   "source": [
    "## GridSearchCV\n",
    "#### : 교차 검증과 파라메터  집합을 만들어 주면 최적의 파라메터 값을 구해준다. \n",
    "\n",
    "GridSearchCV 클래스는 모형 래퍼(Wrapper) 성격의 클래스이다. \n",
    "클래스 객체에 fit 메서드를 호출하면 grid search를 사용하여 자동으로 복수개의 내부 모형을 생성하고 이를 모두 실행시켜서 최적 파라미터를 찾아준다. \n",
    "생성된 복수개와 내부 모형과 실행 결과는 다음 속성에 저장된다."
   ]
  },
  {
   "cell_type": "markdown",
   "metadata": {},
   "source": [
    "**grid_scores_** : param_grid 의 모든 파리미터 조합에 대한 성능 결과. 각각의 원소는 다음 요소로 이루어진 튜플이다.\n",
    "\n",
    "**parameters** : 사용된 파라미터\n",
    "\n",
    "**mean_validation_score** : 교차 검증(cross-validation) 결과의 평균값\n",
    "\n",
    "**cv_validation_scores** : 모든 교차 검증(cross-validation) 결과\n",
    "\n",
    "**best_score_** : 최고 점수\n",
    "\n",
    "**best_params_** : 최고 점수를 낸 파라미터\n",
    "\n",
    "**best_estimator_** :  최고 점수를 낸 파라미터를 가진 모형"
   ]
  },
  {
   "cell_type": "code",
   "execution_count": 45,
   "metadata": {},
   "outputs": [],
   "source": [
    "from sklearn.model_selection import GridSearchCV\n",
    "\n",
    "X_train, X_test, y_train, y_test = train_test_split(iris.data, iris.target, test_size=0.2, random_state=11) \n",
    "\n",
    "dt_clf = DecisionTreeClassifier(random_state=11)\n",
    "\n",
    "# 파라메터들을 dict 형태로 설정 \n",
    "parameters = {'max_depth':[1,2,3], 'min_samples_split':[2,3]}"
   ]
  },
  {
   "cell_type": "code",
   "execution_count": 46,
   "metadata": {},
   "outputs": [
    {
     "data": {
      "text/html": [
       "<div>\n",
       "<style scoped>\n",
       "    .dataframe tbody tr th:only-of-type {\n",
       "        vertical-align: middle;\n",
       "    }\n",
       "\n",
       "    .dataframe tbody tr th {\n",
       "        vertical-align: top;\n",
       "    }\n",
       "\n",
       "    .dataframe thead th {\n",
       "        text-align: right;\n",
       "    }\n",
       "</style>\n",
       "<table border=\"1\" class=\"dataframe\">\n",
       "  <thead>\n",
       "    <tr style=\"text-align: right;\">\n",
       "      <th></th>\n",
       "      <th>params</th>\n",
       "      <th>mean_test_score</th>\n",
       "      <th>rank_test_score</th>\n",
       "      <th>split0_train_score</th>\n",
       "      <th>split1_train_score</th>\n",
       "      <th>split2_train_score</th>\n",
       "    </tr>\n",
       "  </thead>\n",
       "  <tbody>\n",
       "    <tr>\n",
       "      <th>0</th>\n",
       "      <td>{'max_depth': 1, 'min_samples_split': 2}</td>\n",
       "      <td>0.675000</td>\n",
       "      <td>5</td>\n",
       "      <td>0.6750</td>\n",
       "      <td>0.6750</td>\n",
       "      <td>0.6750</td>\n",
       "    </tr>\n",
       "    <tr>\n",
       "      <th>1</th>\n",
       "      <td>{'max_depth': 1, 'min_samples_split': 3}</td>\n",
       "      <td>0.675000</td>\n",
       "      <td>5</td>\n",
       "      <td>0.6750</td>\n",
       "      <td>0.6750</td>\n",
       "      <td>0.6750</td>\n",
       "    </tr>\n",
       "    <tr>\n",
       "      <th>2</th>\n",
       "      <td>{'max_depth': 2, 'min_samples_split': 2}</td>\n",
       "      <td>0.958333</td>\n",
       "      <td>3</td>\n",
       "      <td>0.9875</td>\n",
       "      <td>0.9500</td>\n",
       "      <td>0.9750</td>\n",
       "    </tr>\n",
       "    <tr>\n",
       "      <th>3</th>\n",
       "      <td>{'max_depth': 2, 'min_samples_split': 3}</td>\n",
       "      <td>0.958333</td>\n",
       "      <td>3</td>\n",
       "      <td>0.9875</td>\n",
       "      <td>0.9500</td>\n",
       "      <td>0.9750</td>\n",
       "    </tr>\n",
       "    <tr>\n",
       "      <th>4</th>\n",
       "      <td>{'max_depth': 3, 'min_samples_split': 2}</td>\n",
       "      <td>0.966667</td>\n",
       "      <td>1</td>\n",
       "      <td>0.9875</td>\n",
       "      <td>0.9625</td>\n",
       "      <td>0.9875</td>\n",
       "    </tr>\n",
       "    <tr>\n",
       "      <th>5</th>\n",
       "      <td>{'max_depth': 3, 'min_samples_split': 3}</td>\n",
       "      <td>0.966667</td>\n",
       "      <td>1</td>\n",
       "      <td>0.9875</td>\n",
       "      <td>0.9625</td>\n",
       "      <td>0.9875</td>\n",
       "    </tr>\n",
       "  </tbody>\n",
       "</table>\n",
       "</div>"
      ],
      "text/plain": [
       "                                     params  mean_test_score  rank_test_score  \\\n",
       "0  {'max_depth': 1, 'min_samples_split': 2}         0.675000                5   \n",
       "1  {'max_depth': 1, 'min_samples_split': 3}         0.675000                5   \n",
       "2  {'max_depth': 2, 'min_samples_split': 2}         0.958333                3   \n",
       "3  {'max_depth': 2, 'min_samples_split': 3}         0.958333                3   \n",
       "4  {'max_depth': 3, 'min_samples_split': 2}         0.966667                1   \n",
       "5  {'max_depth': 3, 'min_samples_split': 3}         0.966667                1   \n",
       "\n",
       "   split0_train_score  split1_train_score  split2_train_score  \n",
       "0              0.6750              0.6750              0.6750  \n",
       "1              0.6750              0.6750              0.6750  \n",
       "2              0.9875              0.9500              0.9750  \n",
       "3              0.9875              0.9500              0.9750  \n",
       "4              0.9875              0.9625              0.9875  \n",
       "5              0.9875              0.9625              0.9875  "
      ]
     },
     "execution_count": 46,
     "metadata": {},
     "output_type": "execute_result"
    }
   ],
   "source": [
    "grid_tree = GridSearchCV(dt_clf, param_grid = parameters, \n",
    "                         cv=3, refit = True, \n",
    "                         return_train_score= True)\n",
    "grid_tree.fit(X_train, y_train)\n",
    "\n",
    "scores_df = pd.DataFrame(grid_tree.cv_results_)\n",
    "scores_df[['params','mean_test_score','rank_test_score',\n",
    "          'split0_train_score','split1_train_score','split2_train_score']]"
   ]
  },
  {
   "cell_type": "code",
   "execution_count": 47,
   "metadata": {},
   "outputs": [
    {
     "name": "stdout",
     "output_type": "stream",
     "text": [
      "GridSearchCV: 최적 파라메터: {'max_depth': 3, 'min_samples_split': 2}\n",
      "GridSearchCV 최고 정확도: 0.9666666666666667\n"
     ]
    }
   ],
   "source": [
    "print('GridSearchCV: 최적 파라메터:', grid_tree.best_params_)\n",
    "print('GridSearchCV 최고 정확도:',grid_tree.best_score_)"
   ]
  },
  {
   "cell_type": "code",
   "execution_count": null,
   "metadata": {},
   "outputs": [],
   "source": []
  },
  {
   "cell_type": "code",
   "execution_count": null,
   "metadata": {},
   "outputs": [],
   "source": []
  }
 ],
 "metadata": {
  "kernelspec": {
   "display_name": "Python 3",
   "language": "python",
   "name": "python3"
  },
  "language_info": {
   "codemirror_mode": {
    "name": "ipython",
    "version": 3
   },
   "file_extension": ".py",
   "mimetype": "text/x-python",
   "name": "python",
   "nbconvert_exporter": "python",
   "pygments_lexer": "ipython3",
   "version": "3.7.4"
  }
 },
 "nbformat": 4,
 "nbformat_minor": 2
}
