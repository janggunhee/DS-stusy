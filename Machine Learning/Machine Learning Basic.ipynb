{
 "cells": [
  {
   "cell_type": "markdown",
   "metadata": {},
   "source": [
    "# 머신 러닝 개념\n",
    "\n",
    "## 인공지능(AI) 분류\n",
    "### [1] 규칙기반 AI :\n",
    "- rule-based system , 수동으로 규칙(특징)을 입력하면 기계가 추론, Prolog, LISP\n",
    "\n",
    "### [2] 학습기반 AI : \n",
    "- 머신 러닝(Machine Learning), 데이터를 입력하면 기계가 스스로 새로운 특징을 학습하고 예측"
   ]
  },
  {
   "cell_type": "markdown",
   "metadata": {},
   "source": [
    "## 머신러닝 분류\n",
    "\n",
    "### [1] 지도학습(Supervised Learning) : 답(Label)이 주어진 상태에서 학습\n",
    "\n",
    "- **회귀(Regression)**\n",
    "    - 예측 변수 (predictor variable) 부르는 특성(feature)을 사용해 타깃 수치를 예측하는 것\n",
    "\n",
    "    - 평수, 위치, 대중 교통 근접성에 따라 샌프란시스코의 아파트 가격을 예측\n",
    "    \n",
    "- **분류(Classification)**\n",
    "\n",
    "    - 분류 문제는 알고리즘에 개별 값을 예측해 입력 데이터를 특정 군이나 그룹의 구성원으로 식별하기를 요청함\n",
    "    - 스팸 필터 \n",
    "    \n",
    "- k-최근접 이웃(K-Nearest Neighbors) \n",
    "- 선형회귀(Linear Regression) \n",
    "- 서포트 벡터 머신 (Support Vector Machines)\n",
    "- 결정 트리 (Decision Tree), 랜덤포레스트 (Random Forests)\n",
    "- 신경망 (Neural Network)\n",
    "\n",
    "### [2] 비지도학습(Unsupervised Learning) : 답을 모르고 학습\n",
    "- 군집화(Clustering)\n",
    "- 차원 축소(Dimension Reduction) : PCA(주성분 분석, Pricipal Component Analysis)\n",
    "- 연관 구칙 학습 (Association rule learning) \n",
    "\n",
    "### [3] 강화 학습(Reinforcement Learning) : 답을 모르고 있는 상태에서 답을 알아가는 강한 인공지능(자아를 갖음, 인간수준)\n",
    "- 게임, 알파고(DQN)"
   ]
  },
  {
   "cell_type": "markdown",
   "metadata": {},
   "source": [
    "## 인공지능의 역사 : 신경망(DNN,Deep Neural Net) 역사"
   ]
  },
  {
   "cell_type": "markdown",
   "metadata": {},
   "source": [
    "### [1] 퍼셉트론 : 다수의 신호를 입력받아서 하나의 신호로 출력, 신경망의 기원이 되는 알고리즘,\n",
    "- Frank Rosenblatt(1957,Cornell Aeronautical Lab 알고리즘 개발)\n",
    "\n",
    "### [2] XOR Problem : Marvin Minsky(1969,MIT AI Lab founder)\n",
    "- 퍼셉트론은 AND, OR, NAND 같은 선형문제는 풀수 있을지 모르지만, XOR같은 비선형 문제를 풀수가 없다\n",
    "- 인공지능의 1차 겨울(빙하기)\n",
    "\n",
    "### [3] Backpropagation : 1986년 제프리 힌튼(Geoffrey Hinton)\n",
    "- 샘플에 대한 신경망의 오차를 다시 출력층에서부터 입력층으로 거꾸로 전파시켜 각 층의 가중치(weight)를 계산하는 방법. \n",
    "- 이를 통해 weight와 bias를 알맞게 학습할 수 있다\n",
    "\n",
    "### [4] 두 번째 겨울(빙하기) : 1990년대 후반\n",
    "- (1) **Vanishing Gradient** : 신경망의 깊이가 깊어질수록 원하는 결과를 얻을 수 없다\n",
    "- (2) 신경망 학습을 위한 파라미터 값의 최적화에 대한 이론적인 근거가 없었다.\n",
    "\n",
    "### [5] Deep의 출현 : 2006년 , Geoffrey Hinton, \"A fast learning algorithm for deep belief nets\" 라는 논문\n",
    "- weight의 초기값을 제대로 설정하면 깊은 신경망학습이 가능하다.\n",
    "- neural networke 대신 Deep Network, Deep Learning 이라는 용어가 사용되기 시작했다."
   ]
  },
  {
   "cell_type": "markdown",
   "metadata": {},
   "source": [
    "---"
   ]
  },
  {
   "cell_type": "markdown",
   "metadata": {},
   "source": [
    "### 참고 사이트 \n",
    "#### 딥러닝 강좌\n",
    "\n",
    "- 모두를 위한 머신러닝과 딥러닝의 강의(김성훈교수님) \n",
    "https://hunkim.github.io/ml/\n",
    "\n",
    "\n",
    "- Kaggle\n",
    "    https://www.kaggle.com/\n",
    "\n",
    "\n",
    "- UCI Machine Learning Repository (머신러닝 데이터) https://archive.ics.uci.edu/ml/index.php\n",
    "\n",
    "\n",
    "- 데이콘 (경진대회) https://dacon.io/\n",
    "\n",
    "\n",
    "- 조대협의 블로그 https://bcho.tistory.com/tag/F1%20score\n",
    "\n",
    "\n",
    "- graphviz\n",
    "https://graphviz.gitlab.io/_pages/Download/Download_windows.html\n"
   ]
  },
  {
   "cell_type": "markdown",
   "metadata": {},
   "source": [
    "---"
   ]
  },
  {
   "cell_type": "markdown",
   "metadata": {},
   "source": [
    "## 회귀(Reression) 모델\n",
    "\n",
    "### [1] 선형회귀(Linear Regrssion) : 1차 함수, 직선의 방정식\n",
    "\n",
    "### [2] 가중치(Weight) : 입력변수가 출력에 영향을 미치는 정도를 설정, 기울기 값\n",
    "\n",
    "\n",
    "### [3] 편향(Bias) : 기본 출력 값이 활성화되는 정도를 설정, y 절편\n",
    "- 입력값에 관계 없이 활성화 함수에서 \n",
    "\n",
    "### [4] 비용함수(Cost function) : 2차 함수, 포물선의 방정식\n",
    "- cost(비용) = 오차 = 에러 = 손실(loss)\n",
    "- cost(W,b) = (H(x) - y)^2\n",
    "\n",
    "### [5] 예측(가설,Hypothesis) 함수: predict\n",
    "- H(x) = WX + b\n",
    "\n",
    "### [6] 경사하강법(Gradient Descent algorithm)\n",
    ": 비용이 가장 작은 기울기 값을 구하는 알고리즘"
   ]
  },
  {
   "cell_type": "code",
   "execution_count": 1,
   "metadata": {},
   "outputs": [],
   "source": [
    "import numpy as np\n",
    "import pandas as pd\n",
    "import matplotlib.pyplot as plt\n",
    "\n",
    "# 한글 출력을 위한 설정\n",
    "import matplotlib\n",
    "matplotlib.rcParams['font.family']=\"NanumBarunGothic\"\n",
    "matplotlib.rcParams['axes.unicode_minus'] = False"
   ]
  },
  {
   "cell_type": "markdown",
   "metadata": {},
   "source": [
    "## 비용함수(Cost function) 의 구현 \n",
    "- 밑바닥 부터 시작하는 딥러닝 "
   ]
  },
  {
   "cell_type": "code",
   "execution_count": 2,
   "metadata": {},
   "outputs": [
    {
     "name": "stdout",
     "output_type": "stream",
     "text": [
      "w : -1 일때 cost: 18.666666666666668\n",
      "w : 0 일때 cost: 4.666666666666667\n",
      "w : 1 일때 cost: 0.0\n",
      "w : 2 일때 cost: 4.666666666666667\n",
      "w : 3 일때 cost: 18.666666666666668\n"
     ]
    },
    {
     "data": {
      "image/png": "[encoded data removed]",
      "text/plain": [
       "<Figure size 432x288 with 1 Axes>"
      ]
     },
     "metadata": {
      "needs_background": "light"
     },
     "output_type": "display_data"
    }
   ],
   "source": [
    "# 비용함수 그래프 \n",
    "def cost(x, y, w):\n",
    "    c = 0\n",
    "    for i in range(len(x)):\n",
    "        hx = w * x[i]       # hx=예측 ; 예측 방정식 \n",
    "        loss = (hx - y[i]) **2\n",
    "        c += loss\n",
    "    return c/len(x)         # 평균 제곱 오차 \n",
    "        \n",
    "x = [1, 2, 3]   # 입력 값 \n",
    "y = [1, 2, 3]   # 답\n",
    "\n",
    "print('w : -1 일때 cost:', cost(x, y, -1))\n",
    "print('w : 0 일때 cost:', cost(x, y, 0))\n",
    "print('w : 1 일때 cost:', cost(x, y, 1))\n",
    "print('w : 2 일때 cost:', cost(x, y, 2))\n",
    "print('w : 3 일때 cost:', cost(x, y, 3))\n",
    "\n",
    "\n",
    "# 비용함수 : x축 weight , y축은 cost  \n",
    "for i in range(-30, 50):\n",
    "    w = i /10\n",
    "    c = cost(x, y, w)\n",
    "    plt.plot(w, c, 'ro')\n",
    "\n",
    "plt.title('비용함수 그래프')\n",
    "plt.xlabel('weight')\n",
    "plt.ylabel('cost')\n",
    "plt.grid(True)\n",
    "plt.show()"
   ]
  },
  {
   "cell_type": "markdown",
   "metadata": {},
   "source": [
    " - 포물선의 접선을 구하는 방정식 : **접선의 방정식 = 미분 !!** \n",
    " - 기울기가 가장 작을 때 , 최적화된 모델을 구한다. "
   ]
  },
  {
   "cell_type": "markdown",
   "metadata": {},
   "source": [
    "### 미분 : 순간 변화량 \n",
    "- x 축으로 1만큼 움직였을 때 y축으로 움직인 거리 \n",
    "\n",
    "### 미분 공식 정리  :  y = x^n  ===> y' = n* x^(n-1)\n",
    "\n",
    "**1 차 방정식** \n",
    "\n",
    "* y = 3          ===> y' = 0\n",
    "\n",
    "* y = 2x         ===> y' = 2\n",
    "\n",
    "**2 차 방정식**\n",
    "\n",
    "* y = x^2        ===> y' = 2x\n",
    "\n",
    "* y = (x + 1)^2  ===> y' = 2(x +1)\n",
    "\n",
    "* (y = x^2 + 2x +1  ===> y' = 2x + 2 = 2(X+1))\n"
   ]
  },
  {
   "cell_type": "markdown",
   "metadata": {},
   "source": [
    "### 경사하강법(Gradient Descent algorithm)\n",
    "\n",
    "- 해당 함수의 최소값 위치를 찾기 위해 비용 함수(Cost Function)의 그레디언트 반대 방향으로 정의한 step size를 가지고 조금씩 움직여 가면서 최적의 파라미터를 찾으려는 방법이다.\n",
    "\n",
    "- 그레디언트는 파라미터에 대해 편미분한 벡터를 의미하며 이 파라미터를 반복적으로 조금씩 움직이는 것이 관건이 되겠다.\n"
   ]
  },
  {
   "cell_type": "code",
   "execution_count": 3,
   "metadata": {
    "scrolled": true
   },
   "outputs": [
    {
     "name": "stdout",
     "output_type": "stream",
     "text": [
      "----start training!!\n",
      "[0000] cost: 378.0 old: weight 5.8\n",
      "[0001] cost: 107.51999999999998 old: weight 3.56\n",
      "[0002] cost: 30.583466666666666 old: weight 2.365333333333333\n",
      "[0003] cost: 8.69929718518518 old: weight 1.7281777777777778\n",
      "[0004] cost: 2.47446675489712 old: weight 1.3883614814814815\n",
      "[0005] cost: 0.7038483213929583 old: weight 1.2071261234567903\n",
      "[0006] cost: 0.2002057447517751 old: weight 1.1104672658436214\n",
      "[0007] cost: 0.05694741184050483 old: weight 1.0589158751165981\n",
      "[0008] cost: 0.016198374923521403 old: weight 1.0314218000621858\n",
      "[0009] cost: 0.004607537756023892 old: weight 1.0167582933664991\n",
      "[0010] cost: 0.0013105885172690224 old: weight 1.008937756462133\n",
      "[0011] cost: 0.0003727896226898598 old: weight 1.004766803446471\n",
      "[0012] cost: 0.0001060379371206724 old: weight 1.002542295171451\n",
      "[0013] cost: 3.0161902114324568e-05 old: weight 1.0013558907581073\n",
      "[0014] cost: 8.579385490296031e-06 old: weight 1.0007231417376572\n",
      "[0015] cost: 2.4403585394623746e-06 old: weight 1.000385675593417\n",
      "[0016] cost: 6.941464290019953e-07 old: weight 1.0002056936498225\n",
      "[0017] cost: 1.9744609536079287e-07 old: weight 1.0001097032799053\n",
      "[0018] cost: 5.616244490256599e-08 old: weight 1.0000585084159495\n",
      "[0019] cost: 1.597509543893363e-08 old: weight 1.0000312044885065\n",
      "[0020] cost: 4.544027147100321e-09 old: weight 1.0000166423938701\n",
      "[0021] cost: 1.292523277397425e-09 old: weight 1.0000088759433974\n",
      "[0022] cost: 3.6765106557353845e-10 old: weight 1.0000047338364786\n",
      "[0023] cost: 1.0457630309680019e-10 old: weight 1.0000025247127886\n",
      "[0024] cost: 2.974614843652282e-11 old: weight 1.0000013465134872\n",
      "[0025] cost: 8.461126664488492e-12 old: weight 1.0000007181405266\n",
      "[0026] cost: 2.4067204744183466e-12 old: weight 1.0000003830082809\n",
      "[0027] cost: 6.845782681618235e-13 old: weight 1.0000002042710832\n",
      "[0028] cost: 1.9472448527085553e-13 old: weight 1.0000001089445776\n",
      "[0029] cost: 5.538829787885448e-14 old: weight 1.0000000581037747\n",
      "[0030] cost: 1.575489361658054e-14 old: weight 1.0000000309886798\n",
      "[0031] cost: 4.4813919525692676e-15 old: weight 1.000000016527296\n",
      "[0032] cost: 1.2747070573345361e-15 old: weight 1.0000000088145578\n",
      "[0033] cost: 3.6258332831368247e-16 old: weight 1.0000000047010975\n",
      "[0034] cost: 1.0313481853667948e-16 old: weight 1.000000002507252\n",
      "[0035] cost: 2.933612341505031e-17 old: weight 1.000000001337201\n",
      "[0036] cost: 8.344497274162171e-18 old: weight 1.000000000713174\n",
      "[0037] cost: 2.3735464825145457e-18 old: weight 1.0000000003803595\n",
      "[0038] cost: 6.751422044227725e-19 old: weight 1.0000000002028584\n",
      "[0039] cost: 1.920405593646558e-19 old: weight 1.0000000001081912\n",
      "[0040] cost: 5.462493428133877e-20 old: weight 1.000000000057702\n",
      "[0041] cost: 1.5537773320496455e-20 old: weight 1.0000000000307745\n",
      "[0042] cost: 4.419657596231936e-21 old: weight 1.000000000016413\n",
      "[0043] cost: 1.2571515848923574e-21 old: weight 1.0000000000087537\n",
      "[0044] cost: 3.5758710617043957e-22 old: weight 1.0000000000046687\n",
      "[0045] cost: 1.0171864166944069e-22 old: weight 1.00000000000249\n",
      "[0046] cost: 2.8933990559698716e-23 old: weight 1.000000000001328\n",
      "[0047] cost: 8.231253103671774e-24 old: weight 1.0000000000007083\n",
      "[0048] cost: 2.341362175139032e-24 old: weight 1.0000000000003777\n",
      "[0049] cost: 6.658942698258942e-25 old: weight 1.0000000000002014\n",
      "[0050] cost: 1.891893061517278e-25 old: weight 1.0000000000001075\n",
      "[0051] cost: 5.389865839559056e-26 old: weight 1.0000000000000573\n",
      "[0052] cost: 1.5315340044413334e-26 old: weight 1.0000000000000306\n",
      "[0053] cost: 4.38172789805011e-27 old: weight 1.0000000000000164\n",
      "[0054] cost: 1.2599423424554927e-27 old: weight 1.0000000000000087\n",
      "[0055] cost: 3.46129156767911e-28 old: weight 1.0000000000000047\n",
      "[0056] cost: 1.0355442841244991e-28 old: weight 1.0000000000000024\n",
      "[0057] cost: 2.677196697093809e-29 old: weight 1.0000000000000013\n",
      "[0058] cost: 8.283039504820624e-30 old: weight 1.0000000000000007\n",
      "[0059] cost: 1.791371638939381e-30 old: weight 1.0000000000000004\n",
      "[0060] cost: 9.203377227578472e-31 old: weight 1.0000000000000002\n",
      "[0061] cost: 3.4512664603419266e-31 old: weight 1.0\n",
      "[0062] cost: 0.0 old: weight 1.0\n",
      "[0063] cost: 0.0 old: weight 1.0\n",
      "---end trainging\n",
      "weight: 1.0 train: 63 회\n"
     ]
    }
   ],
   "source": [
    "def gradient_descent(x, y, w):\n",
    "    c = 0\n",
    "    for i in range(len(x)):\n",
    "        hx = w*x[i]\n",
    "        # cost(w, b) = (h*x[i] - y[i]) **2\n",
    "        loss = (hx - y[i]) * x[i]\n",
    "        # 비용함수의 미분 : cost(W) = (w*x[i] - y[i]**2)\n",
    "        #       cost(w)  = w^2 * x[i]^2 - 2* w*x[i] * y[i]^2 \n",
    "        # 미분 - cost'(w) = 2*w * x[i]^2 - 2*x[i] * y[i] = 2*x[i](w*x[i]- y[i])  \n",
    "        c += loss \n",
    "    return c/len(x)\n",
    "\n",
    "# 학습(train, fit) 시작\n",
    "print('----start training!!')\n",
    "w = 10\n",
    "old = 100 \n",
    "for i in range(1000):\n",
    "    c = cost(x, y, w)\n",
    "    grad = gradient_descent(x, y, w)\n",
    "    w -= 0.1 * grad  # 0.1 학습률(learning rate), 하이퍼 파라미터 \n",
    "    print('[%04d]' %i, 'cost:', c, 'old:', 'weight', w )\n",
    "    \n",
    "    if c >= old and abs(c - old) < 1.0e-15:   # abs() 절대값 오차가 미약해지는, cost(오차)가 1.0e-15 보다 작거나 같아지는때  \n",
    "#    if c == old:  # cost가 더 이상 줄지 않을 때, 같아지는 시점이 없을 수 있다. overshooting 이 될 수 있다. \n",
    "        break\n",
    "    old = c\n",
    "print('---end trainging')\n",
    "print('weight:', w, 'train:' , i,'회')"
   ]
  },
  {
   "cell_type": "markdown",
   "metadata": {},
   "source": [
    "### [Rate, Overfitting](https://computer-nerd.tistory.com/13)\n",
    "#### over fitting - 과적합 \n",
    "####  over shooting - 학습방향상실 "
   ]
  },
  {
   "cell_type": "markdown",
   "metadata": {},
   "source": [
    "## 선형회귀(Linear Regrssion) 모델 구현 "
   ]
  },
  {
   "cell_type": "markdown",
   "metadata": {},
   "source": [
    "### 알고리즘 구현 : 비용 함수와 경사 하강법 알고리즘 함수 구현 "
   ]
  },
  {
   "cell_type": "markdown",
   "metadata": {},
   "source": [
    "### (1) 비용 함수 구현 "
   ]
  },
  {
   "cell_type": "code",
   "execution_count": 30,
   "metadata": {},
   "outputs": [],
   "source": [
    "def cost(x, y, w):\n",
    "    c = 0\n",
    "    for i in range(len(x)):\n",
    "        hx = w * x[i]       # hx=예측 ; 예측 방정식 \n",
    "        loss = (hx - y[i]) **2\n",
    "        c += loss\n",
    "    return c/len(x)         # 평균 제곱 오차 \n"
   ]
  },
  {
   "cell_type": "markdown",
   "metadata": {},
   "source": [
    "### (2) 경사 하강법 알고리즘 함수 구현 "
   ]
  },
  {
   "cell_type": "code",
   "execution_count": 31,
   "metadata": {},
   "outputs": [],
   "source": [
    "def gradient_descent(x, y, w):\n",
    "    c = 0\n",
    "    for i in range(len(x)):\n",
    "        hx = w*x[i]\n",
    "        # cost(w, b) = (h*x[i] - y[i]) **2\n",
    "        loss = (hx - y[i]) * x[i]\n",
    "        # 비용함수의 미분 : cost(W) = (w*x[i] - y[i]**2)\n",
    "        #       cost(w)  = w^2 * x[i]^2 - 2* w*x[i] * y[i]^2 \n",
    "        # 미분 - cost'(w) = 2*w * x[i]^2 - 2*x[i] * y[i] = 2*x[i](w*x[i]- y[i])  \n",
    "        c += loss \n",
    "    return c/len(x)"
   ]
  },
  {
   "cell_type": "markdown",
   "metadata": {},
   "source": [
    "### (3) 학습(fit) 함수 구현 "
   ]
  },
  {
   "cell_type": "code",
   "execution_count": 17,
   "metadata": {},
   "outputs": [],
   "source": [
    "def fit(x, y):    # x, y값으로 기울기를 구한다. (학습한다 = 관계식 y를 구한다는 의미)\n",
    "    print('----start training!!')\n",
    "    w = 10\n",
    "    old = 100 \n",
    "    for i in range(1000):\n",
    "        c = cost(x, y, w)\n",
    "        grad = gradient_descent(x, y, w)\n",
    "        w -= 0.1 * grad  # 0.1 학습률(learning rate), 하이퍼 파라미터 \n",
    "        print('[%04d]' %i, 'cost:', c, 'old:', 'weight', w )\n",
    "\n",
    "        if c >= old and abs(c - old) < 1.0e-15:   # abs() 절대값 오차가 미약해지는, cost(오차)가 1.0e-15 보다 작거나 같아지는때  \n",
    "    #    if c == old:  # cost가 더 이상 줄지 않을 때, 같아지는 시점이 없을 수 있다. overshooting 이 될 수 있다. \n",
    "            break\n",
    "        old = c\n",
    "    print('---end trainging')\n",
    "    print('weight:', w, 'train:' , i,'회')\n",
    "    return w"
   ]
  },
  {
   "cell_type": "markdown",
   "metadata": {},
   "source": [
    "### (4) 예측(predict) 함수 구현 "
   ]
  },
  {
   "cell_type": "code",
   "execution_count": 18,
   "metadata": {},
   "outputs": [],
   "source": [
    "def predict(w, x):\n",
    "    hx = w*np.array(x)\n",
    "    return list(hx)"
   ]
  },
  {
   "cell_type": "markdown",
   "metadata": {},
   "source": [
    "## 머신 러닝 사용자가 구현 할 부분 \n",
    "###  (1) fit( )  함수를 호출하여 학습 "
   ]
  },
  {
   "cell_type": "code",
   "execution_count": 32,
   "metadata": {
    "scrolled": true
   },
   "outputs": [
    {
     "name": "stdout",
     "output_type": "stream",
     "text": [
      "----start training!!\n",
      "[0000] cost: 378.0 old: weight 5.8\n",
      "[0001] cost: 107.51999999999998 old: weight 3.56\n",
      "[0002] cost: 30.583466666666666 old: weight 2.365333333333333\n",
      "[0003] cost: 8.69929718518518 old: weight 1.7281777777777778\n",
      "[0004] cost: 2.47446675489712 old: weight 1.3883614814814815\n",
      "[0005] cost: 0.7038483213929583 old: weight 1.2071261234567903\n",
      "[0006] cost: 0.2002057447517751 old: weight 1.1104672658436214\n",
      "[0007] cost: 0.05694741184050483 old: weight 1.0589158751165981\n",
      "[0008] cost: 0.016198374923521403 old: weight 1.0314218000621858\n",
      "[0009] cost: 0.004607537756023892 old: weight 1.0167582933664991\n",
      "[0010] cost: 0.0013105885172690224 old: weight 1.008937756462133\n",
      "[0011] cost: 0.0003727896226898598 old: weight 1.004766803446471\n",
      "[0012] cost: 0.0001060379371206724 old: weight 1.002542295171451\n",
      "[0013] cost: 3.0161902114324568e-05 old: weight 1.0013558907581073\n",
      "[0014] cost: 8.579385490296031e-06 old: weight 1.0007231417376572\n",
      "[0015] cost: 2.4403585394623746e-06 old: weight 1.000385675593417\n",
      "[0016] cost: 6.941464290019953e-07 old: weight 1.0002056936498225\n",
      "[0017] cost: 1.9744609536079287e-07 old: weight 1.0001097032799053\n",
      "[0018] cost: 5.616244490256599e-08 old: weight 1.0000585084159495\n",
      "[0019] cost: 1.597509543893363e-08 old: weight 1.0000312044885065\n",
      "[0020] cost: 4.544027147100321e-09 old: weight 1.0000166423938701\n",
      "[0021] cost: 1.292523277397425e-09 old: weight 1.0000088759433974\n",
      "[0022] cost: 3.6765106557353845e-10 old: weight 1.0000047338364786\n",
      "[0023] cost: 1.0457630309680019e-10 old: weight 1.0000025247127886\n",
      "[0024] cost: 2.974614843652282e-11 old: weight 1.0000013465134872\n",
      "[0025] cost: 8.461126664488492e-12 old: weight 1.0000007181405266\n",
      "[0026] cost: 2.4067204744183466e-12 old: weight 1.0000003830082809\n",
      "[0027] cost: 6.845782681618235e-13 old: weight 1.0000002042710832\n",
      "[0028] cost: 1.9472448527085553e-13 old: weight 1.0000001089445776\n",
      "[0029] cost: 5.538829787885448e-14 old: weight 1.0000000581037747\n",
      "[0030] cost: 1.575489361658054e-14 old: weight 1.0000000309886798\n",
      "[0031] cost: 4.4813919525692676e-15 old: weight 1.000000016527296\n",
      "[0032] cost: 1.2747070573345361e-15 old: weight 1.0000000088145578\n",
      "[0033] cost: 3.6258332831368247e-16 old: weight 1.0000000047010975\n",
      "[0034] cost: 1.0313481853667948e-16 old: weight 1.000000002507252\n",
      "[0035] cost: 2.933612341505031e-17 old: weight 1.000000001337201\n",
      "[0036] cost: 8.344497274162171e-18 old: weight 1.000000000713174\n",
      "[0037] cost: 2.3735464825145457e-18 old: weight 1.0000000003803595\n",
      "[0038] cost: 6.751422044227725e-19 old: weight 1.0000000002028584\n",
      "[0039] cost: 1.920405593646558e-19 old: weight 1.0000000001081912\n",
      "[0040] cost: 5.462493428133877e-20 old: weight 1.000000000057702\n",
      "[0041] cost: 1.5537773320496455e-20 old: weight 1.0000000000307745\n",
      "[0042] cost: 4.419657596231936e-21 old: weight 1.000000000016413\n",
      "[0043] cost: 1.2571515848923574e-21 old: weight 1.0000000000087537\n",
      "[0044] cost: 3.5758710617043957e-22 old: weight 1.0000000000046687\n",
      "[0045] cost: 1.0171864166944069e-22 old: weight 1.00000000000249\n",
      "[0046] cost: 2.8933990559698716e-23 old: weight 1.000000000001328\n",
      "[0047] cost: 8.231253103671774e-24 old: weight 1.0000000000007083\n",
      "[0048] cost: 2.341362175139032e-24 old: weight 1.0000000000003777\n",
      "[0049] cost: 6.658942698258942e-25 old: weight 1.0000000000002014\n",
      "[0050] cost: 1.891893061517278e-25 old: weight 1.0000000000001075\n",
      "[0051] cost: 5.389865839559056e-26 old: weight 1.0000000000000573\n",
      "[0052] cost: 1.5315340044413334e-26 old: weight 1.0000000000000306\n",
      "[0053] cost: 4.38172789805011e-27 old: weight 1.0000000000000164\n",
      "[0054] cost: 1.2599423424554927e-27 old: weight 1.0000000000000087\n",
      "[0055] cost: 3.46129156767911e-28 old: weight 1.0000000000000047\n",
      "[0056] cost: 1.0355442841244991e-28 old: weight 1.0000000000000024\n",
      "[0057] cost: 2.677196697093809e-29 old: weight 1.0000000000000013\n",
      "[0058] cost: 8.283039504820624e-30 old: weight 1.0000000000000007\n",
      "[0059] cost: 1.791371638939381e-30 old: weight 1.0000000000000004\n",
      "[0060] cost: 9.203377227578472e-31 old: weight 1.0000000000000002\n",
      "[0061] cost: 3.4512664603419266e-31 old: weight 1.0\n",
      "[0062] cost: 0.0 old: weight 1.0\n",
      "[0063] cost: 0.0 old: weight 1.0\n",
      "---end trainging\n",
      "weight: 1.0 train: 63 회\n",
      "weight: 1.0\n"
     ]
    }
   ],
   "source": [
    "# train 데이터 셋  : x, y 모두 사용\n",
    "x_train = [1,2,3]\n",
    "y_train = [1,2,3]\n",
    "# y_train = [2,4,6]\n",
    "# y_train = [2,4,5]\n",
    "\n",
    "w = fit(x_train, y_train)\n",
    "print('weight:', w)"
   ]
  },
  {
   "cell_type": "markdown",
   "metadata": {},
   "source": [
    "### (2) predict() 함수를 호출해 학습 "
   ]
  },
  {
   "cell_type": "code",
   "execution_count": 33,
   "metadata": {},
   "outputs": [
    {
     "name": "stdout",
     "output_type": "stream",
     "text": [
      "x : [4, 5, 6] H(x):  [4.0, 5.0, 6.0]\n"
     ]
    }
   ],
   "source": [
    "x_predict = [4,5,6]\n",
    "y_predict = predict(w, x_predict)   # x 값만 사용 \n",
    "\n",
    "print('x :', x_predict, 'H(x): ', y_predict)"
   ]
  },
  {
   "cell_type": "markdown",
   "metadata": {},
   "source": [
    "## 정확도 측정 함수 구현 \n",
    "\n",
    "### (3) 정확도 검증(validation) - 학습 값을 검증 \n",
    "\n",
    "### 분류 (classification) 일때 정확도 검증 "
   ]
  },
  {
   "cell_type": "code",
   "execution_count": 28,
   "metadata": {},
   "outputs": [
    {
     "name": "stdout",
     "output_type": "stream",
     "text": [
      "[1.0, 2.0, 3.0]\n",
      "Accuracy: 0.33\n"
     ]
    }
   ],
   "source": [
    "def get_accuracy(w, x_test, y_test):\n",
    "    y_predict = predict(w, x_test)\n",
    "    print(y_predict)\n",
    "    \n",
    "    correct = 0\n",
    "    for k, _ in enumerate(y_test):\n",
    "        if  y_predict[k] == y_test[k]:    # 예측과 test 값이 맞는 것 \n",
    "            correct += 1\n",
    "    accuracy = round(correct/len(y_test), 2)  # 소숫점 2자리 맞은 갯수를 반환\n",
    "    return accuracy\n",
    "\n",
    "# classification 의 정확도 (Acuuracy)\n",
    "x_test = [1,2,3]\n",
    "y_test = [1,2.1,3.1]\n",
    "accuracy = get_accuracy(w, x_test, y_test )\n",
    "print('Accuracy:' , accuracy)"
   ]
  },
  {
   "cell_type": "markdown",
   "metadata": {},
   "source": [
    "### 선형 회귀 (Linear Regression) 의 정확도\n",
    "- RMSE로 평가 한다. \n",
    "### RMSE (Root Mean Squared Error) : 평균 제곱근 오차 "
   ]
  },
  {
   "cell_type": "code",
   "execution_count": 29,
   "metadata": {},
   "outputs": [
    {
     "name": "stdout",
     "output_type": "stream",
     "text": [
      "[1.0, 2.0, 3.0]\n",
      "RMSE: 4.041451884327381\n"
     ]
    }
   ],
   "source": [
    "def get_rmse(w, x_test, y_test):\n",
    "    y_predict = predict(w, x_test)\n",
    "    print(y_predict)\n",
    "    squred_error = 0\n",
    "    for k, _ in enumerate(y_test):\n",
    "        squred_error += (y_predict[k] - y_test[k]) **2\n",
    "    mse = squred_error / len(y_test)\n",
    "    rmse = np.sqrt(mse)\n",
    "    return rmse\n",
    " \n",
    "    \n",
    "# Linear Regression 의 RMSE\n",
    "x_test = [1,2,3]\n",
    "# y_test = [1,2,3]    # RMSE: 0.0\n",
    "y_test = [1,2,10]   # RMSE: 0.0\n",
    "\n",
    "rmse = get_rmse(w,x_test,y_test)        \n",
    "print('RMSE:',rmse)"
   ]
  },
  {
   "cell_type": "markdown",
   "metadata": {},
   "source": [
    "# Boston 주택 가격 예측 (Linear Regression, scikit-learn) "
   ]
  },
  {
   "cell_type": "code",
   "execution_count": 37,
   "metadata": {},
   "outputs": [],
   "source": [
    "from sklearn.linear_model import LinearRegression "
   ]
  },
  {
   "cell_type": "code",
   "execution_count": 47,
   "metadata": {},
   "outputs": [],
   "source": [
    "df = pd.read_csv('../PANDAS/Data/boston_train.csv')"
   ]
  },
  {
   "cell_type": "markdown",
   "metadata": {},
   "source": [
    "### 학습 -> 예측 -> 시각화 "
   ]
  },
  {
   "cell_type": "code",
   "execution_count": 48,
   "metadata": {},
   "outputs": [
    {
     "data": {
      "image/png": "[encoded data removed]",
      "text/plain": [
       "<Figure size 432x288 with 1 Axes>"
      ]
     },
     "metadata": {
      "needs_background": "light"
     },
     "output_type": "display_data"
    }
   ],
   "source": [
    "# 1 차원 (단항 , Feature =1 개) 회귀 모형의 예측 \n",
    "lr = LinearRegression()\n",
    "\n",
    "# 입출력 데이터를 설정 \n",
    "x = df['RM'].values.reshape(-1, 1)    # (400,1)\n",
    "y = df['MEDV'].values.reshape(-1, 1)  # (400, 1)\n",
    "\n",
    "# 회귀 모형의 학습, (x , y)를 입력 \n",
    "lr.fit(x, y)\n",
    "\n",
    "# 예측 : x 만 입력 \n",
    "y_predict = lr.predict(x)\n",
    "\n",
    "# 시각화 \n",
    "plt.scatter(x, y, color = 'r', s =10)\n",
    "plt.xlabel('RM')\n",
    "plt.ylabel('MEDV')\n",
    "\n",
    "plt.plot(x, y_predict)\n",
    "plt.show()\n",
    "\n",
    "# list(zip(y, y_predict))"
   ]
  },
  {
   "cell_type": "markdown",
   "metadata": {},
   "source": [
    "### 정확도 측정 , RMSE"
   ]
  },
  {
   "cell_type": "code",
   "execution_count": 49,
   "metadata": {},
   "outputs": [
    {
     "name": "stdout",
     "output_type": "stream",
     "text": [
      "RMSE:  6.964958263761021\n"
     ]
    }
   ],
   "source": [
    "from sklearn.metrics import mean_squared_error\n",
    "\n",
    "mse = mean_squared_error(y, y_predict)\n",
    "rmse = np.sqrt(mse)   # 오차 제곱에 root (제곱근)\n",
    "\n",
    "print('RMSE: ', rmse)"
   ]
  },
  {
   "cell_type": "code",
   "execution_count": 52,
   "metadata": {},
   "outputs": [
    {
     "name": "stdout",
     "output_type": "stream",
     "text": [
      "r2_score: 0.46928062004385096\n"
     ]
    }
   ],
   "source": [
    "from sklearn.metrics import r2_score \n",
    "\n",
    "r2 = r2_score(y, y_predict) # R - squred (결정계수), 예측 값의 분산/실제값의 분산 \n",
    "print('r2_score:', r2)"
   ]
  }
 ],
 "metadata": {
  "kernelspec": {
   "display_name": "Python 3",
   "language": "python",
   "name": "python3"
  },
  "language_info": {
   "codemirror_mode": {
    "name": "ipython",
    "version": 3
   },
   "file_extension": ".py",
   "mimetype": "text/x-python",
   "name": "python",
   "nbconvert_exporter": "python",
   "pygments_lexer": "ipython3",
   "version": "3.6.2"
  }
 },
 "nbformat": 4,
 "nbformat_minor": 2
}
