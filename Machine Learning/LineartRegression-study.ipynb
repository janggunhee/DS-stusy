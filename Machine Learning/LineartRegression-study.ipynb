{
 "cells": [
  {
   "cell_type": "markdown",
   "metadata": {},
   "source": [
    "## [ 선형 회귀 (Linear Regression)]"
   ]
  },
  {
   "cell_type": "code",
   "execution_count": 1,
   "metadata": {},
   "outputs": [],
   "source": [
    "import numpy as np\n",
    "import pandas as pd\n",
    "%matplotlib inline\n",
    "import seaborn as sns\n",
    "import matplotlib.pyplot as plt\n",
    "\n",
    "from sklearn.linear_model import LinearRegression \n",
    "from sklearn.model_selection import train_test_split, cross_val_score, cross_val_predict\n",
    "import operator\n",
    "\n",
    "from sklearn.linear_model import LinearRegression   # 선형회귀\n",
    "from sklearn.metrics import mean_squared_error      # RMSE (Root Mean Squared Error) \n",
    "from sklearn.metrics import r2_score   \n",
    "\n",
    "# 한글 출력을 위한 설정\n",
    "import matplotlib\n",
    "matplotlib.rcParams['font.family']=\"NanumBarunGothic\"\n",
    "matplotlib.rcParams['axes.unicode_minus'] = False"
   ]
  },
  {
   "cell_type": "markdown",
   "metadata": {},
   "source": [
    "## [1] LinearRegression을 이용한 회귀 예측 모델 구현¶"
   ]
  },
  {
   "cell_type": "code",
   "execution_count": 2,
   "metadata": {},
   "outputs": [],
   "source": [
    "df = pd.read_csv('../DataSet/cars.csv')"
   ]
  },
  {
   "cell_type": "code",
   "execution_count": 3,
   "metadata": {},
   "outputs": [
    {
     "data": {
      "image/png": "[encoded data removed]",
      "text/plain": [
       "<Figure size 432x288 with 1 Axes>"
      ]
     },
     "metadata": {
      "needs_background": "light"
     },
     "output_type": "display_data"
    }
   ],
   "source": [
    "# 1 차원 (단항 , Feature =1 개) 회귀 모형의 예측 \n",
    "lr = LinearRegression()\n",
    "\n",
    "# 입출력 데이터를 설정 \n",
    "x = df['speed'].values.reshape(-1, 1)    # (400,1)\n",
    "y = df['dist'].values.reshape(-1, 1)  # (400, 1)\n",
    "\n",
    "# 회귀 모형의 학습, (x , y)를 입력 \n",
    "lr.fit(x, y)\n",
    "\n",
    "# 예측 : x 만 입력 \n",
    "y_predict = lr.predict(x)\n",
    "\n",
    "# 시각화 \n",
    "plt.scatter(x, y, color = 'r', s =10)\n",
    "plt.xlabel('speed')\n",
    "plt.ylabel('dist')\n",
    "\n",
    "plt.plot(x, y_predict)\n",
    "plt.show()"
   ]
  },
  {
   "cell_type": "code",
   "execution_count": 4,
   "metadata": {},
   "outputs": [
    {
     "name": "stdout",
     "output_type": "stream",
     "text": [
      "RMSE:  15.068855995791381\n",
      "r2_score: 0.6510793807582509\n"
     ]
    }
   ],
   "source": [
    "# 정확도 측정 \n",
    "# RMSE = 오차 제곱에 root (평균 제곱근 편차, 표준 편차 ) - 예측값과 실제값을 뺀 후 제곱 시킨 값을 더해, n으로 나누고 루트를 씌운다.\n",
    "# 예측값과 실제 값의 차이를 보여주기 \n",
    "# https://brunch.co.kr/@chris-song/34\n",
    "\n",
    "mse = mean_squared_error(y, y_predict)\n",
    "rmse = np.sqrt(mse)   \n",
    "\n",
    "\n",
    "print('RMSE: ', rmse)\n",
    "\n",
    "r2 = r2_score(y, y_predict) \n",
    "# r2 = R - squred (결정계수)\n",
    "# 결정계수(Coefficient of Determination) - 독립변수가 종속 변수에 대해 얼마나 설명력을 가지게 되는지 나타내는 수치 \n",
    "# P-value 와 같이 0과 1사이의 값으로 나타낸다. \n",
    "# 0에 가까울수록 설명력이 낮고, 1에 가까울 수록 높다고 해석할 수 있다. \n",
    "# (예측값의 분산/ 실제값의 분산), https://jihongl.github.io/2017/09/16/Rsquared/\n",
    "\n",
    "print('r2_score:', r2)"
   ]
  },
  {
   "cell_type": "markdown",
   "metadata": {},
   "source": [
    "## [2] LinearRegression 실전 연습"
   ]
  },
  {
   "cell_type": "markdown",
   "metadata": {},
   "source": [
    "# [CalCoFI](https://www.kaggle.com/sohier/calcofi)\n",
    "\n",
    "### Context\n",
    "\n",
    "- CalCOFI 데이터 세트는 세계에서 가장 긴 (1949- 현재) 가장 완벽한 (50,000 개 이상의 샘플링 스테이션) 시계열 해양 및 애벌레 물고기 데이터를 나타냅니다. \n",
    "- 여기에는 250 종 이상의 어류의 유충에 대한 풍부한 데이터가 포함됩니다. \n",
    "- 주요 상업적 종에 대한 유충 길이 빈도 데이터 및 난 풍부도 데이터; 해양 및 플랑크톤 데이터. \n",
    "- 규칙적인 시간과 공간 간격으로 수집 된 물리적, 화학적 및 생물학적 데이터는 캘리포니아 주에서 기후주기를 기록하고 이에 대한 다양한 생물학적 반응을 기록하는 데 가치있게 되었습니다. \n"
   ]
  },
  {
   "cell_type": "markdown",
   "metadata": {},
   "source": [
    "- **Cst_Cnt** : Auto-numbered Cast Count - all casts consecutively numbered. 1 is first station done\n",
    "- **Btl_Cnt** : Auto-numbered Bottle count- all bottles ever sampled, consecutively numbered\n",
    "- **Sta_ID** : CalCOFI Line and Station\n",
    "- **Depth_ID** : [Century]-[YY][MM][ShipCode]-[CastType][Julian Day]-[CastTime]-[Line][Sta][Depth][Bottle]-[Rec_Ind]\n",
    "- **Depthm** - Depth in meters\n",
    "- **T_degC** - Water temperature in degree Celsius\n",
    "- **Salnty** - Salinity in g of salt per kg of water (g/kg)\n",
    "- **O2ml_L** - O2 mixing ration in ml/L\n"
   ]
  },
  {
   "cell_type": "markdown",
   "metadata": {},
   "source": [
    "### 60년이 넘는 해양 데이터: \n",
    "- 염분과 수온은 서로 관계가 있나? \n",
    "- 염분을 통해 수온을 예측할 수 있을까?  "
   ]
  },
  {
   "cell_type": "code",
   "execution_count": 5,
   "metadata": {},
   "outputs": [
    {
     "name": "stderr",
     "output_type": "stream",
     "text": [
      "/usr/local/var/pyenv/versions/3.7.4/envs/pv-python/lib/python3.7/site-packages/IPython/core/interactiveshell.py:3063: DtypeWarning: Columns (47,73) have mixed types.Specify dtype option on import or set low_memory=False.\n",
      "  interactivity=interactivity, compiler=compiler, result=result)\n"
     ]
    },
    {
     "data": {
      "text/html": [
       "<div>\n",
       "<style scoped>\n",
       "    .dataframe tbody tr th:only-of-type {\n",
       "        vertical-align: middle;\n",
       "    }\n",
       "\n",
       "    .dataframe tbody tr th {\n",
       "        vertical-align: top;\n",
       "    }\n",
       "\n",
       "    .dataframe thead th {\n",
       "        text-align: right;\n",
       "    }\n",
       "</style>\n",
       "<table border=\"1\" class=\"dataframe\">\n",
       "  <thead>\n",
       "    <tr style=\"text-align: right;\">\n",
       "      <th></th>\n",
       "      <th>Cst_Cnt</th>\n",
       "      <th>Btl_Cnt</th>\n",
       "      <th>Sta_ID</th>\n",
       "      <th>Depth_ID</th>\n",
       "      <th>Depthm</th>\n",
       "      <th>T_degC</th>\n",
       "      <th>Salnty</th>\n",
       "      <th>O2ml_L</th>\n",
       "      <th>STheta</th>\n",
       "      <th>O2Sat</th>\n",
       "      <th>...</th>\n",
       "      <th>R_PHAEO</th>\n",
       "      <th>R_PRES</th>\n",
       "      <th>R_SAMP</th>\n",
       "      <th>DIC1</th>\n",
       "      <th>DIC2</th>\n",
       "      <th>TA1</th>\n",
       "      <th>TA2</th>\n",
       "      <th>pH2</th>\n",
       "      <th>pH1</th>\n",
       "      <th>DIC Quality Comment</th>\n",
       "    </tr>\n",
       "  </thead>\n",
       "  <tbody>\n",
       "    <tr>\n",
       "      <th>0</th>\n",
       "      <td>1</td>\n",
       "      <td>1</td>\n",
       "      <td>054.0 056.0</td>\n",
       "      <td>19-4903CR-HY-060-0930-05400560-0000A-3</td>\n",
       "      <td>0</td>\n",
       "      <td>10.50</td>\n",
       "      <td>33.440</td>\n",
       "      <td>NaN</td>\n",
       "      <td>25.649</td>\n",
       "      <td>NaN</td>\n",
       "      <td>...</td>\n",
       "      <td>NaN</td>\n",
       "      <td>0</td>\n",
       "      <td>NaN</td>\n",
       "      <td>NaN</td>\n",
       "      <td>NaN</td>\n",
       "      <td>NaN</td>\n",
       "      <td>NaN</td>\n",
       "      <td>NaN</td>\n",
       "      <td>NaN</td>\n",
       "      <td>NaN</td>\n",
       "    </tr>\n",
       "    <tr>\n",
       "      <th>1</th>\n",
       "      <td>1</td>\n",
       "      <td>2</td>\n",
       "      <td>054.0 056.0</td>\n",
       "      <td>19-4903CR-HY-060-0930-05400560-0008A-3</td>\n",
       "      <td>8</td>\n",
       "      <td>10.46</td>\n",
       "      <td>33.440</td>\n",
       "      <td>NaN</td>\n",
       "      <td>25.656</td>\n",
       "      <td>NaN</td>\n",
       "      <td>...</td>\n",
       "      <td>NaN</td>\n",
       "      <td>8</td>\n",
       "      <td>NaN</td>\n",
       "      <td>NaN</td>\n",
       "      <td>NaN</td>\n",
       "      <td>NaN</td>\n",
       "      <td>NaN</td>\n",
       "      <td>NaN</td>\n",
       "      <td>NaN</td>\n",
       "      <td>NaN</td>\n",
       "    </tr>\n",
       "    <tr>\n",
       "      <th>2</th>\n",
       "      <td>1</td>\n",
       "      <td>3</td>\n",
       "      <td>054.0 056.0</td>\n",
       "      <td>19-4903CR-HY-060-0930-05400560-0010A-7</td>\n",
       "      <td>10</td>\n",
       "      <td>10.46</td>\n",
       "      <td>33.437</td>\n",
       "      <td>NaN</td>\n",
       "      <td>25.654</td>\n",
       "      <td>NaN</td>\n",
       "      <td>...</td>\n",
       "      <td>NaN</td>\n",
       "      <td>10</td>\n",
       "      <td>NaN</td>\n",
       "      <td>NaN</td>\n",
       "      <td>NaN</td>\n",
       "      <td>NaN</td>\n",
       "      <td>NaN</td>\n",
       "      <td>NaN</td>\n",
       "      <td>NaN</td>\n",
       "      <td>NaN</td>\n",
       "    </tr>\n",
       "    <tr>\n",
       "      <th>3</th>\n",
       "      <td>1</td>\n",
       "      <td>4</td>\n",
       "      <td>054.0 056.0</td>\n",
       "      <td>19-4903CR-HY-060-0930-05400560-0019A-3</td>\n",
       "      <td>19</td>\n",
       "      <td>10.45</td>\n",
       "      <td>33.420</td>\n",
       "      <td>NaN</td>\n",
       "      <td>25.643</td>\n",
       "      <td>NaN</td>\n",
       "      <td>...</td>\n",
       "      <td>NaN</td>\n",
       "      <td>19</td>\n",
       "      <td>NaN</td>\n",
       "      <td>NaN</td>\n",
       "      <td>NaN</td>\n",
       "      <td>NaN</td>\n",
       "      <td>NaN</td>\n",
       "      <td>NaN</td>\n",
       "      <td>NaN</td>\n",
       "      <td>NaN</td>\n",
       "    </tr>\n",
       "    <tr>\n",
       "      <th>4</th>\n",
       "      <td>1</td>\n",
       "      <td>5</td>\n",
       "      <td>054.0 056.0</td>\n",
       "      <td>19-4903CR-HY-060-0930-05400560-0020A-7</td>\n",
       "      <td>20</td>\n",
       "      <td>10.45</td>\n",
       "      <td>33.421</td>\n",
       "      <td>NaN</td>\n",
       "      <td>25.643</td>\n",
       "      <td>NaN</td>\n",
       "      <td>...</td>\n",
       "      <td>NaN</td>\n",
       "      <td>20</td>\n",
       "      <td>NaN</td>\n",
       "      <td>NaN</td>\n",
       "      <td>NaN</td>\n",
       "      <td>NaN</td>\n",
       "      <td>NaN</td>\n",
       "      <td>NaN</td>\n",
       "      <td>NaN</td>\n",
       "      <td>NaN</td>\n",
       "    </tr>\n",
       "  </tbody>\n",
       "</table>\n",
       "<p>5 rows × 74 columns</p>\n",
       "</div>"
      ],
      "text/plain": [
       "   Cst_Cnt  Btl_Cnt       Sta_ID                                Depth_ID  \\\n",
       "0        1        1  054.0 056.0  19-4903CR-HY-060-0930-05400560-0000A-3   \n",
       "1        1        2  054.0 056.0  19-4903CR-HY-060-0930-05400560-0008A-3   \n",
       "2        1        3  054.0 056.0  19-4903CR-HY-060-0930-05400560-0010A-7   \n",
       "3        1        4  054.0 056.0  19-4903CR-HY-060-0930-05400560-0019A-3   \n",
       "4        1        5  054.0 056.0  19-4903CR-HY-060-0930-05400560-0020A-7   \n",
       "\n",
       "   Depthm  T_degC  Salnty  O2ml_L  STheta  O2Sat  ...  R_PHAEO  R_PRES  \\\n",
       "0       0   10.50  33.440     NaN  25.649    NaN  ...      NaN       0   \n",
       "1       8   10.46  33.440     NaN  25.656    NaN  ...      NaN       8   \n",
       "2      10   10.46  33.437     NaN  25.654    NaN  ...      NaN      10   \n",
       "3      19   10.45  33.420     NaN  25.643    NaN  ...      NaN      19   \n",
       "4      20   10.45  33.421     NaN  25.643    NaN  ...      NaN      20   \n",
       "\n",
       "   R_SAMP  DIC1  DIC2  TA1  TA2  pH2  pH1  DIC Quality Comment  \n",
       "0     NaN   NaN   NaN  NaN  NaN  NaN  NaN                  NaN  \n",
       "1     NaN   NaN   NaN  NaN  NaN  NaN  NaN                  NaN  \n",
       "2     NaN   NaN   NaN  NaN  NaN  NaN  NaN                  NaN  \n",
       "3     NaN   NaN   NaN  NaN  NaN  NaN  NaN                  NaN  \n",
       "4     NaN   NaN   NaN  NaN  NaN  NaN  NaN                  NaN  \n",
       "\n",
       "[5 rows x 74 columns]"
      ]
     },
     "execution_count": 5,
     "metadata": {},
     "output_type": "execute_result"
    }
   ],
   "source": [
    "bottle = pd.read_csv('../DataSet/calcofi/bottle.csv')\n",
    "bottle.head()"
   ]
  },
  {
   "cell_type": "code",
   "execution_count": 6,
   "metadata": {},
   "outputs": [
    {
     "data": {
      "text/html": [
       "<div>\n",
       "<style scoped>\n",
       "    .dataframe tbody tr th:only-of-type {\n",
       "        vertical-align: middle;\n",
       "    }\n",
       "\n",
       "    .dataframe tbody tr th {\n",
       "        vertical-align: top;\n",
       "    }\n",
       "\n",
       "    .dataframe thead th {\n",
       "        text-align: right;\n",
       "    }\n",
       "</style>\n",
       "<table border=\"1\" class=\"dataframe\">\n",
       "  <thead>\n",
       "    <tr style=\"text-align: right;\">\n",
       "      <th></th>\n",
       "      <th>Cst_Cnt</th>\n",
       "      <th>Btl_Cnt</th>\n",
       "      <th>Depthm</th>\n",
       "      <th>T_degC</th>\n",
       "      <th>Salnty</th>\n",
       "      <th>O2ml_L</th>\n",
       "      <th>STheta</th>\n",
       "      <th>O2Sat</th>\n",
       "      <th>Oxy_µmol/Kg</th>\n",
       "      <th>BtlNum</th>\n",
       "      <th>...</th>\n",
       "      <th>R_CHLA</th>\n",
       "      <th>R_PHAEO</th>\n",
       "      <th>R_PRES</th>\n",
       "      <th>R_SAMP</th>\n",
       "      <th>DIC1</th>\n",
       "      <th>DIC2</th>\n",
       "      <th>TA1</th>\n",
       "      <th>TA2</th>\n",
       "      <th>pH2</th>\n",
       "      <th>pH1</th>\n",
       "    </tr>\n",
       "  </thead>\n",
       "  <tbody>\n",
       "    <tr>\n",
       "      <th>count</th>\n",
       "      <td>864863.000000</td>\n",
       "      <td>864863.000000</td>\n",
       "      <td>864863.000000</td>\n",
       "      <td>853900.000000</td>\n",
       "      <td>817509.000000</td>\n",
       "      <td>696201.000000</td>\n",
       "      <td>812174.000000</td>\n",
       "      <td>661274.000000</td>\n",
       "      <td>661268.000000</td>\n",
       "      <td>118667.000000</td>\n",
       "      <td>...</td>\n",
       "      <td>225276.000000</td>\n",
       "      <td>225275.000000</td>\n",
       "      <td>864863.000000</td>\n",
       "      <td>122006.000000</td>\n",
       "      <td>1999.000000</td>\n",
       "      <td>224.000000</td>\n",
       "      <td>2084.000000</td>\n",
       "      <td>234.000000</td>\n",
       "      <td>10.000000</td>\n",
       "      <td>84.000000</td>\n",
       "    </tr>\n",
       "    <tr>\n",
       "      <th>mean</th>\n",
       "      <td>17138.790958</td>\n",
       "      <td>432432.000000</td>\n",
       "      <td>226.831951</td>\n",
       "      <td>10.799677</td>\n",
       "      <td>33.840350</td>\n",
       "      <td>3.392468</td>\n",
       "      <td>25.819394</td>\n",
       "      <td>57.103779</td>\n",
       "      <td>148.808694</td>\n",
       "      <td>10.497426</td>\n",
       "      <td>...</td>\n",
       "      <td>0.450225</td>\n",
       "      <td>0.198599</td>\n",
       "      <td>228.395694</td>\n",
       "      <td>162.071521</td>\n",
       "      <td>2153.239714</td>\n",
       "      <td>2168.148330</td>\n",
       "      <td>2256.055845</td>\n",
       "      <td>2278.858803</td>\n",
       "      <td>7.948570</td>\n",
       "      <td>7.910983</td>\n",
       "    </tr>\n",
       "    <tr>\n",
       "      <th>std</th>\n",
       "      <td>10240.949817</td>\n",
       "      <td>249664.587269</td>\n",
       "      <td>316.050259</td>\n",
       "      <td>4.243825</td>\n",
       "      <td>0.461843</td>\n",
       "      <td>2.073256</td>\n",
       "      <td>1.167787</td>\n",
       "      <td>37.094137</td>\n",
       "      <td>90.187533</td>\n",
       "      <td>6.189688</td>\n",
       "      <td>...</td>\n",
       "      <td>1.208566</td>\n",
       "      <td>0.376539</td>\n",
       "      <td>319.456731</td>\n",
       "      <td>85.722796</td>\n",
       "      <td>112.995202</td>\n",
       "      <td>154.852332</td>\n",
       "      <td>34.844435</td>\n",
       "      <td>58.496495</td>\n",
       "      <td>0.021216</td>\n",
       "      <td>0.077666</td>\n",
       "    </tr>\n",
       "    <tr>\n",
       "      <th>min</th>\n",
       "      <td>1.000000</td>\n",
       "      <td>1.000000</td>\n",
       "      <td>0.000000</td>\n",
       "      <td>1.440000</td>\n",
       "      <td>28.431000</td>\n",
       "      <td>-0.010000</td>\n",
       "      <td>20.934000</td>\n",
       "      <td>-0.100000</td>\n",
       "      <td>-0.434900</td>\n",
       "      <td>0.000000</td>\n",
       "      <td>...</td>\n",
       "      <td>-0.010000</td>\n",
       "      <td>-3.890000</td>\n",
       "      <td>0.000000</td>\n",
       "      <td>0.000000</td>\n",
       "      <td>1948.850000</td>\n",
       "      <td>1969.440000</td>\n",
       "      <td>2181.570000</td>\n",
       "      <td>2198.150000</td>\n",
       "      <td>7.923100</td>\n",
       "      <td>7.618300</td>\n",
       "    </tr>\n",
       "    <tr>\n",
       "      <th>25%</th>\n",
       "      <td>8269.000000</td>\n",
       "      <td>216216.500000</td>\n",
       "      <td>46.000000</td>\n",
       "      <td>7.680000</td>\n",
       "      <td>33.488000</td>\n",
       "      <td>1.360000</td>\n",
       "      <td>24.965000</td>\n",
       "      <td>21.100000</td>\n",
       "      <td>60.915470</td>\n",
       "      <td>5.000000</td>\n",
       "      <td>...</td>\n",
       "      <td>0.050000</td>\n",
       "      <td>0.050000</td>\n",
       "      <td>46.000000</td>\n",
       "      <td>200.000000</td>\n",
       "      <td>2028.330000</td>\n",
       "      <td>2008.977500</td>\n",
       "      <td>2230.322500</td>\n",
       "      <td>2229.062500</td>\n",
       "      <td>7.931475</td>\n",
       "      <td>7.898675</td>\n",
       "    </tr>\n",
       "    <tr>\n",
       "      <th>50%</th>\n",
       "      <td>16848.000000</td>\n",
       "      <td>432432.000000</td>\n",
       "      <td>125.000000</td>\n",
       "      <td>10.060000</td>\n",
       "      <td>33.863000</td>\n",
       "      <td>3.440000</td>\n",
       "      <td>25.996000</td>\n",
       "      <td>54.400000</td>\n",
       "      <td>151.064150</td>\n",
       "      <td>10.000000</td>\n",
       "      <td>...</td>\n",
       "      <td>0.160000</td>\n",
       "      <td>0.110000</td>\n",
       "      <td>126.000000</td>\n",
       "      <td>206.000000</td>\n",
       "      <td>2170.640000</td>\n",
       "      <td>2265.885000</td>\n",
       "      <td>2244.325000</td>\n",
       "      <td>2247.505000</td>\n",
       "      <td>7.946650</td>\n",
       "      <td>7.928850</td>\n",
       "    </tr>\n",
       "    <tr>\n",
       "      <th>75%</th>\n",
       "      <td>26557.000000</td>\n",
       "      <td>648647.500000</td>\n",
       "      <td>300.000000</td>\n",
       "      <td>13.880000</td>\n",
       "      <td>34.196900</td>\n",
       "      <td>5.500000</td>\n",
       "      <td>26.646000</td>\n",
       "      <td>97.600000</td>\n",
       "      <td>240.379600</td>\n",
       "      <td>16.000000</td>\n",
       "      <td>...</td>\n",
       "      <td>0.390000</td>\n",
       "      <td>0.230000</td>\n",
       "      <td>302.000000</td>\n",
       "      <td>214.000000</td>\n",
       "      <td>2253.810000</td>\n",
       "      <td>2315.525000</td>\n",
       "      <td>2278.505000</td>\n",
       "      <td>2316.452500</td>\n",
       "      <td>7.963300</td>\n",
       "      <td>7.955100</td>\n",
       "    </tr>\n",
       "    <tr>\n",
       "      <th>max</th>\n",
       "      <td>34404.000000</td>\n",
       "      <td>864863.000000</td>\n",
       "      <td>5351.000000</td>\n",
       "      <td>31.140000</td>\n",
       "      <td>37.034000</td>\n",
       "      <td>11.130000</td>\n",
       "      <td>250.784000</td>\n",
       "      <td>214.100000</td>\n",
       "      <td>485.701800</td>\n",
       "      <td>25.000000</td>\n",
       "      <td>...</td>\n",
       "      <td>66.110000</td>\n",
       "      <td>65.300000</td>\n",
       "      <td>5458.000000</td>\n",
       "      <td>424.000000</td>\n",
       "      <td>2367.800000</td>\n",
       "      <td>2364.420000</td>\n",
       "      <td>2434.900000</td>\n",
       "      <td>2437.000000</td>\n",
       "      <td>7.988300</td>\n",
       "      <td>8.047700</td>\n",
       "    </tr>\n",
       "  </tbody>\n",
       "</table>\n",
       "<p>8 rows × 70 columns</p>\n",
       "</div>"
      ],
      "text/plain": [
       "             Cst_Cnt        Btl_Cnt         Depthm         T_degC  \\\n",
       "count  864863.000000  864863.000000  864863.000000  853900.000000   \n",
       "mean    17138.790958  432432.000000     226.831951      10.799677   \n",
       "std     10240.949817  249664.587269     316.050259       4.243825   \n",
       "min         1.000000       1.000000       0.000000       1.440000   \n",
       "25%      8269.000000  216216.500000      46.000000       7.680000   \n",
       "50%     16848.000000  432432.000000     125.000000      10.060000   \n",
       "75%     26557.000000  648647.500000     300.000000      13.880000   \n",
       "max     34404.000000  864863.000000    5351.000000      31.140000   \n",
       "\n",
       "              Salnty         O2ml_L         STheta          O2Sat  \\\n",
       "count  817509.000000  696201.000000  812174.000000  661274.000000   \n",
       "mean       33.840350       3.392468      25.819394      57.103779   \n",
       "std         0.461843       2.073256       1.167787      37.094137   \n",
       "min        28.431000      -0.010000      20.934000      -0.100000   \n",
       "25%        33.488000       1.360000      24.965000      21.100000   \n",
       "50%        33.863000       3.440000      25.996000      54.400000   \n",
       "75%        34.196900       5.500000      26.646000      97.600000   \n",
       "max        37.034000      11.130000     250.784000     214.100000   \n",
       "\n",
       "         Oxy_µmol/Kg         BtlNum  ...         R_CHLA        R_PHAEO  \\\n",
       "count  661268.000000  118667.000000  ...  225276.000000  225275.000000   \n",
       "mean      148.808694      10.497426  ...       0.450225       0.198599   \n",
       "std        90.187533       6.189688  ...       1.208566       0.376539   \n",
       "min        -0.434900       0.000000  ...      -0.010000      -3.890000   \n",
       "25%        60.915470       5.000000  ...       0.050000       0.050000   \n",
       "50%       151.064150      10.000000  ...       0.160000       0.110000   \n",
       "75%       240.379600      16.000000  ...       0.390000       0.230000   \n",
       "max       485.701800      25.000000  ...      66.110000      65.300000   \n",
       "\n",
       "              R_PRES         R_SAMP         DIC1         DIC2          TA1  \\\n",
       "count  864863.000000  122006.000000  1999.000000   224.000000  2084.000000   \n",
       "mean      228.395694     162.071521  2153.239714  2168.148330  2256.055845   \n",
       "std       319.456731      85.722796   112.995202   154.852332    34.844435   \n",
       "min         0.000000       0.000000  1948.850000  1969.440000  2181.570000   \n",
       "25%        46.000000     200.000000  2028.330000  2008.977500  2230.322500   \n",
       "50%       126.000000     206.000000  2170.640000  2265.885000  2244.325000   \n",
       "75%       302.000000     214.000000  2253.810000  2315.525000  2278.505000   \n",
       "max      5458.000000     424.000000  2367.800000  2364.420000  2434.900000   \n",
       "\n",
       "               TA2        pH2        pH1  \n",
       "count   234.000000  10.000000  84.000000  \n",
       "mean   2278.858803   7.948570   7.910983  \n",
       "std      58.496495   0.021216   0.077666  \n",
       "min    2198.150000   7.923100   7.618300  \n",
       "25%    2229.062500   7.931475   7.898675  \n",
       "50%    2247.505000   7.946650   7.928850  \n",
       "75%    2316.452500   7.963300   7.955100  \n",
       "max    2437.000000   7.988300   8.047700  \n",
       "\n",
       "[8 rows x 70 columns]"
      ]
     },
     "execution_count": 6,
     "metadata": {},
     "output_type": "execute_result"
    }
   ],
   "source": [
    "bottle.describe()"
   ]
  },
  {
   "cell_type": "code",
   "execution_count": 7,
   "metadata": {},
   "outputs": [],
   "source": [
    "bottle_df = bottle[['T_degC', 'Salnty']]"
   ]
  },
  {
   "cell_type": "code",
   "execution_count": 8,
   "metadata": {},
   "outputs": [],
   "source": [
    "bottle_df.columns = ['Temp', 'Sal']"
   ]
  },
  {
   "cell_type": "code",
   "execution_count": 45,
   "metadata": {},
   "outputs": [
    {
     "data": {
      "text/html": [
       "<div>\n",
       "<style scoped>\n",
       "    .dataframe tbody tr th:only-of-type {\n",
       "        vertical-align: middle;\n",
       "    }\n",
       "\n",
       "    .dataframe tbody tr th {\n",
       "        vertical-align: top;\n",
       "    }\n",
       "\n",
       "    .dataframe thead th {\n",
       "        text-align: right;\n",
       "    }\n",
       "</style>\n",
       "<table border=\"1\" class=\"dataframe\">\n",
       "  <thead>\n",
       "    <tr style=\"text-align: right;\">\n",
       "      <th></th>\n",
       "      <th>Temp</th>\n",
       "      <th>Sal</th>\n",
       "    </tr>\n",
       "  </thead>\n",
       "  <tbody>\n",
       "    <tr>\n",
       "      <th>0</th>\n",
       "      <td>10.50</td>\n",
       "      <td>33.440</td>\n",
       "    </tr>\n",
       "    <tr>\n",
       "      <th>1</th>\n",
       "      <td>10.46</td>\n",
       "      <td>33.440</td>\n",
       "    </tr>\n",
       "    <tr>\n",
       "      <th>2</th>\n",
       "      <td>10.46</td>\n",
       "      <td>33.437</td>\n",
       "    </tr>\n",
       "    <tr>\n",
       "      <th>3</th>\n",
       "      <td>10.45</td>\n",
       "      <td>33.420</td>\n",
       "    </tr>\n",
       "    <tr>\n",
       "      <th>4</th>\n",
       "      <td>10.45</td>\n",
       "      <td>33.421</td>\n",
       "    </tr>\n",
       "  </tbody>\n",
       "</table>\n",
       "</div>"
      ],
      "text/plain": [
       "    Temp     Sal\n",
       "0  10.50  33.440\n",
       "1  10.46  33.440\n",
       "2  10.46  33.437\n",
       "3  10.45  33.420\n",
       "4  10.45  33.421"
      ]
     },
     "execution_count": 45,
     "metadata": {},
     "output_type": "execute_result"
    }
   ],
   "source": [
    "bottle_df = bottle_df[:][:3000] \n",
    "bottle_df.head()"
   ]
  },
  {
   "cell_type": "code",
   "execution_count": 46,
   "metadata": {},
   "outputs": [
    {
     "data": {
      "text/plain": [
       "<seaborn.axisgrid.FacetGrid at 0x11e93d6d0>"
      ]
     },
     "execution_count": 46,
     "metadata": {},
     "output_type": "execute_result"
    },
    {
     "data": {
      "image/png": "[encoded data removed]",
      "text/plain": [
       "<Figure size 360x360 with 1 Axes>"
      ]
     },
     "metadata": {
      "needs_background": "light"
     },
     "output_type": "display_data"
    }
   ],
   "source": [
    "sns.lmplot(x =\"Sal\", y =\"Temp\", data = bottle_df, order = 2, ci = None) "
   ]
  },
  {
   "cell_type": "markdown",
   "metadata": {},
   "source": [
    "- 염도와 온도의 선형관계 성립 "
   ]
  },
  {
   "cell_type": "markdown",
   "metadata": {},
   "source": [
    "### Fit linear regression models to the scatter plots: [link](https://seaborn.pydata.org/generated/seaborn.pairplot.html)"
   ]
  },
  {
   "cell_type": "code",
   "execution_count": 47,
   "metadata": {},
   "outputs": [
    {
     "data": {
      "text/plain": [
       "<seaborn.axisgrid.PairGrid at 0x11ea87e10>"
      ]
     },
     "execution_count": 47,
     "metadata": {},
     "output_type": "execute_result"
    },
    {
     "data": {
      "image/png": "[encoded data removed]",
      "text/plain": [
       "<Figure size 360x360 with 6 Axes>"
      ]
     },
     "metadata": {
      "needs_background": "light"
     },
     "output_type": "display_data"
    }
   ],
   "source": [
    "sns.pairplot(bottle_df, kind=\"reg\")"
   ]
  },
  {
   "cell_type": "markdown",
   "metadata": {},
   "source": [
    "###  Data cleaning"
   ]
  },
  {
   "cell_type": "code",
   "execution_count": 48,
   "metadata": {},
   "outputs": [
    {
     "data": {
      "text/plain": [
       "Temp    0\n",
       "Sal     0\n",
       "dtype: int64"
      ]
     },
     "execution_count": 48,
     "metadata": {},
     "output_type": "execute_result"
    }
   ],
   "source": [
    "# null 값이 얼마나 있나\n",
    "bottle_df.isnull().sum()"
   ]
  },
  {
   "cell_type": "code",
   "execution_count": 49,
   "metadata": {},
   "outputs": [],
   "source": [
    "#  ‘ffill’ = ‘forward fill’ NaN값을 앞으로 채우기 \n",
    "bottle_df.fillna(method = 'ffill', inplace=True)\n",
    "\n",
    "#bottle_df.isnull().sum()"
   ]
  },
  {
   "cell_type": "markdown",
   "metadata": {},
   "source": [
    "### Features 선택"
   ]
  },
  {
   "cell_type": "code",
   "execution_count": 50,
   "metadata": {},
   "outputs": [],
   "source": [
    "X = np.array(bottle_df['Sal']).reshape(-1, 1)\n",
    "y = np.array(bottle_df['Temp']).reshape(-1, 1)"
   ]
  },
  {
   "cell_type": "markdown",
   "metadata": {},
   "source": [
    "### test set / train set 나누기 "
   ]
  },
  {
   "cell_type": "code",
   "execution_count": 51,
   "metadata": {},
   "outputs": [],
   "source": [
    "# test 20%, train 80%\n",
    "X_train, X_test, y_train, y_test = train_test_split(X, y, test_size = 0.30, random_state = 42) "
   ]
  },
  {
   "cell_type": "markdown",
   "metadata": {},
   "source": [
    "## Linear Regression"
   ]
  },
  {
   "cell_type": "code",
   "execution_count": 52,
   "metadata": {},
   "outputs": [],
   "source": [
    "# 1 차원 (단항 , Feature =1 개) 회귀 모형의 예측 \n",
    "lr = LinearRegression()"
   ]
  },
  {
   "cell_type": "markdown",
   "metadata": {},
   "source": [
    "### 선형 회귀 학습 "
   ]
  },
  {
   "cell_type": "code",
   "execution_count": 53,
   "metadata": {},
   "outputs": [
    {
     "data": {
      "text/plain": [
       "LinearRegression(copy_X=True, fit_intercept=True, n_jobs=None, normalize=False)"
      ]
     },
     "execution_count": 53,
     "metadata": {},
     "output_type": "execute_result"
    }
   ],
   "source": [
    "lr.fit(X_train, y_train)"
   ]
  },
  {
   "cell_type": "markdown",
   "metadata": {},
   "source": [
    "### 학습 정확도 "
   ]
  },
  {
   "cell_type": "code",
   "execution_count": 54,
   "metadata": {},
   "outputs": [
    {
     "name": "stdout",
     "output_type": "stream",
     "text": [
      "Linear Regression Medel Accuracy Score:  82.7%\n"
     ]
    }
   ],
   "source": [
    "# Accuracy score \n",
    "accruacy_score = lr.score(X_test, y_test)\n",
    "print(\"Linear Regression Medel Accuracy Score: \" , \"{:.1%}\".format(accruacy_score))"
   ]
  },
  {
   "cell_type": "markdown",
   "metadata": {},
   "source": [
    "### 예측"
   ]
  },
  {
   "cell_type": "code",
   "execution_count": 55,
   "metadata": {},
   "outputs": [],
   "source": [
    "# Predict Linear Model\n",
    "y_pred =  lr.predict(X_test)"
   ]
  },
  {
   "cell_type": "markdown",
   "metadata": {},
   "source": [
    "### 시각화 scatter "
   ]
  },
  {
   "cell_type": "code",
   "execution_count": 56,
   "metadata": {},
   "outputs": [
    {
     "data": {
      "image/png": "[encoded data removed]",
      "text/plain": [
       "<Figure size 432x288 with 1 Axes>"
      ]
     },
     "metadata": {
      "needs_background": "light"
     },
     "output_type": "display_data"
    }
   ],
   "source": [
    "# 시각화 \n",
    "plt.scatter(X_test, y_test, color = 'r', s =10)\n",
    "plt.plot(X_test, y_pred, color = 'g')\n",
    "\n",
    "plt.show()"
   ]
  },
  {
   "cell_type": "markdown",
   "metadata": {},
   "source": [
    "### RMSE "
   ]
  },
  {
   "cell_type": "code",
   "execution_count": 57,
   "metadata": {},
   "outputs": [
    {
     "name": "stdout",
     "output_type": "stream",
     "text": [
      "RMSE Score:  1.19\n"
     ]
    }
   ],
   "source": [
    "mse = mean_squared_error(y_test, y_pred)\n",
    "rmse = np.sqrt(mse)\n",
    "\n",
    "print(\"RMSE Score: \" , \"{:.3}\".format(rmse))"
   ]
  },
  {
   "cell_type": "markdown",
   "metadata": {},
   "source": [
    "### R2 Score "
   ]
  },
  {
   "cell_type": "code",
   "execution_count": 58,
   "metadata": {},
   "outputs": [
    {
     "name": "stdout",
     "output_type": "stream",
     "text": [
      "R2 Score:  0.827\n"
     ]
    }
   ],
   "source": [
    "r2 = r2_score(y_test, y_pred) \n",
    "print(\"R2 Score: \" , \"{:.3}\".format(r2))"
   ]
  },
  {
   "cell_type": "markdown",
   "metadata": {},
   "source": [
    "## Multiple Linear Regression"
   ]
  },
  {
   "cell_type": "code",
   "execution_count": 59,
   "metadata": {},
   "outputs": [
    {
     "data": {
      "text/plain": [
       "0.7897720931156469"
      ]
     },
     "execution_count": 59,
     "metadata": {},
     "output_type": "execute_result"
    }
   ],
   "source": [
    "cross_val_score(lr, X, y, cv=10, scoring = 'r2').mean()"
   ]
  },
  {
   "cell_type": "code",
   "execution_count": 60,
   "metadata": {},
   "outputs": [
    {
     "data": {
      "text/plain": [
       "0.8568676494015987"
      ]
     },
     "execution_count": 60,
     "metadata": {},
     "output_type": "execute_result"
    }
   ],
   "source": [
    "# r2 value\n",
    "lr.score(X_train, y_train)   "
   ]
  },
  {
   "cell_type": "code",
   "execution_count": 61,
   "metadata": {},
   "outputs": [
    {
     "data": {
      "text/plain": [
       "1.1131154872826317"
      ]
     },
     "execution_count": 61,
     "metadata": {},
     "output_type": "execute_result"
    }
   ],
   "source": [
    "np.sqrt(-cross_val_score(lr,\n",
    "                        X_train,\n",
    "                        y_train,\n",
    "                        cv=10,\n",
    "                        scoring='neg_mean_squared_error')).mean()"
   ]
  },
  {
   "cell_type": "code",
   "execution_count": 62,
   "metadata": {},
   "outputs": [
    {
     "data": {
      "image/png": "[encoded data removed]",
      "text/plain": [
       "<Figure size 432x288 with 1 Axes>"
      ]
     },
     "metadata": {
      "needs_background": "light"
     },
     "output_type": "display_data"
    }
   ],
   "source": [
    "# Finally draw figure of Multiple Linear Regression Model\n",
    "\n",
    "plt.scatter(X_train, y_train, s=100)\n",
    "\n",
    "# sort the values of x before line plot\n",
    "sort_axis = operator.itemgetter(0)\n",
    "sorted_zip = sorted(zip(X_train,y_pred), key=sort_axis)\n",
    "X_test, y_pred = zip(*sorted_zip)\n",
    "plt.plot(X_train, y_train, color='g')\n",
    "plt.show()"
   ]
  },
  {
   "cell_type": "code",
   "execution_count": null,
   "metadata": {},
   "outputs": [],
   "source": []
  },
  {
   "cell_type": "code",
   "execution_count": null,
   "metadata": {},
   "outputs": [],
   "source": []
  }
 ],
 "metadata": {
  "kernelspec": {
   "display_name": "Python 3",
   "language": "python",
   "name": "python3"
  },
  "language_info": {
   "codemirror_mode": {
    "name": "ipython",
    "version": 3
   },
   "file_extension": ".py",
   "mimetype": "text/x-python",
   "name": "python",
   "nbconvert_exporter": "python",
   "pygments_lexer": "ipython3",
   "version": "3.7.4"
  }
 },
 "nbformat": 4,
 "nbformat_minor": 4
}
