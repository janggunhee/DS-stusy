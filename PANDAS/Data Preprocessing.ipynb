{
 "cells": [
  {
   "cell_type": "code",
   "execution_count": 3,
   "metadata": {},
   "outputs": [],
   "source": [
    "import numpy as np \n",
    "import pandas as pd\n",
    "import matplotlib.pyplot as plt\n",
    "import random"
   ]
  },
  {
   "cell_type": "markdown",
   "metadata": {},
   "source": [
    "##  표준화 (Standardization)"
   ]
  },
  {
   "cell_type": "markdown",
   "metadata": {},
   "source": [
    "### (1) Numpy 를 이용한 표준화 "
   ]
  },
  {
   "cell_type": "code",
   "execution_count": 5,
   "metadata": {},
   "outputs": [
    {
     "name": "stdout",
     "output_type": "stream",
     "text": [
      "raw_data:\n",
      " [[231 183 852 513]\n",
      " [810 223 122 974]\n",
      " [993 992 671 220]]\n",
      "numpy standardized data: \n",
      " [[-1.3762905  -0.76014687  0.97834786 -0.18043812]\n",
      " [ 0.40642135 -0.65270561 -1.37355315  1.30495424]\n",
      " [ 0.96986914  1.41285248  0.39520528 -1.12451612]]\n"
     ]
    }
   ],
   "source": [
    "data = np.random.randint(1000, size=(3, 4))\n",
    "print('raw_data:\\n', data)\n",
    "\n",
    "\n",
    "data_stand_np = (data - np.mean(data, axis = 0)) /np.std(data, axis=0)\n",
    "print('numpy standardized data: \\n', data_stand_np)"
   ]
  },
  {
   "cell_type": "markdown",
   "metadata": {},
   "source": [
    "### (2) scipy.stats 를 이용한 표준화 : zscore( )"
   ]
  },
  {
   "cell_type": "code",
   "execution_count": 7,
   "metadata": {},
   "outputs": [],
   "source": [
    "import scipy.stats as ss"
   ]
  },
  {
   "cell_type": "code",
   "execution_count": 8,
   "metadata": {},
   "outputs": [
    {
     "name": "stdout",
     "output_type": "stream",
     "text": [
      "scipy standardized data: \n",
      " [[-1.3762905  -0.76014687  0.97834786 -0.18043812]\n",
      " [ 0.40642135 -0.65270561 -1.37355315  1.30495424]\n",
      " [ 0.96986914  1.41285248  0.39520528 -1.12451612]]\n"
     ]
    }
   ],
   "source": [
    "data_stand_ss = ss.zscore(data)\n",
    "\n",
    "print('scipy standardized data: \\n', data_stand_ss)"
   ]
  },
  {
   "cell_type": "markdown",
   "metadata": {},
   "source": [
    "### (3) sklearn.preprocessing 을 이용한 표준화 "
   ]
  },
  {
   "cell_type": "code",
   "execution_count": 12,
   "metadata": {},
   "outputs": [
    {
     "name": "stdout",
     "output_type": "stream",
     "text": [
      "sklearn standardized data: \n",
      " [[-1.3762905  -0.76014687  0.97834786 -0.18043812]\n",
      " [ 0.40642135 -0.65270561 -1.37355315  1.30495424]\n",
      " [ 0.96986914  1.41285248  0.39520528 -1.12451612]]\n"
     ]
    }
   ],
   "source": [
    "# standardScaler().fit_transform()\n",
    "\n",
    "from sklearn.preprocessing import StandardScaler\n",
    "\n",
    "data_stand_skl = StandardScaler().fit_transform(data)\n",
    "print('sklearn standardized data: \\n', data_stand_skl)"
   ]
  },
  {
   "cell_type": "markdown",
   "metadata": {},
   "source": [
    "## 정규화 (Normalization)"
   ]
  },
  {
   "cell_type": "markdown",
   "metadata": {},
   "source": [
    "### (1) Numpy를 이용한 정규화 \n",
    "#### Z- ( X - min( ) / (max( ) - min ( ) ) "
   ]
  },
  {
   "cell_type": "code",
   "execution_count": 14,
   "metadata": {},
   "outputs": [
    {
     "name": "stdout",
     "output_type": "stream",
     "text": [
      "numpy minmax data: \n",
      " [[0.         0.         1.         0.38859416]\n",
      " [0.75984252 0.04944376 0.         1.        ]\n",
      " [1.         1.         0.75205479 0.        ]]\n"
     ]
    }
   ],
   "source": [
    "data_minmax_np = (data -np.min(data, axis = 0)) / (np.max(data, axis=0) - np.min(data, axis = 0))\n",
    "print('numpy minmax data: \\n', data_minmax_np)"
   ]
  },
  {
   "cell_type": "code",
   "execution_count": 15,
   "metadata": {},
   "outputs": [
    {
     "data": {
      "text/plain": [
       "array([[231, 183, 852, 513],\n",
       "       [810, 223, 122, 974],\n",
       "       [993, 992, 671, 220]])"
      ]
     },
     "execution_count": 15,
     "metadata": {},
     "output_type": "execute_result"
    }
   ],
   "source": [
    "data"
   ]
  },
  {
   "cell_type": "code",
   "execution_count": 16,
   "metadata": {},
   "outputs": [
    {
     "data": {
      "text/plain": [
       "122"
      ]
     },
     "execution_count": 16,
     "metadata": {},
     "output_type": "execute_result"
    }
   ],
   "source": [
    "np.min(data)"
   ]
  },
  {
   "cell_type": "markdown",
   "metadata": {},
   "source": [
    "### (3) sklearn.preprocessing 을 이용한 정규화"
   ]
  },
  {
   "cell_type": "code",
   "execution_count": 19,
   "metadata": {},
   "outputs": [
    {
     "ename": "NameError",
     "evalue": "name 'MinMaxScaler' is not defined",
     "output_type": "error",
     "traceback": [
      "\u001b[0;31m---------------------------------------------------------------------------\u001b[0m",
      "\u001b[0;31mNameError\u001b[0m                                 Traceback (most recent call last)",
      "\u001b[0;32m<ipython-input-19-e9e648e3cc29>\u001b[0m in \u001b[0;36m<module>\u001b[0;34m\u001b[0m\n\u001b[1;32m      1\u001b[0m \u001b[0;31m# MinMaxScaler().fit_transform()\u001b[0m\u001b[0;34m\u001b[0m\u001b[0;34m\u001b[0m\u001b[0m\n\u001b[1;32m      2\u001b[0m \u001b[0;32mfrom\u001b[0m \u001b[0msklearn\u001b[0m\u001b[0;34m.\u001b[0m\u001b[0mpreprocessing\u001b[0m \u001b[0;32mimport\u001b[0m \u001b[0mStandardScaler\u001b[0m\u001b[0;34m\u001b[0m\u001b[0m\n\u001b[0;32m----> 3\u001b[0;31m \u001b[0mdata_minmax_skl\u001b[0m \u001b[0;34m=\u001b[0m \u001b[0mMinMaxScaler\u001b[0m\u001b[0;34m(\u001b[0m\u001b[0;34m)\u001b[0m\u001b[0;34m.\u001b[0m\u001b[0mfit_transform\u001b[0m\u001b[0;34m(\u001b[0m\u001b[0mdata\u001b[0m\u001b[0;34m)\u001b[0m\u001b[0;34m\u001b[0m\u001b[0m\n\u001b[0m\u001b[1;32m      4\u001b[0m \u001b[0mprint\u001b[0m\u001b[0;34m(\u001b[0m\u001b[0;34m'sklearn mixmax data: \\n'\u001b[0m\u001b[0;34m,\u001b[0m \u001b[0mdata_mixmax_skl\u001b[0m\u001b[0;34m)\u001b[0m\u001b[0;34m\u001b[0m\u001b[0m\n",
      "\u001b[0;31mNameError\u001b[0m: name 'MinMaxScaler' is not defined"
     ]
    }
   ],
   "source": [
    "# MinMaxScaler().fit_transform()\n",
    "from sklearn.preprocessing import StandardScaler\n",
    "data_minmax_skl = MinMaxScaler().fit_transform(data)\n",
    "print('sklearn mixmax data: \\n', data_mixmax_skl)"
   ]
  },
  {
   "cell_type": "code",
   "execution_count": null,
   "metadata": {},
   "outputs": [],
   "source": []
  },
  {
   "cell_type": "code",
   "execution_count": null,
   "metadata": {},
   "outputs": [],
   "source": []
  },
  {
   "cell_type": "code",
   "execution_count": null,
   "metadata": {},
   "outputs": [],
   "source": []
  }
 ],
 "metadata": {
  "kernelspec": {
   "display_name": "Python 3",
   "language": "python",
   "name": "python3"
  },
  "language_info": {
   "codemirror_mode": {
    "name": "ipython",
    "version": 3
   },
   "file_extension": ".py",
   "mimetype": "text/x-python",
   "name": "python",
   "nbconvert_exporter": "python",
   "pygments_lexer": "ipython3",
   "version": "3.6.2"
  }
 },
 "nbformat": 4,
 "nbformat_minor": 2
}
