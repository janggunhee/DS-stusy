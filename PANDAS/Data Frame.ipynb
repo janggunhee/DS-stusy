{
 "cells": [
  {
   "cell_type": "markdown",
   "metadata": {},
   "source": [
    "## 데이터 프레임 추가와 합치기 "
   ]
  },
  {
   "cell_type": "markdown",
   "metadata": {},
   "source": [
    "### 행( 수직) 으로 합치기 : append(), concat()"
   ]
  },
  {
   "cell_type": "code",
   "execution_count": 1,
   "metadata": {},
   "outputs": [],
   "source": [
    "import pandas as pd \n",
    "import numpy as np"
   ]
  },
  {
   "cell_type": "code",
   "execution_count": 2,
   "metadata": {},
   "outputs": [
    {
     "data": {
      "text/html": [
       "<div>\n",
       "<style scoped>\n",
       "    .dataframe tbody tr th:only-of-type {\n",
       "        vertical-align: middle;\n",
       "    }\n",
       "\n",
       "    .dataframe tbody tr th {\n",
       "        vertical-align: top;\n",
       "    }\n",
       "\n",
       "    .dataframe thead th {\n",
       "        text-align: right;\n",
       "    }\n",
       "</style>\n",
       "<table border=\"1\" class=\"dataframe\">\n",
       "  <thead>\n",
       "    <tr style=\"text-align: right;\">\n",
       "      <th></th>\n",
       "      <th>영어</th>\n",
       "      <th>수학</th>\n",
       "    </tr>\n",
       "  </thead>\n",
       "  <tbody>\n",
       "    <tr>\n",
       "      <th>0</th>\n",
       "      <td>10</td>\n",
       "      <td>70</td>\n",
       "    </tr>\n",
       "    <tr>\n",
       "      <th>1</th>\n",
       "      <td>20</td>\n",
       "      <td>80</td>\n",
       "    </tr>\n",
       "    <tr>\n",
       "      <th>2</th>\n",
       "      <td>30</td>\n",
       "      <td>90</td>\n",
       "    </tr>\n",
       "    <tr>\n",
       "      <th>3</th>\n",
       "      <td>40</td>\n",
       "      <td>30</td>\n",
       "    </tr>\n",
       "    <tr>\n",
       "      <th>4</th>\n",
       "      <td>50</td>\n",
       "      <td>20</td>\n",
       "    </tr>\n",
       "    <tr>\n",
       "      <th>5</th>\n",
       "      <td>10</td>\n",
       "      <td>70</td>\n",
       "    </tr>\n",
       "    <tr>\n",
       "      <th>6</th>\n",
       "      <td>20</td>\n",
       "      <td>80</td>\n",
       "    </tr>\n",
       "    <tr>\n",
       "      <th>7</th>\n",
       "      <td>30</td>\n",
       "      <td>90</td>\n",
       "    </tr>\n",
       "    <tr>\n",
       "      <th>8</th>\n",
       "      <td>40</td>\n",
       "      <td>30</td>\n",
       "    </tr>\n",
       "    <tr>\n",
       "      <th>9</th>\n",
       "      <td>50</td>\n",
       "      <td>20</td>\n",
       "    </tr>\n",
       "  </tbody>\n",
       "</table>\n",
       "</div>"
      ],
      "text/plain": [
       "   영어  수학\n",
       "0  10  70\n",
       "1  20  80\n",
       "2  30  90\n",
       "3  40  30\n",
       "4  50  20\n",
       "5  10  70\n",
       "6  20  80\n",
       "7  30  90\n",
       "8  40  30\n",
       "9  50  20"
      ]
     },
     "execution_count": 2,
     "metadata": {},
     "output_type": "execute_result"
    }
   ],
   "source": [
    "score_table1 = {'영어':[10,20,30,40,50],\n",
    "               '수학':[70,80,90,30,20]}\n",
    "score_table2 = {'영어':[20,30,40,50,60],\n",
    "                '수학':[80,90,90,20,70]}\n",
    "\n",
    "score_table3 = {'과학':[30,40,50,60,80]}\n",
    "\n",
    "df1 = pd.DataFrame(score_table1)\n",
    "df2 = pd.DataFrame(score_table2)\n",
    "df3 = pd.DataFrame(score_table3)\n",
    "\n",
    "new_df1 = df1.append(df2) \n",
    "# print(new_df1)\n",
    "\n",
    "new_df2 = df1.append(df2, ignore_index=True)   # 행의 인덱스가 중복되지 않음 \n",
    "# print(new_df2)\n",
    "\n",
    "new_df3 = df1.append(df1, ignore_index=True)\n",
    "new_df3"
   ]
  },
  {
   "cell_type": "code",
   "execution_count": 3,
   "metadata": {},
   "outputs": [
    {
     "data": {
      "text/html": [
       "<div>\n",
       "<style scoped>\n",
       "    .dataframe tbody tr th:only-of-type {\n",
       "        vertical-align: middle;\n",
       "    }\n",
       "\n",
       "    .dataframe tbody tr th {\n",
       "        vertical-align: top;\n",
       "    }\n",
       "\n",
       "    .dataframe thead th {\n",
       "        text-align: right;\n",
       "    }\n",
       "</style>\n",
       "<table border=\"1\" class=\"dataframe\">\n",
       "  <thead>\n",
       "    <tr style=\"text-align: right;\">\n",
       "      <th></th>\n",
       "      <th>영어</th>\n",
       "      <th>수학</th>\n",
       "    </tr>\n",
       "  </thead>\n",
       "  <tbody>\n",
       "    <tr>\n",
       "      <th>0</th>\n",
       "      <td>10</td>\n",
       "      <td>70</td>\n",
       "    </tr>\n",
       "    <tr>\n",
       "      <th>1</th>\n",
       "      <td>20</td>\n",
       "      <td>80</td>\n",
       "    </tr>\n",
       "    <tr>\n",
       "      <th>2</th>\n",
       "      <td>30</td>\n",
       "      <td>90</td>\n",
       "    </tr>\n",
       "    <tr>\n",
       "      <th>3</th>\n",
       "      <td>40</td>\n",
       "      <td>30</td>\n",
       "    </tr>\n",
       "    <tr>\n",
       "      <th>4</th>\n",
       "      <td>50</td>\n",
       "      <td>20</td>\n",
       "    </tr>\n",
       "    <tr>\n",
       "      <th>5</th>\n",
       "      <td>20</td>\n",
       "      <td>80</td>\n",
       "    </tr>\n",
       "    <tr>\n",
       "      <th>6</th>\n",
       "      <td>30</td>\n",
       "      <td>90</td>\n",
       "    </tr>\n",
       "    <tr>\n",
       "      <th>7</th>\n",
       "      <td>40</td>\n",
       "      <td>90</td>\n",
       "    </tr>\n",
       "    <tr>\n",
       "      <th>8</th>\n",
       "      <td>50</td>\n",
       "      <td>20</td>\n",
       "    </tr>\n",
       "    <tr>\n",
       "      <th>9</th>\n",
       "      <td>60</td>\n",
       "      <td>70</td>\n",
       "    </tr>\n",
       "  </tbody>\n",
       "</table>\n",
       "</div>"
      ],
      "text/plain": [
       "   영어  수학\n",
       "0  10  70\n",
       "1  20  80\n",
       "2  30  90\n",
       "3  40  30\n",
       "4  50  20\n",
       "5  20  80\n",
       "6  30  90\n",
       "7  40  90\n",
       "8  50  20\n",
       "9  60  70"
      ]
     },
     "execution_count": 3,
     "metadata": {},
     "output_type": "execute_result"
    }
   ],
   "source": [
    "pd.concat([df1, df2], axis = 0, ignore_index = True)"
   ]
  },
  {
   "cell_type": "markdown",
   "metadata": {},
   "source": [
    "### 열 (수평) 로 합치기 : merge( ) , join( ) , concat( ) "
   ]
  },
  {
   "cell_type": "code",
   "execution_count": 4,
   "metadata": {},
   "outputs": [
    {
     "data": {
      "text/html": [
       "<div>\n",
       "<style scoped>\n",
       "    .dataframe tbody tr th:only-of-type {\n",
       "        vertical-align: middle;\n",
       "    }\n",
       "\n",
       "    .dataframe tbody tr th {\n",
       "        vertical-align: top;\n",
       "    }\n",
       "\n",
       "    .dataframe thead th {\n",
       "        text-align: right;\n",
       "    }\n",
       "</style>\n",
       "<table border=\"1\" class=\"dataframe\">\n",
       "  <thead>\n",
       "    <tr style=\"text-align: right;\">\n",
       "      <th></th>\n",
       "      <th>영어</th>\n",
       "      <th>수학</th>\n",
       "      <th>과학</th>\n",
       "    </tr>\n",
       "  </thead>\n",
       "  <tbody>\n",
       "    <tr>\n",
       "      <th>0</th>\n",
       "      <td>10</td>\n",
       "      <td>70</td>\n",
       "      <td>30</td>\n",
       "    </tr>\n",
       "    <tr>\n",
       "      <th>1</th>\n",
       "      <td>20</td>\n",
       "      <td>80</td>\n",
       "      <td>40</td>\n",
       "    </tr>\n",
       "    <tr>\n",
       "      <th>2</th>\n",
       "      <td>30</td>\n",
       "      <td>90</td>\n",
       "      <td>50</td>\n",
       "    </tr>\n",
       "    <tr>\n",
       "      <th>3</th>\n",
       "      <td>40</td>\n",
       "      <td>30</td>\n",
       "      <td>60</td>\n",
       "    </tr>\n",
       "    <tr>\n",
       "      <th>4</th>\n",
       "      <td>50</td>\n",
       "      <td>20</td>\n",
       "      <td>80</td>\n",
       "    </tr>\n",
       "  </tbody>\n",
       "</table>\n",
       "</div>"
      ],
      "text/plain": [
       "   영어  수학  과학\n",
       "0  10  70  30\n",
       "1  20  80  40\n",
       "2  30  90  50\n",
       "3  40  30  60\n",
       "4  50  20  80"
      ]
     },
     "execution_count": 4,
     "metadata": {},
     "output_type": "execute_result"
    }
   ],
   "source": [
    "pd.concat([df1, df3], axis =1)"
   ]
  },
  {
   "cell_type": "markdown",
   "metadata": {},
   "source": [
    "### merge( )"
   ]
  },
  {
   "cell_type": "code",
   "execution_count": 5,
   "metadata": {},
   "outputs": [
    {
     "name": "stdout",
     "output_type": "stream",
     "text": [
      "   EmpNr       Dest\n",
      "0      5  The Hague\n",
      "1      3  Amsterdam\n",
      "2      9  Rotterdam\n",
      "   EmpNr  Amount\n",
      "0      5    10.0\n",
      "1      9     5.0\n",
      "2      7     2.5\n"
     ]
    },
    {
     "data": {
      "text/html": [
       "<div>\n",
       "<style scoped>\n",
       "    .dataframe tbody tr th:only-of-type {\n",
       "        vertical-align: middle;\n",
       "    }\n",
       "\n",
       "    .dataframe tbody tr th {\n",
       "        vertical-align: top;\n",
       "    }\n",
       "\n",
       "    .dataframe thead th {\n",
       "        text-align: right;\n",
       "    }\n",
       "</style>\n",
       "<table border=\"1\" class=\"dataframe\">\n",
       "  <thead>\n",
       "    <tr style=\"text-align: right;\">\n",
       "      <th></th>\n",
       "      <th>EmpNr</th>\n",
       "      <th>Dest</th>\n",
       "      <th>Amount</th>\n",
       "    </tr>\n",
       "  </thead>\n",
       "  <tbody>\n",
       "    <tr>\n",
       "      <th>0</th>\n",
       "      <td>5</td>\n",
       "      <td>The Hague</td>\n",
       "      <td>10.0</td>\n",
       "    </tr>\n",
       "    <tr>\n",
       "      <th>1</th>\n",
       "      <td>9</td>\n",
       "      <td>Rotterdam</td>\n",
       "      <td>5.0</td>\n",
       "    </tr>\n",
       "  </tbody>\n",
       "</table>\n",
       "</div>"
      ],
      "text/plain": [
       "   EmpNr       Dest  Amount\n",
       "0      5  The Hague    10.0\n",
       "1      9  Rotterdam     5.0"
      ]
     },
     "execution_count": 5,
     "metadata": {},
     "output_type": "execute_result"
    }
   ],
   "source": [
    "dests = pd.read_csv(\"Data/dest.csv\")\n",
    "tips = pd.read_csv(\"Data/tips.csv\")\n",
    "\n",
    "print(dests)\n",
    "print(tips)\n",
    "\n",
    "# 내부조인 : 공통 조건에 만족되는 부분만 조인\n",
    "# 공통조건 : EmpNr\n",
    "pd.merge(dests, tips, how='inner', on='EmpNr') \n",
    "\n"
   ]
  },
  {
   "cell_type": "code",
   "execution_count": 6,
   "metadata": {},
   "outputs": [
    {
     "data": {
      "text/html": [
       "<div>\n",
       "<style scoped>\n",
       "    .dataframe tbody tr th:only-of-type {\n",
       "        vertical-align: middle;\n",
       "    }\n",
       "\n",
       "    .dataframe tbody tr th {\n",
       "        vertical-align: top;\n",
       "    }\n",
       "\n",
       "    .dataframe thead th {\n",
       "        text-align: right;\n",
       "    }\n",
       "</style>\n",
       "<table border=\"1\" class=\"dataframe\">\n",
       "  <thead>\n",
       "    <tr style=\"text-align: right;\">\n",
       "      <th></th>\n",
       "      <th>EmpNr</th>\n",
       "      <th>Dest</th>\n",
       "      <th>Amount</th>\n",
       "    </tr>\n",
       "  </thead>\n",
       "  <tbody>\n",
       "    <tr>\n",
       "      <th>0</th>\n",
       "      <td>5</td>\n",
       "      <td>The Hague</td>\n",
       "      <td>10.0</td>\n",
       "    </tr>\n",
       "    <tr>\n",
       "      <th>1</th>\n",
       "      <td>3</td>\n",
       "      <td>Amsterdam</td>\n",
       "      <td>NaN</td>\n",
       "    </tr>\n",
       "    <tr>\n",
       "      <th>2</th>\n",
       "      <td>9</td>\n",
       "      <td>Rotterdam</td>\n",
       "      <td>5.0</td>\n",
       "    </tr>\n",
       "    <tr>\n",
       "      <th>3</th>\n",
       "      <td>7</td>\n",
       "      <td>NaN</td>\n",
       "      <td>2.5</td>\n",
       "    </tr>\n",
       "  </tbody>\n",
       "</table>\n",
       "</div>"
      ],
      "text/plain": [
       "   EmpNr       Dest  Amount\n",
       "0      5  The Hague    10.0\n",
       "1      3  Amsterdam     NaN\n",
       "2      9  Rotterdam     5.0\n",
       "3      7        NaN     2.5"
      ]
     },
     "execution_count": 6,
     "metadata": {},
     "output_type": "execute_result"
    }
   ],
   "source": [
    "# 외부 조인 : 공통 존건에 관계 없다. \n",
    "# 결측치는 : NaN으로 (Not a Number)\n",
    "pd.merge(dests, tips, how='outer')"
   ]
  },
  {
   "cell_type": "markdown",
   "metadata": {},
   "source": [
    "#### merge() 활용"
   ]
  },
  {
   "cell_type": "code",
   "execution_count": 7,
   "metadata": {},
   "outputs": [
    {
     "data": {
      "text/html": [
       "<div>\n",
       "<style scoped>\n",
       "    .dataframe tbody tr th:only-of-type {\n",
       "        vertical-align: middle;\n",
       "    }\n",
       "\n",
       "    .dataframe tbody tr th {\n",
       "        vertical-align: top;\n",
       "    }\n",
       "\n",
       "    .dataframe thead th {\n",
       "        text-align: right;\n",
       "    }\n",
       "</style>\n",
       "<table border=\"1\" class=\"dataframe\">\n",
       "  <thead>\n",
       "    <tr style=\"text-align: right;\">\n",
       "      <th></th>\n",
       "      <th>empno</th>\n",
       "      <th>addr</th>\n",
       "      <th>phone</th>\n",
       "    </tr>\n",
       "  </thead>\n",
       "  <tbody>\n",
       "    <tr>\n",
       "      <th>0</th>\n",
       "      <td>1</td>\n",
       "      <td>서울시</td>\n",
       "      <td>010-1111-1111</td>\n",
       "    </tr>\n",
       "    <tr>\n",
       "      <th>1</th>\n",
       "      <td>3</td>\n",
       "      <td>부산시</td>\n",
       "      <td>010-2222-2222</td>\n",
       "    </tr>\n",
       "    <tr>\n",
       "      <th>2</th>\n",
       "      <td>2</td>\n",
       "      <td>광주시</td>\n",
       "      <td>010-3333-3333</td>\n",
       "    </tr>\n",
       "    <tr>\n",
       "      <th>3</th>\n",
       "      <td>5</td>\n",
       "      <td>광주시</td>\n",
       "      <td>010-4444-4444</td>\n",
       "    </tr>\n",
       "    <tr>\n",
       "      <th>4</th>\n",
       "      <td>4</td>\n",
       "      <td>광주시</td>\n",
       "      <td>010-5555-5555</td>\n",
       "    </tr>\n",
       "  </tbody>\n",
       "</table>\n",
       "</div>"
      ],
      "text/plain": [
       "   empno addr          phone\n",
       "0      1  서울시  010-1111-1111\n",
       "1      3  부산시  010-2222-2222\n",
       "2      2  광주시  010-3333-3333\n",
       "3      5  광주시  010-4444-4444\n",
       "4      4  광주시  010-5555-5555"
      ]
     },
     "execution_count": 7,
     "metadata": {},
     "output_type": "execute_result"
    }
   ],
   "source": [
    "employee = [{'empno':1, 'ename':'kim', 'dept':1},\n",
    "            {'empno':2, 'ename':'lee', 'dept':2}, \n",
    "            {'empno':3, 'ename':'park', 'dept':1}, \n",
    "            {'empno':4, 'ename':'song', 'dept':3},\n",
    "            {'empno':5, 'ename':'min', 'dept':2} ]\n",
    "\n",
    "dept=[{'dept':1, 'deptname':'관리직'},\n",
    "      {'dept':2, 'deptname':'영업직'},\n",
    "      {'dept':3, 'deptname':'개발직'}]\n",
    "\n",
    "info =[{'empno':1, 'addr':'서울시','phone':'010-1111-1111'},\n",
    "       {'empno':3, 'addr':'부산시','phone':'010-2222-2222'}, \n",
    "       {'empno':2, 'addr':'광주시','phone':'010-3333-3333'}, \n",
    "       {'empno':5, 'addr':'광주시','phone':'010-4444-4444'},\n",
    "       {'empno':4, 'addr':'광주시','phone':'010-5555-5555'}]\n",
    "\n",
    "emp = pd.DataFrame(employee)\n",
    "dept = pd.DataFrame(dept)\n",
    "info = pd.DataFrame(info)\n",
    "emp\n",
    "dept\n",
    "info"
   ]
  },
  {
   "cell_type": "code",
   "execution_count": 8,
   "metadata": {
    "scrolled": true
   },
   "outputs": [
    {
     "data": {
      "text/html": [
       "<div>\n",
       "<style scoped>\n",
       "    .dataframe tbody tr th:only-of-type {\n",
       "        vertical-align: middle;\n",
       "    }\n",
       "\n",
       "    .dataframe tbody tr th {\n",
       "        vertical-align: top;\n",
       "    }\n",
       "\n",
       "    .dataframe thead th {\n",
       "        text-align: right;\n",
       "    }\n",
       "</style>\n",
       "<table border=\"1\" class=\"dataframe\">\n",
       "  <thead>\n",
       "    <tr style=\"text-align: right;\">\n",
       "      <th></th>\n",
       "      <th>empno</th>\n",
       "      <th>ename</th>\n",
       "      <th>dept</th>\n",
       "      <th>deptname</th>\n",
       "    </tr>\n",
       "  </thead>\n",
       "  <tbody>\n",
       "    <tr>\n",
       "      <th>0</th>\n",
       "      <td>1</td>\n",
       "      <td>kim</td>\n",
       "      <td>1</td>\n",
       "      <td>관리직</td>\n",
       "    </tr>\n",
       "    <tr>\n",
       "      <th>1</th>\n",
       "      <td>3</td>\n",
       "      <td>park</td>\n",
       "      <td>1</td>\n",
       "      <td>관리직</td>\n",
       "    </tr>\n",
       "    <tr>\n",
       "      <th>2</th>\n",
       "      <td>2</td>\n",
       "      <td>lee</td>\n",
       "      <td>2</td>\n",
       "      <td>영업직</td>\n",
       "    </tr>\n",
       "    <tr>\n",
       "      <th>3</th>\n",
       "      <td>5</td>\n",
       "      <td>min</td>\n",
       "      <td>2</td>\n",
       "      <td>영업직</td>\n",
       "    </tr>\n",
       "    <tr>\n",
       "      <th>4</th>\n",
       "      <td>4</td>\n",
       "      <td>song</td>\n",
       "      <td>3</td>\n",
       "      <td>개발직</td>\n",
       "    </tr>\n",
       "  </tbody>\n",
       "</table>\n",
       "</div>"
      ],
      "text/plain": [
       "   empno ename  dept deptname\n",
       "0      1   kim     1      관리직\n",
       "1      3  park     1      관리직\n",
       "2      2   lee     2      영업직\n",
       "3      5   min     2      영업직\n",
       "4      4  song     3      개발직"
      ]
     },
     "execution_count": 8,
     "metadata": {},
     "output_type": "execute_result"
    }
   ],
   "source": [
    "# 내부 조인 \n",
    "m = pd.merge(emp , dept, how = 'inner' , on = 'dept')\n",
    "m"
   ]
  },
  {
   "cell_type": "markdown",
   "metadata": {},
   "source": [
    "#### 컬럼/행 삭제 : drop( )"
   ]
  },
  {
   "cell_type": "code",
   "execution_count": 9,
   "metadata": {},
   "outputs": [
    {
     "data": {
      "text/html": [
       "<div>\n",
       "<style scoped>\n",
       "    .dataframe tbody tr th:only-of-type {\n",
       "        vertical-align: middle;\n",
       "    }\n",
       "\n",
       "    .dataframe tbody tr th {\n",
       "        vertical-align: top;\n",
       "    }\n",
       "\n",
       "    .dataframe thead th {\n",
       "        text-align: right;\n",
       "    }\n",
       "</style>\n",
       "<table border=\"1\" class=\"dataframe\">\n",
       "  <thead>\n",
       "    <tr style=\"text-align: right;\">\n",
       "      <th></th>\n",
       "      <th>empno</th>\n",
       "      <th>ename</th>\n",
       "      <th>deptname</th>\n",
       "    </tr>\n",
       "  </thead>\n",
       "  <tbody>\n",
       "    <tr>\n",
       "      <th>0</th>\n",
       "      <td>1</td>\n",
       "      <td>kim</td>\n",
       "      <td>관리직</td>\n",
       "    </tr>\n",
       "    <tr>\n",
       "      <th>1</th>\n",
       "      <td>3</td>\n",
       "      <td>park</td>\n",
       "      <td>관리직</td>\n",
       "    </tr>\n",
       "    <tr>\n",
       "      <th>2</th>\n",
       "      <td>2</td>\n",
       "      <td>lee</td>\n",
       "      <td>영업직</td>\n",
       "    </tr>\n",
       "    <tr>\n",
       "      <th>3</th>\n",
       "      <td>5</td>\n",
       "      <td>min</td>\n",
       "      <td>영업직</td>\n",
       "    </tr>\n",
       "    <tr>\n",
       "      <th>4</th>\n",
       "      <td>4</td>\n",
       "      <td>song</td>\n",
       "      <td>개발직</td>\n",
       "    </tr>\n",
       "  </tbody>\n",
       "</table>\n",
       "</div>"
      ],
      "text/plain": [
       "   empno ename deptname\n",
       "0      1   kim      관리직\n",
       "1      3  park      관리직\n",
       "2      2   lee      영업직\n",
       "3      5   min      영업직\n",
       "4      4  song      개발직"
      ]
     },
     "execution_count": 9,
     "metadata": {},
     "output_type": "execute_result"
    }
   ],
   "source": [
    "m.drop(columns=['dept'], inplace = True)\n",
    "# inplace = True :원본 데이터 프레임 자체를 직접 수정한다\n",
    "\n",
    "m"
   ]
  },
  {
   "cell_type": "code",
   "execution_count": 10,
   "metadata": {},
   "outputs": [
    {
     "data": {
      "text/html": [
       "<div>\n",
       "<style scoped>\n",
       "    .dataframe tbody tr th:only-of-type {\n",
       "        vertical-align: middle;\n",
       "    }\n",
       "\n",
       "    .dataframe tbody tr th {\n",
       "        vertical-align: top;\n",
       "    }\n",
       "\n",
       "    .dataframe thead th {\n",
       "        text-align: right;\n",
       "    }\n",
       "</style>\n",
       "<table border=\"1\" class=\"dataframe\">\n",
       "  <thead>\n",
       "    <tr style=\"text-align: right;\">\n",
       "      <th></th>\n",
       "      <th>ename</th>\n",
       "      <th>deptname</th>\n",
       "      <th>addr</th>\n",
       "      <th>phone</th>\n",
       "    </tr>\n",
       "  </thead>\n",
       "  <tbody>\n",
       "    <tr>\n",
       "      <th>0</th>\n",
       "      <td>kim</td>\n",
       "      <td>관리직</td>\n",
       "      <td>서울시</td>\n",
       "      <td>010-1111-1111</td>\n",
       "    </tr>\n",
       "    <tr>\n",
       "      <th>1</th>\n",
       "      <td>park</td>\n",
       "      <td>관리직</td>\n",
       "      <td>부산시</td>\n",
       "      <td>010-2222-2222</td>\n",
       "    </tr>\n",
       "    <tr>\n",
       "      <th>2</th>\n",
       "      <td>lee</td>\n",
       "      <td>영업직</td>\n",
       "      <td>광주시</td>\n",
       "      <td>010-3333-3333</td>\n",
       "    </tr>\n",
       "    <tr>\n",
       "      <th>3</th>\n",
       "      <td>min</td>\n",
       "      <td>영업직</td>\n",
       "      <td>광주시</td>\n",
       "      <td>010-4444-4444</td>\n",
       "    </tr>\n",
       "    <tr>\n",
       "      <th>4</th>\n",
       "      <td>song</td>\n",
       "      <td>개발직</td>\n",
       "      <td>광주시</td>\n",
       "      <td>010-5555-5555</td>\n",
       "    </tr>\n",
       "  </tbody>\n",
       "</table>\n",
       "</div>"
      ],
      "text/plain": [
       "  ename deptname addr          phone\n",
       "0   kim      관리직  서울시  010-1111-1111\n",
       "1  park      관리직  부산시  010-2222-2222\n",
       "2   lee      영업직  광주시  010-3333-3333\n",
       "3   min      영업직  광주시  010-4444-4444\n",
       "4  song      개발직  광주시  010-5555-5555"
      ]
     },
     "execution_count": 10,
     "metadata": {},
     "output_type": "execute_result"
    }
   ],
   "source": [
    "m2 = pd.merge(m, info, how='inner', on='empno')\n",
    "m2.drop(columns=['empno'] , inplace = True)\n",
    "m2"
   ]
  },
  {
   "cell_type": "markdown",
   "metadata": {},
   "source": [
    "### contains( ) 메서드를 사용해 조건 검색, 행을 추출"
   ]
  },
  {
   "cell_type": "code",
   "execution_count": 11,
   "metadata": {},
   "outputs": [
    {
     "name": "stdout",
     "output_type": "stream",
     "text": [
      "0     True\n",
      "1     True\n",
      "2    False\n",
      "3    False\n",
      "4    False\n",
      "Name: ename, dtype: bool\n",
      "  ename deptname addr          phone\n",
      "0   kim      관리직  서울시  010-1111-1111\n",
      "1  park      관리직  부산시  010-2222-2222\n",
      "  ename deptname addr          phone\n",
      "2   lee      영업직  광주시  010-3333-3333\n",
      "3   min      영업직  광주시  010-4444-4444\n"
     ]
    },
    {
     "data": {
      "text/html": [
       "<div>\n",
       "<style scoped>\n",
       "    .dataframe tbody tr th:only-of-type {\n",
       "        vertical-align: middle;\n",
       "    }\n",
       "\n",
       "    .dataframe tbody tr th {\n",
       "        vertical-align: top;\n",
       "    }\n",
       "\n",
       "    .dataframe thead th {\n",
       "        text-align: right;\n",
       "    }\n",
       "</style>\n",
       "<table border=\"1\" class=\"dataframe\">\n",
       "  <thead>\n",
       "    <tr style=\"text-align: right;\">\n",
       "      <th></th>\n",
       "      <th>ename</th>\n",
       "      <th>deptname</th>\n",
       "      <th>addr</th>\n",
       "      <th>phone</th>\n",
       "    </tr>\n",
       "  </thead>\n",
       "  <tbody>\n",
       "    <tr>\n",
       "      <th>2</th>\n",
       "      <td>lee</td>\n",
       "      <td>영업직</td>\n",
       "      <td>광주시</td>\n",
       "      <td>010-3333-3333</td>\n",
       "    </tr>\n",
       "    <tr>\n",
       "      <th>3</th>\n",
       "      <td>min</td>\n",
       "      <td>영업직</td>\n",
       "      <td>광주시</td>\n",
       "      <td>010-4444-4444</td>\n",
       "    </tr>\n",
       "    <tr>\n",
       "      <th>4</th>\n",
       "      <td>song</td>\n",
       "      <td>개발직</td>\n",
       "      <td>광주시</td>\n",
       "      <td>010-5555-5555</td>\n",
       "    </tr>\n",
       "  </tbody>\n",
       "</table>\n",
       "</div>"
      ],
      "text/plain": [
       "  ename deptname addr          phone\n",
       "2   lee      영업직  광주시  010-3333-3333\n",
       "3   min      영업직  광주시  010-4444-4444\n",
       "4  song      개발직  광주시  010-5555-5555"
      ]
     },
     "execution_count": 11,
     "metadata": {},
     "output_type": "execute_result"
    }
   ],
   "source": [
    "sr = m2['ename'].str.contains('k')   # k가 들어간 이름 \n",
    "\n",
    "type(sr)\n",
    "print(sr)\n",
    "print(m2[sr])\n",
    "\n",
    "\n",
    "# 'deptname' 이 영업직인 행만 추출 \n",
    "print(m2[m2['deptname'].str.contains('영업직')])\n",
    "\n",
    "# 'addr' 가 '광주시' 인 행만 추출 \n",
    "\n",
    "m2[m2['addr'].str.contains('광주시')]"
   ]
  },
  {
   "cell_type": "markdown",
   "metadata": {},
   "source": [
    "### Series 객체의 통계 메소드 "
   ]
  },
  {
   "cell_type": "code",
   "execution_count": 12,
   "metadata": {},
   "outputs": [],
   "source": [
    "score_table1 = {'영어':[10,20,30,40,50],\n",
    "               '수학':[70,80,90,30,20]}\n",
    "score_table2 = {'영어':[20,30,40,50,60],\n",
    "                '수학':[80,90,90,20,70]}\n",
    "\n",
    "score_table3 = {'과학':[30,40,50,60,80]}"
   ]
  },
  {
   "cell_type": "markdown",
   "metadata": {},
   "source": [
    "## 누락된 데이터 (결측치, NaN, NaT) 다루기 "
   ]
  },
  {
   "cell_type": "code",
   "execution_count": 13,
   "metadata": {},
   "outputs": [
    {
     "name": "stdout",
     "output_type": "stream",
     "text": [
      "   Country  Net primary school enrolment ratio male (%)\n",
      "0    False                                         True\n",
      "1    False                                        False\n",
      "       Country  Net primary school enrolment ratio male (%)\n",
      "0  Afghanistan                                          0.0\n",
      "1      Albania                                         94.0\n",
      "       Country  Net primary school enrolment ratio male (%)\n",
      "0  Afghanistan                                         94.0\n",
      "1      Albania                                         94.0\n"
     ]
    }
   ],
   "source": [
    "df = pd.read_csv('Data/WHO_first9cols.csv')\n",
    "df2  = df[['Country', df.columns[-2]]][:2]\n",
    "df2\n",
    "\n",
    "# null data가 있나 / 없나 , True / False\n",
    "print(pd.isnull(df2))\n",
    "\n",
    "# notnull  결측치가 아닌 것들 \n",
    "pd.notnull(df2)\n",
    "\n",
    "# 데이터 프레임 각 컬럼별 결측치 갯수 \n",
    "pd.isnull(df).sum()\n",
    "pd.isnull(df2).sum()\n",
    "\n",
    "# 결측치를 0으로 채움 \n",
    "df3 = df2.fillna(0)\n",
    "print(df3)\n",
    "\n",
    "# 결측치를 평균으로 채움\n",
    "df4 = df2.fillna(df2.mean())\n",
    "print(df4)"
   ]
  },
  {
   "cell_type": "markdown",
   "metadata": {},
   "source": [
    "### Series 객체의 index 사용  및 결측치 제어 "
   ]
  },
  {
   "cell_type": "code",
   "execution_count": 14,
   "metadata": {},
   "outputs": [
    {
     "name": "stdout",
     "output_type": "stream",
     "text": [
      "tv       10\n",
      "vrt      20\n",
      "phone    30\n",
      "dtype: int64\n",
      "Index(['tv', 'vrt', 'phone'], dtype='object')\n"
     ]
    },
    {
     "data": {
      "text/plain": [
       "tv     10\n",
       "vrt    20\n",
       "dtype: int64"
      ]
     },
     "execution_count": 14,
     "metadata": {},
     "output_type": "execute_result"
    }
   ],
   "source": [
    "index_table = ['tv', 'vrt', 'phone']\n",
    "\n",
    "sr = pd.Series([10, 20, 30], index = index_table)\n",
    "\n",
    "print(sr)\n",
    "print(sr.index)\n",
    "\n",
    "# 'v' 가 있는 index \n",
    "r = sr.index.str.contains('v')\n",
    "sr[r]\n"
   ]
  },
  {
   "cell_type": "code",
   "execution_count": 15,
   "metadata": {},
   "outputs": [
    {
     "name": "stdout",
     "output_type": "stream",
     "text": [
      "tv          10.0\n",
      "vrt         20.0\n",
      "phone       30.0\n",
      "audio       40.0\n",
      "iron        50.0\n",
      "notebook    60.0\n",
      "aircon       NaN\n",
      "dtype: float64\n",
      "tv          10.0\n",
      "vrt         20.0\n",
      "phone       30.0\n",
      "audio       40.0\n",
      "iron        50.0\n",
      "notebook    60.0\n",
      "aircon       0.0\n",
      "dtype: float64\n",
      "30.0\n",
      "tv          10.0\n",
      "vrt         20.0\n",
      "phone       30.0\n",
      "audio       40.0\n",
      "iron        50.0\n",
      "notebook    60.0\n",
      "aircon      35.0\n",
      "dtype: float64\n",
      "35.0\n"
     ]
    }
   ],
   "source": [
    "sr2 = sr.append(pd.Series([40, 50, 60], \n",
    "                          index = ['audio', 'iron', 'notebook']))\n",
    "\n",
    "# 테스트를 위한 결측치 추가 \n",
    "sr3 = sr2.append(pd.Series([np.nan], \n",
    "                           index = ['aircon']))\n",
    "\n",
    "print(sr3)\n",
    "\n",
    "\n",
    "sr3.isnull()\n",
    "sr3.notnull()\n",
    "\n",
    "pd.isnull(sr3).sum()\n",
    "\n",
    "# 결측치 0으로 채움 \n",
    "sr4 = sr3.fillna(0)   \n",
    "print(sr4)\n",
    "print(sr4.mean())  # 0으로 채우면 평균값이 떨어짐 \n",
    "\n",
    "# 결측치를 평균으로 채움 \n",
    "sr5 = sr3.fillna(sr3.mean())\n",
    "print(sr5)\n",
    "print(sr5.mean())  # 평균으로 채우면 평균값이 변동 없음"
   ]
  },
  {
   "cell_type": "markdown",
   "metadata": {},
   "source": []
  }
 ],
 "metadata": {
  "kernelspec": {
   "display_name": "Python 3",
   "language": "python",
   "name": "python3"
  },
  "language_info": {
   "codemirror_mode": {
    "name": "ipython",
    "version": 3
   },
   "file_extension": ".py",
   "mimetype": "text/x-python",
   "name": "python",
   "nbconvert_exporter": "python",
   "pygments_lexer": "ipython3",
   "version": "3.6.2"
  }
 },
 "nbformat": 4,
 "nbformat_minor": 2
}
