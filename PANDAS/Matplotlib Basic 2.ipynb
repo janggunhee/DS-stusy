{
 "cells": [
  {
   "cell_type": "markdown",
   "metadata": {},
   "source": [
    "# Pandas Plotting\n",
    "- [Plotting](https://pandas.pydata.org/docs/reference/plotting.html)"
   ]
  },
  {
   "cell_type": "markdown",
   "metadata": {},
   "source": [
    "## Matplotlib : 데이터 시각화 \n",
    "\n",
    "- matplotlib : 기본 저수준 데이터 시각화\n",
    "- seaborn : 전문 시각화 \n",
    "\n",
    "- 그래프나 2차원 데이터를 시각화 생성하는 라이브러리 \n",
    "- ipython에 통합되어 있어 편하게 데이터를 살펴보고 그래프 생성 가능하다. \n"
   ]
  },
  {
   "cell_type": "code",
   "execution_count": 1,
   "metadata": {},
   "outputs": [],
   "source": [
    "import matplotlib.pyplot as plt\n",
    "import pandas as pd \n",
    "import numpy as np"
   ]
  },
  {
   "cell_type": "markdown",
   "metadata": {},
   "source": [
    "### 선그래프 \n",
    "\n"
   ]
  },
  {
   "cell_type": "code",
   "execution_count": 2,
   "metadata": {
    "scrolled": true
   },
   "outputs": [
    {
     "data": {
      "image/png": "[encoded data removed]",
      "text/plain": [
       "<Figure size 432x288 with 1 Axes>"
      ]
     },
     "metadata": {
      "needs_background": "light"
     },
     "output_type": "display_data"
    }
   ],
   "source": [
    "a = np.array([10, 14, 19, 20, 25])\n",
    "plt.plot(a)\n",
    "\n",
    "a2 = np.arange(20)\n",
    "plt.plot(a2)\n",
    "\n",
    "# 새 프레임에 그래프를 출력 \n",
    "plt.show() "
   ]
  },
  {
   "cell_type": "code",
   "execution_count": 3,
   "metadata": {},
   "outputs": [],
   "source": [
    "# 1차 방정식의 그래프 : "
   ]
  },
  {
   "cell_type": "markdown",
   "metadata": {},
   "source": [
    "### 2차 방정식의 그래프 : \n",
    "\n",
    "$f(x) = a * x^2 + b $ , 포물선의 방정식 "
   ]
  },
  {
   "cell_type": "code",
   "execution_count": 4,
   "metadata": {},
   "outputs": [
    {
     "name": "stdout",
     "output_type": "stream",
     "text": [
      "[-4.5 -4.  -3.5 -3.  -2.5 -2.  -1.5 -1.  -0.5  0.   0.5  1.   1.5  2.\n",
      "  2.5  3.   3.5  4.   4.5] [40.5 32.  24.5 18.  12.5  8.   4.5  2.   0.5  0.   0.5  2.   4.5  8.\n",
      " 12.5 18.  24.5 32.  40.5]\n"
     ]
    },
    {
     "data": {
      "image/png": "[encoded data removed]",
      "text/plain": [
       "<Figure size 432x288 with 1 Axes>"
      ]
     },
     "metadata": {
      "needs_background": "light"
     },
     "output_type": "display_data"
    }
   ],
   "source": [
    "x = np.arange(-4.5, 5, 0.5) # 15개 \n",
    "y = 2 * x ** 2\n",
    "print(x, y)\n",
    "plt.plot(x, y)\n",
    "\n",
    "plt.plot(x, 4*x)\n",
    "plt.plot(x, -3*x)\n",
    "plt.show()"
   ]
  },
  {
   "cell_type": "markdown",
   "metadata": {},
   "source": [
    "### Log plot : 로그 플롯 "
   ]
  },
  {
   "cell_type": "code",
   "execution_count": 5,
   "metadata": {},
   "outputs": [
    {
     "data": {
      "text/html": [
       "<div>\n",
       "<style scoped>\n",
       "    .dataframe tbody tr th:only-of-type {\n",
       "        vertical-align: middle;\n",
       "    }\n",
       "\n",
       "    .dataframe tbody tr th {\n",
       "        vertical-align: top;\n",
       "    }\n",
       "\n",
       "    .dataframe thead th {\n",
       "        text-align: right;\n",
       "    }\n",
       "</style>\n",
       "<table border=\"1\" class=\"dataframe\">\n",
       "  <thead>\n",
       "    <tr style=\"text-align: right;\">\n",
       "      <th></th>\n",
       "      <th>trans_count</th>\n",
       "    </tr>\n",
       "    <tr>\n",
       "      <th>year</th>\n",
       "      <th></th>\n",
       "    </tr>\n",
       "  </thead>\n",
       "  <tbody>\n",
       "    <tr>\n",
       "      <th>1971</th>\n",
       "      <td>2300.000000</td>\n",
       "    </tr>\n",
       "    <tr>\n",
       "      <th>1972</th>\n",
       "      <td>3500.000000</td>\n",
       "    </tr>\n",
       "    <tr>\n",
       "      <th>1974</th>\n",
       "      <td>4533.333333</td>\n",
       "    </tr>\n",
       "    <tr>\n",
       "      <th>1975</th>\n",
       "      <td>3510.000000</td>\n",
       "    </tr>\n",
       "    <tr>\n",
       "      <th>1976</th>\n",
       "      <td>7500.000000</td>\n",
       "    </tr>\n",
       "  </tbody>\n",
       "</table>\n",
       "</div>"
      ],
      "text/plain": [
       "      trans_count\n",
       "year             \n",
       "1971  2300.000000\n",
       "1972  3500.000000\n",
       "1974  4533.333333\n",
       "1975  3510.000000\n",
       "1976  7500.000000"
      ]
     },
     "execution_count": 5,
     "metadata": {},
     "output_type": "execute_result"
    }
   ],
   "source": [
    "df = pd.read_csv(\"Data/transcount.csv\")\n",
    "df = df.groupby('year').agg(np.mean)\n",
    "df.shape   # (37, 1) \n",
    "df.head()"
   ]
  },
  {
   "cell_type": "code",
   "execution_count": 6,
   "metadata": {},
   "outputs": [
    {
     "name": "stdout",
     "output_type": "stream",
     "text": [
      "[1971 1972 1974 1975 1976 1978 1979 1982 1983 1984 1985 1986 1988 1989\n",
      " 1991 1993 1994 1995 1996 1997 1998 1999 2000 2001 2002 2003 2004 2005\n",
      " 2006 2007 2008 2009 2010 2011 2012 2013 2014] [2.30000000e+03 3.50000000e+03 4.53333333e+03 3.51000000e+03\n",
      " 7.50000000e+03 1.90000000e+04 4.85000000e+04 9.45000000e+04\n",
      " 8.50000000e+03 2.00000000e+05 1.05333333e+05 2.50000000e+04\n",
      " 2.50000000e+05 7.40117500e+05 6.90000000e+05 3.10000000e+06\n",
      " 5.78977000e+05 5.50000000e+06 4.30000000e+06 8.15000000e+06\n",
      " 7.50000000e+06 1.76000000e+07 3.15000000e+07 4.50000000e+07\n",
      " 1.37500000e+08 1.90066667e+08 3.52000000e+08 1.69000000e+08\n",
      " 6.04000000e+08 3.71600000e+08 9.03200000e+08 3.45000000e+09\n",
      " 1.51166667e+09 1.73350000e+09 2.01482643e+09 5.00000000e+09\n",
      " 4.31000000e+09]\n"
     ]
    },
    {
     "data": {
      "image/png": "[encoded data removed]",
      "text/plain": [
       "<Figure size 432x288 with 1 Axes>"
      ]
     },
     "metadata": {
      "needs_background": "light"
     },
     "output_type": "display_data"
    },
    {
     "data": {
      "image/png": "[encoded data removed]",
      "text/plain": [
       "<Figure size 432x288 with 1 Axes>"
      ]
     },
     "metadata": {
      "needs_background": "light"
     },
     "output_type": "display_data"
    }
   ],
   "source": [
    "years = df.index.values    # values = 요소들 \n",
    "counts = df['trans_count'].values\n",
    "print(years, counts)\n",
    "\n",
    "# 원본 데이터 그래프 \n",
    "plt.plot(years, counts)\n",
    "plt.show()\n",
    "\n",
    "# 자연로그, e:2.71828 \n",
    "plt.plot(years, np.log(counts))\n",
    "plt.show()"
   ]
  },
  {
   "cell_type": "markdown",
   "metadata": {},
   "source": [
    "### 세미 로그 플롯  : semilogy( )\n",
    "- Y 축 로그 스케일링으로 플롯을 만듭니다\n",
    "\n",
    "```python \n",
    "semilogy([x], y, [fmt], data=None, **kwargs)\n",
    "semilogy([x], y, [fmt], [x2], y2, [fmt2], ..., **kwargs)\n",
    "```\n",
    "### 폴리 핏 : 직선의 기울기 - \n",
    "```python \n",
    "np.polyfit(x, y,...) \n",
    "```\n",
    "- x, y값을 사용해 오차가 가장 적은 직선의 기울기와 y절편을 구한다. \n",
    "- 예측 방정식 (H(x) = h*x + b ) 을 얻는다. "
   ]
  },
  {
   "cell_type": "code",
   "execution_count": 7,
   "metadata": {},
   "outputs": [
    {
     "name": "stdout",
     "output_type": "stream",
     "text": [
      "[ 3.61559210e-01 -7.05783195e+02]\n"
     ]
    },
    {
     "data": {
      "image/png": "[encoded data removed]",
      "text/plain": [
       "<Figure size 432x288 with 1 Axes>"
      ]
     },
     "metadata": {
      "needs_background": "light"
     },
     "output_type": "display_data"
    },
    {
     "data": {
      "text/plain": [
       "array([ 6.85000925,  7.21156847,  7.93468689,  8.2962461 ,  8.65780531,\n",
       "        9.38092373,  9.74248294, 10.82716057, 11.18871978, 11.55027899,\n",
       "       11.9118382 , 12.27339741, 12.99651583, 13.35807504, 14.08119346,\n",
       "       14.80431188, 15.16587109, 15.52743031, 15.88898952, 16.25054873,\n",
       "       16.61210794, 16.97366715, 17.33522636, 17.69678557, 18.05834478,\n",
       "       18.41990399, 18.7814632 , 19.14302241, 19.50458162, 19.86614083,\n",
       "       20.22770004, 20.58925925, 20.95081846, 21.31237767, 21.67393688,\n",
       "       22.03549609, 22.3970553 ])"
      ]
     },
     "execution_count": 7,
     "metadata": {},
     "output_type": "execute_result"
    }
   ],
   "source": [
    "years = df.index.values    \n",
    "counts = df['trans_count'].values\n",
    "\n",
    "poly = np.polyfit(years, np.log(counts), deg=1)       # deg=1 x는 1차원 , f(x) = w*x(가중치) + b(바이어스)\n",
    "print(poly)\n",
    "\n",
    "plt.semilogy(years, counts, 'o')                      # 로그플롯으로 출력, y값을 로그 눈금으로 표시 \n",
    "plt.semilogy(years, np.exp(np.polyval(poly, years)))  # (np.exp) 자연 log 지수를 계산합니다. : 예측 직선 방정식\n",
    "plt.show()\n",
    "\n",
    "np.polyval(poly, years)    # Polyfit으로 얻은 poly내의 기울기와 y절편을 이용해 x값을 넣어 \n",
    "                           # 예측 (H(x), y 축의 값) 값을 구한다. \n",
    "                       "
   ]
  },
  {
   "cell_type": "markdown",
   "metadata": {},
   "source": [
    "## 분산 플롯( scatter plot) "
   ]
  },
  {
   "cell_type": "code",
   "execution_count": 8,
   "metadata": {
    "scrolled": true
   },
   "outputs": [
    {
     "data": {
      "text/html": [
       "<div>\n",
       "<style scoped>\n",
       "    .dataframe tbody tr th:only-of-type {\n",
       "        vertical-align: middle;\n",
       "    }\n",
       "\n",
       "    .dataframe tbody tr th {\n",
       "        vertical-align: top;\n",
       "    }\n",
       "\n",
       "    .dataframe thead th {\n",
       "        text-align: right;\n",
       "    }\n",
       "</style>\n",
       "<table border=\"1\" class=\"dataframe\">\n",
       "  <thead>\n",
       "    <tr style=\"text-align: right;\">\n",
       "      <th></th>\n",
       "      <th>trans_count</th>\n",
       "      <th>gpu_trans_count</th>\n",
       "    </tr>\n",
       "    <tr>\n",
       "      <th>year</th>\n",
       "      <th></th>\n",
       "      <th></th>\n",
       "    </tr>\n",
       "  </thead>\n",
       "  <tbody>\n",
       "    <tr>\n",
       "      <th>1971</th>\n",
       "      <td>2.300000e+03</td>\n",
       "      <td>0.0</td>\n",
       "    </tr>\n",
       "    <tr>\n",
       "      <th>1972</th>\n",
       "      <td>3.500000e+03</td>\n",
       "      <td>0.0</td>\n",
       "    </tr>\n",
       "    <tr>\n",
       "      <th>1974</th>\n",
       "      <td>4.533333e+03</td>\n",
       "      <td>0.0</td>\n",
       "    </tr>\n",
       "    <tr>\n",
       "      <th>1975</th>\n",
       "      <td>3.510000e+03</td>\n",
       "      <td>0.0</td>\n",
       "    </tr>\n",
       "    <tr>\n",
       "      <th>1976</th>\n",
       "      <td>7.500000e+03</td>\n",
       "      <td>0.0</td>\n",
       "    </tr>\n",
       "    <tr>\n",
       "      <th>1978</th>\n",
       "      <td>1.900000e+04</td>\n",
       "      <td>0.0</td>\n",
       "    </tr>\n",
       "    <tr>\n",
       "      <th>1979</th>\n",
       "      <td>4.850000e+04</td>\n",
       "      <td>0.0</td>\n",
       "    </tr>\n",
       "    <tr>\n",
       "      <th>1982</th>\n",
       "      <td>9.450000e+04</td>\n",
       "      <td>0.0</td>\n",
       "    </tr>\n",
       "    <tr>\n",
       "      <th>1983</th>\n",
       "      <td>8.500000e+03</td>\n",
       "      <td>0.0</td>\n",
       "    </tr>\n",
       "    <tr>\n",
       "      <th>1984</th>\n",
       "      <td>2.000000e+05</td>\n",
       "      <td>0.0</td>\n",
       "    </tr>\n",
       "    <tr>\n",
       "      <th>1985</th>\n",
       "      <td>1.053333e+05</td>\n",
       "      <td>0.0</td>\n",
       "    </tr>\n",
       "    <tr>\n",
       "      <th>1986</th>\n",
       "      <td>2.500000e+04</td>\n",
       "      <td>0.0</td>\n",
       "    </tr>\n",
       "    <tr>\n",
       "      <th>1988</th>\n",
       "      <td>2.500000e+05</td>\n",
       "      <td>0.0</td>\n",
       "    </tr>\n",
       "    <tr>\n",
       "      <th>1989</th>\n",
       "      <td>7.401175e+05</td>\n",
       "      <td>0.0</td>\n",
       "    </tr>\n",
       "    <tr>\n",
       "      <th>1991</th>\n",
       "      <td>6.900000e+05</td>\n",
       "      <td>0.0</td>\n",
       "    </tr>\n",
       "    <tr>\n",
       "      <th>1993</th>\n",
       "      <td>3.100000e+06</td>\n",
       "      <td>0.0</td>\n",
       "    </tr>\n",
       "    <tr>\n",
       "      <th>1994</th>\n",
       "      <td>5.789770e+05</td>\n",
       "      <td>0.0</td>\n",
       "    </tr>\n",
       "    <tr>\n",
       "      <th>1995</th>\n",
       "      <td>5.500000e+06</td>\n",
       "      <td>0.0</td>\n",
       "    </tr>\n",
       "    <tr>\n",
       "      <th>1996</th>\n",
       "      <td>4.300000e+06</td>\n",
       "      <td>0.0</td>\n",
       "    </tr>\n",
       "    <tr>\n",
       "      <th>1997</th>\n",
       "      <td>8.150000e+06</td>\n",
       "      <td>3500000.0</td>\n",
       "    </tr>\n",
       "  </tbody>\n",
       "</table>\n",
       "</div>"
      ],
      "text/plain": [
       "       trans_count  gpu_trans_count\n",
       "year                               \n",
       "1971  2.300000e+03              0.0\n",
       "1972  3.500000e+03              0.0\n",
       "1974  4.533333e+03              0.0\n",
       "1975  3.510000e+03              0.0\n",
       "1976  7.500000e+03              0.0\n",
       "1978  1.900000e+04              0.0\n",
       "1979  4.850000e+04              0.0\n",
       "1982  9.450000e+04              0.0\n",
       "1983  8.500000e+03              0.0\n",
       "1984  2.000000e+05              0.0\n",
       "1985  1.053333e+05              0.0\n",
       "1986  2.500000e+04              0.0\n",
       "1988  2.500000e+05              0.0\n",
       "1989  7.401175e+05              0.0\n",
       "1991  6.900000e+05              0.0\n",
       "1993  3.100000e+06              0.0\n",
       "1994  5.789770e+05              0.0\n",
       "1995  5.500000e+06              0.0\n",
       "1996  4.300000e+06              0.0\n",
       "1997  8.150000e+06        3500000.0"
      ]
     },
     "execution_count": 8,
     "metadata": {},
     "output_type": "execute_result"
    }
   ],
   "source": [
    "cpu = pd.read_csv(\"Data/transcount.csv\")\n",
    "cpu = cpu.groupby('year').agg(np.mean)\n",
    "\n",
    "gpu = pd.read_csv(\"Data/gpu_transcount.csv\")\n",
    "gpu = gpu.groupby('year').agg(np.mean) \n",
    "\n",
    "df = pd.merge(cpu, gpu, how='outer', left_index= True, right_index=True) \n",
    "# 왼쪽 데이터 Cpu, 오른쪽 데이터 GPU 로 공통되지 않은 인덱스가 합쳐진다.\n",
    "df = df.replace(np.nan, 0)\n",
    "df.head(20)"
   ]
  },
  {
   "cell_type": "code",
   "execution_count": 9,
   "metadata": {},
   "outputs": [
    {
     "name": "stdout",
     "output_type": "stream",
     "text": [
      "1997 8149999.9999999935\n",
      "First GPU: \n",
      " 1997\n"
     ]
    },
    {
     "data": {
      "image/png": "[encoded data removed]",
      "text/plain": [
       "<Figure size 432x288 with 1 Axes>"
      ]
     },
     "metadata": {
      "needs_background": "light"
     },
     "output_type": "display_data"
    }
   ],
   "source": [
    "years  = df.index.values\n",
    "counts = df['trans_count'].values  # values :: 시리즈 객체를 -> array 객체로 변환 \n",
    "gpu_counts = df['gpu_trans_count'].values  # Gpu 판매량 \n",
    "\n",
    "cnt_log = np.log(counts)   # log 변화량 확인 \n",
    "\n",
    "# plt.scatter(years, cnt_log)\n",
    "# plt.show()\n",
    "\n",
    "# 추가 코드 \n",
    "# 예측 방정식의 직선 그래프  출력 \n",
    "poly = np.polyfit(years, cnt_log, deg =1)\n",
    "plt.plot(years, np.polyval(poly, years), label='Poly Fit')\n",
    "\n",
    "# annotation(주석 달기)\n",
    "gpu_start = gpu.index.values.min()  # 1997\n",
    "y_ann = np.log(df.at[gpu_start, 'trans_count']) # 1997년 trans_count의 log값  \n",
    "print(gpu_start, np.exp(y_ann))\n",
    "ann_str = \"First GPU: \\n %d\"%gpu_start\n",
    "print(ann_str)\n",
    "\n",
    "plt.annotate(ann_str, xy=(gpu_start, y_ann),     # x y 좌표\n",
    "            arrowprops = dict(arrowstyle='->'),  # 화살표 스타일 선택\n",
    "            xytext=(-28, +35), textcoords='offset points')     \n",
    "\n",
    "\n",
    "# scatter plot\n",
    "plt.scatter(years, cnt_log, c = 400*years, s = 20+200*gpu_counts/gpu_counts.max(), alpha=0.5,\n",
    "           label = 'Scstter Plot')\n",
    "plt.grid(True)\n",
    "plt.xlabel('Years')\n",
    "plt.ylabel('Trans_count')\n",
    "plt.title('Trans / Gpu counts per years')\n",
    "plt.legend(loc='upper left')\n",
    "plt.show()"
   ]
  },
  {
   "cell_type": "markdown",
   "metadata": {},
   "source": [
    "## [참고] AI 공부를 위한 수학 기초 지식 \n",
    "\n",
    "- (1) **선형 함수(1차 함수, 직선 그래프, Weight(가중치)  와 Bias(편향))** , 2차 함수 (포물선 그래프), 로그함수/지수함수 개념 \n",
    "- (2) 수치 미분(경사하강법 이해), (편미분: 오차 역전법 이해) = 역전파 \n",
    "- (3) 행렬의 내적 곱셈 (신경망의 Shape계산) \n",
    "- (4) 제곱근(Root), 시그마( $\\sum$, 전체 합 평균)"
   ]
  },
  {
   "cell_type": "markdown",
   "metadata": {},
   "source": [
    "## Lag_ plot( ) : 지연 플롯 - time series data (시계열 데이터 분석) \n",
    "\n",
    "지연값 : 1년\n",
    "\n",
    "x 축 : 기준년도의 trans_count의 로그값\n",
    "\n",
    "y 축 : 기준년도의 +1 의 trans_count 의 로그값"
   ]
  },
  {
   "cell_type": "code",
   "execution_count": 11,
   "metadata": {},
   "outputs": [],
   "source": [
    "from pandas.plotting import lag_plot"
   ]
  },
  {
   "cell_type": "code",
   "execution_count": 14,
   "metadata": {
    "scrolled": true
   },
   "outputs": [
    {
     "data": {
      "image/png": "[encoded data removed]",
      "text/plain": [
       "<Figure size 432x288 with 1 Axes>"
      ]
     },
     "metadata": {
      "needs_background": "light"
     },
     "output_type": "display_data"
    }
   ],
   "source": [
    "lag_plot(np.log(df['trans_count']))\n",
    "plt.grid()\n",
    "plt.show()"
   ]
  },
  {
   "cell_type": "markdown",
   "metadata": {},
   "source": [
    "## Autocorrelation_plot : 자기 상관 플롯  \n",
    "#### - 시계열에 대한 자기 상관도."
   ]
  },
  {
   "cell_type": "code",
   "execution_count": 16,
   "metadata": {},
   "outputs": [
    {
     "name": "stdout",
     "output_type": "stream",
     "text": [
      "                 trans_count  gpu_trans_count\n",
      "trans_count         1.000000         0.724107\n",
      "gpu_trans_count     0.724107         1.000000\n"
     ]
    },
    {
     "data": {
      "image/png": "[encoded data removed]",
      "text/plain": [
       "<Figure size 432x288 with 1 Axes>"
      ]
     },
     "metadata": {
      "needs_background": "light"
     },
     "output_type": "display_data"
    }
   ],
   "source": [
    "from pandas.plotting import autocorrelation_plot\n",
    "\n",
    "print(df.corr())  #  trans_count 와  gpu_trans_count 의 상관계수   0.724107\n",
    "\n",
    "# x 축 : 시간 지연(1년 단위)\n",
    "# y 축 : 상관 계수\n",
    "\n",
    "autocorrelation_plot(np.log(df['trans_count']))\n",
    "plt.grid()\n",
    "plt.show()"
   ]
  },
  {
   "cell_type": "markdown",
   "metadata": {},
   "source": [
    "## Boxplot : 상자 플롯"
   ]
  },
  {
   "cell_type": "code",
   "execution_count": 26,
   "metadata": {},
   "outputs": [],
   "source": [
    "# pandas\n",
    "df = pd.read_csv('Data/transcount.csv')\n",
    "df = df.groupby('year').agg(np.mean)\n",
    "\n",
    "gpu = pd.read_csv('Data/gpu_transcount.csv')\n",
    "gpu = gpu.groupby('year').agg(np.mean)\n",
    "\n",
    "df = pd.merge(df,gpu,how='outer',left_index=True,right_index=True)"
   ]
  },
  {
   "cell_type": "code",
   "execution_count": 27,
   "metadata": {},
   "outputs": [
    {
     "data": {
      "image/png": "[encoded data removed]",
      "text/plain": [
       "<Figure size 432x288 with 1 Axes>"
      ]
     },
     "metadata": {
      "needs_background": "light"
     },
     "output_type": "display_data"
    }
   ],
   "source": [
    "df['trans_count'] = np.log(df['trans_count'].values)\n",
    "df['gpu_trans_count'] = np.log(df['gpu_trans_count'].values)\n",
    "df = df.replace(np.nan,0)  # df.fillna(0)\n",
    "\n",
    "df.plot.box()\n",
    "plt.text(1,df['trans_count'].median(),round(df['trans_count'].median(),2))\n",
    "plt.text(2,df['gpu_trans_count'].median(),round(df['gpu_trans_count'].median(),2))\n",
    "plt.show()"
   ]
  },
  {
   "cell_type": "code",
   "execution_count": 30,
   "metadata": {},
   "outputs": [
    {
     "data": {
      "image/png": "[encoded data removed]",
      "text/plain": [
       "<Figure size 432x288 with 1 Axes>"
      ]
     },
     "metadata": {
      "needs_background": "light"
     },
     "output_type": "display_data"
    }
   ],
   "source": [
    "plt.boxplot([df['trans_count'], df['gpu_trans_count']])\n",
    "plt.text(1, df['trans_count'].median(), round(df['trans_count'].median(), 2))\n",
    "plt.text(2, df['trans_count'].median(), round(df['gpu_trans_count'].median(), 2))\n",
    "plt.show()"
   ]
  },
  {
   "cell_type": "code",
   "execution_count": null,
   "metadata": {},
   "outputs": [],
   "source": []
  }
 ],
 "metadata": {
  "kernelspec": {
   "display_name": "Python 3",
   "language": "python",
   "name": "python3"
  },
  "language_info": {
   "codemirror_mode": {
    "name": "ipython",
    "version": 3
   },
   "file_extension": ".py",
   "mimetype": "text/x-python",
   "name": "python",
   "nbconvert_exporter": "python",
   "pygments_lexer": "ipython3",
   "version": "3.6.2"
  }
 },
 "nbformat": 4,
 "nbformat_minor": 2
}
